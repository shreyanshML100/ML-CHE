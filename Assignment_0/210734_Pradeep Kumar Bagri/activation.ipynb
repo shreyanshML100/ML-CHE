{
 "cells": [
  {
   "cell_type": "code",
   "execution_count": 1,
   "id": "39b12e2e",
   "metadata": {},
   "outputs": [],
   "source": [
    "import numpy as np\n",
    "import matplotlib as plt"
   ]
  },
  {
   "cell_type": "code",
   "execution_count": 2,
   "id": "00d08eb2",
   "metadata": {},
   "outputs": [],
   "source": [
    "def sigmoid(z):\n",
    "    k=np.exp(z)\n",
    "    p=1+(1/k)\n",
    "    return (1/p)"
   ]
  },
  {
   "cell_type": "code",
   "execution_count": 3,
   "id": "d238e77d",
   "metadata": {},
   "outputs": [],
   "source": [
    "def tanh(z):\n",
    "    a=np.exp(z)\n",
    "    b=1/a\n",
    "    c=(a-b)/(a+b)\n",
    "    return c"
   ]
  },
  {
   "cell_type": "code",
   "execution_count": 4,
   "id": "4f9660b1",
   "metadata": {},
   "outputs": [],
   "source": [
    "def relu(z):\n",
    "    n=len(z)\n",
    "    for i in range(n):\n",
    "        if z[i]<=0:\n",
    "            z[i]=0\n",
    "    return z"
   ]
  },
  {
   "cell_type": "code",
   "execution_count": null,
   "id": "360904ab",
   "metadata": {},
   "outputs": [],
   "source": []
  }
 ],
 "metadata": {
  "kernelspec": {
   "display_name": "Python 3 (ipykernel)",
   "language": "python",
   "name": "python3"
  },
  "language_info": {
   "codemirror_mode": {
    "name": "ipython",
    "version": 3
   },
   "file_extension": ".py",
   "mimetype": "text/x-python",
   "name": "python",
   "nbconvert_exporter": "python",
   "pygments_lexer": "ipython3",
   "version": "3.11.1"
  },
  "vscode": {
   "interpreter": {
    "hash": "45d56a6da9fbdd6fadf3f503bb56e522a5c8d96e80c922f65d4ce030c781b8a5"
   }
  }
 },
 "nbformat": 4,
 "nbformat_minor": 5
}
