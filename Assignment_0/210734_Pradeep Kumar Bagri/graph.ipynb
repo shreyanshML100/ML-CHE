{
 "cells": [
  {
   "cell_type": "code",
   "execution_count": 1,
   "id": "aca16d65",
   "metadata": {},
   "outputs": [],
   "source": [
    "import numpy as np\n",
    "import matplotlib as plt\n",
    "from scipy.interpolate import interp1d\n",
    "import nbimporter"
   ]
  },
  {
   "cell_type": "code",
   "execution_count": 2,
   "id": "d12d2338",
   "metadata": {},
   "outputs": [],
   "source": [
    "from activation import *"
   ]
  },
  {
   "cell_type": "code",
   "execution_count": 3,
   "id": "6a361375",
   "metadata": {},
   "outputs": [],
   "source": [
    "def sigmoid_g(a,b):\n",
    "    x=np.linspace(a,b,100)\n",
    "    y=sigmoid(x)\n",
    "    plt.pyplot.plot(x,y,marker=\".\")\n",
    "    plt.pyplot.xlabel('z')\n",
    "    plt.pyplot.ylabel('Sigmoid(z)')\n",
    "    plt.pyplot.title(\"z vs Sigmoid(z)\")\n",
    "    plt.pyplot.show()"
   ]
  },
  {
   "cell_type": "code",
   "execution_count": 4,
   "id": "de2a3a8c",
   "metadata": {},
   "outputs": [],
   "source": [
    "def tanh_g(a,b):\n",
    "    x=np.linspace(a,b,100)\n",
    "    y=tanh(x)\n",
    "    plt.pyplot.plot(x,y,marker=\".\")\n",
    "    plt.pyplot.xlabel('z')\n",
    "    plt.pyplot.ylabel('Sigmoid(z)')\n",
    "    plt.pyplot.title(\"z vs Sigmoid(z)\")\n",
    "    plt.pyplot.show()"
   ]
  },
  {
   "cell_type": "code",
   "execution_count": 5,
   "id": "247944b4",
   "metadata": {},
   "outputs": [],
   "source": [
    "def relu_g(a,b):\n",
    "    x=np.linspace(a,b,100)\n",
    "    y=relu(x)\n",
    "    plt.pyplot.plot(x,y,marker=\".\")\n",
    "    plt.pyplot.xlabel('z')\n",
    "    plt.pyplot.ylabel('Sigmoid(z)')\n",
    "    plt.pyplot.title(\"z vs Sigmoid(z)\")\n",
    "    plt.pyplot.show()"
   ]
  }
 ],
 "metadata": {
  "kernelspec": {
   "display_name": "Python 3 (ipykernel)",
   "language": "python",
   "name": "python3"
  },
  "language_info": {
   "codemirror_mode": {
    "name": "ipython",
    "version": 3
   },
   "file_extension": ".py",
   "mimetype": "text/x-python",
   "name": "python",
   "nbconvert_exporter": "python",
   "pygments_lexer": "ipython3",
   "version": "3.11.1"
  },
  "vscode": {
   "interpreter": {
    "hash": "45d56a6da9fbdd6fadf3f503bb56e522a5c8d96e80c922f65d4ce030c781b8a5"
   }
  }
 },
 "nbformat": 4,
 "nbformat_minor": 5
}
