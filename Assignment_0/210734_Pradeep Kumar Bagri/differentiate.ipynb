{
 "cells": [
  {
   "cell_type": "code",
   "execution_count": 1,
   "id": "ef19787f",
   "metadata": {},
   "outputs": [],
   "source": [
    "import numpy as np\n",
    "import matplotlib as plt\n",
    "import nbimporter\n",
    "from activation import * \n",
    "from graph import *"
   ]
  },
  {
   "cell_type": "code",
   "execution_count": 2,
   "id": "d3df6859",
   "metadata": {},
   "outputs": [],
   "source": [
    "def diff_sigmoid(z):\n",
    "    h=0.000001\n",
    "    k=sigmoid(z+h)-sigmoid(z-h)\n",
    "    return k/0.000002"
   ]
  },
  {
   "cell_type": "code",
   "execution_count": 3,
   "id": "152fa208",
   "metadata": {},
   "outputs": [],
   "source": [
    "def diff_tanh(z):\n",
    "    h=0.000001\n",
    "    k=tanh(z+h)-tanh(z-h)\n",
    "    return k/0.000002"
   ]
  },
  {
   "cell_type": "code",
   "execution_count": 4,
   "id": "7594ade5",
   "metadata": {},
   "outputs": [],
   "source": [
    "def diff_relu(z):\n",
    "    h=0.000001\n",
    "    k=relu(z+h)-relu(z-h)\n",
    "    return k/0.000002"
   ]
  }
 ],
 "metadata": {
  "kernelspec": {
   "display_name": "Python 3 (ipykernel)",
   "language": "python",
   "name": "python3"
  },
  "language_info": {
   "codemirror_mode": {
    "name": "ipython",
    "version": 3
   },
   "file_extension": ".py",
   "mimetype": "text/x-python",
   "name": "python",
   "nbconvert_exporter": "python",
   "pygments_lexer": "ipython3",
   "version": "3.11.1"
  }
 },
 "nbformat": 4,
 "nbformat_minor": 5
}
