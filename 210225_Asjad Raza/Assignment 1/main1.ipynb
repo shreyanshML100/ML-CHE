{
 "cells": [
  {
   "cell_type": "code",
   "execution_count": 16,
   "id": "77a6d0c1",
   "metadata": {},
   "outputs": [],
   "source": [
    "import numpy as np\n",
    "import matplotlib.pyplot as plt\n",
    "from linearRegression import *"
   ]
  },
  {
   "cell_type": "code",
   "execution_count": 32,
   "id": "b9abc717",
   "metadata": {},
   "outputs": [
    {
     "name": "stdout",
     "output_type": "stream",
     "text": [
      "\n"
     ]
    },
    {
     "name": "stderr",
     "output_type": "stream",
     "text": [
      "C:\\Users\\asjasdraza13\\Things doing now\\Simultech Project\\Untitled Folder\\linearRegression.py:45: UserWarning: Matplotlib is currently using module://matplotlib_inline.backend_inline, which is a non-GUI backend, so cannot show the figure.\n",
      "  f.show()\n"
     ]
    },
    {
     "data": {
      "image/png": "[encoded data removed]",
      "text/plain": [
       "<Figure size 432x288 with 1 Axes>"
      ]
     },
     "metadata": {
      "needs_background": "light"
     },
     "output_type": "display_data"
    }
   ],
   "source": [
    "X_train = np.array([2.5, 4.7, 5.2, 7.3, 9.5, 11.5])\n",
    "Y_train = np.array([5.21, 7.70, 8.30, 11, 14.5, 15])\n",
    "theta1 = fitGD(X_train, Y_train, 0.01, 0.01, 1, 1000)\n",
    "theta2 = fitNormal(X_train, Y_train)\n",
    "plt.title(\"Graph\")\n",
    "plt.scatter(X_train,Y_train,color=\"red\")\n",
    "y = np.arange(start=2.5,stop=13.5,step=1)\n",
    "x = float(theta1)\n",
    "x = x*y \n",
    "y1 = np.arange(start=0.5,stop=11.5,step=1)\n",
    "x1 = float(theta2)\n",
    "x1 = x1*y1\n",
    "print()\n",
    "plt.plot(y,x,color=\"green\")\n",
    "\n",
    "# plt.show()\n",
    "plt.plot(y1,x1,)\n",
    "plt.xlim(0, 14)\n",
    "plt.show()"
   ]
  },
  {
   "cell_type": "markdown",
   "id": "fba169ae",
   "metadata": {},
   "source": [
    "# Error Analysis"
   ]
  },
  {
   "cell_type": "code",
   "execution_count": 33,
   "id": "feb76d60",
   "metadata": {},
   "outputs": [
    {
     "name": "stderr",
     "output_type": "stream",
     "text": [
      "C:\\Users\\asjasdraza13\\Things doing now\\Simultech Project\\Untitled Folder\\linearRegression.py:45: UserWarning: Matplotlib is currently using module://matplotlib_inline.backend_inline, which is a non-GUI backend, so cannot show the figure.\n",
      "  f.show()\n",
      "C:\\Users\\asjasdraza13\\Things doing now\\Simultech Project\\Untitled Folder\\linearRegression.py:45: UserWarning: Matplotlib is currently using module://matplotlib_inline.backend_inline, which is a non-GUI backend, so cannot show the figure.\n",
      "  f.show()\n",
      "C:\\Users\\asjasdraza13\\Things doing now\\Simultech Project\\Untitled Folder\\linearRegression.py:45: UserWarning: Matplotlib is currently using module://matplotlib_inline.backend_inline, which is a non-GUI backend, so cannot show the figure.\n",
      "  f.show()\n",
      "C:\\Users\\asjasdraza13\\Things doing now\\Simultech Project\\Untitled Folder\\linearRegression.py:45: UserWarning: Matplotlib is currently using module://matplotlib_inline.backend_inline, which is a non-GUI backend, so cannot show the figure.\n",
      "  f.show()\n",
      "C:\\Users\\asjasdraza13\\Things doing now\\Simultech Project\\Untitled Folder\\linearRegression.py:45: UserWarning: Matplotlib is currently using module://matplotlib_inline.backend_inline, which is a non-GUI backend, so cannot show the figure.\n",
      "  f.show()\n",
      "C:\\Users\\asjasdraza13\\Things doing now\\Simultech Project\\Untitled Folder\\linearRegression.py:45: UserWarning: Matplotlib is currently using module://matplotlib_inline.backend_inline, which is a non-GUI backend, so cannot show the figure.\n",
      "  f.show()\n",
      "C:\\Users\\asjasdraza13\\Things doing now\\Simultech Project\\Untitled Folder\\linearRegression.py:45: UserWarning: Matplotlib is currently using module://matplotlib_inline.backend_inline, which is a non-GUI backend, so cannot show the figure.\n",
      "  f.show()\n",
      "C:\\Users\\asjasdraza13\\Things doing now\\Simultech Project\\Untitled Folder\\linearRegression.py:45: UserWarning: Matplotlib is currently using module://matplotlib_inline.backend_inline, which is a non-GUI backend, so cannot show the figure.\n",
      "  f.show()\n",
      "C:\\Users\\asjasdraza13\\Things doing now\\Simultech Project\\Untitled Folder\\linearRegression.py:45: UserWarning: Matplotlib is currently using module://matplotlib_inline.backend_inline, which is a non-GUI backend, so cannot show the figure.\n",
      "  f.show()\n",
      "C:\\Users\\asjasdraza13\\Things doing now\\Simultech Project\\Untitled Folder\\linearRegression.py:45: UserWarning: Matplotlib is currently using module://matplotlib_inline.backend_inline, which is a non-GUI backend, so cannot show the figure.\n",
      "  f.show()\n",
      "C:\\Users\\asjasdraza13\\Things doing now\\Simultech Project\\Untitled Folder\\linearRegression.py:45: UserWarning: Matplotlib is currently using module://matplotlib_inline.backend_inline, which is a non-GUI backend, so cannot show the figure.\n",
      "  f.show()\n",
      "C:\\Users\\asjasdraza13\\Things doing now\\Simultech Project\\Untitled Folder\\linearRegression.py:45: UserWarning: Matplotlib is currently using module://matplotlib_inline.backend_inline, which is a non-GUI backend, so cannot show the figure.\n",
      "  f.show()\n",
      "C:\\Users\\asjasdraza13\\Things doing now\\Simultech Project\\Untitled Folder\\linearRegression.py:45: UserWarning: Matplotlib is currently using module://matplotlib_inline.backend_inline, which is a non-GUI backend, so cannot show the figure.\n",
      "  f.show()\n",
      "C:\\Users\\asjasdraza13\\Things doing now\\Simultech Project\\Untitled Folder\\linearRegression.py:45: UserWarning: Matplotlib is currently using module://matplotlib_inline.backend_inline, which is a non-GUI backend, so cannot show the figure.\n",
      "  f.show()\n",
      "C:\\Users\\asjasdraza13\\Things doing now\\Simultech Project\\Untitled Folder\\linearRegression.py:45: UserWarning: Matplotlib is currently using module://matplotlib_inline.backend_inline, which is a non-GUI backend, so cannot show the figure.\n",
      "  f.show()\n"
     ]
    },
    {
     "data": {
      "image/png": "[encoded data removed]",
      "text/plain": [
       "<Figure size 432x288 with 1 Axes>"
      ]
     },
     "metadata": {
      "needs_background": "light"
     },
     "output_type": "display_data"
    }
   ],
   "source": [
    "X_test = np.array([3.5, 5, 6, 8, 10 ])\n",
    "Y_test = np.array([6.25, 8.2, 9.5, 12.1, 14.7])\n",
    "X_train=np.array([2.5, 4.7, 5.2, 7.3, 9.5, 11.5])\n",
    "Y_train=np.array([5.21, 7.70, 8.30, 11, 14.5, 15])\n",
    "yt = np.mat(Y_train)\n",
    "yte = np.mat(Y_test)\n",
    "\n",
    "m = len(X_train)\n",
    "J_train =np.array([])\n",
    "J_test =np.array([])\n",
    "axix = np.array([])\n",
    "for l in range(15):\n",
    "    theta1 = fitGD(np.transpose(np.mat(X_train)),np.transpose(np.mat(Y_train)),0.01,l, 1,10000) \n",
    "    Y_pred_test = float(theta1)*X_test\n",
    "    Y_pred_train=float(theta1)*X_train\n",
    "    ypm = np.mat(Y_pred_train)\n",
    "    ypme = np.mat(Y_pred_test)\n",
    "    J_train = np.append(J_train,float(np.matmul((yt-ypm),np.transpose(yt-ypm)))/(2*m))\n",
    "    J_test = np.append(J_test,float(np.matmul((yte-ypme),np.transpose(yte-ypme)))/(2*m))\n",
    "    axix = np.append(axix,l)\n",
    "    "
   ]
  },
  {
   "cell_type": "code",
   "execution_count": 34,
   "id": "a9f0e406",
   "metadata": {},
   "outputs": [
    {
     "data": {
      "image/png": "[encoded data removed]",
      "text/plain": [
       "<Figure size 432x288 with 1 Axes>"
      ]
     },
     "metadata": {
      "needs_background": "light"
     },
     "output_type": "display_data"
    }
   ],
   "source": [
    "plt.scatter(J_train,la)\n",
    "plt.scatter(J_test,la)\n",
    "plt.show()"
   ]
  },
  {
   "cell_type": "code",
   "execution_count": null,
   "id": "9c99bf4d",
   "metadata": {},
   "outputs": [],
   "source": []
  }
 ],
 "metadata": {
  "kernelspec": {
   "display_name": "Python 3 (ipykernel)",
   "language": "python",
   "name": "python3"
  },
  "language_info": {
   "codemirror_mode": {
    "name": "ipython",
    "version": 3
   },
   "file_extension": ".py",
   "mimetype": "text/x-python",
   "name": "python",
   "nbconvert_exporter": "python",
   "pygments_lexer": "ipython3",
   "version": "3.9.12"
  }
 },
 "nbformat": 4,
 "nbformat_minor": 5
}
