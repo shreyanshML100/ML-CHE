{
 "cells": [
  {
   "cell_type": "code",
   "execution_count": 1,
   "metadata": {},
   "outputs": [],
   "source": [
    "import numpy as np\n",
    "import pandas as pd\n",
    "import matplotlib.pyplot as plt\n",
    "import  math as m\n",
    "from linearRegression import *\n"
   ]
  },
  {
   "cell_type": "markdown",
   "metadata": {},
   "source": [
    "#Normal Fit"
   ]
  },
  {
   "cell_type": "code",
   "execution_count": 41,
   "metadata": {},
   "outputs": [
    {
     "data": {
      "image/png": "[encoded data removed]",
      "text/plain": [
       "<Figure size 432x288 with 1 Axes>"
      ]
     },
     "metadata": {
      "needs_background": "light"
     },
     "output_type": "display_data"
    }
   ],
   "source": [
    "X_train = np.matrix([2.5, 4.7, 5.2, 7.3, 9.5, 11.5])\n",
    "X_train = np.transpose(X_train)\n",
    "Y_train = np.matrix([5.21, 7.70, 8.30, 11, 14.5, 15])\n",
    "Y_train = np.transpose(Y_train)\n",
    "theta1 = fitGD(X_train, Y_train, 0.01, 0.01, 1, 1000)\n",
    "theta2=fitNormal(X_train, Y_train)\n",
    "plt.title(\"Fitting graph Y vs X\")\n",
    "plt.scatter(np.ravel(X_train),np.ravel(Y_train),color=\"red\")\n",
    "y = np.arange(start=2.5,stop=13.5,step=1)\n",
    "x = float(theta1)\n",
    "x = x*y \n",
    "y1 = np.arange(start=0.5,stop=11.5,step=1)\n",
    "x1 = float(theta2)\n",
    "x1 = x1*y1\n",
    "plt.plot(y,x,color=\"red\")\n",
    "# plt.show()\n",
    "plt.plot(y1,x1,color=\"blue\")\n",
    "plt.show()"
   ]
  },
  {
   "cell_type": "markdown",
   "metadata": {},
   "source": [
    "#normally weighted"
   ]
  },
  {
   "cell_type": "code",
   "execution_count": 17,
   "metadata": {},
   "outputs": [
    {
     "name": "stdout",
     "output_type": "stream",
     "text": [
      "for tau = 0.1 Y_predicted= [ 6.34182784  8.06        9.53138374 12.03536563 15.25479452]\n",
      "for tau = 1.0 Y_predicted= [ 6.34619683  8.06977833  9.33866055 12.11740229 14.56612345]\n",
      "for tau = 10.0 Y_predicted= [ 6.42333936  8.19731867  9.37520439 11.71859651 14.0440817 ]\n",
      "for tau = 100.0 Y_predicted= [ 6.45081998  8.20258191  9.37036766 11.70580578 14.04106589]\n"
     ]
    }
   ],
   "source": [
    "X_train = np.array([2.5, 4.7, 5.2, 7.3, 9.5, 11.5])\n",
    "Y_train = np.array([5.21, 7.70, 8.30, 11, 14.5, 15])\n",
    "X_test = np.array([3.5, 5, 6, 8, 10 ])\n",
    "tau = np.array([0.1, 1, 10, 100])\n",
    "for i in (tau) :\n",
    "    Y_pred = np.array([])\n",
    "    for j in (X_test):\n",
    "        Y_pred=np.append(Y_pred,locallyWeighted(X_train,Y_train,j,i,100))\n",
    "    print(\"for tau =\",i,\"Y_predicted=\",Y_pred)"
   ]
  },
  {
   "cell_type": "markdown",
   "metadata": {},
   "source": [
    "## Error handling"
   ]
  },
  {
   "attachments": {},
   "cell_type": "markdown",
   "metadata": {},
   "source": [
    "#For different Lamdas"
   ]
  },
  {
   "cell_type": "code",
   "execution_count": 3,
   "metadata": {},
   "outputs": [],
   "source": [
    "\n",
    "X_test = np.array([3.5, 5, 6, 8, 10 ])\n",
    "Y_test = np.array([6.25, 8.2, 9.5, 12.1, 14.7])\n",
    "X_train=np.array([2.5, 4.7, 5.2, 7.3, 9.5, 11.5])\n",
    "Y_train=np.array([5.21, 7.70, 8.30, 11, 14.5, 15])\n",
    "yt = np.mat(Y_train)\n",
    "yte = np.mat(Y_test)\n",
    "\n",
    "m = len(X_train)\n",
    "J_train =np.array([])\n",
    "J_test =np.array([])\n",
    "la = np.array([])\n",
    "for l in range(15):\n",
    "    theta1 = fitGD(np.transpose(np.mat(X_train)),np.transpose(np.mat(Y_train)),0.01,l, 1,10000) \n",
    "    Y_pred_test = float(theta1)*X_test\n",
    "    Y_pred_train=float(theta1)*X_train\n",
    "    ypm = np.mat(Y_pred_train)\n",
    "    ypme = np.mat(Y_pred_test)\n",
    "    J_train = np.append(J_train,float(np.matmul((yt-ypm),np.transpose(yt-ypm)))/(2*m))\n",
    "    J_test = np.append(J_test,float(np.matmul((yte-ypme),np.transpose(yte-ypme)))/(2*m))\n",
    "    la = np.append(la,l)\n"
   ]
  },
  {
   "cell_type": "code",
   "execution_count": 4,
   "metadata": {},
   "outputs": [
    {
     "data": {
      "image/png": "[encoded data removed]",
      "text/plain": [
       "<Figure size 432x288 with 1 Axes>"
      ]
     },
     "metadata": {
      "needs_background": "light"
     },
     "output_type": "display_data"
    }
   ],
   "source": [
    "plt.title(\"Graph of J_test/J_train vs Lamda\")\n",
    "plt.scatter(J_train,la)\n",
    "plt.scatter(J_test,la)\n",
    "plt.show()\n"
   ]
  },
  {
   "cell_type": "markdown",
   "metadata": {},
   "source": [
    "#Error in locally weighted"
   ]
  },
  {
   "cell_type": "code",
   "execution_count": 35,
   "metadata": {},
   "outputs": [],
   "source": [
    "X_train = np.array([2.5, 4.7, 5.2, 7.3, 9.5, 11.5])\n",
    "Y_train = np.array([5.21, 7.70, 8.30, 11, 14.5, 15])\n",
    "X_test = np.array([3.5, 5, 6, 8, 10 ])\n",
    "Y_test = np.array([6.25, 8.2, 9.5, 12.1, 14.7])\n",
    "yt = np.mat(Y_train)\n",
    "yte = np.mat(Y_test)\n",
    "m = len(X_train)\n",
    "J_train =np.array([])\n",
    "J_test =np.array([])\n",
    "tau = np.array([0.00001, 0.0001, 0.001, 0.01, 0.1, 1, 10, 100, 1000, 10000])\n",
    "for i in (tau) :\n",
    "    Y_pred_test = np.array([])\n",
    "    for j in (X_test):\n",
    "        Y_pred_test=np.append(Y_pred_test,locallyWeighted(X_train,Y_train,j,i,100))\n",
    "    ypme = np.mat(Y_pred_test)\n",
    "    J_test = np.append(J_test,float(np.matmul((yte-ypme),np.transpose(yte-ypme)))/(2*m))\n",
    "for i in (tau) :\n",
    "    Y_pred_train = np.array([])\n",
    "    for j in (X_train):\n",
    "        Y_pred_train=np.append(Y_pred_train,locallyWeighted(X_train,Y_train,j,i,100))\n",
    "    ypm = np.mat(Y_pred_train)\n",
    "    J_train = np.append(J_train,float(np.matmul((yt-ypm),np.transpose(yt-ypm)))/(2*m))\n",
    "    \n",
    "    "
   ]
  },
  {
   "cell_type": "code",
   "execution_count": 40,
   "metadata": {},
   "outputs": [
    {
     "data": {
      "text/plain": [
       "<function matplotlib.pyplot.show(close=None, block=None)>"
      ]
     },
     "execution_count": 40,
     "metadata": {},
     "output_type": "execute_result"
    },
    {
     "data": {
      "image/png": "[encoded data removed]",
      "text/plain": [
       "<Figure size 432x288 with 1 Axes>"
      ]
     },
     "metadata": {
      "needs_background": "light"
     },
     "output_type": "display_data"
    }
   ],
   "source": [
    "plt.title(\"Graph of J_test/J_train vs tau\")\n",
    "plt.scatter(tau,J_test,color=\"red\")\n",
    "plt.scatter(tau,J_train,color=\"blue\")\n",
    "plt.show"
   ]
  },
  {
   "cell_type": "code",
   "execution_count": 34,
   "metadata": {},
   "outputs": [
    {
     "data": {
      "text/plain": [
       "array([4.65877083e+01, 4.65877083e+01, 4.65877083e+01, 4.09879750e+01,\n",
       "       2.84159878e-02, 5.87230861e-03, 5.17770918e-02, 5.38935930e-02,\n",
       "       5.39164413e-02, 5.39166700e-02])"
      ]
     },
     "execution_count": 34,
     "metadata": {},
     "output_type": "execute_result"
    }
   ],
   "source": []
  },
  {
   "cell_type": "code",
   "execution_count": 36,
   "metadata": {},
   "outputs": [
    {
     "data": {
      "text/plain": [
       "array([7.16548656e-30, 7.16548656e-30, 7.16548656e-30, 7.16548656e-30,\n",
       "       2.30451873e-17, 5.64849779e-03, 1.43536754e-01, 1.47888139e-01,\n",
       "       1.47933111e-01, 1.47933561e-01])"
      ]
     },
     "execution_count": 36,
     "metadata": {},
     "output_type": "execute_result"
    }
   ],
   "source": []
  },
  {
   "cell_type": "code",
   "execution_count": null,
   "metadata": {},
   "outputs": [],
   "source": []
  }
 ],
 "metadata": {
  "kernelspec": {
   "display_name": "Python 3",
   "language": "python",
   "name": "python3"
  },
  "language_info": {
   "codemirror_mode": {
    "name": "ipython",
    "version": 3
   },
   "file_extension": ".py",
   "mimetype": "text/x-python",
   "name": "python",
   "nbconvert_exporter": "python",
   "pygments_lexer": "ipython3",
   "version": "3.10.5"
  },
  "orig_nbformat": 4,
  "vscode": {
   "interpreter": {
    "hash": "81b6376eb37143a0760e9a20e5ea73a1f2630a746643fee7df862ca05e66ff00"
   }
  }
 },
 "nbformat": 4,
 "nbformat_minor": 2
}
