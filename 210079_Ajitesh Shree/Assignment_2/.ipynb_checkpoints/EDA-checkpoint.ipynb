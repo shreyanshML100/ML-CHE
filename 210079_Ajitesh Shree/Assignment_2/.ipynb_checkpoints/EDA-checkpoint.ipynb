{
 "cells": [
  {
   "cell_type": "markdown",
   "id": "62974658-76ef-4835-b86d-23105df9f05f",
   "metadata": {},
   "source": [
    "<H1>Data Analysis"
   ]
  },
  {
   "cell_type": "code",
   "execution_count": 1,
   "id": "5fbdc54f-01d1-4444-b14d-3d73f91cb208",
   "metadata": {},
   "outputs": [],
   "source": [
    "import pandas as pd\n",
    "import numpy as np\n",
    "import matplotlib.pyplot as plt\n",
    "import seaborn as sb\n",
    "import sklearn\n",
    "from sklearn.model_selection import train_test_split\n",
    "from sklearn.preprocessing import StandardScaler"
   ]
  },
  {
   "cell_type": "code",
   "execution_count": 2,
   "id": "eb721eb4-d229-4bdb-b6d6-62203b255066",
   "metadata": {},
   "outputs": [],
   "source": [
    "data = pd.read_excel('data/AirQualityUCI.xlsx')"
   ]
  },
  {
   "cell_type": "code",
   "execution_count": 3,
   "id": "16c31fac-19bb-4098-8fb9-5906252c5457",
   "metadata": {},
   "outputs": [
    {
     "data": {
      "text/plain": [
       "(9357, 15)"
      ]
     },
     "execution_count": 3,
     "metadata": {},
     "output_type": "execute_result"
    }
   ],
   "source": [
    "data.shape"
   ]
  },
  {
   "cell_type": "code",
   "execution_count": 4,
   "id": "a95ff775-1f69-47ac-8596-da0aa878a365",
   "metadata": {},
   "outputs": [
    {
     "data": {
      "text/plain": [
       "Index(['Date', 'Time', 'CO(GT)', 'PT08.S1(CO)', 'NMHC(GT)', 'C6H6(GT)',\n",
       "       'PT08.S2(NMHC)', 'NOx(GT)', 'PT08.S3(NOx)', 'NO2(GT)', 'PT08.S4(NO2)',\n",
       "       'PT08.S5(O3)', 'T', 'RH', 'AH'],\n",
       "      dtype='object')"
      ]
     },
     "execution_count": 4,
     "metadata": {},
     "output_type": "execute_result"
    }
   ],
   "source": [
    "data.columns"
   ]
  },
  {
   "cell_type": "code",
   "execution_count": 5,
   "id": "1ddfe9e7-6400-4ab9-959f-f13ed9b06743",
   "metadata": {},
   "outputs": [
    {
     "name": "stdout",
     "output_type": "stream",
     "text": [
      "<class 'pandas.core.frame.DataFrame'>\n",
      "RangeIndex: 9357 entries, 0 to 9356\n",
      "Data columns (total 15 columns):\n",
      " #   Column         Non-Null Count  Dtype         \n",
      "---  ------         --------------  -----         \n",
      " 0   Date           9357 non-null   datetime64[ns]\n",
      " 1   Time           9357 non-null   object        \n",
      " 2   CO(GT)         9357 non-null   float64       \n",
      " 3   PT08.S1(CO)    9357 non-null   float64       \n",
      " 4   NMHC(GT)       9357 non-null   int64         \n",
      " 5   C6H6(GT)       9357 non-null   float64       \n",
      " 6   PT08.S2(NMHC)  9357 non-null   float64       \n",
      " 7   NOx(GT)        9357 non-null   float64       \n",
      " 8   PT08.S3(NOx)   9357 non-null   float64       \n",
      " 9   NO2(GT)        9357 non-null   float64       \n",
      " 10  PT08.S4(NO2)   9357 non-null   float64       \n",
      " 11  PT08.S5(O3)    9357 non-null   float64       \n",
      " 12  T              9357 non-null   float64       \n",
      " 13  RH             9357 non-null   float64       \n",
      " 14  AH             9357 non-null   float64       \n",
      "dtypes: datetime64[ns](1), float64(12), int64(1), object(1)\n",
      "memory usage: 1.1+ MB\n"
     ]
    }
   ],
   "source": [
    "data.info()  #no null values in any column"
   ]
  },
  {
   "cell_type": "code",
   "execution_count": 6,
   "id": "b4f97f86-4c6e-42e1-9e6c-3ec032343b62",
   "metadata": {},
   "outputs": [
    {
     "data": {
      "text/html": [
       "<div>\n",
       "<style scoped>\n",
       "    .dataframe tbody tr th:only-of-type {\n",
       "        vertical-align: middle;\n",
       "    }\n",
       "\n",
       "    .dataframe tbody tr th {\n",
       "        vertical-align: top;\n",
       "    }\n",
       "\n",
       "    .dataframe thead th {\n",
       "        text-align: right;\n",
       "    }\n",
       "</style>\n",
       "<table border=\"1\" class=\"dataframe\">\n",
       "  <thead>\n",
       "    <tr style=\"text-align: right;\">\n",
       "      <th></th>\n",
       "      <th>Date</th>\n",
       "      <th>Time</th>\n",
       "      <th>CO(GT)</th>\n",
       "      <th>PT08.S1(CO)</th>\n",
       "      <th>NMHC(GT)</th>\n",
       "      <th>C6H6(GT)</th>\n",
       "      <th>PT08.S2(NMHC)</th>\n",
       "      <th>NOx(GT)</th>\n",
       "      <th>PT08.S3(NOx)</th>\n",
       "      <th>NO2(GT)</th>\n",
       "      <th>PT08.S4(NO2)</th>\n",
       "      <th>PT08.S5(O3)</th>\n",
       "      <th>T</th>\n",
       "      <th>RH</th>\n",
       "      <th>AH</th>\n",
       "    </tr>\n",
       "  </thead>\n",
       "  <tbody>\n",
       "    <tr>\n",
       "      <th>0</th>\n",
       "      <td>2004-03-10</td>\n",
       "      <td>18:00:00</td>\n",
       "      <td>2.6</td>\n",
       "      <td>1360.00</td>\n",
       "      <td>150</td>\n",
       "      <td>11.881723</td>\n",
       "      <td>1045.50</td>\n",
       "      <td>166.0</td>\n",
       "      <td>1056.25</td>\n",
       "      <td>113.0</td>\n",
       "      <td>1692.00</td>\n",
       "      <td>1267.50</td>\n",
       "      <td>13.60</td>\n",
       "      <td>48.875001</td>\n",
       "      <td>0.757754</td>\n",
       "    </tr>\n",
       "    <tr>\n",
       "      <th>1</th>\n",
       "      <td>2004-03-10</td>\n",
       "      <td>19:00:00</td>\n",
       "      <td>2.0</td>\n",
       "      <td>1292.25</td>\n",
       "      <td>112</td>\n",
       "      <td>9.397165</td>\n",
       "      <td>954.75</td>\n",
       "      <td>103.0</td>\n",
       "      <td>1173.75</td>\n",
       "      <td>92.0</td>\n",
       "      <td>1558.75</td>\n",
       "      <td>972.25</td>\n",
       "      <td>13.30</td>\n",
       "      <td>47.700000</td>\n",
       "      <td>0.725487</td>\n",
       "    </tr>\n",
       "    <tr>\n",
       "      <th>2</th>\n",
       "      <td>2004-03-10</td>\n",
       "      <td>20:00:00</td>\n",
       "      <td>2.2</td>\n",
       "      <td>1402.00</td>\n",
       "      <td>88</td>\n",
       "      <td>8.997817</td>\n",
       "      <td>939.25</td>\n",
       "      <td>131.0</td>\n",
       "      <td>1140.00</td>\n",
       "      <td>114.0</td>\n",
       "      <td>1554.50</td>\n",
       "      <td>1074.00</td>\n",
       "      <td>11.90</td>\n",
       "      <td>53.975000</td>\n",
       "      <td>0.750239</td>\n",
       "    </tr>\n",
       "    <tr>\n",
       "      <th>3</th>\n",
       "      <td>2004-03-10</td>\n",
       "      <td>21:00:00</td>\n",
       "      <td>2.2</td>\n",
       "      <td>1375.50</td>\n",
       "      <td>80</td>\n",
       "      <td>9.228796</td>\n",
       "      <td>948.25</td>\n",
       "      <td>172.0</td>\n",
       "      <td>1092.00</td>\n",
       "      <td>122.0</td>\n",
       "      <td>1583.75</td>\n",
       "      <td>1203.25</td>\n",
       "      <td>11.00</td>\n",
       "      <td>60.000000</td>\n",
       "      <td>0.786713</td>\n",
       "    </tr>\n",
       "    <tr>\n",
       "      <th>4</th>\n",
       "      <td>2004-03-10</td>\n",
       "      <td>22:00:00</td>\n",
       "      <td>1.6</td>\n",
       "      <td>1272.25</td>\n",
       "      <td>51</td>\n",
       "      <td>6.518224</td>\n",
       "      <td>835.50</td>\n",
       "      <td>131.0</td>\n",
       "      <td>1205.00</td>\n",
       "      <td>116.0</td>\n",
       "      <td>1490.00</td>\n",
       "      <td>1110.00</td>\n",
       "      <td>11.15</td>\n",
       "      <td>59.575001</td>\n",
       "      <td>0.788794</td>\n",
       "    </tr>\n",
       "  </tbody>\n",
       "</table>\n",
       "</div>"
      ],
      "text/plain": [
       "        Date      Time  CO(GT)  PT08.S1(CO)  NMHC(GT)   C6H6(GT)  \\\n",
       "0 2004-03-10  18:00:00     2.6      1360.00       150  11.881723   \n",
       "1 2004-03-10  19:00:00     2.0      1292.25       112   9.397165   \n",
       "2 2004-03-10  20:00:00     2.2      1402.00        88   8.997817   \n",
       "3 2004-03-10  21:00:00     2.2      1375.50        80   9.228796   \n",
       "4 2004-03-10  22:00:00     1.6      1272.25        51   6.518224   \n",
       "\n",
       "   PT08.S2(NMHC)  NOx(GT)  PT08.S3(NOx)  NO2(GT)  PT08.S4(NO2)  PT08.S5(O3)  \\\n",
       "0        1045.50    166.0       1056.25    113.0       1692.00      1267.50   \n",
       "1         954.75    103.0       1173.75     92.0       1558.75       972.25   \n",
       "2         939.25    131.0       1140.00    114.0       1554.50      1074.00   \n",
       "3         948.25    172.0       1092.00    122.0       1583.75      1203.25   \n",
       "4         835.50    131.0       1205.00    116.0       1490.00      1110.00   \n",
       "\n",
       "       T         RH        AH  \n",
       "0  13.60  48.875001  0.757754  \n",
       "1  13.30  47.700000  0.725487  \n",
       "2  11.90  53.975000  0.750239  \n",
       "3  11.00  60.000000  0.786713  \n",
       "4  11.15  59.575001  0.788794  "
      ]
     },
     "execution_count": 6,
     "metadata": {},
     "output_type": "execute_result"
    }
   ],
   "source": [
    "data.head()"
   ]
  },
  {
   "cell_type": "code",
   "execution_count": 7,
   "id": "2eb9107c-f7c3-4860-a1c9-5c6340e6978d",
   "metadata": {
    "tags": []
   },
   "outputs": [
    {
     "data": {
      "text/html": [
       "<div>\n",
       "<style scoped>\n",
       "    .dataframe tbody tr th:only-of-type {\n",
       "        vertical-align: middle;\n",
       "    }\n",
       "\n",
       "    .dataframe tbody tr th {\n",
       "        vertical-align: top;\n",
       "    }\n",
       "\n",
       "    .dataframe thead th {\n",
       "        text-align: right;\n",
       "    }\n",
       "</style>\n",
       "<table border=\"1\" class=\"dataframe\">\n",
       "  <thead>\n",
       "    <tr style=\"text-align: right;\">\n",
       "      <th></th>\n",
       "      <th>CO(GT)</th>\n",
       "      <th>PT08.S1(CO)</th>\n",
       "      <th>NMHC(GT)</th>\n",
       "      <th>C6H6(GT)</th>\n",
       "      <th>PT08.S2(NMHC)</th>\n",
       "      <th>NOx(GT)</th>\n",
       "      <th>PT08.S3(NOx)</th>\n",
       "      <th>NO2(GT)</th>\n",
       "      <th>PT08.S4(NO2)</th>\n",
       "      <th>PT08.S5(O3)</th>\n",
       "      <th>T</th>\n",
       "      <th>RH</th>\n",
       "      <th>AH</th>\n",
       "    </tr>\n",
       "  </thead>\n",
       "  <tbody>\n",
       "    <tr>\n",
       "      <th>count</th>\n",
       "      <td>9357.000000</td>\n",
       "      <td>9357.000000</td>\n",
       "      <td>9357.000000</td>\n",
       "      <td>9357.000000</td>\n",
       "      <td>9357.000000</td>\n",
       "      <td>9357.000000</td>\n",
       "      <td>9357.000000</td>\n",
       "      <td>9357.000000</td>\n",
       "      <td>9357.000000</td>\n",
       "      <td>9357.000000</td>\n",
       "      <td>9357.000000</td>\n",
       "      <td>9357.000000</td>\n",
       "      <td>9357.000000</td>\n",
       "    </tr>\n",
       "    <tr>\n",
       "      <th>mean</th>\n",
       "      <td>-34.207524</td>\n",
       "      <td>1048.869652</td>\n",
       "      <td>-159.090093</td>\n",
       "      <td>1.865576</td>\n",
       "      <td>894.475963</td>\n",
       "      <td>168.604200</td>\n",
       "      <td>794.872333</td>\n",
       "      <td>58.135898</td>\n",
       "      <td>1391.363266</td>\n",
       "      <td>974.951534</td>\n",
       "      <td>9.776600</td>\n",
       "      <td>39.483611</td>\n",
       "      <td>-6.837604</td>\n",
       "    </tr>\n",
       "    <tr>\n",
       "      <th>std</th>\n",
       "      <td>77.657170</td>\n",
       "      <td>329.817015</td>\n",
       "      <td>139.789093</td>\n",
       "      <td>41.380154</td>\n",
       "      <td>342.315902</td>\n",
       "      <td>257.424561</td>\n",
       "      <td>321.977031</td>\n",
       "      <td>126.931428</td>\n",
       "      <td>467.192382</td>\n",
       "      <td>456.922728</td>\n",
       "      <td>43.203438</td>\n",
       "      <td>51.215645</td>\n",
       "      <td>38.976670</td>\n",
       "    </tr>\n",
       "    <tr>\n",
       "      <th>min</th>\n",
       "      <td>-200.000000</td>\n",
       "      <td>-200.000000</td>\n",
       "      <td>-200.000000</td>\n",
       "      <td>-200.000000</td>\n",
       "      <td>-200.000000</td>\n",
       "      <td>-200.000000</td>\n",
       "      <td>-200.000000</td>\n",
       "      <td>-200.000000</td>\n",
       "      <td>-200.000000</td>\n",
       "      <td>-200.000000</td>\n",
       "      <td>-200.000000</td>\n",
       "      <td>-200.000000</td>\n",
       "      <td>-200.000000</td>\n",
       "    </tr>\n",
       "    <tr>\n",
       "      <th>25%</th>\n",
       "      <td>0.600000</td>\n",
       "      <td>921.000000</td>\n",
       "      <td>-200.000000</td>\n",
       "      <td>4.004958</td>\n",
       "      <td>711.000000</td>\n",
       "      <td>50.000000</td>\n",
       "      <td>637.000000</td>\n",
       "      <td>53.000000</td>\n",
       "      <td>1184.750000</td>\n",
       "      <td>699.750000</td>\n",
       "      <td>10.950000</td>\n",
       "      <td>34.050000</td>\n",
       "      <td>0.692275</td>\n",
       "    </tr>\n",
       "    <tr>\n",
       "      <th>50%</th>\n",
       "      <td>1.500000</td>\n",
       "      <td>1052.500000</td>\n",
       "      <td>-200.000000</td>\n",
       "      <td>7.886653</td>\n",
       "      <td>894.500000</td>\n",
       "      <td>141.000000</td>\n",
       "      <td>794.250000</td>\n",
       "      <td>96.000000</td>\n",
       "      <td>1445.500000</td>\n",
       "      <td>942.000000</td>\n",
       "      <td>17.200000</td>\n",
       "      <td>48.550000</td>\n",
       "      <td>0.976823</td>\n",
       "    </tr>\n",
       "    <tr>\n",
       "      <th>75%</th>\n",
       "      <td>2.600000</td>\n",
       "      <td>1221.250000</td>\n",
       "      <td>-200.000000</td>\n",
       "      <td>13.636091</td>\n",
       "      <td>1104.750000</td>\n",
       "      <td>284.200000</td>\n",
       "      <td>960.250000</td>\n",
       "      <td>133.000000</td>\n",
       "      <td>1662.000000</td>\n",
       "      <td>1255.250000</td>\n",
       "      <td>24.075000</td>\n",
       "      <td>61.875000</td>\n",
       "      <td>1.296223</td>\n",
       "    </tr>\n",
       "    <tr>\n",
       "      <th>max</th>\n",
       "      <td>11.900000</td>\n",
       "      <td>2039.750000</td>\n",
       "      <td>1189.000000</td>\n",
       "      <td>63.741476</td>\n",
       "      <td>2214.000000</td>\n",
       "      <td>1479.000000</td>\n",
       "      <td>2682.750000</td>\n",
       "      <td>339.700000</td>\n",
       "      <td>2775.000000</td>\n",
       "      <td>2522.750000</td>\n",
       "      <td>44.600000</td>\n",
       "      <td>88.725000</td>\n",
       "      <td>2.231036</td>\n",
       "    </tr>\n",
       "  </tbody>\n",
       "</table>\n",
       "</div>"
      ],
      "text/plain": [
       "            CO(GT)  PT08.S1(CO)     NMHC(GT)     C6H6(GT)  PT08.S2(NMHC)  \\\n",
       "count  9357.000000  9357.000000  9357.000000  9357.000000    9357.000000   \n",
       "mean    -34.207524  1048.869652  -159.090093     1.865576     894.475963   \n",
       "std      77.657170   329.817015   139.789093    41.380154     342.315902   \n",
       "min    -200.000000  -200.000000  -200.000000  -200.000000    -200.000000   \n",
       "25%       0.600000   921.000000  -200.000000     4.004958     711.000000   \n",
       "50%       1.500000  1052.500000  -200.000000     7.886653     894.500000   \n",
       "75%       2.600000  1221.250000  -200.000000    13.636091    1104.750000   \n",
       "max      11.900000  2039.750000  1189.000000    63.741476    2214.000000   \n",
       "\n",
       "           NOx(GT)  PT08.S3(NOx)      NO2(GT)  PT08.S4(NO2)  PT08.S5(O3)  \\\n",
       "count  9357.000000   9357.000000  9357.000000   9357.000000  9357.000000   \n",
       "mean    168.604200    794.872333    58.135898   1391.363266   974.951534   \n",
       "std     257.424561    321.977031   126.931428    467.192382   456.922728   \n",
       "min    -200.000000   -200.000000  -200.000000   -200.000000  -200.000000   \n",
       "25%      50.000000    637.000000    53.000000   1184.750000   699.750000   \n",
       "50%     141.000000    794.250000    96.000000   1445.500000   942.000000   \n",
       "75%     284.200000    960.250000   133.000000   1662.000000  1255.250000   \n",
       "max    1479.000000   2682.750000   339.700000   2775.000000  2522.750000   \n",
       "\n",
       "                 T           RH           AH  \n",
       "count  9357.000000  9357.000000  9357.000000  \n",
       "mean      9.776600    39.483611    -6.837604  \n",
       "std      43.203438    51.215645    38.976670  \n",
       "min    -200.000000  -200.000000  -200.000000  \n",
       "25%      10.950000    34.050000     0.692275  \n",
       "50%      17.200000    48.550000     0.976823  \n",
       "75%      24.075000    61.875000     1.296223  \n",
       "max      44.600000    88.725000     2.231036  "
      ]
     },
     "execution_count": 7,
     "metadata": {},
     "output_type": "execute_result"
    }
   ],
   "source": [
    "data.describe(exclude= ['object' , 'datetime64[ns]'])"
   ]
  },
  {
   "cell_type": "code",
   "execution_count": 8,
   "id": "1fc0a6a9-7525-4604-81fd-279432ac593b",
   "metadata": {
    "tags": []
   },
   "outputs": [
    {
     "data": {
      "image/png": "[encoded data removed]",
      "text/plain": [
       "<Figure size 432x288 with 2 Axes>"
      ]
     },
     "metadata": {
      "needs_background": "light"
     },
     "output_type": "display_data"
    }
   ],
   "source": [
    "dataplot = pd.DataFrame(data.corr())\n",
    "sb.heatmap(data.corr(), cmap=\"YlGnBu\") #annot parameter adds number and cmap chooses color\n",
    "plt.show()"
   ]
  },
  {
   "cell_type": "code",
   "execution_count": 9,
   "id": "186fdae9-e9c9-47e6-a7cb-dd0591c70baf",
   "metadata": {
    "tags": []
   },
   "outputs": [],
   "source": [
    "# # row = []\n",
    "# # col = []\n",
    "# # value = []\n",
    "# dataplotCol = np.array(dataplot.columns)\n",
    "# for colu in dataplotCol:\n",
    "#     for i in np.arange(13):\n",
    "#         if dataplot[colu][i] < 0.5 or dataplot[colu][i] == 1:\n",
    "#             dataplot[colu][i] = np.nan\n",
    "#             # row.append(dataplotCol[i])\n",
    "#             # col.append(colu)\n",
    "#             # value.append(dataplot[colu][i])\n",
    "# # pd.DataFrame([col,row,value])"
   ]
  },
  {
   "cell_type": "code",
   "execution_count": 10,
   "id": "38f88686-e71c-472b-b611-fb01889d482e",
   "metadata": {},
   "outputs": [
    {
     "data": {
      "text/plain": [
       "CO(GT)          -0.048231\n",
       "PT08.S1(CO)      0.745344\n",
       "NMHC(GT)         0.008288\n",
       "C6H6(GT)         0.925068\n",
       "PT08.S2(NMHC)    0.585775\n",
       "NOx(GT)         -0.053008\n",
       "PT08.S3(NOx)     0.573513\n",
       "NO2(GT)         -0.081300\n",
       "PT08.S4(NO2)     0.640685\n",
       "PT08.S5(O3)      0.524922\n",
       "T                0.885910\n",
       "RH               1.000000\n",
       "AH               0.943997\n",
       "Name: RH, dtype: float64"
      ]
     },
     "execution_count": 10,
     "metadata": {},
     "output_type": "execute_result"
    }
   ],
   "source": [
    "dataplot['RH'] # RH has the most sensitivity to AH, C6H6(GT), T, PT08.S1(CO), PT08.S4(NO2), PT08.S2(NMHC), PT08.S3(NOx), PT08.S5(O3)."
   ]
  },
  {
   "cell_type": "code",
   "execution_count": 11,
   "id": "367ff1cb-8686-42e7-8601-02fd94d1c3fb",
   "metadata": {},
   "outputs": [],
   "source": [
    "mostCorrRH = np.array(['AH', 'C6H6(GT)', 'T', 'PT08.S1(CO)', 'PT08.S4(NO2)', 'PT08.S2(NMHC)', 'PT08.S3(NOx)', 'PT08.S5(O3)'])"
   ]
  },
  {
   "cell_type": "code",
   "execution_count": 12,
   "id": "af0de824-298e-4977-9e58-d10023d703eb",
   "metadata": {
    "tags": []
   },
   "outputs": [],
   "source": [
    "# for i in range(8):\n",
    "#     plt.subplot(2,4,i+1)\n",
    "#     plt.plot(data['RH'], data[mostCorrRH[i]])\n",
    "#     # plt.xlabel('RH')\n",
    "#     plt.ylabel(mostCorrRH[i])\n",
    "# plt.show()"
   ]
  },
  {
   "cell_type": "markdown",
   "id": "414a3465-c087-42d4-9d77-d3a22182bba5",
   "metadata": {},
   "source": [
    "<H1> Data Preprocessing"
   ]
  },
  {
   "cell_type": "code",
   "execution_count": 13,
   "id": "e7c84b5e-a4f8-4b63-bc54-d6bef65b016c",
   "metadata": {},
   "outputs": [
    {
     "ename": "AttributeError",
     "evalue": "'numpy.int64' object has no attribute 'hour'",
     "output_type": "error",
     "traceback": [
      "\u001b[1;31m---------------------------------------------------------------------------\u001b[0m",
      "\u001b[1;31mAttributeError\u001b[0m                            Traceback (most recent call last)",
      "Input \u001b[1;32mIn [13]\u001b[0m, in \u001b[0;36m<cell line: 1>\u001b[1;34m()\u001b[0m\n\u001b[0;32m      1\u001b[0m \u001b[38;5;28;01mfor\u001b[39;00m i \u001b[38;5;129;01min\u001b[39;00m \u001b[38;5;28mrange\u001b[39m(data\u001b[38;5;241m.\u001b[39mshape[\u001b[38;5;241m0\u001b[39m]):\n\u001b[1;32m----> 2\u001b[0m     data\u001b[38;5;241m.\u001b[39mreplace(data[\u001b[38;5;124m'\u001b[39m\u001b[38;5;124mTime\u001b[39m\u001b[38;5;124m'\u001b[39m][i], \u001b[43mdata\u001b[49m\u001b[43m[\u001b[49m\u001b[38;5;124;43m'\u001b[39;49m\u001b[38;5;124;43mTime\u001b[39;49m\u001b[38;5;124;43m'\u001b[39;49m\u001b[43m]\u001b[49m\u001b[43m[\u001b[49m\u001b[43mi\u001b[49m\u001b[43m]\u001b[49m\u001b[38;5;241;43m.\u001b[39;49m\u001b[43mhour\u001b[49m, inplace\u001b[38;5;241m=\u001b[39m \u001b[38;5;28;01mTrue\u001b[39;00m)\n",
      "\u001b[1;31mAttributeError\u001b[0m: 'numpy.int64' object has no attribute 'hour'"
     ]
    }
   ],
   "source": [
    "for i in range(data.shape[0]):\n",
    "    data.replace(data['Time'][i], data['Time'][i].hour, inplace= True)"
   ]
  },
  {
   "cell_type": "code",
   "execution_count": 14,
   "id": "9a4660e6-7bef-435c-a03d-f8a42cb78c89",
   "metadata": {},
   "outputs": [],
   "source": [
    "month = []\n",
    "year = []\n",
    "for i in range(data.shape[0]):\n",
    "    month.append(data['Date'][i].month)\n",
    "    year.append(data['Date'][i].year)"
   ]
  },
  {
   "cell_type": "code",
   "execution_count": 15,
   "id": "2ec26893-25fa-4a74-bb36-521095dddb11",
   "metadata": {},
   "outputs": [],
   "source": [
    "data.insert(0, \"Month\", month)\n",
    "data.insert(1, \"Year\", year)"
   ]
  },
  {
   "cell_type": "code",
   "execution_count": 16,
   "id": "6a866d3d-7190-4002-92a3-e98f3d83d3ff",
   "metadata": {},
   "outputs": [],
   "source": [
    "data.drop([\"Date\"], axis = 1, inplace = True)"
   ]
  },
  {
   "cell_type": "code",
   "execution_count": 17,
   "id": "7c340345-f775-485a-913f-03bc10d73f36",
   "metadata": {},
   "outputs": [],
   "source": [
    "dataplot2 = pd.DataFrame(data.corr())"
   ]
  },
  {
   "cell_type": "code",
   "execution_count": 18,
   "id": "293121d9-586c-4b0b-b2b5-e44274235690",
   "metadata": {},
   "outputs": [
    {
     "data": {
      "text/plain": [
       "Month            0.050273\n",
       "Year            -0.028024\n",
       "Time            -0.108786\n",
       "CO(GT)          -0.048231\n",
       "PT08.S1(CO)      0.745344\n",
       "NMHC(GT)         0.008288\n",
       "C6H6(GT)         0.925068\n",
       "PT08.S2(NMHC)    0.585775\n",
       "NOx(GT)         -0.053008\n",
       "PT08.S3(NOx)     0.573513\n",
       "NO2(GT)         -0.081300\n",
       "PT08.S4(NO2)     0.640685\n",
       "PT08.S5(O3)      0.524922\n",
       "T                0.885910\n",
       "RH               1.000000\n",
       "AH               0.943997\n",
       "Name: RH, dtype: float64"
      ]
     },
     "execution_count": 18,
     "metadata": {},
     "output_type": "execute_result"
    }
   ],
   "source": [
    "dataplot2['RH'] #since year has very less correlation remove year"
   ]
  },
  {
   "cell_type": "code",
   "execution_count": 19,
   "id": "83ec049c-243d-4cf5-9836-97a70274de05",
   "metadata": {},
   "outputs": [],
   "source": [
    "data.drop([\"Year\"], axis = 1, inplace = True)"
   ]
  },
  {
   "cell_type": "code",
   "execution_count": 20,
   "id": "8057fb1d-eba0-430c-b24b-3343e9fdcc99",
   "metadata": {},
   "outputs": [],
   "source": [
    "columns = np.array(data.columns)\n",
    "new_col = ['Month', 'Time', 'CO(GT)', 'PT08.S1(CO)', 'NMHC(GT)', 'C6H6(GT)',\n",
    "       'PT08.S2(NMHC)', 'NOx(GT)', 'PT08.S3(NOx)', 'NO2(GT)',\n",
    "       'PT08.S4(NO2)', 'PT08.S5(O3)', 'T', 'AH','RH']\n",
    "data = data.reindex(columns = new_col)"
   ]
  },
  {
   "cell_type": "code",
   "execution_count": 21,
   "id": "7e99517a-3f6e-4955-acfc-eb4ae2138a34",
   "metadata": {},
   "outputs": [
    {
     "data": {
      "text/plain": [
       "0"
      ]
     },
     "execution_count": 21,
     "metadata": {},
     "output_type": "execute_result"
    }
   ],
   "source": [
    "data.duplicated().sum() #no duplicate values"
   ]
  },
  {
   "cell_type": "code",
   "execution_count": 22,
   "id": "731cd268-e40e-4fb9-9795-7660ad6d4ed0",
   "metadata": {},
   "outputs": [],
   "source": [
    "array = data.to_numpy()"
   ]
  },
  {
   "cell_type": "code",
   "execution_count": 23,
   "id": "2cd3a356-7b0e-4495-9f07-1950721c8761",
   "metadata": {},
   "outputs": [
    {
     "data": {
      "text/plain": [
       "array([[ 3.        , 18.        ,  2.6       , ..., 13.5999999 ,\n",
       "         0.75775383, 48.87500095],\n",
       "       [ 3.        , 19.        ,  2.        , ..., 13.29999995,\n",
       "         0.72548745, 47.69999981],\n",
       "       [ 3.        , 20.        ,  2.2       , ..., 11.9000001 ,\n",
       "         0.75023907, 53.97500038],\n",
       "       ...,\n",
       "       [ 4.        , 12.        ,  2.4       , ..., 26.89999962,\n",
       "         0.64064877, 18.34999967],\n",
       "       [ 4.        , 13.        ,  2.1       , ..., 28.32499981,\n",
       "         0.51386592, 13.54999995],\n",
       "       [ 4.        , 14.        ,  2.2       , ..., 28.50000048,\n",
       "         0.50280371, 13.125     ]])"
      ]
     },
     "execution_count": 23,
     "metadata": {},
     "output_type": "execute_result"
    }
   ],
   "source": [
    "array"
   ]
  },
  {
   "cell_type": "code",
   "execution_count": 24,
   "id": "5e8971f2-0732-4684-aba5-1f6a1227d368",
   "metadata": {},
   "outputs": [],
   "source": [
    "scaler = StandardScaler()"
   ]
  },
  {
   "cell_type": "code",
   "execution_count": 25,
   "id": "e8480271-b97b-4ed0-ae0b-6a77de804490",
   "metadata": {},
   "outputs": [],
   "source": [
    "X = array[:, :14]\n",
    "Y = array[:, 14]"
   ]
  },
  {
   "cell_type": "code",
   "execution_count": 26,
   "id": "bfac5727-1947-4d5c-a71d-320eb3f3dbe6",
   "metadata": {},
   "outputs": [
    {
     "data": {
      "text/plain": [
       "True"
      ]
     },
     "execution_count": 26,
     "metadata": {},
     "output_type": "execute_result"
    }
   ],
   "source": [
    "len(Y) == len(X)"
   ]
  },
  {
   "cell_type": "code",
   "execution_count": 27,
   "id": "c38e5832-8edb-4292-b12a-d7dbd24f2376",
   "metadata": {},
   "outputs": [],
   "source": [
    "X_train, X_test, Y_train, Y_test = train_test_split(X, Y, test_size = 0.1, train_size=  0.9)"
   ]
  },
  {
   "cell_type": "code",
   "execution_count": 28,
   "id": "3b36bb74-1b29-4908-8479-2133f9d76d8f",
   "metadata": {},
   "outputs": [],
   "source": [
    "scaler.fit(X_train)\n",
    "X_train = scaler.transform(X_train)\n",
    "X_test = scaler.transform(X_test)"
   ]
  },
  {
   "cell_type": "markdown",
   "id": "bc8846a5-46d5-4ec9-a70b-e8efa0f63b0c",
   "metadata": {},
   "source": [
    "<H1> Model"
   ]
  },
  {
   "cell_type": "code",
   "execution_count": 29,
   "id": "4ba77804-e62f-4068-aea6-165361cfb6df",
   "metadata": {},
   "outputs": [],
   "source": [
    "import sys"
   ]
  },
  {
   "cell_type": "code",
   "execution_count": 30,
   "id": "27ade0ce-358c-4738-bda3-3adeef8c5987",
   "metadata": {},
   "outputs": [],
   "source": [
    "sys.path.append(\"C:/Users/hp/OneDrive - IIT Kanpur/Winter-Project-ML-Che/210079_Ajitesh Shree/Assignment_1\")"
   ]
  },
  {
   "cell_type": "code",
   "execution_count": 31,
   "id": "d5ec96b6-0580-44fd-b7b5-e059d4b14dd2",
   "metadata": {},
   "outputs": [],
   "source": [
    "import linearRegression as lr\n",
    "from linearRegression import *"
   ]
  },
  {
   "cell_type": "code",
   "execution_count": 32,
   "id": "dada36e1-4f58-4386-8ec9-0a62ddde3c5b",
   "metadata": {},
   "outputs": [],
   "source": [
    "def error(y, yPred):\n",
    "    ev = y - yPred\n",
    "    error = 0\n",
    "    for ele in ev:\n",
    "        error = error + ele*ele\n",
    "    return error/(2*(ev.shape[0]))"
   ]
  },
  {
   "cell_type": "code",
   "execution_count": 33,
   "id": "8fb3c17c-dded-43f6-95b2-6e5ae40826ca",
   "metadata": {
    "tags": []
   },
   "outputs": [
    {
     "data": {
      "text/plain": [
       "45.737892993930444"
      ]
     },
     "execution_count": 33,
     "metadata": {},
     "output_type": "execute_result"
    },
    {
     "data": {
      "image/png": "[encoded data removed]",
      "text/plain": [
       "<Figure size 432x288 with 1 Axes>"
      ]
     },
     "metadata": {
      "needs_background": "light"
     },
     "output_type": "display_data"
    }
   ],
   "source": [
    "theta = fitGD(X_train,Y_train, 1e-5, 0.01, 0, 1000)\n",
    "y_Pred = np.matmul(np.hstack((np.ones((X_test.shape[0], 1)), X_test)),theta).reshape(Y_test.shape[0])\n",
    "error(Y_test, y_Pred) #most min error i got\n",
    "# theta"
   ]
  },
  {
   "cell_type": "code",
   "execution_count": 34,
   "id": "1a05199e-2a5b-472d-b144-0213fed95589",
   "metadata": {},
   "outputs": [
    {
     "data": {
      "text/plain": [
       "47.12325263554546"
      ]
     },
     "execution_count": 34,
     "metadata": {},
     "output_type": "execute_result"
    },
    {
     "data": {
      "image/png": "[encoded data removed]",
      "text/plain": [
       "<Figure size 432x288 with 1 Axes>"
      ]
     },
     "metadata": {
      "needs_background": "light"
     },
     "output_type": "display_data"
    }
   ],
   "source": [
    "theta3 = fitGD(X_train,Y_train, 1e-5, 0.01, 0, 1000)\n",
    "y_Pred3 = np.matmul(np.hstack((np.ones((X_train.shape[0], 1)), X_train)),theta3).reshape(Y_train.shape[0])\n",
    "error(Y_train, y_Pred3) #most min error i got\n",
    "# theta"
   ]
  },
  {
   "cell_type": "code",
   "execution_count": 35,
   "id": "96a13196-3b91-41f7-8c67-333edf3439e7",
   "metadata": {
    "collapsed": true,
    "jupyter": {
     "outputs_hidden": true
    },
    "tags": []
   },
   "outputs": [
    {
     "data": {
      "text/plain": [
       "array([-198.11116772,   54.43669166,   55.09432513,   60.21773135,\n",
       "         72.21251535,   44.17862528,   36.38534004,   58.35994569,\n",
       "         30.67908478,   49.28822749,   49.78512244,   46.81427716,\n",
       "         43.97348157,   66.61540513,   28.65066238,   50.30634062,\n",
       "         31.75387831,   38.15716825,   21.3224148 ,   61.50576002,\n",
       "         71.02154724,   55.17793601,   55.09475841,   61.44118202,\n",
       "         45.49645908,   56.78662795,   57.19996258,   38.8082674 ,\n",
       "         52.16017828,   46.88490929,   59.19715285,   24.27568521,\n",
       "         45.42595751,   59.66753433, -206.86059839,   63.92117064,\n",
       "         48.49060309,   48.24725564,   47.4775824 ,   63.80404122,\n",
       "         64.90287038,   54.71532089,   34.09780552,   50.86846192,\n",
       "         59.74800741,   43.56166732,   65.21362036,   57.18584734,\n",
       "         41.09467858,   35.42417422,   33.18353011,   42.02554537,\n",
       "         57.5690381 ,   49.71091382,   32.78293193,   45.3642309 ,\n",
       "         51.69011162,   55.25561613,   49.93395411,   56.73768843,\n",
       "         54.07752888,   50.31586678,   60.52964487,   51.42625659,\n",
       "         54.99284028,   55.37340264,   57.41768654,   46.48494915,\n",
       "         47.60222718,   54.4023255 ,   64.56076841,   42.13171791,\n",
       "         32.9553745 ,   50.97027026,   39.14858979,   44.76758997,\n",
       "         35.45910357,   25.07667755,   50.0552647 ,   36.68404815,\n",
       "         45.91881223,   63.77874043,   65.15847024,   19.41600125,\n",
       "         62.96953796,   41.26506061,   46.9849869 ,   56.69524564,\n",
       "       -194.85713856, -184.41405723,   32.48120746,   51.83932933,\n",
       "         44.45291938,   33.93332317,   54.18218386,   61.79531508,\n",
       "         67.71109711,   13.57712272,   39.72320168,   48.47983266,\n",
       "         39.9807206 ,   46.23901116, -193.16021339, -201.98284004,\n",
       "         48.54914551,   49.54263615,   62.89621677,   73.38031166,\n",
       "         37.60883162,   42.05878823,   36.9186205 ,   42.00971755,\n",
       "         59.63584347,   54.83915227,   38.19839364,   39.13484931,\n",
       "         61.3280817 , -195.70747895,   57.02720884,   47.90408448,\n",
       "         60.57968503,   39.8458267 ,   58.39975895, -203.00080781,\n",
       "         44.11515282,   32.70449316,   25.60455111,   60.58930793,\n",
       "         45.35362356,   40.37920964,   46.68873649,   35.34376772,\n",
       "         34.59515011,   54.70914229,   41.75280495,   50.62580135,\n",
       "         59.11510881,   56.8638822 ,   56.29011238,   34.38025605,\n",
       "         55.99940104,   50.76728902,   72.54312531,   36.92307146,\n",
       "         61.92049833,   43.48751713,   30.40828638,   54.17530604,\n",
       "         53.72441873,   34.37970162,   42.58295836,   55.76889376,\n",
       "         62.5339348 ,   61.07448932,   56.04499351,   57.57837463,\n",
       "         39.68716937,   24.91918672,   37.66199432,   42.29013078,\n",
       "         23.66328331,   40.93114601,   55.67267203,   25.69061659,\n",
       "         63.13976209,   35.44615346,   58.18823532,   24.7670401 ,\n",
       "         43.47717182,   36.50247626,   54.65935718,   49.92961615,\n",
       "         53.51950466,   51.18824419,   29.1623068 ,   69.00201314,\n",
       "         43.94690243,   57.36006155,   56.89717638,   37.19598465,\n",
       "         45.20484774,   60.17265585,   45.76778107,   44.25300884,\n",
       "         54.6731934 ,   53.78821777,   31.38177355,   33.84616209,\n",
       "         54.23315485,   64.31185615,   52.26632524,   53.06822346,\n",
       "         60.42933608,   53.69246702,   46.57462607,   56.53786675,\n",
       "         67.93284893,   55.04162101,   35.92354941,   49.2800967 ,\n",
       "         62.50690369,   29.16606354,   50.4817625 ,   72.53527582,\n",
       "         43.17732876,   57.64074128,   48.44817902,   32.5499929 ,\n",
       "         50.79301347,   54.47583928,   30.33749744,   47.67887037,\n",
       "         57.56966395, -183.99453521, -200.65020243,   51.55088016,\n",
       "         32.76176538,   54.19378444,   30.80156796,   59.0224569 ,\n",
       "         50.0500119 ,   45.41364701,   52.82563646,   62.84307392,\n",
       "         18.76482673,   42.95598521,   32.43701455,   65.4964802 ,\n",
       "         67.792147  ,   43.85067893,   47.81485355,   66.49865045,\n",
       "         58.51355472,   45.79854538,   59.33629112, -192.97726054,\n",
       "         62.94980781,   41.58886374,   26.71550257,   64.96417751,\n",
       "         56.01292969,   45.19954132,   52.98473398,   39.13126629,\n",
       "         58.74992058,   43.0840324 ,   62.99934208,   46.31250376,\n",
       "         57.77322084,   30.89862181,   17.49110021,   59.06573451,\n",
       "         42.79162983,   57.64194618,   39.87223106,   43.60937202,\n",
       "         57.63981093,   53.65065839,   33.53268813,   49.42021656,\n",
       "         63.72891213,   58.79962883, -199.84338993,   59.90767115,\n",
       "         66.39163609,   76.399458  ,   42.53874323,   58.30175776,\n",
       "         37.51272524,   34.63729591,   53.83767462,   55.18318422,\n",
       "         49.62958382,   58.48829071,   29.89598132,   36.56041162,\n",
       "         56.30296979, -200.50662215,   55.17778391,   48.58310795,\n",
       "         58.88382654,   41.54893144,   54.82619968,   41.6211683 ,\n",
       "         48.70528999,   57.6628302 ,   34.1714921 ,   63.99823263,\n",
       "         36.69026322,   52.02183258,   49.34124654,   43.34313659,\n",
       "         38.76767112,   53.03815656,   52.88134661,   34.29235906,\n",
       "         61.18910123,   51.90727073,   39.40422935,   58.66037568,\n",
       "         57.32259315,   55.69080924,   62.91311424,   53.92247308,\n",
       "         51.27585307,   26.00207359,   57.56614731,   45.12395994,\n",
       "         28.00339506,   65.55329492,   60.57988039,   55.29001794,\n",
       "         51.735089  ,   55.04886698,   13.94989167,   24.04177147,\n",
       "       -199.36665636,   53.54524117,   42.32560935,   32.93577875,\n",
       "         65.26536652,   29.9520769 ,   50.02483499,   54.40072063,\n",
       "         60.24558374,   23.45288177,   49.32659928,   44.50850657,\n",
       "         44.63412679,   63.27735161,   60.63940386,   49.455164  ,\n",
       "         30.45210703,   50.35737741,   54.4323467 ,   63.30819839,\n",
       "         49.19789397,   50.505264  ,   58.83981886,   64.55189842,\n",
       "         33.05511692,   53.89652125,   33.01545115,   23.4726175 ,\n",
       "         53.61787288,   55.45489098,   42.45850199,   38.91885038,\n",
       "         51.26720807,   35.73754497,   53.4476272 ,   66.12188794,\n",
       "         50.98155466,   56.79873035,   43.92910324,   31.88573429,\n",
       "         44.34679815,   51.6024375 ,   24.31630511,   45.5035841 ,\n",
       "         66.64206534,   63.98742484,   29.73967936,   56.73792114,\n",
       "         54.66471382,   56.75290894,   38.10551027,   51.08678635,\n",
       "         31.44006886,   63.57779342,   34.95844695,   49.5483997 ,\n",
       "         52.71102699,   55.39958581,   43.26970386,   27.73577766,\n",
       "         35.58687162,   60.96059338,   55.37376012,   75.76036665,\n",
       "         22.6722402 ,   48.53494215,   73.1069386 ,   54.94741355,\n",
       "         58.05131656,   26.47149786,   47.55656344,   39.99949196,\n",
       "         50.56664696,   62.08208079,   54.51999814,   75.2178306 ,\n",
       "         51.78443093,   33.35384941,   52.61127723,   66.71958507,\n",
       "         28.35419807,   33.78773691,   57.03217772,   45.8782812 ,\n",
       "         56.0812508 ,   37.98052404,   50.86596878,   60.26752284,\n",
       "         56.2969076 ,   60.58152391,   75.38386529,   54.20213318,\n",
       "         52.56989973,   44.34310306,   76.95600341,   40.1821908 ,\n",
       "         49.62394151,   54.25773607,   59.2529103 ,   60.40160734,\n",
       "         64.71255888,   71.76136073,   66.27269967, -201.97099319,\n",
       "         29.35506206,   56.64780945,   53.77084176,   52.65993251,\n",
       "         61.28946764,   44.51310458,   48.39757897,   47.91524099,\n",
       "         35.93150013,   51.94908176,   59.40171674,   28.77424405,\n",
       "         69.55217638,   56.72128078,   49.435927  ,   34.79467405,\n",
       "         60.1229213 ,   51.80351714,   43.77678743,   53.68266569,\n",
       "         62.7485146 ,   60.64346266,   62.31715756,   61.79589268,\n",
       "       -180.18138957,   74.26061667,   68.75165433,   46.93514148,\n",
       "         56.19648125,   56.63432178,   55.23009679,   66.11969714,\n",
       "         23.33550514,   27.29968573,   48.80240267,   32.40758264,\n",
       "         47.27090129,   37.62305701,   51.56478679,   44.09464357,\n",
       "         32.0044756 ,   45.4414749 ,   50.65159457,   50.72222975,\n",
       "         48.4012438 ,   47.16353594,   40.14781702,   53.0184183 ,\n",
       "         48.48594589,   59.46142977,   51.54041555,   39.73441879,\n",
       "         51.92859299,   41.74579184,   47.68018073,   33.75335861,\n",
       "         25.23838306,   42.96160847,   44.05747845,   46.59992746,\n",
       "         41.22488793,   48.28429242,   44.91317353,   56.27190608,\n",
       "         57.93430096,   18.16594814,   48.30605322,   39.6969496 ,\n",
       "         52.37523053,   25.90531165, -203.11683208,   22.00574744,\n",
       "         31.7960962 ,   65.04018417,   38.48949388,   51.12015205,\n",
       "         57.4035021 ,   57.80706053,   39.51882266,   62.58332203,\n",
       "         32.72555352,   52.8289357 ,   27.26090586,   44.44109766,\n",
       "         32.68989927,   50.51485474,   59.37589352,   45.02236362,\n",
       "         55.85172888,   48.7211849 ,   32.98795854,   25.02849287,\n",
       "       -204.45438053,   55.043117  ,   21.87728387,   58.65331011,\n",
       "         66.34316616,   59.60801312,   22.11934565,   56.38151222,\n",
       "         41.48316744,   65.85974579,   54.47263181,   42.64761868,\n",
       "         31.69420378,   59.60539845,   40.02625863,   54.96410569,\n",
       "         54.56175034, -203.43592006,   58.76999229,   44.87797379,\n",
       "         64.98303656,   34.62181541,   60.63257701,   55.77777385,\n",
       "         46.11320239, -178.02223266,   62.12281612,   52.97237571,\n",
       "         47.6232806 ,   44.03995977,   35.30093732,   56.51628449,\n",
       "         64.41916259,   58.33704449,   62.63030549,   50.75296568,\n",
       "         47.22610998,   29.99364328,   49.65497816,   61.93926073,\n",
       "         62.42356374,   56.89414251,   58.90535244,   67.40616642,\n",
       "         41.40325363,   50.1239914 ,   59.82163304,   48.33940978,\n",
       "         60.19478077,   53.64301301,   18.44280652,   64.97327489,\n",
       "         50.52716995,   58.95032165,   59.33920155,   61.9527205 ,\n",
       "         56.56352426,   65.74973133,   50.34394177,   50.4258964 ,\n",
       "         48.45428052,   56.28541523,   49.03917559,   32.74766972,\n",
       "         57.57407852,   57.56105993,   49.96117209,   42.46938459,\n",
       "         56.33225817,   59.11958269,   61.60459559,   57.530927  ,\n",
       "         63.15817957,   16.36515882,   34.86204767,   60.61683034,\n",
       "         51.76861269,   36.0016644 , -203.61929598,   63.00636994,\n",
       "         57.49222913,   68.81454022,   22.97716473,   34.85662841,\n",
       "         61.15137906,   35.8792065 ,   48.89629243,   57.85311944,\n",
       "         45.16549199,   53.70545539,   30.19465764, -201.61653258,\n",
       "         57.45326033,   41.28877013,   47.89799317,   46.47882032,\n",
       "         51.20961282,   57.13025627,   56.01378661,   36.01801416,\n",
       "         44.43144172,   50.88415528,   50.91640965,   46.52033573,\n",
       "         43.32916331,   42.9188107 ,   42.33457843,   52.62087775,\n",
       "         31.75147343,   44.02495449,   59.2657634 ,   63.00559911,\n",
       "         31.1817361 ,   55.46304951,   36.72042902,   54.90556384,\n",
       "         56.53908791,   41.56733419,   58.00397437,   43.08522723,\n",
       "         56.63338045,   55.84923485,   47.518108  ,   40.80113016,\n",
       "         30.46072192,   68.41630742,   52.01246788,   61.22196123,\n",
       "         51.59181469,   44.40059477,   69.48055499,   59.4172672 ,\n",
       "         28.94752679,   66.997657  ,   47.41745033,   48.4125144 ,\n",
       "         26.01542265,   48.48927727,   38.61582717,   37.87028131,\n",
       "         19.54823239,   19.87855096,   49.58254597,   45.88560139,\n",
       "         50.11247449,   32.24482352,   19.7587745 ,   45.40967505,\n",
       "         24.25700516, -196.02812395,   58.62445619,   50.89334599,\n",
       "         51.05384608,   48.31903101,   43.73047603,   45.26207065,\n",
       "         38.94663973,   28.92910673,   50.51217817,   61.10066544,\n",
       "         28.14412301,   38.18699727,   28.23568811,   56.65218217,\n",
       "         18.82533333, -209.66238483,   50.78989605,   50.65611462,\n",
       "         58.88423582,   75.09412568,   20.58078896, -199.18282557,\n",
       "         18.66711905,   27.2396901 ,   39.264939  ,   48.43919829,\n",
       "         40.75905684,   56.34688299,   62.98515757,   63.65150085,\n",
       "         51.03286894,   30.82213814,   31.21495311,   37.46381845,\n",
       "         57.18375622,   45.85002253,   64.46770371,   62.59515613,\n",
       "         57.09178616,   50.8338539 ,   25.10353583,   53.73870481,\n",
       "         37.19125703,   62.91172678, -207.35977164,   44.76853359,\n",
       "         66.833414  ,   42.56010804,   62.91802651,   62.59930011,\n",
       "         59.88746595,   24.25301418,   57.2902752 ,   57.88518218,\n",
       "         58.20744101,   52.88783007,   55.76248313,   57.76655928,\n",
       "         39.94592687,   64.05097934,   30.87699754,   45.14981793,\n",
       "         53.63147232,   43.67739946,   57.85155685,   65.95295761,\n",
       "         30.41041875,   47.69098162,   46.86838396,   61.32137379,\n",
       "         47.34175628,   35.11620449,   37.02003802,   52.34019181,\n",
       "         40.79681505,   46.35423593,   45.02033375,   55.57937277,\n",
       "         66.18115688,   47.12914086,   68.06891334,   60.84817073,\n",
       "         43.53129271,   61.80214657,   59.06184824,   26.81197203,\n",
       "         55.54912383,   56.75126118,   60.40223556,   60.96074062,\n",
       "         32.85051487,   36.69832466,   62.41198861,   43.45526694,\n",
       "         60.14057913,   45.01767338,   40.11905703,   49.16171668,\n",
       "         29.5472306 ,   55.78856971,   48.75945245,   59.52662059,\n",
       "         42.42993058,   70.04015729,   60.24833149,   43.75045615,\n",
       "         36.26027641,   36.78932497,   34.09863645,   50.8705393 ,\n",
       "         33.37028534,   47.51658829,   70.70988291,   28.19477172,\n",
       "         54.49418241,   43.75992476,   61.62256504,   41.5651977 ,\n",
       "         34.7433499 ,   42.8845191 ,   27.73746546,   59.1319052 ,\n",
       "         44.32986506,   35.04530317,   56.9367352 ,   40.51892928,\n",
       "         64.88081059,   32.40711543,   61.7774418 ,   54.82152975,\n",
       "         48.27877922,   43.21374243,   51.28333693,   37.75286983,\n",
       "         62.67669055,   40.38105474,   62.96494826,   66.52996628,\n",
       "       -209.30426667,   56.0441485 ,   53.68939979,   50.73771115,\n",
       "         58.66969616,   59.86108746,   40.01483101,   49.36201236,\n",
       "       -209.49675179,   42.76997672,   65.07178933,   38.764187  ,\n",
       "       -181.12345734,   31.25801462,   55.85003537,   51.43254506,\n",
       "         58.94140417, -192.87342233,   60.21048453,   39.28893354,\n",
       "         58.88843257,   47.91741809,   40.28946431,   23.86956392,\n",
       "         56.85396921,   64.46248073,   38.80555428,   42.22159435,\n",
       "         62.67768422,   69.09443656,   52.40523509,   53.13984477,\n",
       "         47.30038145,   62.62240396,   24.68624327,   60.17986075,\n",
       "         54.20965659,   50.53099319,   50.21349544,   65.54389737,\n",
       "         27.67420563,   54.31654775,   43.31784231,   42.00243681,\n",
       "         47.99936381,   51.76190168,   44.76351241,   18.1077883 ,\n",
       "         50.04078321,   52.8137621 ,   55.80020377,   37.9048327 ,\n",
       "         31.60110617,   52.87075392,   45.72477507,   71.43030146,\n",
       "         62.87920432,   55.40244773,   24.0645493 ,   46.27339233,\n",
       "         40.75415523,   30.31046874,   48.71895165,   31.82427736,\n",
       "         32.46227201,   43.19464809,   31.47860071,   61.74895093,\n",
       "         55.79165259,   59.97680875,   36.40920383, -180.73724221,\n",
       "         37.29690477,   26.84068903,   58.05912353,   48.59142335,\n",
       "         50.25685543,   53.32360043,   50.61498526,   39.51729749,\n",
       "         48.51128748,   54.97563416,   52.7005854 ,   62.48976878,\n",
       "         31.52420567,   63.2205295 ,   37.58446756,   57.01753474,\n",
       "         48.50607718,   56.66155895,   58.44238412,   55.64829702,\n",
       "         57.96791764,   59.62297183,   49.33793018,   53.6042347 ,\n",
       "       -205.22089276,   54.73260321,   38.44955685,   58.61201395,\n",
       "         54.79561222, -197.37907777,   51.89148669,   48.71119682,\n",
       "         57.48998495,   46.86938622,   42.09994628,   64.31250222,\n",
       "         46.59100717,   59.81612983,   58.52193057,   63.78316958,\n",
       "         57.84175947,   61.71438364,   39.41660122,   58.30455873,\n",
       "         39.30949067,   34.48111741,   57.02993108,   69.78872088,\n",
       "         52.44520442,   40.06686607,   46.50593819,   57.2054516 ,\n",
       "         71.89873459,   53.3678371 ,   40.20364829,   48.48959771,\n",
       "         35.70328058,   64.03471039,   49.33148624,   54.5201414 ,\n",
       "         46.45695702,   39.96936903,   39.53205616,   60.1444726 ])"
      ]
     },
     "execution_count": 35,
     "metadata": {},
     "output_type": "execute_result"
    }
   ],
   "source": [
    "y_Pred #prediction using my function on X_test"
   ]
  },
  {
   "cell_type": "code",
   "execution_count": 36,
   "id": "2cf653e3-5f7b-4542-8e7a-f5617ba15900",
   "metadata": {},
   "outputs": [
    {
     "data": {
      "text/plain": [
       "array([57.22914482, 46.25204667, 48.98230721, ..., 47.66637244,\n",
       "       51.67865418, 64.85900637])"
      ]
     },
     "execution_count": 36,
     "metadata": {},
     "output_type": "execute_result"
    }
   ],
   "source": [
    "y_Pred3 #prediction using my function on X_train"
   ]
  },
  {
   "cell_type": "markdown",
   "id": "ce71e3a6-740d-4db9-a154-6c08d1cb3438",
   "metadata": {},
   "source": [
    "<h4> Using Normal Equation"
   ]
  },
  {
   "cell_type": "code",
   "execution_count": 37,
   "id": "c0a1a019-c0c2-4c92-a495-2f9b63b324c0",
   "metadata": {},
   "outputs": [
    {
     "data": {
      "text/plain": [
       "24.155988567107016"
      ]
     },
     "execution_count": 37,
     "metadata": {},
     "output_type": "execute_result"
    }
   ],
   "source": [
    "theta2 = fitNormal(X_train, Y_train)\n",
    "y_Pred2 = np.matmul(np.hstack((np.ones((X_test.shape[0], 1)), X_test)),theta2).reshape(Y_test.shape[0])\n",
    "error(Y_test, y_Pred2)"
   ]
  },
  {
   "cell_type": "code",
   "execution_count": 38,
   "id": "ebc9cbe8-a446-4cce-b2e5-38a88fde0860",
   "metadata": {
    "collapsed": true,
    "jupyter": {
     "outputs_hidden": true
    },
    "tags": []
   },
   "outputs": [
    {
     "data": {
      "text/plain": [
       "array([-200.44697914,   49.79885961,   55.66301777,   67.9135732 ,\n",
       "         72.26267903,   51.35728429,   16.70228374,   60.67448288,\n",
       "         26.69100026,   46.13401931,   46.38254156,   37.16636859,\n",
       "         42.27802483,   67.34305026,   32.58645929,   57.84338989,\n",
       "         30.96503986,   40.34897906,   17.4462651 ,   65.73967864,\n",
       "         64.82541491,   50.7146614 ,   36.9311181 ,   59.66391976,\n",
       "         48.27097471,   54.65452501,   64.08330558,   47.15784564,\n",
       "         51.2880633 ,   49.64607673,   67.48586152,   12.68556603,\n",
       "         32.0318095 ,   58.55210774, -209.41060265,   62.19221093,\n",
       "         52.94244516,   43.20918989,   54.40886563,   64.53539618,\n",
       "         63.26690357,   57.55408524,   35.58739454,   55.42610676,\n",
       "         60.23991844,   41.4475872 ,   69.15250773,   64.99199912,\n",
       "         46.89688411,   25.63989046,   15.43034621,   34.74058414,\n",
       "         59.54960007,   54.95000019,   18.79291266,   38.84622165,\n",
       "         55.41004912,   58.73568458,   49.20891855,   53.75113836,\n",
       "         51.94173755,   53.85229897,   64.05454925,   50.89974434,\n",
       "         64.94643262,   57.35809825,   57.30739655,   45.84965431,\n",
       "         41.58244492,   67.61389882,   56.10098318,   48.22085062,\n",
       "         13.27087054,   57.16011622,   41.53837966,   57.0631493 ,\n",
       "         35.33323856,   28.55849083,   54.29225929,   32.97101455,\n",
       "         55.8990024 ,   66.97734817,   72.27901888,    4.97303331,\n",
       "         71.00371535,   39.19229392,   38.87365345,   50.88300065,\n",
       "       -193.17092643, -185.44834099,   30.85804951,   54.3815074 ,\n",
       "         47.40408442,   36.02690534,   62.68720661,   67.39323839,\n",
       "         74.64994567,    5.24737757,   39.10448696,   55.55071931,\n",
       "         46.46310373,   51.71714382, -196.39362945, -202.7687598 ,\n",
       "         48.77578457,   42.91099566,   73.32832133,   58.94424464,\n",
       "         42.35241508,   42.59355647,   38.74115977,   45.50925981,\n",
       "         54.19840108,   44.16990654,   43.13513511,   45.28325096,\n",
       "         70.3791756 , -199.71871593,   56.55097435,   35.06250126,\n",
       "         64.49584208,   37.89212646,   64.95686773, -206.81160995,\n",
       "         29.76441873,   43.00415789,    5.1234464 ,   62.41586932,\n",
       "         42.6699742 ,   38.31683112,   56.86032376,   28.604042  ,\n",
       "         24.7876737 ,   48.27655307,   42.69225637,   56.3917227 ,\n",
       "         60.6298058 ,   69.86955544,   62.03662683,   35.30735286,\n",
       "         51.83753762,   44.72880993,   68.82544764,   38.85214464,\n",
       "         68.6618137 ,   39.03994258,   20.60286126,   54.62159018,\n",
       "         57.26674826,   20.1907551 ,   51.8421333 ,   42.45993299,\n",
       "         63.12128783,   62.03054639,   58.43349803,   52.22731089,\n",
       "         32.86978705,    9.14708192,   44.3863969 ,   46.0245275 ,\n",
       "          1.74768207,   51.58479062,   49.06836931,   27.24927704,\n",
       "         69.51794276,   21.46588312,   70.15457451,   14.25943956,\n",
       "         49.51138803,   37.47084321,   50.64245509,   50.64795713,\n",
       "         52.47744323,   49.63436466,   29.01582102,   69.34906257,\n",
       "         32.6943132 ,   63.87448984,   65.20370005,   38.26539133,\n",
       "         37.86626883,   61.04142967,   54.69743888,   48.38963211,\n",
       "         60.15644395,   51.29773836,   25.47463451,   29.40079588,\n",
       "         62.61050315,   73.37916995,   50.58301581,   54.34699724,\n",
       "         62.16886699,   51.92082628,   47.25507263,   66.79671128,\n",
       "         73.41492219,   52.57048189,   24.99895509,   43.2130709 ,\n",
       "         60.66471533,   27.22735905,   44.45163824,   70.0706694 ,\n",
       "         40.9908968 ,   49.66777001,   47.55785022,   29.65620386,\n",
       "         54.40670707,   57.90916696,   27.78710912,   38.15508595,\n",
       "         62.89810307, -186.33203589, -203.5147608 ,   68.56751387,\n",
       "         36.95016873,   57.07540161,   28.33179507,   61.22890408,\n",
       "         45.8681849 ,   40.62401495,   60.64179926,   67.27257319,\n",
       "          8.60109099,   53.32155728,   12.34576712,   58.62749562,\n",
       "         68.06766306,   46.55772513,   52.292359  ,   70.05757766,\n",
       "         60.19200772,   48.3457074 ,   63.17189958, -193.71157648,\n",
       "         72.07973719,   50.66711298,   16.32878564,   72.15724816,\n",
       "         58.1000952 ,   48.32427438,   48.63993854,   27.64123179,\n",
       "         61.52529532,   42.49562735,   62.46718588,   36.82937987,\n",
       "         51.02760606,   20.82205396,   -6.18429921,   61.97965875,\n",
       "         44.99234677,   54.75716451,   45.00344667,   49.63022473,\n",
       "         57.47318337,   57.09194182,   27.60617947,   51.0972454 ,\n",
       "         63.33297337,   59.16525173, -202.16153567,   61.34187894,\n",
       "         63.46701075,   81.81809682,   40.75288274,   64.78714054,\n",
       "         32.19800864,   25.04754475,   58.04949967,   62.63342587,\n",
       "         45.86551398,   60.35549502,   28.23482047,   29.75245153,\n",
       "         51.78030049, -200.32933022,   59.94644847,   63.16932415,\n",
       "         61.95792504,   43.33876833,   55.56606435,   38.71044468,\n",
       "         61.2871853 ,   58.28911846,   36.31092863,   54.85063379,\n",
       "         39.82150587,   47.59116462,   43.93742744,   43.56388348,\n",
       "         48.00628235,   56.12727656,   48.49865626,   26.66992133,\n",
       "         76.32796989,   56.95126349,   30.89844414,   57.49867015,\n",
       "         53.46141687,   60.5932742 ,   59.52623533,   61.43073334,\n",
       "         55.91795154,   13.13708182,   61.9842172 ,   59.21185455,\n",
       "         20.05322888,   72.8263919 ,   63.51875729,   61.02990428,\n",
       "         55.28466049,   52.22338038,    7.84958527,   15.91184865,\n",
       "       -204.3108398 ,   53.750644  ,   43.51963443,   19.71537118,\n",
       "         57.93350682,   17.75650412,   56.2044211 ,   48.80983987,\n",
       "         67.08954707,   18.68221119,   44.96241377,   41.45656683,\n",
       "         52.22756808,   71.88391308,   63.83111022,   48.82109597,\n",
       "         42.59020675,   56.31155821,   52.3319927 ,   74.0585762 ,\n",
       "         52.02599936,   51.62565597,   55.70183847,   68.28785951,\n",
       "         23.54124117,   59.99424432,   40.34667555,   13.07884482,\n",
       "         55.87761537,   49.90268416,   43.45170484,   42.23609569,\n",
       "         44.03667937,   30.49564877,   56.64701487,   63.60069653,\n",
       "         52.87274789,   63.76155532,   45.82188397,   23.29459597,\n",
       "         36.77684303,   56.09661079,   17.6738429 ,   48.10259463,\n",
       "         70.16394989,   65.04857422,   18.94894656,   48.85592892,\n",
       "         49.97738299,   51.18820625,   40.85036545,   56.64464675,\n",
       "         21.0662951 ,   66.25794456,   27.85257853,   52.59688227,\n",
       "         62.4184133 ,   49.86870194,   50.37467166,   20.70065437,\n",
       "         35.26791746,   60.13749497,   63.00244701,   78.82775125,\n",
       "          1.92244616,   39.61377653,   76.73733302,   51.99020845,\n",
       "         46.69268054,   16.99847923,   42.49153423,   24.2465293 ,\n",
       "         61.63715846,   56.51735295,   59.51099003,   68.47570377,\n",
       "         58.40187229,   35.74645621,   50.70107734,   72.45892372,\n",
       "         24.54811694,   28.00646467,   62.27665584,   37.35629861,\n",
       "         55.86064272,   29.87557056,   60.88113867,   74.55787986,\n",
       "         56.78767578,   61.34750262,   76.6296512 ,   59.33845152,\n",
       "         54.65006755,   46.20293175,   77.81849159,   43.7829776 ,\n",
       "         45.40096436,   53.53893899,   56.50052987,   66.17249755,\n",
       "         72.99472922,   77.02217866,   69.80842128, -203.63047705,\n",
       "         25.40085291,   54.36359888,   57.08659118,   59.979845  ,\n",
       "         60.39082657,   49.3434882 ,   59.32177401,   51.1475692 ,\n",
       "         37.01082836,   48.04048043,   55.76620747,   17.26600072,\n",
       "         74.66573896,   64.97861759,   53.58911257,   40.6669037 ,\n",
       "         66.32463926,   54.39966818,   47.87196524,   50.39120544,\n",
       "         64.79273774,   69.51557585,   61.78086095,   54.75299754,\n",
       "       -182.85635079,   68.97855907,   67.46544165,   39.94479699,\n",
       "         55.29563012,   57.66555086,   54.33577635,   61.91588343,\n",
       "         23.27825384,   15.82981511,   63.07793694,   24.56302755,\n",
       "         45.37858019,   38.11062417,   66.03353765,   49.15139532,\n",
       "         35.22153725,   52.9231152 ,   50.59156335,   55.40735942,\n",
       "         46.16071842,   55.68612108,   42.17976094,   63.13597871,\n",
       "         55.46123517,   63.77440415,   59.74805603,   47.3151746 ,\n",
       "         52.05993219,   34.16331412,   53.23726103,   23.99911855,\n",
       "         19.53177179,   39.85082948,   53.70838417,   57.50531442,\n",
       "         36.13259242,   49.26971619,   35.25737571,   48.94033828,\n",
       "         52.06071267,   15.19628108,   52.79728983,   43.58410473,\n",
       "         44.66377429,   11.45172459, -204.09222572,   10.08444085,\n",
       "         10.38946162,   72.33602477,   43.1136195 ,   42.46565035,\n",
       "         51.13894491,   61.03621589,   26.06975004,   65.26570113,\n",
       "         41.19425009,   56.33692468,   19.93566691,   37.48919134,\n",
       "         21.96015966,   51.51933006,   62.06017269,   38.69759395,\n",
       "         60.61513654,   47.58804494,   12.01715899,    9.21231179,\n",
       "       -206.02570123,   59.39763824,    4.25488029,   57.82119249,\n",
       "         73.18937441,   58.18997306,    6.73261637,   59.43268387,\n",
       "         39.40622218,   64.76996945,   57.83288894,   44.72549478,\n",
       "         28.69671337,   60.43670625,   36.24740614,   55.06066979,\n",
       "         58.80229556, -204.20481081,   54.39862983,   45.62114531,\n",
       "         63.53248202,   27.21088142,   59.26930198,   61.01279182,\n",
       "         55.86684816, -179.75331912,   60.40941678,   52.89395685,\n",
       "         55.04682026,   36.2807713 ,   35.85925277,   57.11195782,\n",
       "         60.51620247,   64.97574549,   62.60991597,   50.66688951,\n",
       "         46.78575981,   17.99719931,   57.48792411,   64.60483366,\n",
       "         64.12887168,   58.06660052,   56.52181502,   60.36711358,\n",
       "         40.02299988,   55.82815068,   57.7206315 ,   49.89413517,\n",
       "         61.25998408,   53.59758956,   -5.62382148,   67.26148428,\n",
       "         53.63680243,   59.09396326,   48.95388352,   62.49330683,\n",
       "         59.55707   ,   72.19947297,   50.62307579,   63.33300012,\n",
       "         47.3917721 ,   59.06895443,   47.81199314,   26.1831383 ,\n",
       "         60.82490916,   62.55407568,   51.7315117 ,   48.58613737,\n",
       "         49.00308824,   63.13097597,   66.92137522,   64.1020675 ,\n",
       "         60.98775165,   11.23440111,   18.51149722,   65.51455306,\n",
       "         57.89286948,   29.97429547, -204.50253575,   59.19930964,\n",
       "         57.37866616,   72.08043821,   16.57176631,   40.17284422,\n",
       "         64.70334992,   23.24734823,   56.58378043,   63.27506157,\n",
       "         44.51658284,   57.85410692,   17.92599652, -200.79936904,\n",
       "         62.36734164,   42.51202119,   58.09037466,   42.67915044,\n",
       "         57.5848889 ,   64.87814764,   65.48010549,   38.24484353,\n",
       "         49.00633352,   61.23556227,   47.06851947,   54.36172526,\n",
       "         51.27759819,   33.16495773,   47.7284818 ,   50.83455276,\n",
       "         33.1059667 ,   40.86937755,   60.51307915,   67.7283566 ,\n",
       "         28.30536378,   57.6705015 ,   31.70709192,   49.82611273,\n",
       "         54.65217539,   42.50909201,   66.14252172,   45.67879062,\n",
       "         56.81558068,   57.72006628,   48.8875588 ,   39.33685342,\n",
       "         23.98830122,   66.44468918,   50.57825387,   65.86728108,\n",
       "         42.6605103 ,   53.94326127,   82.22076596,   67.70299634,\n",
       "         22.34706571,   66.59037092,   53.18231028,   64.46656803,\n",
       "         15.24277178,   49.2540133 ,   32.89549953,   42.85890852,\n",
       "          1.6913651 ,    7.49533403,   46.74098901,   48.77740657,\n",
       "         60.01534138,   36.51443007,    9.90602652,   50.12175091,\n",
       "         20.07003075, -197.38388567,   65.20340301,   61.60823316,\n",
       "         50.76826478,   48.02960633,   52.48950924,   39.81340448,\n",
       "         31.19089112,   27.59122486,   59.50819381,   63.98754923,\n",
       "         14.91251469,   39.95096263,   17.46449484,   60.85008128,\n",
       "          0.97454024, -211.98421577,   66.0914984 ,   54.55465195,\n",
       "         66.2128215 ,   70.41156694,    5.18458284, -198.47316751,\n",
       "          4.03358671,   21.65273165,   34.02793551,   52.30298001,\n",
       "         45.52759673,   62.41217998,   72.50199064,   66.3133247 ,\n",
       "         57.30116444,   32.26264453,   26.6138087 ,   42.96128706,\n",
       "         57.90243989,   40.36904488,   69.17054214,   66.60064844,\n",
       "         64.12698698,   51.01087132,    5.22375082,   53.14956678,\n",
       "         27.80921211,   68.40428232, -206.85324711,   45.20420159,\n",
       "         76.59509162,   46.93867929,   61.82936967,   68.20870465,\n",
       "         56.60879979,    4.11295674,   63.58932929,   56.94064766,\n",
       "         70.67842546,   50.49058371,   57.39606142,   55.77511064,\n",
       "         48.44487663,   61.80246119,   10.96668037,   49.83758543,\n",
       "         50.70767854,   49.97178373,   62.21382988,   74.77387539,\n",
       "         35.67515957,   54.64651423,   41.95178656,   57.72435155,\n",
       "         52.92764009,   36.00088227,   38.57725352,   54.24179402,\n",
       "         48.93409151,   47.00889078,   48.79338745,   62.98516924,\n",
       "         59.81443289,   48.86773829,   65.30648516,   59.64179517,\n",
       "         41.30353931,   63.9863271 ,   58.94499565,   22.61651023,\n",
       "         55.32611222,   59.06724603,   69.17991499,   59.63483541,\n",
       "         23.00125695,   32.09944685,   70.43417009,   46.46425327,\n",
       "         63.99561182,   47.84023702,   49.78112935,   47.77805803,\n",
       "         18.98074652,   63.65755454,   48.91491157,   61.93636154,\n",
       "         45.87802798,   75.95663279,   53.50536849,   51.7992882 ,\n",
       "         39.83695238,   40.91287608,   38.73726634,   48.44670163,\n",
       "         36.2254582 ,   56.63892376,   61.67531696,   28.68360773,\n",
       "         52.95475053,   45.8213735 ,   66.99196573,   41.68719368,\n",
       "         39.08318122,   50.08087188,   25.49134114,   58.72644286,\n",
       "         56.11731246,   41.33221204,   69.11567445,   37.61991243,\n",
       "         69.02474362,   26.69269009,   64.26121071,   52.25960394,\n",
       "         52.61112743,   48.75570782,   48.75301544,   34.48309534,\n",
       "         63.56334827,   45.63419664,   59.27737828,   67.53343719,\n",
       "       -208.96676115,   62.80225718,   60.26349185,   51.32213831,\n",
       "         63.19518429,   48.38380771,   31.31166334,   44.59951806,\n",
       "       -211.82716179,   43.66955843,   74.28835805,   45.88470535,\n",
       "       -183.33760443,   19.38931202,   48.73087145,   46.97153333,\n",
       "         62.45377005, -196.29460382,   41.50291768,   43.12745321,\n",
       "         54.35744597,   48.80494013,   41.53190902,   22.62691513,\n",
       "         63.36316189,   60.76926561,   30.95919315,   47.25522229,\n",
       "         63.16329554,   72.55930864,   60.59838858,   51.52804352,\n",
       "         48.7329229 ,   54.27727349,   15.95556958,   50.87804053,\n",
       "         63.66005972,   45.3068655 ,   52.2394475 ,   70.78959708,\n",
       "         15.14774906,   61.4420472 ,   54.12170452,   39.55514417,\n",
       "         41.7161652 ,   54.33439818,   48.57519806,   19.49987022,\n",
       "         45.3476545 ,   58.38193101,   55.42501614,   39.17048424,\n",
       "         28.99881995,   56.71909124,   44.10774514,   77.09736386,\n",
       "         67.5654328 ,   47.17931287,   13.21452148,   46.62498141,\n",
       "         31.08793104,   19.59471972,   38.60922288,   35.06646747,\n",
       "         27.3262683 ,   30.76724849,   35.8456358 ,   65.28475555,\n",
       "         61.11579272,   52.70460892,   21.00006227, -182.22983905,\n",
       "         33.68701634,   14.39336235,   54.3033554 ,   47.28159666,\n",
       "         46.33244864,   37.73080901,   43.75717558,   41.52820633,\n",
       "         50.46270202,   53.6287082 ,   50.98497555,   64.55087271,\n",
       "         39.78503805,   67.87657281,   42.20512016,   57.59731024,\n",
       "         50.00909598,   62.89411556,   51.92368203,   58.31082428,\n",
       "         64.24325939,   55.29643904,   55.31252617,   57.2820404 ,\n",
       "       -203.67662047,   47.51260089,   27.24402743,   60.59513216,\n",
       "         69.03034156, -199.33971413,   42.69912996,   52.75266399,\n",
       "         52.34373397,   49.90091409,   47.52803241,   66.71281929,\n",
       "         54.3733422 ,   69.86039692,   62.4074497 ,   64.74770805,\n",
       "         59.87854108,   64.51356488,   45.47168302,   56.99545832,\n",
       "         30.32653904,   27.24696733,   58.29851264,   72.00842662,\n",
       "         53.05915104,   39.99512086,   51.15836428,   51.42718546,\n",
       "         56.26314073,   44.78502851,   39.28907601,   48.86358375,\n",
       "         30.85752624,   66.86870826,   53.53145501,   64.41687542,\n",
       "         50.1090303 ,   39.3895364 ,   36.86930597,   57.37858062])"
      ]
     },
     "execution_count": 38,
     "metadata": {},
     "output_type": "execute_result"
    }
   ],
   "source": [
    "y_Pred2 #prediction using Normal Equation"
   ]
  }
 ],
 "metadata": {
  "kernelspec": {
   "display_name": "Python 3 (ipykernel)",
   "language": "python",
   "name": "python3"
  },
  "language_info": {
   "codemirror_mode": {
    "name": "ipython",
    "version": 3
   },
   "file_extension": ".py",
   "mimetype": "text/x-python",
   "name": "python",
   "nbconvert_exporter": "python",
   "pygments_lexer": "ipython3",
   "version": "3.9.12"
  }
 },
 "nbformat": 4,
 "nbformat_minor": 5
}
