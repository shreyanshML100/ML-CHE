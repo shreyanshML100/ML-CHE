{
 "cells": [
  {
   "cell_type": "code",
   "execution_count": 1,
   "id": "465a041e",
   "metadata": {},
   "outputs": [],
   "source": [
    "import numpy as np\n",
    "import pandas as pd\n",
    "import tensorflow as tf\n",
    "from sklearn.linear_model import LinearRegression\n",
    "from sklearn.model_selection import train_test_split\n",
    "import keras\n",
    "import keras_preprocessing\n",
    "from sklearn.preprocessing import StandardScaler\n",
    "from tensorflow.keras.losses import mean_squared_error"
   ]
  },
  {
   "cell_type": "code",
   "execution_count": 2,
   "id": "c4eb6318",
   "metadata": {},
   "outputs": [],
   "source": [
    "data = pd.read_excel(\"AirQualityUCI.xlsx\")"
   ]
  },
  {
   "cell_type": "code",
   "execution_count": 3,
   "id": "e946a758",
   "metadata": {},
   "outputs": [
    {
     "data": {
      "text/html": [
       "<div>\n",
       "<style scoped>\n",
       "    .dataframe tbody tr th:only-of-type {\n",
       "        vertical-align: middle;\n",
       "    }\n",
       "\n",
       "    .dataframe tbody tr th {\n",
       "        vertical-align: top;\n",
       "    }\n",
       "\n",
       "    .dataframe thead th {\n",
       "        text-align: right;\n",
       "    }\n",
       "</style>\n",
       "<table border=\"1\" class=\"dataframe\">\n",
       "  <thead>\n",
       "    <tr style=\"text-align: right;\">\n",
       "      <th></th>\n",
       "      <th>Date</th>\n",
       "      <th>Time</th>\n",
       "      <th>CO(GT)</th>\n",
       "      <th>PT08.S1(CO)</th>\n",
       "      <th>NMHC(GT)</th>\n",
       "      <th>C6H6(GT)</th>\n",
       "      <th>PT08.S2(NMHC)</th>\n",
       "      <th>NOx(GT)</th>\n",
       "      <th>PT08.S3(NOx)</th>\n",
       "      <th>NO2(GT)</th>\n",
       "      <th>PT08.S4(NO2)</th>\n",
       "      <th>PT08.S5(O3)</th>\n",
       "      <th>T</th>\n",
       "      <th>RH</th>\n",
       "      <th>AH</th>\n",
       "    </tr>\n",
       "  </thead>\n",
       "  <tbody>\n",
       "    <tr>\n",
       "      <th>0</th>\n",
       "      <td>2004-03-10</td>\n",
       "      <td>18:00:00</td>\n",
       "      <td>2.6</td>\n",
       "      <td>1360.00</td>\n",
       "      <td>150</td>\n",
       "      <td>11.881723</td>\n",
       "      <td>1045.50</td>\n",
       "      <td>166.0</td>\n",
       "      <td>1056.25</td>\n",
       "      <td>113.0</td>\n",
       "      <td>1692.00</td>\n",
       "      <td>1267.50</td>\n",
       "      <td>13.60</td>\n",
       "      <td>48.875001</td>\n",
       "      <td>0.757754</td>\n",
       "    </tr>\n",
       "    <tr>\n",
       "      <th>1</th>\n",
       "      <td>2004-03-10</td>\n",
       "      <td>19:00:00</td>\n",
       "      <td>2.0</td>\n",
       "      <td>1292.25</td>\n",
       "      <td>112</td>\n",
       "      <td>9.397165</td>\n",
       "      <td>954.75</td>\n",
       "      <td>103.0</td>\n",
       "      <td>1173.75</td>\n",
       "      <td>92.0</td>\n",
       "      <td>1558.75</td>\n",
       "      <td>972.25</td>\n",
       "      <td>13.30</td>\n",
       "      <td>47.700000</td>\n",
       "      <td>0.725487</td>\n",
       "    </tr>\n",
       "    <tr>\n",
       "      <th>2</th>\n",
       "      <td>2004-03-10</td>\n",
       "      <td>20:00:00</td>\n",
       "      <td>2.2</td>\n",
       "      <td>1402.00</td>\n",
       "      <td>88</td>\n",
       "      <td>8.997817</td>\n",
       "      <td>939.25</td>\n",
       "      <td>131.0</td>\n",
       "      <td>1140.00</td>\n",
       "      <td>114.0</td>\n",
       "      <td>1554.50</td>\n",
       "      <td>1074.00</td>\n",
       "      <td>11.90</td>\n",
       "      <td>53.975000</td>\n",
       "      <td>0.750239</td>\n",
       "    </tr>\n",
       "    <tr>\n",
       "      <th>3</th>\n",
       "      <td>2004-03-10</td>\n",
       "      <td>21:00:00</td>\n",
       "      <td>2.2</td>\n",
       "      <td>1375.50</td>\n",
       "      <td>80</td>\n",
       "      <td>9.228796</td>\n",
       "      <td>948.25</td>\n",
       "      <td>172.0</td>\n",
       "      <td>1092.00</td>\n",
       "      <td>122.0</td>\n",
       "      <td>1583.75</td>\n",
       "      <td>1203.25</td>\n",
       "      <td>11.00</td>\n",
       "      <td>60.000000</td>\n",
       "      <td>0.786713</td>\n",
       "    </tr>\n",
       "    <tr>\n",
       "      <th>4</th>\n",
       "      <td>2004-03-10</td>\n",
       "      <td>22:00:00</td>\n",
       "      <td>1.6</td>\n",
       "      <td>1272.25</td>\n",
       "      <td>51</td>\n",
       "      <td>6.518224</td>\n",
       "      <td>835.50</td>\n",
       "      <td>131.0</td>\n",
       "      <td>1205.00</td>\n",
       "      <td>116.0</td>\n",
       "      <td>1490.00</td>\n",
       "      <td>1110.00</td>\n",
       "      <td>11.15</td>\n",
       "      <td>59.575001</td>\n",
       "      <td>0.788794</td>\n",
       "    </tr>\n",
       "  </tbody>\n",
       "</table>\n",
       "</div>"
      ],
      "text/plain": [
       "        Date      Time  CO(GT)  PT08.S1(CO)  NMHC(GT)   C6H6(GT)  \\\n",
       "0 2004-03-10  18:00:00     2.6      1360.00       150  11.881723   \n",
       "1 2004-03-10  19:00:00     2.0      1292.25       112   9.397165   \n",
       "2 2004-03-10  20:00:00     2.2      1402.00        88   8.997817   \n",
       "3 2004-03-10  21:00:00     2.2      1375.50        80   9.228796   \n",
       "4 2004-03-10  22:00:00     1.6      1272.25        51   6.518224   \n",
       "\n",
       "   PT08.S2(NMHC)  NOx(GT)  PT08.S3(NOx)  NO2(GT)  PT08.S4(NO2)  PT08.S5(O3)  \\\n",
       "0        1045.50    166.0       1056.25    113.0       1692.00      1267.50   \n",
       "1         954.75    103.0       1173.75     92.0       1558.75       972.25   \n",
       "2         939.25    131.0       1140.00    114.0       1554.50      1074.00   \n",
       "3         948.25    172.0       1092.00    122.0       1583.75      1203.25   \n",
       "4         835.50    131.0       1205.00    116.0       1490.00      1110.00   \n",
       "\n",
       "       T         RH        AH  \n",
       "0  13.60  48.875001  0.757754  \n",
       "1  13.30  47.700000  0.725487  \n",
       "2  11.90  53.975000  0.750239  \n",
       "3  11.00  60.000000  0.786713  \n",
       "4  11.15  59.575001  0.788794  "
      ]
     },
     "execution_count": 3,
     "metadata": {},
     "output_type": "execute_result"
    }
   ],
   "source": [
    "data.head()"
   ]
  },
  {
   "cell_type": "code",
   "execution_count": 4,
   "id": "b82f2d68",
   "metadata": {},
   "outputs": [
    {
     "name": "stdout",
     "output_type": "stream",
     "text": [
      "<class 'pandas.core.frame.DataFrame'>\n",
      "RangeIndex: 9357 entries, 0 to 9356\n",
      "Data columns (total 15 columns):\n",
      " #   Column         Non-Null Count  Dtype         \n",
      "---  ------         --------------  -----         \n",
      " 0   Date           9357 non-null   datetime64[ns]\n",
      " 1   Time           9357 non-null   object        \n",
      " 2   CO(GT)         9357 non-null   float64       \n",
      " 3   PT08.S1(CO)    9357 non-null   float64       \n",
      " 4   NMHC(GT)       9357 non-null   int64         \n",
      " 5   C6H6(GT)       9357 non-null   float64       \n",
      " 6   PT08.S2(NMHC)  9357 non-null   float64       \n",
      " 7   NOx(GT)        9357 non-null   float64       \n",
      " 8   PT08.S3(NOx)   9357 non-null   float64       \n",
      " 9   NO2(GT)        9357 non-null   float64       \n",
      " 10  PT08.S4(NO2)   9357 non-null   float64       \n",
      " 11  PT08.S5(O3)    9357 non-null   float64       \n",
      " 12  T              9357 non-null   float64       \n",
      " 13  RH             9357 non-null   float64       \n",
      " 14  AH             9357 non-null   float64       \n",
      "dtypes: datetime64[ns](1), float64(12), int64(1), object(1)\n",
      "memory usage: 1.1+ MB\n"
     ]
    }
   ],
   "source": [
    "data.info()"
   ]
  },
  {
   "cell_type": "code",
   "execution_count": 5,
   "id": "e04e02af",
   "metadata": {},
   "outputs": [
    {
     "data": {
      "text/html": [
       "<div>\n",
       "<style scoped>\n",
       "    .dataframe tbody tr th:only-of-type {\n",
       "        vertical-align: middle;\n",
       "    }\n",
       "\n",
       "    .dataframe tbody tr th {\n",
       "        vertical-align: top;\n",
       "    }\n",
       "\n",
       "    .dataframe thead th {\n",
       "        text-align: right;\n",
       "    }\n",
       "</style>\n",
       "<table border=\"1\" class=\"dataframe\">\n",
       "  <thead>\n",
       "    <tr style=\"text-align: right;\">\n",
       "      <th></th>\n",
       "      <th>CO(GT)</th>\n",
       "      <th>PT08.S1(CO)</th>\n",
       "      <th>NMHC(GT)</th>\n",
       "      <th>C6H6(GT)</th>\n",
       "      <th>PT08.S2(NMHC)</th>\n",
       "      <th>NOx(GT)</th>\n",
       "      <th>PT08.S3(NOx)</th>\n",
       "      <th>NO2(GT)</th>\n",
       "      <th>PT08.S4(NO2)</th>\n",
       "      <th>PT08.S5(O3)</th>\n",
       "      <th>T</th>\n",
       "      <th>RH</th>\n",
       "      <th>AH</th>\n",
       "    </tr>\n",
       "  </thead>\n",
       "  <tbody>\n",
       "    <tr>\n",
       "      <th>0</th>\n",
       "      <td>2.6</td>\n",
       "      <td>1360.00</td>\n",
       "      <td>150</td>\n",
       "      <td>11.881723</td>\n",
       "      <td>1045.50</td>\n",
       "      <td>166.0</td>\n",
       "      <td>1056.25</td>\n",
       "      <td>113.0</td>\n",
       "      <td>1692.00</td>\n",
       "      <td>1267.50</td>\n",
       "      <td>13.60</td>\n",
       "      <td>48.875001</td>\n",
       "      <td>0.757754</td>\n",
       "    </tr>\n",
       "    <tr>\n",
       "      <th>1</th>\n",
       "      <td>2.0</td>\n",
       "      <td>1292.25</td>\n",
       "      <td>112</td>\n",
       "      <td>9.397165</td>\n",
       "      <td>954.75</td>\n",
       "      <td>103.0</td>\n",
       "      <td>1173.75</td>\n",
       "      <td>92.0</td>\n",
       "      <td>1558.75</td>\n",
       "      <td>972.25</td>\n",
       "      <td>13.30</td>\n",
       "      <td>47.700000</td>\n",
       "      <td>0.725487</td>\n",
       "    </tr>\n",
       "    <tr>\n",
       "      <th>2</th>\n",
       "      <td>2.2</td>\n",
       "      <td>1402.00</td>\n",
       "      <td>88</td>\n",
       "      <td>8.997817</td>\n",
       "      <td>939.25</td>\n",
       "      <td>131.0</td>\n",
       "      <td>1140.00</td>\n",
       "      <td>114.0</td>\n",
       "      <td>1554.50</td>\n",
       "      <td>1074.00</td>\n",
       "      <td>11.90</td>\n",
       "      <td>53.975000</td>\n",
       "      <td>0.750239</td>\n",
       "    </tr>\n",
       "    <tr>\n",
       "      <th>3</th>\n",
       "      <td>2.2</td>\n",
       "      <td>1375.50</td>\n",
       "      <td>80</td>\n",
       "      <td>9.228796</td>\n",
       "      <td>948.25</td>\n",
       "      <td>172.0</td>\n",
       "      <td>1092.00</td>\n",
       "      <td>122.0</td>\n",
       "      <td>1583.75</td>\n",
       "      <td>1203.25</td>\n",
       "      <td>11.00</td>\n",
       "      <td>60.000000</td>\n",
       "      <td>0.786713</td>\n",
       "    </tr>\n",
       "    <tr>\n",
       "      <th>4</th>\n",
       "      <td>1.6</td>\n",
       "      <td>1272.25</td>\n",
       "      <td>51</td>\n",
       "      <td>6.518224</td>\n",
       "      <td>835.50</td>\n",
       "      <td>131.0</td>\n",
       "      <td>1205.00</td>\n",
       "      <td>116.0</td>\n",
       "      <td>1490.00</td>\n",
       "      <td>1110.00</td>\n",
       "      <td>11.15</td>\n",
       "      <td>59.575001</td>\n",
       "      <td>0.788794</td>\n",
       "    </tr>\n",
       "  </tbody>\n",
       "</table>\n",
       "</div>"
      ],
      "text/plain": [
       "   CO(GT)  PT08.S1(CO)  NMHC(GT)   C6H6(GT)  PT08.S2(NMHC)  NOx(GT)  \\\n",
       "0     2.6      1360.00       150  11.881723        1045.50    166.0   \n",
       "1     2.0      1292.25       112   9.397165         954.75    103.0   \n",
       "2     2.2      1402.00        88   8.997817         939.25    131.0   \n",
       "3     2.2      1375.50        80   9.228796         948.25    172.0   \n",
       "4     1.6      1272.25        51   6.518224         835.50    131.0   \n",
       "\n",
       "   PT08.S3(NOx)  NO2(GT)  PT08.S4(NO2)  PT08.S5(O3)      T         RH  \\\n",
       "0       1056.25    113.0       1692.00      1267.50  13.60  48.875001   \n",
       "1       1173.75     92.0       1558.75       972.25  13.30  47.700000   \n",
       "2       1140.00    114.0       1554.50      1074.00  11.90  53.975000   \n",
       "3       1092.00    122.0       1583.75      1203.25  11.00  60.000000   \n",
       "4       1205.00    116.0       1490.00      1110.00  11.15  59.575001   \n",
       "\n",
       "         AH  \n",
       "0  0.757754  \n",
       "1  0.725487  \n",
       "2  0.750239  \n",
       "3  0.786713  \n",
       "4  0.788794  "
      ]
     },
     "execution_count": 5,
     "metadata": {},
     "output_type": "execute_result"
    }
   ],
   "source": [
    "data['Date']=pd.to_datetime(data['Date'],format=' %y-%m-%d')\n",
    "data=data.drop('Time', axis=1)\n",
    "data=data.drop('Date',axis=1)\n",
    "#data['Month']=data['Date'].dt.month_name()\n",
    "#data['Time'] = pd.to_datetime(data['Time'],format= '%H:%M:%S').dt.hour\n",
    "data.head()"
   ]
  },
  {
   "cell_type": "code",
   "execution_count": 6,
   "id": "2bf8bb0a",
   "metadata": {},
   "outputs": [
    {
     "data": {
      "text/plain": [
       "CO(GT)           0\n",
       "PT08.S1(CO)      0\n",
       "NMHC(GT)         0\n",
       "C6H6(GT)         0\n",
       "PT08.S2(NMHC)    0\n",
       "NOx(GT)          0\n",
       "PT08.S3(NOx)     0\n",
       "NO2(GT)          0\n",
       "PT08.S4(NO2)     0\n",
       "PT08.S5(O3)      0\n",
       "T                0\n",
       "RH               0\n",
       "AH               0\n",
       "dtype: int64"
      ]
     },
     "execution_count": 6,
     "metadata": {},
     "output_type": "execute_result"
    }
   ],
   "source": [
    "data.isnull().sum()"
   ]
  },
  {
   "cell_type": "code",
   "execution_count": 7,
   "id": "28db4bc7",
   "metadata": {},
   "outputs": [],
   "source": [
    "col_=data.columns.tolist()[1:]\n",
    "X=data[col_].drop('RH',axis=1)\n",
    "#X=data[col_].drop('Month',axis=1)\n",
    "#X=data[col_].drop('Time',axis=1)\n",
    "\n",
    "y=data['RH'] \n",
    "ss_x = StandardScaler()\n",
    "X=ss_x.fit_transform(X) \n",
    "#y=ss_x.fit_transform(y)"
   ]
  },
  {
   "cell_type": "code",
   "execution_count": 8,
   "id": "7ddb75d7",
   "metadata": {},
   "outputs": [],
   "source": [
    "X_train, X_test, y_train, y_test = train_test_split(\n",
    "    X, y, test_size=0.20, random_state=0,shuffle=False)"
   ]
  },
  {
   "cell_type": "code",
   "execution_count": 9,
   "id": "916f1b4f",
   "metadata": {},
   "outputs": [],
   "source": [
    "#col_=data.columns.tolist()[1:]\n",
    "#X_train=data[col_].drop(['RH'],axis=1)\n",
    "#X_train=data[col_].drop('Month',axis=1)\n",
    "#X_test=data[col_].drop(['RH'],axis=1)\n",
    "#X_test=data[col_].drop('Month',axis=1)\n",
    "\n",
    "X_train\n",
    "Xt=X_train\n",
    "yt=y_train"
   ]
  },
  {
   "cell_type": "code",
   "execution_count": 10,
   "id": "33a99f7f",
   "metadata": {},
   "outputs": [
    {
     "data": {
      "text/plain": [
       "0       48.875001\n",
       "1       47.700000\n",
       "2       53.975000\n",
       "3       60.000000\n",
       "4       59.575001\n",
       "          ...    \n",
       "7480    39.525000\n",
       "7481    34.375001\n",
       "7482    33.350001\n",
       "7483    30.775000\n",
       "7484    31.975000\n",
       "Name: RH, Length: 7485, dtype: float64"
      ]
     },
     "execution_count": 10,
     "metadata": {},
     "output_type": "execute_result"
    }
   ],
   "source": [
    "y_train"
   ]
  },
  {
   "cell_type": "code",
   "execution_count": 11,
   "id": "da27dd4d",
   "metadata": {},
   "outputs": [
    {
     "name": "stdout",
     "output_type": "stream",
     "text": [
      "train_x_orig shape: (7485, 11)\n",
      "train_y shape: (7485,)\n",
      "test_x_orig shape: (1872, 11)\n",
      "test_y shape: (1872,)\n"
     ]
    }
   ],
   "source": [
    "print (\"train_x_orig shape: \" + str(X_train.shape))\n",
    "print (\"train_y shape: \" + str(y_train.shape))\n",
    "print (\"test_x_orig shape: \" + str(X_test.shape))\n",
    "print (\"test_y shape: \" + str(y_test.shape))"
   ]
  },
  {
   "cell_type": "code",
   "execution_count": 12,
   "id": "7856060a",
   "metadata": {},
   "outputs": [],
   "source": [
    "#X_test=tf.data.Dataset.from_tensor_slices(dict(X_test))\n",
    "#X_train=tf.data.Dataset.from_tensor_slices(dict(X_train))\n",
    "#y_test=tf.data.Dataset.from_tensor_slices(dict(y_test))\n",
    "#y_train=tf.data.Dataset.from_tensor_slices(dict(y_train))"
   ]
  },
  {
   "cell_type": "markdown",
   "id": "84451140",
   "metadata": {},
   "source": [
    "## Neural network 1 layers=3 nodes = 64->16->1"
   ]
  },
  {
   "cell_type": "code",
   "execution_count": 13,
   "id": "1b099305",
   "metadata": {},
   "outputs": [],
   "source": [
    "model = tf.keras.Sequential([\n",
    "    tf.keras.Input(shape=(11,)),\n",
    "    keras.layers.Dense(units=64, activation='relu'),\n",
    "    keras.layers.Dense(units=16, activation='relu'),\n",
    "    keras.layers.Dense(units=1, activation='linear')\n",
    "     ])"
   ]
  },
  {
   "cell_type": "code",
   "execution_count": 14,
   "id": "e2195b59",
   "metadata": {},
   "outputs": [],
   "source": [
    "model.compile(optimizer='adam',\n",
    "              loss='tf.keras.losses.mean_squared_error')"
   ]
  },
  {
   "cell_type": "code",
   "execution_count": 15,
   "id": "61fe5c3c",
   "metadata": {},
   "outputs": [
    {
     "name": "stdout",
     "output_type": "stream",
     "text": [
      "Model: \"sequential\"\n",
      "_________________________________________________________________\n",
      " Layer (type)                Output Shape              Param #   \n",
      "=================================================================\n",
      " dense (Dense)               (None, 64)                768       \n",
      "                                                                 \n",
      " dense_1 (Dense)             (None, 16)                1040      \n",
      "                                                                 \n",
      " dense_2 (Dense)             (None, 1)                 17        \n",
      "                                                                 \n",
      "=================================================================\n",
      "Total params: 1,825\n",
      "Trainable params: 1,825\n",
      "Non-trainable params: 0\n",
      "_________________________________________________________________\n"
     ]
    }
   ],
   "source": [
    "model.summary()"
   ]
  },
  {
   "cell_type": "code",
   "execution_count": 16,
   "id": "cb5d5be9",
   "metadata": {},
   "outputs": [],
   "source": [
    "model.compile(optimizer='adam',\n",
    "             loss=tf.keras.losses.mean_squared_error)"
   ]
  },
  {
   "cell_type": "code",
   "execution_count": 17,
   "id": "2f46f296",
   "metadata": {},
   "outputs": [
    {
     "name": "stdout",
     "output_type": "stream",
     "text": [
      "Epoch 1/50\n",
      "234/234 [==============================] - 8s 3ms/step - loss: 2978.4463\n",
      "Epoch 2/50\n",
      "234/234 [==============================] - 2s 8ms/step - loss: 637.2844\n",
      "Epoch 3/50\n",
      "234/234 [==============================] - 1s 3ms/step - loss: 283.2444\n",
      "Epoch 4/50\n",
      "234/234 [==============================] - 1s 3ms/step - loss: 177.8964\n",
      "Epoch 5/50\n",
      "234/234 [==============================] - 1s 4ms/step - loss: 113.6038\n",
      "Epoch 6/50\n",
      "234/234 [==============================] - 1s 3ms/step - loss: 77.4868\n",
      "Epoch 7/50\n",
      "234/234 [==============================] - 1s 3ms/step - loss: 59.6755\n",
      "Epoch 8/50\n",
      "234/234 [==============================] - 1s 3ms/step - loss: 50.2169\n",
      "Epoch 9/50\n",
      "234/234 [==============================] - 1s 4ms/step - loss: 44.2235\n",
      "Epoch 10/50\n",
      "234/234 [==============================] - 1s 4ms/step - loss: 40.4701\n",
      "Epoch 11/50\n",
      "234/234 [==============================] - 1s 3ms/step - loss: 37.4176\n",
      "Epoch 12/50\n",
      "234/234 [==============================] - 1s 3ms/step - loss: 35.3457\n",
      "Epoch 13/50\n",
      "234/234 [==============================] - 1s 3ms/step - loss: 33.4221\n",
      "Epoch 14/50\n",
      "234/234 [==============================] - 1s 3ms/step - loss: 31.9499\n",
      "Epoch 15/50\n",
      "234/234 [==============================] - 1s 4ms/step - loss: 30.5048\n",
      "Epoch 16/50\n",
      "234/234 [==============================] - 1s 3ms/step - loss: 29.2084\n",
      "Epoch 17/50\n",
      "234/234 [==============================] - 1s 3ms/step - loss: 28.5353\n",
      "Epoch 18/50\n",
      "234/234 [==============================] - 1s 3ms/step - loss: 27.4325\n",
      "Epoch 19/50\n",
      "234/234 [==============================] - 1s 3ms/step - loss: 26.5535\n",
      "Epoch 20/50\n",
      "234/234 [==============================] - 1s 4ms/step - loss: 26.1014\n",
      "Epoch 21/50\n",
      "234/234 [==============================] - 1s 5ms/step - loss: 25.1758\n",
      "Epoch 22/50\n",
      "234/234 [==============================] - 1s 5ms/step - loss: 24.5835\n",
      "Epoch 23/50\n",
      "234/234 [==============================] - 1s 5ms/step - loss: 24.0012\n",
      "Epoch 24/50\n",
      "234/234 [==============================] - 1s 5ms/step - loss: 23.5011\n",
      "Epoch 25/50\n",
      "234/234 [==============================] - 1s 4ms/step - loss: 23.0695\n",
      "Epoch 26/50\n",
      "234/234 [==============================] - 1s 3ms/step - loss: 22.6373\n",
      "Epoch 27/50\n",
      "234/234 [==============================] - 1s 4ms/step - loss: 22.2096\n",
      "Epoch 28/50\n",
      "234/234 [==============================] - 1s 4ms/step - loss: 21.9916\n",
      "Epoch 29/50\n",
      "234/234 [==============================] - 1s 4ms/step - loss: 21.6934\n",
      "Epoch 30/50\n",
      "234/234 [==============================] - 1s 4ms/step - loss: 21.2768\n",
      "Epoch 31/50\n",
      "234/234 [==============================] - 1s 4ms/step - loss: 21.0071\n",
      "Epoch 32/50\n",
      "234/234 [==============================] - 1s 4ms/step - loss: 20.6676\n",
      "Epoch 33/50\n",
      "234/234 [==============================] - 1s 3ms/step - loss: 20.3447\n",
      "Epoch 34/50\n",
      "234/234 [==============================] - 1s 2ms/step - loss: 20.4710\n",
      "Epoch 35/50\n",
      "234/234 [==============================] - 1s 2ms/step - loss: 19.7615\n",
      "Epoch 36/50\n",
      "234/234 [==============================] - 1s 3ms/step - loss: 19.7480\n",
      "Epoch 37/50\n",
      "234/234 [==============================] - 1s 3ms/step - loss: 19.5276\n",
      "Epoch 38/50\n",
      "234/234 [==============================] - 1s 4ms/step - loss: 19.3569\n",
      "Epoch 39/50\n",
      "234/234 [==============================] - 1s 4ms/step - loss: 18.9538\n",
      "Epoch 40/50\n",
      "234/234 [==============================] - 1s 4ms/step - loss: 18.9503\n",
      "Epoch 41/50\n",
      "234/234 [==============================] - 1s 3ms/step - loss: 18.7245\n",
      "Epoch 42/50\n",
      "234/234 [==============================] - 1s 3ms/step - loss: 18.6098\n",
      "Epoch 43/50\n",
      "234/234 [==============================] - 1s 4ms/step - loss: 18.2896\n",
      "Epoch 44/50\n",
      "234/234 [==============================] - 1s 4ms/step - loss: 18.0586\n",
      "Epoch 45/50\n",
      "234/234 [==============================] - 1s 3ms/step - loss: 18.0578\n",
      "Epoch 46/50\n",
      "234/234 [==============================] - 1s 4ms/step - loss: 17.8559\n",
      "Epoch 47/50\n",
      "234/234 [==============================] - 1s 3ms/step - loss: 17.8582\n",
      "Epoch 48/50\n",
      "234/234 [==============================] - 1s 4ms/step - loss: 17.5674\n",
      "Epoch 49/50\n",
      "234/234 [==============================] - 1s 3ms/step - loss: 17.9122\n",
      "Epoch 50/50\n",
      "234/234 [==============================] - 1s 3ms/step - loss: 17.4195\n"
     ]
    },
    {
     "data": {
      "text/plain": [
       "<keras.callbacks.History at 0x1e4632e0760>"
      ]
     },
     "execution_count": 17,
     "metadata": {},
     "output_type": "execute_result"
    }
   ],
   "source": [
    "model.fit(X_train,y_train, epochs=50)"
   ]
  },
  {
   "cell_type": "code",
   "execution_count": 18,
   "id": "f7dad719",
   "metadata": {},
   "outputs": [
    {
     "name": "stdout",
     "output_type": "stream",
     "text": [
      "59/59 [==============================] - 1s 3ms/step\n"
     ]
    }
   ],
   "source": [
    "y_predicted = model.predict(X_test)"
   ]
  },
  {
   "cell_type": "code",
   "execution_count": 19,
   "id": "a9f695b6",
   "metadata": {},
   "outputs": [
    {
     "name": "stdout",
     "output_type": "stream",
     "text": [
      "59/59 [==============================] - 1s 3ms/step - loss: 42.9411\n"
     ]
    },
    {
     "data": {
      "text/plain": [
       "42.941139221191406"
      ]
     },
     "execution_count": 19,
     "metadata": {},
     "output_type": "execute_result"
    }
   ],
   "source": [
    "model.evaluate(X_test, y_test)\n"
   ]
  },
  {
   "cell_type": "markdown",
   "id": "534afd41",
   "metadata": {},
   "source": [
    "## Neural network 2 layers=5 nodes = 16->8->4->2->1"
   ]
  },
  {
   "cell_type": "code",
   "execution_count": 20,
   "id": "da96a196",
   "metadata": {},
   "outputs": [],
   "source": [
    "model2 = tf.keras.Sequential([\n",
    "    tf.keras.Input(shape=(11,)),\n",
    "    keras.layers.Dense(units=16, activation='relu'),\n",
    "    keras.layers.Dense(units=8, activation='relu'),\n",
    "    keras.layers.Dense(units=4, activation='relu'),\n",
    "    keras.layers.Dense(units=2, activation='relu'),\n",
    "    keras.layers.Dense(units=1, activation='linear')\n",
    "     ])"
   ]
  },
  {
   "cell_type": "code",
   "execution_count": 21,
   "id": "000a5383",
   "metadata": {},
   "outputs": [
    {
     "name": "stdout",
     "output_type": "stream",
     "text": [
      "Model: \"sequential_1\"\n",
      "_________________________________________________________________\n",
      " Layer (type)                Output Shape              Param #   \n",
      "=================================================================\n",
      " dense_3 (Dense)             (None, 16)                192       \n",
      "                                                                 \n",
      " dense_4 (Dense)             (None, 8)                 136       \n",
      "                                                                 \n",
      " dense_5 (Dense)             (None, 4)                 36        \n",
      "                                                                 \n",
      " dense_6 (Dense)             (None, 2)                 10        \n",
      "                                                                 \n",
      " dense_7 (Dense)             (None, 1)                 3         \n",
      "                                                                 \n",
      "=================================================================\n",
      "Total params: 377\n",
      "Trainable params: 377\n",
      "Non-trainable params: 0\n",
      "_________________________________________________________________\n"
     ]
    }
   ],
   "source": [
    "model2.compile(optimizer='adam',\n",
    "              loss='tf.keras.losses.mean_squared_error')\n",
    "model2.summary()"
   ]
  },
  {
   "cell_type": "code",
   "execution_count": 22,
   "id": "9a32b710",
   "metadata": {},
   "outputs": [],
   "source": [
    "model2.compile(optimizer='adam',\n",
    "             loss=tf.keras.losses.mean_squared_error)"
   ]
  },
  {
   "cell_type": "code",
   "execution_count": 23,
   "id": "269d5125",
   "metadata": {},
   "outputs": [
    {
     "name": "stdout",
     "output_type": "stream",
     "text": [
      "Epoch 1/50\n",
      "234/234 [==============================] - 4s 4ms/step - loss: 3702.9028\n",
      "Epoch 2/50\n",
      "234/234 [==============================] - 1s 4ms/step - loss: 2051.1772\n",
      "Epoch 3/50\n",
      "234/234 [==============================] - 1s 5ms/step - loss: 1849.0739\n",
      "Epoch 4/50\n",
      "234/234 [==============================] - 1s 5ms/step - loss: 1750.3224\n",
      "Epoch 5/50\n",
      "234/234 [==============================] - 1s 4ms/step - loss: 1675.9307\n",
      "Epoch 6/50\n",
      "234/234 [==============================] - 1s 3ms/step - loss: 1618.7488\n",
      "Epoch 7/50\n",
      "234/234 [==============================] - 1s 3ms/step - loss: 1581.7593\n",
      "Epoch 8/50\n",
      "234/234 [==============================] - 1s 3ms/step - loss: 1561.9539\n",
      "Epoch 9/50\n",
      "234/234 [==============================] - 1s 3ms/step - loss: 1549.0808\n",
      "Epoch 10/50\n",
      "234/234 [==============================] - 1s 3ms/step - loss: 1539.4862\n",
      "Epoch 11/50\n",
      "234/234 [==============================] - 1s 3ms/step - loss: 1531.9594\n",
      "Epoch 12/50\n",
      "234/234 [==============================] - 1s 4ms/step - loss: 1525.7451\n",
      "Epoch 13/50\n",
      "234/234 [==============================] - 1s 4ms/step - loss: 1520.2382\n",
      "Epoch 14/50\n",
      "234/234 [==============================] - 1s 4ms/step - loss: 1515.5852\n",
      "Epoch 15/50\n",
      "234/234 [==============================] - 1s 4ms/step - loss: 1511.2112\n",
      "Epoch 16/50\n",
      "234/234 [==============================] - 1s 3ms/step - loss: 1506.3977\n",
      "Epoch 17/50\n",
      "234/234 [==============================] - 1s 3ms/step - loss: 1501.6552\n",
      "Epoch 18/50\n",
      "234/234 [==============================] - 1s 4ms/step - loss: 1497.4048\n",
      "Epoch 19/50\n",
      "234/234 [==============================] - 1s 3ms/step - loss: 1493.7577\n",
      "Epoch 20/50\n",
      "234/234 [==============================] - 1s 5ms/step - loss: 1489.9216\n",
      "Epoch 21/50\n",
      "234/234 [==============================] - 1s 5ms/step - loss: 1486.5804\n",
      "Epoch 22/50\n",
      "234/234 [==============================] - 1s 4ms/step - loss: 1483.3785\n",
      "Epoch 23/50\n",
      "234/234 [==============================] - 1s 4ms/step - loss: 1480.3383\n",
      "Epoch 24/50\n",
      "234/234 [==============================] - 1s 4ms/step - loss: 1477.3348\n",
      "Epoch 25/50\n",
      "234/234 [==============================] - 1s 4ms/step - loss: 1474.3485\n",
      "Epoch 26/50\n",
      "234/234 [==============================] - 1s 4ms/step - loss: 1471.4672\n",
      "Epoch 27/50\n",
      "234/234 [==============================] - 1s 4ms/step - loss: 1468.6460\n",
      "Epoch 28/50\n",
      "234/234 [==============================] - 1s 4ms/step - loss: 1465.6510\n",
      "Epoch 29/50\n",
      "234/234 [==============================] - 1s 3ms/step - loss: 1462.8190\n",
      "Epoch 30/50\n",
      "234/234 [==============================] - 1s 4ms/step - loss: 1460.3138\n",
      "Epoch 31/50\n",
      "234/234 [==============================] - 1s 3ms/step - loss: 1457.6007\n",
      "Epoch 32/50\n",
      "234/234 [==============================] - 1s 5ms/step - loss: 1454.7959\n",
      "Epoch 33/50\n",
      "234/234 [==============================] - 1s 4ms/step - loss: 1452.0297\n",
      "Epoch 34/50\n",
      "234/234 [==============================] - 1s 3ms/step - loss: 1449.2422\n",
      "Epoch 35/50\n",
      "234/234 [==============================] - 1s 3ms/step - loss: 1446.6315\n",
      "Epoch 36/50\n",
      "234/234 [==============================] - 1s 3ms/step - loss: 1443.8687\n",
      "Epoch 37/50\n",
      "234/234 [==============================] - 1s 5ms/step - loss: 1441.3655\n",
      "Epoch 38/50\n",
      "234/234 [==============================] - 1s 4ms/step - loss: 1438.5829\n",
      "Epoch 39/50\n",
      "234/234 [==============================] - 1s 4ms/step - loss: 1435.8525\n",
      "Epoch 40/50\n",
      "234/234 [==============================] - 1s 4ms/step - loss: 1433.2588\n",
      "Epoch 41/50\n",
      "234/234 [==============================] - 1s 3ms/step - loss: 1430.5593\n",
      "Epoch 42/50\n",
      "234/234 [==============================] - 1s 4ms/step - loss: 1427.7075\n",
      "Epoch 43/50\n",
      "234/234 [==============================] - 1s 4ms/step - loss: 1425.0911\n",
      "Epoch 44/50\n",
      "234/234 [==============================] - 1s 4ms/step - loss: 1422.3456\n",
      "Epoch 45/50\n",
      "234/234 [==============================] - 1s 5ms/step - loss: 1419.8193\n",
      "Epoch 46/50\n",
      "234/234 [==============================] - 1s 5ms/step - loss: 1417.3322\n",
      "Epoch 47/50\n",
      "234/234 [==============================] - 1s 5ms/step - loss: 1414.6530\n",
      "Epoch 48/50\n",
      "234/234 [==============================] - 1s 5ms/step - loss: 1411.9976\n",
      "Epoch 49/50\n",
      "234/234 [==============================] - 1s 4ms/step - loss: 1409.2317\n",
      "Epoch 50/50\n",
      "234/234 [==============================] - 1s 3ms/step - loss: 1406.7776\n"
     ]
    },
    {
     "data": {
      "text/plain": [
       "<keras.callbacks.History at 0x1e4631219a0>"
      ]
     },
     "execution_count": 23,
     "metadata": {},
     "output_type": "execute_result"
    }
   ],
   "source": [
    "model2.fit(Xt,yt,epochs=50)"
   ]
  },
  {
   "cell_type": "code",
   "execution_count": 24,
   "id": "31e5ef58",
   "metadata": {},
   "outputs": [
    {
     "name": "stdout",
     "output_type": "stream",
     "text": [
      "59/59 [==============================] - 0s 2ms/step - loss: 1743.6401\n"
     ]
    },
    {
     "data": {
      "text/plain": [
       "1743.64013671875"
      ]
     },
     "execution_count": 24,
     "metadata": {},
     "output_type": "execute_result"
    }
   ],
   "source": [
    "model2.evaluate(X_test, y_test)"
   ]
  },
  {
   "cell_type": "markdown",
   "id": "aa3b49ea",
   "metadata": {},
   "source": [
    "## Neural network 3 layers=2 nodes = 11->1"
   ]
  },
  {
   "cell_type": "code",
   "execution_count": 25,
   "id": "f3f27c84",
   "metadata": {},
   "outputs": [],
   "source": [
    "model3 = tf.keras.Sequential([\n",
    "    tf.keras.Input(shape=(11,)),\n",
    "    keras.layers.Dense(units=11, activation='relu'),\n",
    "    keras.layers.Dense(units=1, activation='linear')\n",
    "     ])"
   ]
  },
  {
   "cell_type": "code",
   "execution_count": 26,
   "id": "63c680c9",
   "metadata": {},
   "outputs": [
    {
     "name": "stdout",
     "output_type": "stream",
     "text": [
      "Model: \"sequential_2\"\n",
      "_________________________________________________________________\n",
      " Layer (type)                Output Shape              Param #   \n",
      "=================================================================\n",
      " dense_8 (Dense)             (None, 11)                132       \n",
      "                                                                 \n",
      " dense_9 (Dense)             (None, 1)                 12        \n",
      "                                                                 \n",
      "=================================================================\n",
      "Total params: 144\n",
      "Trainable params: 144\n",
      "Non-trainable params: 0\n",
      "_________________________________________________________________\n"
     ]
    }
   ],
   "source": [
    "model3.compile(optimizer='adam',\n",
    "              loss='tf.keras.losses.mean_squared_error')\n",
    "model3.summary()\n",
    "model3.compile(optimizer='adam',\n",
    "             loss=tf.keras.losses.mean_squared_error)"
   ]
  },
  {
   "cell_type": "code",
   "execution_count": 27,
   "id": "6976c798",
   "metadata": {},
   "outputs": [
    {
     "name": "stdout",
     "output_type": "stream",
     "text": [
      "Epoch 1/50\n",
      "234/234 [==============================] - 3s 3ms/step - loss: 3942.7156\n",
      "Epoch 2/50\n",
      "234/234 [==============================] - 1s 3ms/step - loss: 3354.7598\n",
      "Epoch 3/50\n",
      "234/234 [==============================] - 1s 3ms/step - loss: 2477.9949\n",
      "Epoch 4/50\n",
      "234/234 [==============================] - 1s 3ms/step - loss: 1666.6979\n",
      "Epoch 5/50\n",
      "234/234 [==============================] - 1s 3ms/step - loss: 1154.7847\n",
      "Epoch 6/50\n",
      "234/234 [==============================] - 1s 3ms/step - loss: 844.5345\n",
      "Epoch 7/50\n",
      "234/234 [==============================] - 1s 3ms/step - loss: 649.9659\n",
      "Epoch 8/50\n",
      "234/234 [==============================] - 1s 5ms/step - loss: 534.9609\n",
      "Epoch 9/50\n",
      "234/234 [==============================] - 2s 7ms/step - loss: 469.2784\n",
      "Epoch 10/50\n",
      "234/234 [==============================] - 2s 8ms/step - loss: 428.9550\n",
      "Epoch 11/50\n",
      "234/234 [==============================] - 1s 3ms/step - loss: 399.6040\n",
      "Epoch 12/50\n",
      "234/234 [==============================] - 1s 4ms/step - loss: 374.9016\n",
      "Epoch 13/50\n",
      "234/234 [==============================] - 1s 4ms/step - loss: 352.4062\n",
      "Epoch 14/50\n",
      "234/234 [==============================] - 1s 3ms/step - loss: 331.6086\n",
      "Epoch 15/50\n",
      "234/234 [==============================] - 1s 4ms/step - loss: 312.0304\n",
      "Epoch 16/50\n",
      "234/234 [==============================] - 1s 4ms/step - loss: 293.5627\n",
      "Epoch 17/50\n",
      "234/234 [==============================] - 1s 4ms/step - loss: 276.1922\n",
      "Epoch 18/50\n",
      "234/234 [==============================] - 1s 4ms/step - loss: 259.9280\n",
      "Epoch 19/50\n",
      "234/234 [==============================] - 1s 4ms/step - loss: 244.3524\n",
      "Epoch 20/50\n",
      "234/234 [==============================] - 1s 4ms/step - loss: 229.5633\n",
      "Epoch 21/50\n",
      "234/234 [==============================] - 1s 5ms/step - loss: 215.3605\n",
      "Epoch 22/50\n",
      "234/234 [==============================] - 1s 5ms/step - loss: 201.7748\n",
      "Epoch 23/50\n",
      "234/234 [==============================] - 1s 4ms/step - loss: 188.8305\n",
      "Epoch 24/50\n",
      "234/234 [==============================] - 1s 4ms/step - loss: 176.4063\n",
      "Epoch 25/50\n",
      "234/234 [==============================] - 1s 4ms/step - loss: 164.4576\n",
      "Epoch 26/50\n",
      "234/234 [==============================] - 1s 3ms/step - loss: 152.9168\n",
      "Epoch 27/50\n",
      "234/234 [==============================] - 1s 4ms/step - loss: 142.1982\n",
      "Epoch 28/50\n",
      "234/234 [==============================] - 1s 3ms/step - loss: 132.1565\n",
      "Epoch 29/50\n",
      "234/234 [==============================] - 1s 3ms/step - loss: 122.7660\n",
      "Epoch 30/50\n",
      "234/234 [==============================] - 1s 3ms/step - loss: 114.4553\n",
      "Epoch 31/50\n",
      "234/234 [==============================] - 1s 3ms/step - loss: 107.1823\n",
      "Epoch 32/50\n",
      "234/234 [==============================] - 1s 3ms/step - loss: 100.8516\n",
      "Epoch 33/50\n",
      "234/234 [==============================] - 1s 4ms/step - loss: 95.1913\n",
      "Epoch 34/50\n",
      "234/234 [==============================] - 1s 4ms/step - loss: 90.2149\n",
      "Epoch 35/50\n",
      "234/234 [==============================] - 1s 4ms/step - loss: 85.8090\n",
      "Epoch 36/50\n",
      "234/234 [==============================] - 1s 5ms/step - loss: 81.9272\n",
      "Epoch 37/50\n",
      "234/234 [==============================] - 1s 5ms/step - loss: 78.4983\n",
      "Epoch 38/50\n",
      "234/234 [==============================] - 1s 5ms/step - loss: 75.3112\n",
      "Epoch 39/50\n",
      "234/234 [==============================] - 1s 5ms/step - loss: 72.4999\n",
      "Epoch 40/50\n",
      "234/234 [==============================] - 1s 5ms/step - loss: 69.8663\n",
      "Epoch 41/50\n",
      "234/234 [==============================] - 1s 4ms/step - loss: 67.5020\n",
      "Epoch 42/50\n",
      "234/234 [==============================] - 1s 4ms/step - loss: 65.3532\n",
      "Epoch 43/50\n",
      "234/234 [==============================] - 1s 4ms/step - loss: 63.1379\n",
      "Epoch 44/50\n",
      "234/234 [==============================] - 1s 3ms/step - loss: 61.1903\n",
      "Epoch 45/50\n",
      "234/234 [==============================] - 1s 3ms/step - loss: 58.7433\n",
      "Epoch 46/50\n",
      "234/234 [==============================] - 1s 3ms/step - loss: 56.3008\n",
      "Epoch 47/50\n",
      "234/234 [==============================] - 1s 3ms/step - loss: 54.3181\n",
      "Epoch 48/50\n",
      "234/234 [==============================] - 1s 3ms/step - loss: 52.5702\n",
      "Epoch 49/50\n",
      "234/234 [==============================] - 1s 3ms/step - loss: 50.9863\n",
      "Epoch 50/50\n",
      "234/234 [==============================] - 1s 3ms/step - loss: 49.5331\n"
     ]
    },
    {
     "data": {
      "text/plain": [
       "<keras.callbacks.History at 0x1e467b744f0>"
      ]
     },
     "execution_count": 27,
     "metadata": {},
     "output_type": "execute_result"
    }
   ],
   "source": [
    "model3.fit(Xt,yt,epochs=50)"
   ]
  },
  {
   "cell_type": "code",
   "execution_count": 28,
   "id": "a1fc5e73",
   "metadata": {},
   "outputs": [
    {
     "name": "stdout",
     "output_type": "stream",
     "text": [
      "59/59 [==============================] - 1s 3ms/step - loss: 98.0958\n"
     ]
    },
    {
     "data": {
      "text/plain": [
       "98.09578704833984"
      ]
     },
     "execution_count": 28,
     "metadata": {},
     "output_type": "execute_result"
    }
   ],
   "source": [
    "model3.evaluate(X_test, y_test)"
   ]
  },
  {
   "cell_type": "markdown",
   "id": "968c78b3",
   "metadata": {},
   "source": [
    "## Neural network 4 layers = 6 nodes=128->64->32->16->8->1"
   ]
  },
  {
   "cell_type": "code",
   "execution_count": 29,
   "id": "01669957",
   "metadata": {},
   "outputs": [],
   "source": [
    "model4 = tf.keras.Sequential([\n",
    "    tf.keras.Input(shape=(11,)),\n",
    "    keras.layers.Dense(units=128, activation='relu'),\n",
    "    keras.layers.Dense(units=64, activation='relu'),\n",
    "    keras.layers.Dense(units=32, activation='relu'),\n",
    "    keras.layers.Dense(units=16, activation='relu'),\n",
    "        keras.layers.Dense(units=8, activation='relu'),\n",
    "    keras.layers.Dense(units=1, activation='linear')\n",
    "     ])"
   ]
  },
  {
   "cell_type": "code",
   "execution_count": 30,
   "id": "ea7cc5ca",
   "metadata": {},
   "outputs": [
    {
     "name": "stdout",
     "output_type": "stream",
     "text": [
      "Model: \"sequential_3\"\n",
      "_________________________________________________________________\n",
      " Layer (type)                Output Shape              Param #   \n",
      "=================================================================\n",
      " dense_10 (Dense)            (None, 128)               1536      \n",
      "                                                                 \n",
      " dense_11 (Dense)            (None, 64)                8256      \n",
      "                                                                 \n",
      " dense_12 (Dense)            (None, 32)                2080      \n",
      "                                                                 \n",
      " dense_13 (Dense)            (None, 16)                528       \n",
      "                                                                 \n",
      " dense_14 (Dense)            (None, 8)                 136       \n",
      "                                                                 \n",
      " dense_15 (Dense)            (None, 1)                 9         \n",
      "                                                                 \n",
      "=================================================================\n",
      "Total params: 12,545\n",
      "Trainable params: 12,545\n",
      "Non-trainable params: 0\n",
      "_________________________________________________________________\n"
     ]
    }
   ],
   "source": [
    "model4.compile(optimizer='adam',\n",
    "              loss='tf.keras.losses.mean_squared_error')\n",
    "model4.summary()\n",
    "model4.compile(optimizer='adam',\n",
    "             loss=tf.keras.losses.mean_squared_error)"
   ]
  },
  {
   "cell_type": "code",
   "execution_count": 31,
   "id": "d825e5ef",
   "metadata": {},
   "outputs": [
    {
     "name": "stdout",
     "output_type": "stream",
     "text": [
      "Epoch 1/50\n",
      "234/234 [==============================] - 5s 6ms/step - loss: 1278.5551\n",
      "Epoch 2/50\n",
      "234/234 [==============================] - 1s 4ms/step - loss: 111.9896\n",
      "Epoch 3/50\n",
      "234/234 [==============================] - 1s 5ms/step - loss: 45.2166\n",
      "Epoch 4/50\n",
      "234/234 [==============================] - 1s 4ms/step - loss: 31.8258\n",
      "Epoch 5/50\n",
      "234/234 [==============================] - 1s 3ms/step - loss: 27.5672\n",
      "Epoch 6/50\n",
      "234/234 [==============================] - 1s 5ms/step - loss: 24.9961\n",
      "Epoch 7/50\n",
      "234/234 [==============================] - 1s 4ms/step - loss: 24.3726\n",
      "Epoch 8/50\n",
      "234/234 [==============================] - 1s 5ms/step - loss: 22.5559\n",
      "Epoch 9/50\n",
      "234/234 [==============================] - 1s 5ms/step - loss: 21.5506\n",
      "Epoch 10/50\n",
      "234/234 [==============================] - 1s 5ms/step - loss: 22.0015\n",
      "Epoch 11/50\n",
      "234/234 [==============================] - 1s 4ms/step - loss: 20.2669\n",
      "Epoch 12/50\n",
      "234/234 [==============================] - 1s 4ms/step - loss: 19.9110\n",
      "Epoch 13/50\n",
      "234/234 [==============================] - 1s 4ms/step - loss: 18.1898\n",
      "Epoch 14/50\n",
      "234/234 [==============================] - 1s 3ms/step - loss: 18.0454\n",
      "Epoch 15/50\n",
      "234/234 [==============================] - 1s 3ms/step - loss: 17.9880\n",
      "Epoch 16/50\n",
      "234/234 [==============================] - 1s 3ms/step - loss: 16.9352\n",
      "Epoch 17/50\n",
      "234/234 [==============================] - 1s 4ms/step - loss: 16.7631\n",
      "Epoch 18/50\n",
      "234/234 [==============================] - 1s 4ms/step - loss: 16.5156\n",
      "Epoch 19/50\n",
      "234/234 [==============================] - 1s 4ms/step - loss: 15.9263\n",
      "Epoch 20/50\n",
      "234/234 [==============================] - 1s 5ms/step - loss: 16.3451\n",
      "Epoch 21/50\n",
      "234/234 [==============================] - 1s 5ms/step - loss: 14.7408\n",
      "Epoch 22/50\n",
      "234/234 [==============================] - 1s 5ms/step - loss: 14.4900\n",
      "Epoch 23/50\n",
      "234/234 [==============================] - 1s 5ms/step - loss: 14.7180\n",
      "Epoch 24/50\n",
      "234/234 [==============================] - 1s 4ms/step - loss: 14.0873\n",
      "Epoch 25/50\n",
      "234/234 [==============================] - 1s 4ms/step - loss: 13.8405\n",
      "Epoch 26/50\n",
      "234/234 [==============================] - 1s 5ms/step - loss: 13.8447\n",
      "Epoch 27/50\n",
      "234/234 [==============================] - 1s 5ms/step - loss: 14.2962\n",
      "Epoch 28/50\n",
      "234/234 [==============================] - 2s 7ms/step - loss: 13.0484\n",
      "Epoch 29/50\n",
      "234/234 [==============================] - 1s 6ms/step - loss: 13.3014\n",
      "Epoch 30/50\n",
      "234/234 [==============================] - 2s 7ms/step - loss: 12.8235\n",
      "Epoch 31/50\n",
      "234/234 [==============================] - 1s 6ms/step - loss: 12.5319\n",
      "Epoch 32/50\n",
      "234/234 [==============================] - 2s 7ms/step - loss: 13.2928\n",
      "Epoch 33/50\n",
      "234/234 [==============================] - 1s 4ms/step - loss: 12.7763\n",
      "Epoch 34/50\n",
      "234/234 [==============================] - 1s 4ms/step - loss: 11.6861\n",
      "Epoch 35/50\n",
      "234/234 [==============================] - 1s 4ms/step - loss: 12.1039\n",
      "Epoch 36/50\n",
      "234/234 [==============================] - 1s 5ms/step - loss: 11.7459\n",
      "Epoch 37/50\n",
      "234/234 [==============================] - 1s 5ms/step - loss: 11.5485\n",
      "Epoch 38/50\n",
      "234/234 [==============================] - 1s 4ms/step - loss: 11.3932\n",
      "Epoch 39/50\n",
      "234/234 [==============================] - 1s 4ms/step - loss: 11.3782\n",
      "Epoch 40/50\n",
      "234/234 [==============================] - 1s 4ms/step - loss: 10.7337\n",
      "Epoch 41/50\n",
      "234/234 [==============================] - 1s 5ms/step - loss: 11.6002\n",
      "Epoch 42/50\n",
      "234/234 [==============================] - 1s 4ms/step - loss: 10.9705\n",
      "Epoch 43/50\n",
      "234/234 [==============================] - 1s 3ms/step - loss: 10.8061\n",
      "Epoch 44/50\n",
      "234/234 [==============================] - 1s 3ms/step - loss: 11.2133\n",
      "Epoch 45/50\n",
      "234/234 [==============================] - 1s 3ms/step - loss: 10.5270\n",
      "Epoch 46/50\n",
      "234/234 [==============================] - 1s 5ms/step - loss: 10.3500\n",
      "Epoch 47/50\n",
      "234/234 [==============================] - 1s 4ms/step - loss: 10.8366\n",
      "Epoch 48/50\n",
      "234/234 [==============================] - 1s 4ms/step - loss: 10.0532\n",
      "Epoch 49/50\n",
      "234/234 [==============================] - 1s 4ms/step - loss: 10.2545\n",
      "Epoch 50/50\n",
      "234/234 [==============================] - 1s 4ms/step - loss: 10.1758\n"
     ]
    },
    {
     "data": {
      "text/plain": [
       "<keras.callbacks.History at 0x1e467d2db80>"
      ]
     },
     "execution_count": 31,
     "metadata": {},
     "output_type": "execute_result"
    }
   ],
   "source": [
    "model4.fit(Xt,yt,epochs=50)"
   ]
  },
  {
   "cell_type": "code",
   "execution_count": 32,
   "id": "6a6cd7fa",
   "metadata": {},
   "outputs": [
    {
     "name": "stdout",
     "output_type": "stream",
     "text": [
      "59/59 [==============================] - 1s 3ms/step - loss: 17.7906\n"
     ]
    },
    {
     "data": {
      "text/plain": [
       "17.79057502746582"
      ]
     },
     "execution_count": 32,
     "metadata": {},
     "output_type": "execute_result"
    }
   ],
   "source": [
    "model4.evaluate(X_test, y_test)"
   ]
  },
  {
   "cell_type": "markdown",
   "id": "bdbc15d3",
   "metadata": {},
   "source": [
    "## Neural Network 5 layers=3 nodes=21->7->1\n",
    "\n"
   ]
  },
  {
   "cell_type": "code",
   "execution_count": 33,
   "id": "b88a7312",
   "metadata": {},
   "outputs": [],
   "source": [
    "model5 = tf.keras.Sequential([\n",
    "    tf.keras.Input(shape=(11,)),\n",
    "    keras.layers.Dense(units=21, activation='relu'),\n",
    "    keras.layers.Dense(units=7, activation='relu'),\n",
    "    keras.layers.Dense(units=1, activation='linear')\n",
    "     ])"
   ]
  },
  {
   "cell_type": "code",
   "execution_count": 34,
   "id": "8be34e38",
   "metadata": {},
   "outputs": [
    {
     "name": "stdout",
     "output_type": "stream",
     "text": [
      "Model: \"sequential_4\"\n",
      "_________________________________________________________________\n",
      " Layer (type)                Output Shape              Param #   \n",
      "=================================================================\n",
      " dense_16 (Dense)            (None, 21)                252       \n",
      "                                                                 \n",
      " dense_17 (Dense)            (None, 7)                 154       \n",
      "                                                                 \n",
      " dense_18 (Dense)            (None, 1)                 8         \n",
      "                                                                 \n",
      "=================================================================\n",
      "Total params: 414\n",
      "Trainable params: 414\n",
      "Non-trainable params: 0\n",
      "_________________________________________________________________\n"
     ]
    }
   ],
   "source": [
    "model5.compile(optimizer='adam',\n",
    "              loss='tf.keras.losses.mean_squared_error')\n",
    "model5.summary()\n",
    "model5.compile(optimizer='adam',\n",
    "             loss=tf.keras.losses.mean_squared_error)"
   ]
  },
  {
   "cell_type": "code",
   "execution_count": 35,
   "id": "082cc4d6",
   "metadata": {},
   "outputs": [
    {
     "name": "stdout",
     "output_type": "stream",
     "text": [
      "Epoch 1/50\n",
      "234/234 [==============================] - 4s 6ms/step - loss: 3551.3271\n",
      "Epoch 2/50\n",
      "234/234 [==============================] - 1s 3ms/step - loss: 1538.3813\n",
      "Epoch 3/50\n",
      "234/234 [==============================] - 1s 4ms/step - loss: 505.6426\n",
      "Epoch 4/50\n",
      "234/234 [==============================] - 1s 4ms/step - loss: 330.6296\n",
      "Epoch 5/50\n",
      "234/234 [==============================] - 1s 4ms/step - loss: 258.3932\n",
      "Epoch 6/50\n",
      "234/234 [==============================] - 1s 3ms/step - loss: 204.6308\n",
      "Epoch 7/50\n",
      "234/234 [==============================] - 1s 4ms/step - loss: 163.2191\n",
      "Epoch 8/50\n",
      "234/234 [==============================] - 1s 4ms/step - loss: 131.5675\n",
      "Epoch 9/50\n",
      "234/234 [==============================] - 1s 4ms/step - loss: 106.2449\n",
      "Epoch 10/50\n",
      "234/234 [==============================] - 1s 4ms/step - loss: 87.2906\n",
      "Epoch 11/50\n",
      "234/234 [==============================] - 1s 3ms/step - loss: 74.1839\n",
      "Epoch 12/50\n",
      "234/234 [==============================] - 1s 3ms/step - loss: 64.7559\n",
      "Epoch 13/50\n",
      "234/234 [==============================] - 1s 3ms/step - loss: 57.6790\n",
      "Epoch 14/50\n",
      "234/234 [==============================] - 1s 5ms/step - loss: 51.7468\n",
      "Epoch 15/50\n",
      "234/234 [==============================] - 1s 5ms/step - loss: 46.4551\n",
      "Epoch 16/50\n",
      "234/234 [==============================] - 1s 5ms/step - loss: 41.4286\n",
      "Epoch 17/50\n",
      "234/234 [==============================] - 1s 5ms/step - loss: 37.8662\n",
      "Epoch 18/50\n",
      "234/234 [==============================] - 1s 4ms/step - loss: 35.3683\n",
      "Epoch 19/50\n",
      "234/234 [==============================] - 1s 3ms/step - loss: 33.2975\n",
      "Epoch 20/50\n",
      "234/234 [==============================] - 1s 4ms/step - loss: 31.9368\n",
      "Epoch 21/50\n",
      "234/234 [==============================] - 1s 3ms/step - loss: 30.5827\n",
      "Epoch 22/50\n",
      "234/234 [==============================] - 1s 3ms/step - loss: 29.8346\n",
      "Epoch 23/50\n",
      "234/234 [==============================] - 1s 5ms/step - loss: 28.9487\n",
      "Epoch 24/50\n",
      "234/234 [==============================] - 1s 4ms/step - loss: 28.2020\n",
      "Epoch 25/50\n",
      "234/234 [==============================] - 1s 3ms/step - loss: 27.6079\n",
      "Epoch 26/50\n",
      "234/234 [==============================] - 1s 3ms/step - loss: 27.1490\n",
      "Epoch 27/50\n",
      "234/234 [==============================] - 1s 4ms/step - loss: 26.6201\n",
      "Epoch 28/50\n",
      "234/234 [==============================] - 1s 3ms/step - loss: 25.9104\n",
      "Epoch 29/50\n",
      "234/234 [==============================] - 1s 3ms/step - loss: 25.5237\n",
      "Epoch 30/50\n",
      "234/234 [==============================] - 1s 3ms/step - loss: 24.9610\n",
      "Epoch 31/50\n",
      "234/234 [==============================] - 1s 3ms/step - loss: 24.5844\n",
      "Epoch 32/50\n",
      "234/234 [==============================] - 2s 7ms/step - loss: 24.2214\n",
      "Epoch 33/50\n",
      "234/234 [==============================] - 1s 3ms/step - loss: 23.8506\n",
      "Epoch 34/50\n",
      "234/234 [==============================] - 1s 4ms/step - loss: 23.5244\n",
      "Epoch 35/50\n",
      "234/234 [==============================] - 1s 6ms/step - loss: 23.1991\n",
      "Epoch 36/50\n",
      "234/234 [==============================] - 1s 6ms/step - loss: 22.9831\n",
      "Epoch 37/50\n",
      "234/234 [==============================] - 1s 4ms/step - loss: 22.6321\n",
      "Epoch 38/50\n",
      "234/234 [==============================] - 1s 5ms/step - loss: 22.4043\n",
      "Epoch 39/50\n",
      "234/234 [==============================] - 1s 4ms/step - loss: 22.0808\n",
      "Epoch 40/50\n",
      "234/234 [==============================] - 1s 6ms/step - loss: 21.8774\n",
      "Epoch 41/50\n",
      "234/234 [==============================] - 1s 6ms/step - loss: 21.6278\n",
      "Epoch 42/50\n",
      "234/234 [==============================] - 1s 4ms/step - loss: 21.4568\n",
      "Epoch 43/50\n",
      "234/234 [==============================] - 1s 4ms/step - loss: 21.2647\n",
      "Epoch 44/50\n",
      "234/234 [==============================] - 1s 5ms/step - loss: 20.9376\n",
      "Epoch 45/50\n",
      "234/234 [==============================] - 1s 6ms/step - loss: 20.8517\n",
      "Epoch 46/50\n",
      "234/234 [==============================] - 1s 3ms/step - loss: 20.5763\n",
      "Epoch 47/50\n",
      "234/234 [==============================] - 1s 4ms/step - loss: 20.4411\n",
      "Epoch 48/50\n",
      "234/234 [==============================] - 2s 7ms/step - loss: 20.3273\n",
      "Epoch 49/50\n",
      "234/234 [==============================] - 1s 6ms/step - loss: 19.9759\n",
      "Epoch 50/50\n",
      "234/234 [==============================] - 1s 6ms/step - loss: 19.8425\n"
     ]
    },
    {
     "data": {
      "text/plain": [
       "<keras.callbacks.History at 0x1e46a557640>"
      ]
     },
     "execution_count": 35,
     "metadata": {},
     "output_type": "execute_result"
    }
   ],
   "source": [
    "model5.fit(X_train,y_train,epochs=50)"
   ]
  },
  {
   "cell_type": "code",
   "execution_count": 36,
   "id": "11b7aa29",
   "metadata": {},
   "outputs": [
    {
     "name": "stdout",
     "output_type": "stream",
     "text": [
      "59/59 [==============================] - 1s 3ms/step - loss: 39.1729\n"
     ]
    },
    {
     "data": {
      "text/plain": [
       "39.172908782958984"
      ]
     },
     "execution_count": 36,
     "metadata": {},
     "output_type": "execute_result"
    }
   ],
   "source": [
    "model5.evaluate(X_test, y_test)"
   ]
  },
  {
   "cell_type": "code",
   "execution_count": null,
   "id": "bba6fd05",
   "metadata": {},
   "outputs": [],
   "source": []
  }
 ],
 "metadata": {
  "kernelspec": {
   "display_name": "Python 3 (ipykernel)",
   "language": "python",
   "name": "python3"
  },
  "language_info": {
   "codemirror_mode": {
    "name": "ipython",
    "version": 3
   },
   "file_extension": ".py",
   "mimetype": "text/x-python",
   "name": "python",
   "nbconvert_exporter": "python",
   "pygments_lexer": "ipython3",
   "version": "3.9.12"
  }
 },
 "nbformat": 4,
 "nbformat_minor": 5
}
