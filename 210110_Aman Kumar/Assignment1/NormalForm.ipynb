{
 "cells": [
  {
   "cell_type": "code",
   "execution_count": 91,
   "id": "80dd24ba",
   "metadata": {},
   "outputs": [],
   "source": [
    "import numpy as np\n",
    "import matplotlib.pyplot as plt\n",
    "import pandas as pd"
   ]
  },
  {
   "cell_type": "code",
   "execution_count": 92,
   "id": "1ce66814",
   "metadata": {},
   "outputs": [],
   "source": [
    "X_train = np.array([2.5, 4.7, 5.2, 7.3, 9.5, 11.5])\n",
    "Y_train = np.array([5.21, 7.70, 8.30, 11, 14.5, 15])"
   ]
  },
  {
   "cell_type": "code",
   "execution_count": null,
   "id": "8e8cc8e1",
   "metadata": {},
   "outputs": [],
   "source": [
    "plt.scatter(X_train  , Y_train, marker = 'x')\n",
    "plt.xlabel(\"input ----->\")\n",
    "plt.ylabel(\"output ---->\")\n",
    "plt.title(\"training data\")\n",
    "plt.show"
   ]
  },
  {
   "cell_type": "code",
   "execution_count": null,
   "id": "696c999f",
   "metadata": {},
   "outputs": [],
   "source": [
    "x_bias = np.ones((6, 1))\n",
    "x_bias"
   ]
  },
  {
   "cell_type": "code",
   "execution_count": null,
   "id": "5349f002",
   "metadata": {},
   "outputs": [],
   "source": [
    "x_new = np.reshape(X_train, (6, 1))\n",
    "x_new"
   ]
  },
  {
   "cell_type": "code",
   "execution_count": null,
   "id": "2a57831b",
   "metadata": {},
   "outputs": [],
   "source": [
    "# x_new = np.array([[1,2.5] , [1,4.7], [1,5.2], [1,7.3], [1, 9.5], [1, 11.5]])\n",
    "x_new = np.append(x_bias, x_new, axis = 1 )\n",
    "x_new"
   ]
  },
  {
   "cell_type": "code",
   "execution_count": null,
   "id": "a9951b04",
   "metadata": {},
   "outputs": [],
   "source": [
    "x_n_t = np.transpose(x_new)\n",
    "x_n_t"
   ]
  },
  {
   "cell_type": "code",
   "execution_count": null,
   "id": "a164fdee",
   "metadata": {},
   "outputs": [],
   "source": [
    "x_n_t_dot_x_new = x_n_t.dot(x_new)\n",
    "print(x_n_t_dot_x_new)"
   ]
  },
  {
   "cell_type": "code",
   "execution_count": null,
   "id": "0043eb6d",
   "metadata": {},
   "outputs": [],
   "source": [
    "in_m = np.linalg.inv(x_n_t_dot_x_new)\n",
    "in_m"
   ]
  },
  {
   "cell_type": "code",
   "execution_count": null,
   "id": "044f7954",
   "metadata": {},
   "outputs": [],
   "source": [
    "in_p = x_n_t.dot(Y_train)\n",
    "in_p"
   ]
  },
  {
   "cell_type": "code",
   "execution_count": null,
   "id": "fa563389",
   "metadata": {},
   "outputs": [],
   "source": [
    "theta = in_m.dot(in_p)\n",
    "theta"
   ]
  },
  {
   "cell_type": "code",
   "execution_count": null,
   "id": "6b7df532",
   "metadata": {},
   "outputs": [],
   "source": [
    "intercept = theta[0]\n",
    "slope = theta[1]"
   ]
  },
  {
   "cell_type": "code",
   "execution_count": null,
   "id": "b7617b6b",
   "metadata": {},
   "outputs": [],
   "source": [
    "plt.scatter(X_train , Y_train)\n",
    "plt.plot(X_train, slope*(X_train) + intercept)"
   ]
  }
 ],
 "metadata": {
  "kernelspec": {
   "display_name": "Python 3 (ipykernel)",
   "language": "python",
   "name": "python3"
  },
  "language_info": {
   "codemirror_mode": {
    "name": "ipython",
    "version": 3
   },
   "file_extension": ".py",
   "mimetype": "text/x-python",
   "name": "python",
   "nbconvert_exporter": "python",
   "pygments_lexer": "ipython3",
   "version": "3.9.13"
  }
 },
 "nbformat": 4,
 "nbformat_minor": 5
}
