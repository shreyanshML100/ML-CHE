{
 "cells": [
  {
   "cell_type": "code",
   "execution_count": 16,
   "id": "2c0af179",
   "metadata": {},
   "outputs": [],
   "source": [
    "import math, copy\n",
    "import numpy as np\n",
    "import matplotlib.pyplot as plt"
   ]
  },
  {
   "cell_type": "code",
   "execution_count": 28,
   "id": "f5836f00",
   "metadata": {},
   "outputs": [],
   "source": [
    "X_train = np.array([2.5, 4.7, 5.2, 7.3, 9.5, 11.5])\n",
    "Y_train = np.array([5.21, 7.7, 8.3, 11, 14.5, 15])"
   ]
  },
  {
   "cell_type": "code",
   "execution_count": 31,
   "id": "6be3c5e7",
   "metadata": {},
   "outputs": [],
   "source": [
    "def costFun(w,b,X_train,Y_train):\n",
    "    m = X_train.shape[0]\n",
    "    cost = 0\n",
    "    \n",
    "    \n",
    "    for i in range(m):\n",
    "        f_wb = w * x[i] + b\n",
    "        cost = cost + (f_wb - y[i])**2\n",
    "    J = 1 / (2 * m) * cost\n",
    "    return J"
   ]
  },
  {
   "cell_type": "code",
   "execution_count": 35,
   "id": "76f44c36",
   "metadata": {},
   "outputs": [],
   "source": [
    "def diffcostFun(w, b,X_train,Y_train): \n",
    "    m = X_train.shape[0] \n",
    "    diff_w = 0\n",
    "    diff_b = 0\n",
    "    \n",
    "    for i in range(m):\n",
    "        f_wb = w * X_train[i] + b\n",
    "        diff_w_i = (f_wb - Y_train[i]) * X_train[i] \n",
    "        diff_b_i = f_wb - Y_train[i] \n",
    "        diff_b += diff_b_i\n",
    "        diff_w += diff_w_i \n",
    "    diff_w = diff_w / m \n",
    "    diff_b = diff_b / m \n",
    "    \n",
    "    return diff_w, diff_b"
   ]
  },
  {
   "cell_type": "code",
   "execution_count": 45,
   "id": "bf9035dc",
   "metadata": {},
   "outputs": [],
   "source": [
    "def fitGD(X_train, Y_train, alpha , n_iters, w_in, b_in, cost_function, gradient_function):\n",
    "    J_history = []\n",
    "    p_history = []\n",
    "    b = b_in\n",
    "    w = w_in\n",
    "    \n",
    "    for i in range(n_iters):\n",
    "        diff_w, diff_b = gradient_function(X_train, Y_train, w , b) \n",
    "        \n",
    "        b = b - alpha * diff_b                            \n",
    "        w = w - alpha * diff_w  \n",
    "    \n",
    "        if i<100000:     \n",
    "            J_history.append( cost_function(X_train, Y_train, w , b))\n",
    "            p_history.append([w,b])\n",
    " \n",
    "        if i% math.ceil(n_iters/10) == 0:\n",
    "            print(f\"Iteration {i:4}: Cost {J_history[-1]:0.2e} \",\n",
    "                  f\"diff_w: {diff_w: 0.3e}, diff_b: {diff_b: 0.3e}  \",\n",
    "                  f\"w: {w: 0.3e}, b:{b: 0.5e}\")\n",
    " \n",
    "    return w, b, J_history, p_history"
   ]
  },
  {
   "cell_type": "code",
   "execution_count": 46,
   "id": "bc8b221e",
   "metadata": {},
   "outputs": [
    {
     "name": "stdout",
     "output_type": "stream",
     "text": [
      "(w,b) found by gradient descent: (  0.0100,10000.0000)\n"
     ]
    }
   ],
   "source": [
    "w_init = 0\n",
    "b_init = 0\n",
    "\n",
    "iterations = 10000\n",
    "tmp_alpha = 1.0e-2\n",
    "\n",
    "w_final, b_final, J_hist, p_hist = fitGD(X_train ,Y_train, w_init, b_init, tmp_alpha, \n",
    "                                                    iterations,costFun , diffcostFun)\n",
    "print(f\"(w,b) found by gradient descent: ({w_final:8.4f},{b_final:8.4f})\")"
   ]
  },
  {
   "cell_type": "code",
   "execution_count": null,
   "id": "6e5f8181",
   "metadata": {},
   "outputs": [],
   "source": [
    "plt.scatter(X_train, Y_train, marker='x', c='black')"
   ]
  },
  {
   "cell_type": "code",
   "execution_count": 79,
   "id": "307ed918",
   "metadata": {},
   "outputs": [],
   "source": [
    "def output(X_train, w, b):\n",
    "\n",
    "    m = X_train.shape[0]\n",
    "    f = np.zeros(m)\n",
    "    for i in range(m):\n",
    "        f[i] = w * X_train[i] + b\n",
    "        \n",
    "    return f"
   ]
  },
  {
   "cell_type": "code",
   "execution_count": null,
   "id": "2869658e",
   "metadata": {},
   "outputs": [],
   "source": [
    "tmp_f =output(X_train, w, b)\n",
    "\n",
    "plt.plot(X_train, tmp_f, c='b',label='Prediction')\n",
    "\n",
    "plt.scatter(X_train, Y_train, marker='p', c='r',label='Actual Values')\n",
    "\n",
    "plt.title(\"x vs y\")\n",
    "plt.ylabel('y value')\n",
    "plt.xlabel('x value')\n",
    "plt.legend()\n",
    "plt.show()"
   ]
  },
  {
   "cell_type": "code",
   "execution_count": null,
   "id": "8404b2c7",
   "metadata": {},
   "outputs": [],
   "source": [
    "X_test = [3.5, 5, 6, 8, 10 ]\n",
    "for i in range(len(X_test)):\n",
    "      print(f\"for {X_test[i]} gives {w_final*X_test[i] + b_final:0.3f}\")"
   ]
  }
 ],
 "metadata": {
  "kernelspec": {
   "display_name": "Python 3 (ipykernel)",
   "language": "python",
   "name": "python3"
  },
  "language_info": {
   "codemirror_mode": {
    "name": "ipython",
    "version": 3
   },
   "file_extension": ".py",
   "mimetype": "text/x-python",
   "name": "python",
   "nbconvert_exporter": "python",
   "pygments_lexer": "ipython3",
   "version": "3.9.13"
  }
 },
 "nbformat": 4,
 "nbformat_minor": 5
}
