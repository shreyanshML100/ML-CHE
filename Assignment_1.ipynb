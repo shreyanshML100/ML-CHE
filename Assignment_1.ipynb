{
  "nbformat": 4,
  "nbformat_minor": 0,
  "metadata": {
    "colab": {
      "provenance": []
    },
    "kernelspec": {
      "name": "python3",
      "display_name": "Python 3"
    },
    "language_info": {
      "name": "python"
    }
  },
  "cells": [
    {
      "cell_type": "code",
      "execution_count": null,
      "metadata": {
        "id": "rLy2kp-qPWsP"
      },
      "outputs": [],
      "source": [
        "import numpy as np\n",
        "import pandas as pd\n",
        "import matplotlib.pyplot as plt"
      ]
    },
    {
      "cell_type": "code",
      "source": [
        "x_train= [2.5, 4.7, 5.2, 7.3, 9.5, 11.5]\n",
        "y_train= [5.21, 7.70, 8.30, 11, 14.5, 15]\n",
        "x_train=np.array(x_train)\n",
        "y_train=np.array(y_train)\n",
        "x_train=x_train.reshape(6,1)\n",
        "y_train=y_train.reshape(6,1)"
      ],
      "metadata": {
        "id": "3QhqDJquPay9"
      },
      "execution_count": null,
      "outputs": []
    },
    {
      "cell_type": "code",
      "source": [
        "plt.scatter(x_train,y_train)"
      ],
      "metadata": {
        "colab": {
          "base_uri": "https://localhost:8080/",
          "height": 283
        },
        "id": "2qPSdfjqPeQB",
        "outputId": "6628c509-cd74-4763-a3e2-f5118fa2663d"
      },
      "execution_count": null,
      "outputs": [
        {
          "output_type": "execute_result",
          "data": {
            "text/plain": [
              "<matplotlib.collections.PathCollection at 0x7fa44d9c2d30>"
            ]
          },
          "metadata": {},
          "execution_count": 3
        },
        {
          "output_type": "display_data",
          "data": {
            "text/plain": [
              "<Figure size 432x288 with 1 Axes>"
            ],
            "image/png": "[encoded data removed]"
          },
          "metadata": {
            "needs_background": "light"
          }
        }
      ]
    },
    {
      "cell_type": "code",
      "source": [
        "theta=np.random.rand()"
      ],
      "metadata": {
        "id": "Dpvxh0YZPf7L"
      },
      "execution_count": null,
      "outputs": []
    },
    {
      "cell_type": "code",
      "source": [
        "def costFun(theta,x_train,y_train):\n",
        "    J=np.square(np.subtract(y_train,x_train*theta)).mean()\n",
        "    return J"
      ],
      "metadata": {
        "id": "OeUTBYZcPjDS"
      },
      "execution_count": null,
      "outputs": []
    },
    {
      "cell_type": "code",
      "source": [
        "def diffCostFun(theta,x_train,y_train):\n",
        "    dtheta=np.dot(np.subtract(y_train,x_train*theta).T,x_train)/6\n",
        "    return dtheta"
      ],
      "metadata": {
        "id": "Wi9r26rhPn5z"
      },
      "execution_count": null,
      "outputs": []
    },
    {
      "cell_type": "code",
      "source": [
        "def fitGD(x_train, y_train, theta, alpha, lamb, type_of_regularization, iterations):\n",
        "    for i in range(iterations):\n",
        "        if type_of_regularization==1:\n",
        "            J=costFun(theta,x_train,y_train)+theta*lamb/12\n",
        "            theta=theta+alpha*(diffCostFun(theta,x_train,y_train)+lamb/12)\n",
        "        if type_of_regularization==2:\n",
        "            # theta = theta - alpha * (dtheta + regularization_term)\n",
        "            J=costFun(theta,x_train,y_train)+theta*theta*lamb/12\n",
        "            theta=theta+alpha*(diffCostFun(theta,x_train,y_train)+lamb*theta/6)\n",
        "        if type_of_regularization==3:\n",
        "            J=costFun(theta,x_train,y_train)+theta*theta*lamb/6+lamb*theta/6\n",
        "            theta=theta+alpha*(diffCostFun(theta,x_train,y_train)+lamb/6+lamb*theta/3)\n",
        "        plt.scatter(iterations,costFun(theta,x_train,y_train))\n",
        "        print(\"cost = \", costFun(theta,x_train,y_train))\n",
        "    return theta"
      ],
      "metadata": {
        "id": "L0ixYruZPoxU"
      },
      "execution_count": null,
      "outputs": []
    },
    {
      "cell_type": "code",
      "source": [
        "def fitNormal(x_train, y_train):\n",
        "    x_new = np.array([np.ones(len(x_train)), x_train.flatten()]).T\n",
        "    theta = np.linalg.inv(x_new.T.dot(x_new)).dot(x_new.T).dot(y_train)\n",
        "    return x_new,theta"
      ],
      "metadata": {
        "id": "WrHKeVqOPrnO"
      },
      "execution_count": null,
      "outputs": []
    },
    {
      "cell_type": "code",
      "source": [
        "theta1=fitGD(x_train, y_train, theta, 0.01, 1,2, 100)"
      ],
      "metadata": {
        "colab": {
          "base_uri": "https://localhost:8080/",
          "height": 1000
        },
        "id": "__nER2xTPuQS",
        "outputId": "39c78159-5203-40dc-c938-73f09a710beb"
      },
      "execution_count": null,
      "outputs": [
        {
          "output_type": "stream",
          "name": "stdout",
          "text": [
            "cost =  18.350805679934926\n",
            "cost =  4.622266981985926\n",
            "cost =  1.88301359635698\n",
            "cost =  1.3457767253841844\n",
            "cost =  1.2446621040425114\n",
            "cost =  1.2276025350527753\n",
            "cost =  1.2256770251236662\n",
            "cost =  1.2259732850008451\n",
            "cost =  1.2263415659804453\n",
            "cost =  1.2265547253715974\n",
            "cost =  1.226660200886823\n",
            "cost =  1.2267095794054343\n",
            "cost =  1.2267321789979093\n",
            "cost =  1.2267424219441183\n",
            "cost =  1.2267470444528643\n",
            "cost =  1.226749126525225\n",
            "cost =  1.2267500635257984\n",
            "cost =  1.2267504850436355\n",
            "cost =  1.2267506746341446\n",
            "cost =  1.2267507599015977\n",
            "cost =  1.226750798248896\n",
            "cost =  1.226750815494536\n",
            "cost =  1.2267508232502327\n",
            "cost =  1.2267508267381073\n",
            "cost =  1.2267508283066657\n",
            "cost =  1.2267508290120737\n",
            "cost =  1.2267508293293057\n",
            "cost =  1.2267508294719718\n",
            "cost =  1.2267508295361305\n",
            "cost =  1.226750829564983\n",
            "cost =  1.2267508295779586\n",
            "cost =  1.2267508295837943\n",
            "cost =  1.226750829586418\n",
            "cost =  1.2267508295875982\n",
            "cost =  1.2267508295881286\n",
            "cost =  1.2267508295883676\n",
            "cost =  1.2267508295884764\n",
            "cost =  1.226750829588523\n",
            "cost =  1.2267508295885463\n",
            "cost =  1.2267508295885545\n",
            "cost =  1.2267508295885594\n",
            "cost =  1.2267508295885614\n",
            "cost =  1.226750829588563\n",
            "cost =  1.2267508295885634\n",
            "cost =  1.2267508295885627\n",
            "cost =  1.2267508295885636\n",
            "cost =  1.2267508295885636\n",
            "cost =  1.2267508295885636\n",
            "cost =  1.2267508295885636\n",
            "cost =  1.2267508295885636\n",
            "cost =  1.2267508295885636\n",
            "cost =  1.2267508295885636\n",
            "cost =  1.2267508295885636\n",
            "cost =  1.2267508295885636\n",
            "cost =  1.2267508295885636\n",
            "cost =  1.2267508295885636\n",
            "cost =  1.2267508295885636\n",
            "cost =  1.2267508295885636\n",
            "cost =  1.2267508295885636\n",
            "cost =  1.2267508295885636\n",
            "cost =  1.2267508295885636\n",
            "cost =  1.2267508295885636\n",
            "cost =  1.2267508295885636\n",
            "cost =  1.2267508295885636\n",
            "cost =  1.2267508295885636\n",
            "cost =  1.2267508295885636\n",
            "cost =  1.2267508295885636\n",
            "cost =  1.2267508295885636\n",
            "cost =  1.2267508295885636\n",
            "cost =  1.2267508295885636\n",
            "cost =  1.2267508295885636\n",
            "cost =  1.2267508295885636\n",
            "cost =  1.2267508295885636\n",
            "cost =  1.2267508295885636\n",
            "cost =  1.2267508295885636\n",
            "cost =  1.2267508295885636\n",
            "cost =  1.2267508295885636\n",
            "cost =  1.2267508295885636\n",
            "cost =  1.2267508295885636\n",
            "cost =  1.2267508295885636\n",
            "cost =  1.2267508295885636\n",
            "cost =  1.2267508295885636\n",
            "cost =  1.2267508295885636\n",
            "cost =  1.2267508295885636\n",
            "cost =  1.2267508295885636\n",
            "cost =  1.2267508295885636\n",
            "cost =  1.2267508295885636\n",
            "cost =  1.2267508295885636\n",
            "cost =  1.2267508295885636\n",
            "cost =  1.2267508295885636\n",
            "cost =  1.2267508295885636\n",
            "cost =  1.2267508295885636\n",
            "cost =  1.2267508295885636\n",
            "cost =  1.2267508295885636\n",
            "cost =  1.2267508295885636\n",
            "cost =  1.2267508295885636\n",
            "cost =  1.2267508295885636\n",
            "cost =  1.2267508295885636\n",
            "cost =  1.2267508295885636\n",
            "cost =  1.2267508295885636\n"
          ]
        },
        {
          "output_type": "display_data",
          "data": {
            "text/plain": [
              "<Figure size 432x288 with 1 Axes>"
            ],
            "image/png": "[encoded data removed]"
          },
          "metadata": {
            "needs_background": "light"
          }
        }
      ]
    },
    {
      "cell_type": "code",
      "source": [
        "plt.plot(x_train,x_train*theta1)\n",
        "plt.scatter(x_train,y_train)\n",
        "plt.show()\n",
        "print(\"error = \",costFun(theta1,x_train,y_train))"
      ],
      "metadata": {
        "colab": {
          "base_uri": "https://localhost:8080/",
          "height": 283
        },
        "id": "ZSCFEkjLPxFA",
        "outputId": "46d9ae44-d80d-4a35-91a4-ebd31c08b4f1"
      },
      "execution_count": null,
      "outputs": [
        {
          "output_type": "display_data",
          "data": {
            "text/plain": [
              "<Figure size 432x288 with 1 Axes>"
            ],
            "image/png": "[encoded data removed]"
          },
          "metadata": {
            "needs_background": "light"
          }
        },
        {
          "output_type": "stream",
          "name": "stdout",
          "text": [
            "error =  1.2267508295885636\n"
          ]
        }
      ]
    },
    {
      "cell_type": "code",
      "source": [
        "x_new,theta2=fitNormal(x_train, y_train)\n",
        "plt.plot(x_train,np.dot(x_new,theta2))\n",
        "plt.scatter(x_train,y_train)\n",
        "plt.show()\n",
        "print(\"error = \", costFun(1,np.dot(x_new,theta2),y_train))"
      ],
      "metadata": {
        "colab": {
          "base_uri": "https://localhost:8080/",
          "height": 283
        },
        "id": "ox4xAHVTPz_q",
        "outputId": "175bfd61-b8bd-4809-a905-88d85ade883d"
      },
      "execution_count": null,
      "outputs": [
        {
          "output_type": "display_data",
          "data": {
            "text/plain": [
              "<Figure size 432x288 with 1 Axes>"
            ],
            "image/png": "[encoded data removed]"
          },
          "metadata": {
            "needs_background": "light"
          }
        },
        {
          "output_type": "stream",
          "name": "stdout",
          "text": [
            "error =  0.2958671305680773\n"
          ]
        }
      ]
    },
    {
      "cell_type": "code",
      "source": [
        "x_test = [3.5, 5, 6, 8, 10 ]\n",
        "y_test = [6.25, 8.2, 9.5, 12.1, 14.7]\n",
        "x_test = np.array(x_test)\n",
        "y_test = np.array(y_test)\n",
        "x_test = x_test.reshape(5,1)\n",
        "y_test = y_test.reshape(5,1)"
      ],
      "metadata": {
        "id": "mHBMrTOiQDWn"
      },
      "execution_count": null,
      "outputs": []
    },
    {
      "cell_type": "code",
      "source": [
        "plt.plot(x_test,x_test*theta1)\n",
        "plt.scatter(x_test,y_test)\n",
        "plt.show()\n",
        "print(\"error = \",costFun(theta1,x_test,y_test))"
      ],
      "metadata": {
        "colab": {
          "base_uri": "https://localhost:8080/",
          "height": 283
        },
        "id": "3h63N6cTP2mK",
        "outputId": "bb772d51-62b7-4ea8-e981-51086754000e"
      },
      "execution_count": null,
      "outputs": [
        {
          "output_type": "display_data",
          "data": {
            "text/plain": [
              "<Figure size 432x288 with 1 Axes>"
            ],
            "image/png": "[encoded data removed]"
          },
          "metadata": {
            "needs_background": "light"
          }
        },
        {
          "output_type": "stream",
          "name": "stdout",
          "text": [
            "error =  0.5506884867684789\n"
          ]
        }
      ]
    },
    {
      "cell_type": "code",
      "source": [
        "x_new_test = np.array([np.ones(len(x_test)), x_test.flatten()]).T\n",
        "plt.plot(x_test,np.dot(x_new_test,theta2))\n",
        "plt.scatter(x_test,y_test)\n",
        "plt.show()\n",
        "print(\"error = \", costFun(1,np.dot(x_new_test,theta2),y_test))"
      ],
      "metadata": {
        "colab": {
          "base_uri": "https://localhost:8080/",
          "height": 283
        },
        "id": "VUWr8LurP5V_",
        "outputId": "cf17116b-d2dd-449f-a7be-4d946a975cef"
      },
      "execution_count": null,
      "outputs": [
        {
          "output_type": "display_data",
          "data": {
            "text/plain": [
              "<Figure size 432x288 with 1 Axes>"
            ],
            "image/png": "[encoded data removed]"
          },
          "metadata": {
            "needs_background": "light"
          }
        },
        {
          "output_type": "stream",
          "name": "stdout",
          "text": [
            "error =  0.12940001356502293\n"
          ]
        }
      ]
    },
    {
      "cell_type": "code",
      "source": [],
      "metadata": {
        "id": "JwDiy__PRwjR"
      },
      "execution_count": null,
      "outputs": []
    }
  ]
}