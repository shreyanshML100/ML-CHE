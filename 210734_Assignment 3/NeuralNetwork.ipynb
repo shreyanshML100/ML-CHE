{
 "cells": [
  {
   "cell_type": "code",
   "execution_count": 4,
   "id": "c20951b6",
   "metadata": {
    "executionInfo": {
     "elapsed": 5599,
     "status": "ok",
     "timestamp": 1675972204229,
     "user": {
      "displayName": "P34_Pradeep",
      "userId": "16332600415320848898"
     },
     "user_tz": -330
    },
    "id": "c20951b6"
   },
   "outputs": [],
   "source": [
    "import pandas as pd"
   ]
  },
  {
   "cell_type": "code",
   "execution_count": 5,
   "id": "98ad0213",
   "metadata": {},
   "outputs": [],
   "source": [
    "import numpy as np\n",
    "import matplotlib.pyplot as plt\n",
    "import seaborn as sns\n",
    "import tensorflow as tf\n",
    "%matplotlib inline\n",
    "import datetime"
   ]
  },
  {
   "cell_type": "code",
   "execution_count": 6,
   "id": "ab75aaf0",
   "metadata": {
    "executionInfo": {
     "elapsed": 651,
     "status": "ok",
     "timestamp": 1675972215849,
     "user": {
      "displayName": "P34_Pradeep",
      "userId": "16332600415320848898"
     },
     "user_tz": -330
    },
    "id": "ab75aaf0"
   },
   "outputs": [],
   "source": [
    "import tensorflow as tf\n",
    "from tensorflow import keras\n",
    "from keras.models import Sequential\n",
    "from keras.layers import Dense"
   ]
  },
  {
   "cell_type": "code",
   "execution_count": 14,
   "id": "4efd80e7",
   "metadata": {
    "colab": {
     "base_uri": "https://localhost:8080/",
     "height": 346
    },
    "executionInfo": {
     "elapsed": 839,
     "status": "error",
     "timestamp": 1675972223319,
     "user": {
      "displayName": "P34_Pradeep",
      "userId": "16332600415320848898"
     },
     "user_tz": -330
    },
    "id": "4efd80e7",
    "outputId": "2d4a8809-cfb1-4138-ae07-09e92f38a691"
   },
   "outputs": [
    {
     "data": {
      "text/html": [
       "<div>\n",
       "<style scoped>\n",
       "    .dataframe tbody tr th:only-of-type {\n",
       "        vertical-align: middle;\n",
       "    }\n",
       "\n",
       "    .dataframe tbody tr th {\n",
       "        vertical-align: top;\n",
       "    }\n",
       "\n",
       "    .dataframe thead th {\n",
       "        text-align: right;\n",
       "    }\n",
       "</style>\n",
       "<table border=\"1\" class=\"dataframe\">\n",
       "  <thead>\n",
       "    <tr style=\"text-align: right;\">\n",
       "      <th></th>\n",
       "      <th>Date</th>\n",
       "      <th>Time</th>\n",
       "      <th>CO(GT)</th>\n",
       "      <th>PT08.S1(CO)</th>\n",
       "      <th>NMHC(GT)</th>\n",
       "      <th>C6H6(GT)</th>\n",
       "      <th>PT08.S2(NMHC)</th>\n",
       "      <th>NOx(GT)</th>\n",
       "      <th>PT08.S3(NOx)</th>\n",
       "      <th>NO2(GT)</th>\n",
       "      <th>PT08.S4(NO2)</th>\n",
       "      <th>PT08.S5(O3)</th>\n",
       "      <th>T</th>\n",
       "      <th>RH</th>\n",
       "      <th>AH</th>\n",
       "    </tr>\n",
       "  </thead>\n",
       "  <tbody>\n",
       "    <tr>\n",
       "      <th>0</th>\n",
       "      <td>2004-03-10</td>\n",
       "      <td>18:00:00</td>\n",
       "      <td>2.6</td>\n",
       "      <td>1360.00</td>\n",
       "      <td>150</td>\n",
       "      <td>11.881723</td>\n",
       "      <td>1045.50</td>\n",
       "      <td>166.0</td>\n",
       "      <td>1056.25</td>\n",
       "      <td>113.0</td>\n",
       "      <td>1692.00</td>\n",
       "      <td>1267.50</td>\n",
       "      <td>13.60</td>\n",
       "      <td>48.875001</td>\n",
       "      <td>0.757754</td>\n",
       "    </tr>\n",
       "    <tr>\n",
       "      <th>1</th>\n",
       "      <td>2004-03-10</td>\n",
       "      <td>19:00:00</td>\n",
       "      <td>2.0</td>\n",
       "      <td>1292.25</td>\n",
       "      <td>112</td>\n",
       "      <td>9.397165</td>\n",
       "      <td>954.75</td>\n",
       "      <td>103.0</td>\n",
       "      <td>1173.75</td>\n",
       "      <td>92.0</td>\n",
       "      <td>1558.75</td>\n",
       "      <td>972.25</td>\n",
       "      <td>13.30</td>\n",
       "      <td>47.700000</td>\n",
       "      <td>0.725487</td>\n",
       "    </tr>\n",
       "    <tr>\n",
       "      <th>2</th>\n",
       "      <td>2004-03-10</td>\n",
       "      <td>20:00:00</td>\n",
       "      <td>2.2</td>\n",
       "      <td>1402.00</td>\n",
       "      <td>88</td>\n",
       "      <td>8.997817</td>\n",
       "      <td>939.25</td>\n",
       "      <td>131.0</td>\n",
       "      <td>1140.00</td>\n",
       "      <td>114.0</td>\n",
       "      <td>1554.50</td>\n",
       "      <td>1074.00</td>\n",
       "      <td>11.90</td>\n",
       "      <td>53.975000</td>\n",
       "      <td>0.750239</td>\n",
       "    </tr>\n",
       "    <tr>\n",
       "      <th>3</th>\n",
       "      <td>2004-03-10</td>\n",
       "      <td>21:00:00</td>\n",
       "      <td>2.2</td>\n",
       "      <td>1375.50</td>\n",
       "      <td>80</td>\n",
       "      <td>9.228796</td>\n",
       "      <td>948.25</td>\n",
       "      <td>172.0</td>\n",
       "      <td>1092.00</td>\n",
       "      <td>122.0</td>\n",
       "      <td>1583.75</td>\n",
       "      <td>1203.25</td>\n",
       "      <td>11.00</td>\n",
       "      <td>60.000000</td>\n",
       "      <td>0.786713</td>\n",
       "    </tr>\n",
       "    <tr>\n",
       "      <th>4</th>\n",
       "      <td>2004-03-10</td>\n",
       "      <td>22:00:00</td>\n",
       "      <td>1.6</td>\n",
       "      <td>1272.25</td>\n",
       "      <td>51</td>\n",
       "      <td>6.518224</td>\n",
       "      <td>835.50</td>\n",
       "      <td>131.0</td>\n",
       "      <td>1205.00</td>\n",
       "      <td>116.0</td>\n",
       "      <td>1490.00</td>\n",
       "      <td>1110.00</td>\n",
       "      <td>11.15</td>\n",
       "      <td>59.575001</td>\n",
       "      <td>0.788794</td>\n",
       "    </tr>\n",
       "  </tbody>\n",
       "</table>\n",
       "</div>"
      ],
      "text/plain": [
       "        Date      Time  CO(GT)  PT08.S1(CO)  NMHC(GT)   C6H6(GT)  \\\n",
       "0 2004-03-10  18:00:00     2.6      1360.00       150  11.881723   \n",
       "1 2004-03-10  19:00:00     2.0      1292.25       112   9.397165   \n",
       "2 2004-03-10  20:00:00     2.2      1402.00        88   8.997817   \n",
       "3 2004-03-10  21:00:00     2.2      1375.50        80   9.228796   \n",
       "4 2004-03-10  22:00:00     1.6      1272.25        51   6.518224   \n",
       "\n",
       "   PT08.S2(NMHC)  NOx(GT)  PT08.S3(NOx)  NO2(GT)  PT08.S4(NO2)  PT08.S5(O3)  \\\n",
       "0        1045.50    166.0       1056.25    113.0       1692.00      1267.50   \n",
       "1         954.75    103.0       1173.75     92.0       1558.75       972.25   \n",
       "2         939.25    131.0       1140.00    114.0       1554.50      1074.00   \n",
       "3         948.25    172.0       1092.00    122.0       1583.75      1203.25   \n",
       "4         835.50    131.0       1205.00    116.0       1490.00      1110.00   \n",
       "\n",
       "       T         RH        AH  \n",
       "0  13.60  48.875001  0.757754  \n",
       "1  13.30  47.700000  0.725487  \n",
       "2  11.90  53.975000  0.750239  \n",
       "3  11.00  60.000000  0.786713  \n",
       "4  11.15  59.575001  0.788794  "
      ]
     },
     "execution_count": 14,
     "metadata": {},
     "output_type": "execute_result"
    }
   ],
   "source": [
    "df = pd.read_excel( r'AirQualityUCI.xlsx')\n",
    "df.head() "
   ]
  },
  {
   "cell_type": "code",
   "execution_count": 18,
   "id": "56b36ed5",
   "metadata": {
    "id": "56b36ed5"
   },
   "outputs": [
    {
     "ename": "NameError",
     "evalue": "name 'col' is not defined",
     "output_type": "error",
     "traceback": [
      "\u001b[1;31m---------------------------------------------------------------------------\u001b[0m",
      "\u001b[1;31mNameError\u001b[0m                                 Traceback (most recent call last)",
      "Input \u001b[1;32mIn [18]\u001b[0m, in \u001b[0;36m<cell line: 1>\u001b[1;34m()\u001b[0m\n\u001b[1;32m----> 1\u001b[0m df1\u001b[38;5;241m=\u001b[39mpd\u001b[38;5;241m.\u001b[39mread_excel(\u001b[38;5;124m'\u001b[39m\u001b[38;5;124mAirQualityUCI.xlsx\u001b[39m\u001b[38;5;124m'\u001b[39m,header\u001b[38;5;241m=\u001b[39m\u001b[38;5;28;01mNone\u001b[39;00m,skiprows\u001b[38;5;241m=\u001b[39m\u001b[38;5;241m1\u001b[39m,names\u001b[38;5;241m=\u001b[39m\u001b[43mcol\u001b[49m,na_filter\u001b[38;5;241m=\u001b[39m\u001b[38;5;28;01mTrue\u001b[39;00m,\n\u001b[0;32m      2\u001b[0m                    na_values\u001b[38;5;241m=\u001b[39m\u001b[38;5;241m-\u001b[39m\u001b[38;5;241m100\u001b[39m,usecols\u001b[38;5;241m=\u001b[39mr)\n",
      "\u001b[1;31mNameError\u001b[0m: name 'col' is not defined"
     ]
    }
   ],
   "source": [
    "df1=pd.read_excel('AirQualityUCI.xlsx',header=None,skiprows=1,names=col,na_filter=True,\n",
    "                   na_values=-100,usecols=r)"
   ]
  },
  {
   "cell_type": "code",
   "execution_count": null,
   "id": "e3e9717f",
   "metadata": {
    "id": "e3e9717f",
    "outputId": "98124c55-e335-49c5-f3cc-ef5b2209a899"
   },
   "outputs": [
    {
     "data": {
      "text/html": [
       "<div>\n",
       "<style scoped>\n",
       "    .dataframe tbody tr th:only-of-type {\n",
       "        vertical-align: middle;\n",
       "    }\n",
       "\n",
       "    .dataframe tbody tr th {\n",
       "        vertical-align: top;\n",
       "    }\n",
       "\n",
       "    .dataframe thead th {\n",
       "        text-align: right;\n",
       "    }\n",
       "</style>\n",
       "<table border=\"1\" class=\"dataframe\">\n",
       "  <thead>\n",
       "    <tr style=\"text-align: right;\">\n",
       "      <th></th>\n",
       "      <th>DATE</th>\n",
       "      <th>TIME</th>\n",
       "      <th>CO_GT</th>\n",
       "      <th>PT08_S1_CO</th>\n",
       "      <th>NMHC_GT</th>\n",
       "      <th>C6H6_GT</th>\n",
       "      <th>PT08_S2_NMHC</th>\n",
       "      <th>NOX_GT</th>\n",
       "      <th>PT08_S3_NOX</th>\n",
       "      <th>NO2_GT</th>\n",
       "      <th>PT08_S4_NO2</th>\n",
       "      <th>PT08_S5_O3</th>\n",
       "      <th>T</th>\n",
       "      <th>RH</th>\n",
       "      <th>AH</th>\n",
       "    </tr>\n",
       "  </thead>\n",
       "  <tbody>\n",
       "    <tr>\n",
       "      <th>0</th>\n",
       "      <td>2004-03-10</td>\n",
       "      <td>18:00:00</td>\n",
       "      <td>2.6</td>\n",
       "      <td>1360.00</td>\n",
       "      <td>150</td>\n",
       "      <td>11.881723</td>\n",
       "      <td>1045.50</td>\n",
       "      <td>166.0</td>\n",
       "      <td>1056.25</td>\n",
       "      <td>113.0</td>\n",
       "      <td>1692.00</td>\n",
       "      <td>1267.50</td>\n",
       "      <td>13.600</td>\n",
       "      <td>48.875001</td>\n",
       "      <td>0.757754</td>\n",
       "    </tr>\n",
       "    <tr>\n",
       "      <th>1</th>\n",
       "      <td>2004-03-10</td>\n",
       "      <td>19:00:00</td>\n",
       "      <td>2.0</td>\n",
       "      <td>1292.25</td>\n",
       "      <td>112</td>\n",
       "      <td>9.397165</td>\n",
       "      <td>954.75</td>\n",
       "      <td>103.0</td>\n",
       "      <td>1173.75</td>\n",
       "      <td>92.0</td>\n",
       "      <td>1558.75</td>\n",
       "      <td>972.25</td>\n",
       "      <td>13.300</td>\n",
       "      <td>47.700000</td>\n",
       "      <td>0.725487</td>\n",
       "    </tr>\n",
       "    <tr>\n",
       "      <th>2</th>\n",
       "      <td>2004-03-10</td>\n",
       "      <td>20:00:00</td>\n",
       "      <td>2.2</td>\n",
       "      <td>1402.00</td>\n",
       "      <td>88</td>\n",
       "      <td>8.997817</td>\n",
       "      <td>939.25</td>\n",
       "      <td>131.0</td>\n",
       "      <td>1140.00</td>\n",
       "      <td>114.0</td>\n",
       "      <td>1554.50</td>\n",
       "      <td>1074.00</td>\n",
       "      <td>11.900</td>\n",
       "      <td>53.975000</td>\n",
       "      <td>0.750239</td>\n",
       "    </tr>\n",
       "    <tr>\n",
       "      <th>3</th>\n",
       "      <td>2004-03-10</td>\n",
       "      <td>21:00:00</td>\n",
       "      <td>2.2</td>\n",
       "      <td>1375.50</td>\n",
       "      <td>80</td>\n",
       "      <td>9.228796</td>\n",
       "      <td>948.25</td>\n",
       "      <td>172.0</td>\n",
       "      <td>1092.00</td>\n",
       "      <td>122.0</td>\n",
       "      <td>1583.75</td>\n",
       "      <td>1203.25</td>\n",
       "      <td>11.000</td>\n",
       "      <td>60.000000</td>\n",
       "      <td>0.786713</td>\n",
       "    </tr>\n",
       "    <tr>\n",
       "      <th>4</th>\n",
       "      <td>2004-03-10</td>\n",
       "      <td>22:00:00</td>\n",
       "      <td>1.6</td>\n",
       "      <td>1272.25</td>\n",
       "      <td>51</td>\n",
       "      <td>6.518224</td>\n",
       "      <td>835.50</td>\n",
       "      <td>131.0</td>\n",
       "      <td>1205.00</td>\n",
       "      <td>116.0</td>\n",
       "      <td>1490.00</td>\n",
       "      <td>1110.00</td>\n",
       "      <td>11.150</td>\n",
       "      <td>59.575001</td>\n",
       "      <td>0.788794</td>\n",
       "    </tr>\n",
       "    <tr>\n",
       "      <th>5</th>\n",
       "      <td>2004-03-10</td>\n",
       "      <td>23:00:00</td>\n",
       "      <td>1.2</td>\n",
       "      <td>1197.00</td>\n",
       "      <td>38</td>\n",
       "      <td>4.741012</td>\n",
       "      <td>750.25</td>\n",
       "      <td>89.0</td>\n",
       "      <td>1336.50</td>\n",
       "      <td>96.0</td>\n",
       "      <td>1393.00</td>\n",
       "      <td>949.25</td>\n",
       "      <td>11.175</td>\n",
       "      <td>59.175000</td>\n",
       "      <td>0.784772</td>\n",
       "    </tr>\n",
       "    <tr>\n",
       "      <th>6</th>\n",
       "      <td>2004-03-11</td>\n",
       "      <td>00:00:00</td>\n",
       "      <td>1.2</td>\n",
       "      <td>1185.00</td>\n",
       "      <td>31</td>\n",
       "      <td>3.624399</td>\n",
       "      <td>689.50</td>\n",
       "      <td>62.0</td>\n",
       "      <td>1461.75</td>\n",
       "      <td>77.0</td>\n",
       "      <td>1332.75</td>\n",
       "      <td>732.50</td>\n",
       "      <td>11.325</td>\n",
       "      <td>56.775000</td>\n",
       "      <td>0.760312</td>\n",
       "    </tr>\n",
       "    <tr>\n",
       "      <th>7</th>\n",
       "      <td>2004-03-11</td>\n",
       "      <td>01:00:00</td>\n",
       "      <td>1.0</td>\n",
       "      <td>1136.25</td>\n",
       "      <td>31</td>\n",
       "      <td>3.326677</td>\n",
       "      <td>672.00</td>\n",
       "      <td>62.0</td>\n",
       "      <td>1453.25</td>\n",
       "      <td>76.0</td>\n",
       "      <td>1332.75</td>\n",
       "      <td>729.50</td>\n",
       "      <td>10.675</td>\n",
       "      <td>60.000000</td>\n",
       "      <td>0.770238</td>\n",
       "    </tr>\n",
       "    <tr>\n",
       "      <th>8</th>\n",
       "      <td>2004-03-11</td>\n",
       "      <td>02:00:00</td>\n",
       "      <td>0.9</td>\n",
       "      <td>1094.00</td>\n",
       "      <td>24</td>\n",
       "      <td>2.339416</td>\n",
       "      <td>608.50</td>\n",
       "      <td>45.0</td>\n",
       "      <td>1579.00</td>\n",
       "      <td>60.0</td>\n",
       "      <td>1276.00</td>\n",
       "      <td>619.50</td>\n",
       "      <td>10.650</td>\n",
       "      <td>59.674999</td>\n",
       "      <td>0.764819</td>\n",
       "    </tr>\n",
       "    <tr>\n",
       "      <th>9</th>\n",
       "      <td>2004-03-11</td>\n",
       "      <td>03:00:00</td>\n",
       "      <td>0.6</td>\n",
       "      <td>1009.75</td>\n",
       "      <td>19</td>\n",
       "      <td>1.696658</td>\n",
       "      <td>560.75</td>\n",
       "      <td>-200.0</td>\n",
       "      <td>1705.00</td>\n",
       "      <td>-200.0</td>\n",
       "      <td>1234.75</td>\n",
       "      <td>501.25</td>\n",
       "      <td>10.250</td>\n",
       "      <td>60.200001</td>\n",
       "      <td>0.751657</td>\n",
       "    </tr>\n",
       "  </tbody>\n",
       "</table>\n",
       "</div>"
      ],
      "text/plain": [
       "        DATE      TIME  CO_GT  PT08_S1_CO  NMHC_GT    C6H6_GT  PT08_S2_NMHC  \\\n",
       "0 2004-03-10  18:00:00    2.6     1360.00      150  11.881723       1045.50   \n",
       "1 2004-03-10  19:00:00    2.0     1292.25      112   9.397165        954.75   \n",
       "2 2004-03-10  20:00:00    2.2     1402.00       88   8.997817        939.25   \n",
       "3 2004-03-10  21:00:00    2.2     1375.50       80   9.228796        948.25   \n",
       "4 2004-03-10  22:00:00    1.6     1272.25       51   6.518224        835.50   \n",
       "5 2004-03-10  23:00:00    1.2     1197.00       38   4.741012        750.25   \n",
       "6 2004-03-11  00:00:00    1.2     1185.00       31   3.624399        689.50   \n",
       "7 2004-03-11  01:00:00    1.0     1136.25       31   3.326677        672.00   \n",
       "8 2004-03-11  02:00:00    0.9     1094.00       24   2.339416        608.50   \n",
       "9 2004-03-11  03:00:00    0.6     1009.75       19   1.696658        560.75   \n",
       "\n",
       "   NOX_GT  PT08_S3_NOX  NO2_GT  PT08_S4_NO2  PT08_S5_O3       T         RH  \\\n",
       "0   166.0      1056.25   113.0      1692.00     1267.50  13.600  48.875001   \n",
       "1   103.0      1173.75    92.0      1558.75      972.25  13.300  47.700000   \n",
       "2   131.0      1140.00   114.0      1554.50     1074.00  11.900  53.975000   \n",
       "3   172.0      1092.00   122.0      1583.75     1203.25  11.000  60.000000   \n",
       "4   131.0      1205.00   116.0      1490.00     1110.00  11.150  59.575001   \n",
       "5    89.0      1336.50    96.0      1393.00      949.25  11.175  59.175000   \n",
       "6    62.0      1461.75    77.0      1332.75      732.50  11.325  56.775000   \n",
       "7    62.0      1453.25    76.0      1332.75      729.50  10.675  60.000000   \n",
       "8    45.0      1579.00    60.0      1276.00      619.50  10.650  59.674999   \n",
       "9  -200.0      1705.00  -200.0      1234.75      501.25  10.250  60.200001   \n",
       "\n",
       "         AH  \n",
       "0  0.757754  \n",
       "1  0.725487  \n",
       "2  0.750239  \n",
       "3  0.786713  \n",
       "4  0.788794  \n",
       "5  0.784772  \n",
       "6  0.760312  \n",
       "7  0.770238  \n",
       "8  0.764819  \n",
       "9  0.751657  "
      ]
     },
     "execution_count": 381,
     "metadata": {},
     "output_type": "execute_result"
    }
   ],
   "source": [
    "df1.head(10)"
   ]
  },
  {
   "cell_type": "code",
   "execution_count": null,
   "id": "1bd06a76",
   "metadata": {
    "id": "1bd06a76",
    "outputId": "c30421fe-c6bb-49f3-fc01-feff42c6ccaa"
   },
   "outputs": [
    {
     "data": {
      "text/plain": [
       "DATE            datetime64[ns]\n",
       "TIME                    object\n",
       "CO_GT                  float64\n",
       "PT08_S1_CO             float64\n",
       "NMHC_GT                  int64\n",
       "C6H6_GT                float64\n",
       "PT08_S2_NMHC           float64\n",
       "NOX_GT                 float64\n",
       "PT08_S3_NOX            float64\n",
       "NO2_GT                 float64\n",
       "PT08_S4_NO2            float64\n",
       "PT08_S5_O3             float64\n",
       "T                      float64\n",
       "RH                     float64\n",
       "AH                     float64\n",
       "dtype: object"
      ]
     },
     "execution_count": 382,
     "metadata": {},
     "output_type": "execute_result"
    }
   ],
   "source": [
    "df1.dtypes"
   ]
  },
  {
   "cell_type": "code",
   "execution_count": null,
   "id": "023e45b3",
   "metadata": {
    "id": "023e45b3"
   },
   "outputs": [],
   "source": [
    "df1.dropna(how='all',inplace=True)"
   ]
  },
  {
   "cell_type": "code",
   "execution_count": null,
   "id": "001b4d09",
   "metadata": {
    "id": "001b4d09",
    "outputId": "688bc27a-bc1c-4eec-e598-7b06ad4f4afa"
   },
   "outputs": [
    {
     "data": {
      "text/html": [
       "<div>\n",
       "<style scoped>\n",
       "    .dataframe tbody tr th:only-of-type {\n",
       "        vertical-align: middle;\n",
       "    }\n",
       "\n",
       "    .dataframe tbody tr th {\n",
       "        vertical-align: top;\n",
       "    }\n",
       "\n",
       "    .dataframe thead th {\n",
       "        text-align: right;\n",
       "    }\n",
       "</style>\n",
       "<table border=\"1\" class=\"dataframe\">\n",
       "  <thead>\n",
       "    <tr style=\"text-align: right;\">\n",
       "      <th></th>\n",
       "      <th>DATE</th>\n",
       "      <th>TIME</th>\n",
       "      <th>CO_GT</th>\n",
       "      <th>PT08_S1_CO</th>\n",
       "      <th>NMHC_GT</th>\n",
       "      <th>C6H6_GT</th>\n",
       "      <th>PT08_S2_NMHC</th>\n",
       "      <th>NOX_GT</th>\n",
       "      <th>PT08_S3_NOX</th>\n",
       "      <th>NO2_GT</th>\n",
       "      <th>PT08_S4_NO2</th>\n",
       "      <th>PT08_S5_O3</th>\n",
       "      <th>T</th>\n",
       "      <th>RH</th>\n",
       "      <th>AH</th>\n",
       "    </tr>\n",
       "  </thead>\n",
       "  <tbody>\n",
       "    <tr>\n",
       "      <th>9352</th>\n",
       "      <td>2005-04-04</td>\n",
       "      <td>10:00:00</td>\n",
       "      <td>3.1</td>\n",
       "      <td>1314.25</td>\n",
       "      <td>-200</td>\n",
       "      <td>13.529605</td>\n",
       "      <td>1101.25</td>\n",
       "      <td>471.7</td>\n",
       "      <td>538.50</td>\n",
       "      <td>189.8</td>\n",
       "      <td>1374.25</td>\n",
       "      <td>1728.50</td>\n",
       "      <td>21.850</td>\n",
       "      <td>29.250</td>\n",
       "      <td>0.756824</td>\n",
       "    </tr>\n",
       "    <tr>\n",
       "      <th>9353</th>\n",
       "      <td>2005-04-04</td>\n",
       "      <td>11:00:00</td>\n",
       "      <td>2.4</td>\n",
       "      <td>1162.50</td>\n",
       "      <td>-200</td>\n",
       "      <td>11.355157</td>\n",
       "      <td>1027.00</td>\n",
       "      <td>353.3</td>\n",
       "      <td>603.75</td>\n",
       "      <td>179.2</td>\n",
       "      <td>1263.50</td>\n",
       "      <td>1269.00</td>\n",
       "      <td>24.325</td>\n",
       "      <td>23.725</td>\n",
       "      <td>0.711864</td>\n",
       "    </tr>\n",
       "    <tr>\n",
       "      <th>9354</th>\n",
       "      <td>2005-04-04</td>\n",
       "      <td>12:00:00</td>\n",
       "      <td>2.4</td>\n",
       "      <td>1142.00</td>\n",
       "      <td>-200</td>\n",
       "      <td>12.374538</td>\n",
       "      <td>1062.50</td>\n",
       "      <td>293.0</td>\n",
       "      <td>603.25</td>\n",
       "      <td>174.7</td>\n",
       "      <td>1240.75</td>\n",
       "      <td>1092.00</td>\n",
       "      <td>26.900</td>\n",
       "      <td>18.350</td>\n",
       "      <td>0.640649</td>\n",
       "    </tr>\n",
       "    <tr>\n",
       "      <th>9355</th>\n",
       "      <td>2005-04-04</td>\n",
       "      <td>13:00:00</td>\n",
       "      <td>2.1</td>\n",
       "      <td>1002.50</td>\n",
       "      <td>-200</td>\n",
       "      <td>9.547187</td>\n",
       "      <td>960.50</td>\n",
       "      <td>234.5</td>\n",
       "      <td>701.50</td>\n",
       "      <td>155.7</td>\n",
       "      <td>1041.00</td>\n",
       "      <td>769.75</td>\n",
       "      <td>28.325</td>\n",
       "      <td>13.550</td>\n",
       "      <td>0.513866</td>\n",
       "    </tr>\n",
       "    <tr>\n",
       "      <th>9356</th>\n",
       "      <td>2005-04-04</td>\n",
       "      <td>14:00:00</td>\n",
       "      <td>2.2</td>\n",
       "      <td>1070.75</td>\n",
       "      <td>-200</td>\n",
       "      <td>11.932060</td>\n",
       "      <td>1047.25</td>\n",
       "      <td>265.2</td>\n",
       "      <td>654.00</td>\n",
       "      <td>167.7</td>\n",
       "      <td>1128.50</td>\n",
       "      <td>816.00</td>\n",
       "      <td>28.500</td>\n",
       "      <td>13.125</td>\n",
       "      <td>0.502804</td>\n",
       "    </tr>\n",
       "  </tbody>\n",
       "</table>\n",
       "</div>"
      ],
      "text/plain": [
       "           DATE      TIME  CO_GT  PT08_S1_CO  NMHC_GT    C6H6_GT  \\\n",
       "9352 2005-04-04  10:00:00    3.1     1314.25     -200  13.529605   \n",
       "9353 2005-04-04  11:00:00    2.4     1162.50     -200  11.355157   \n",
       "9354 2005-04-04  12:00:00    2.4     1142.00     -200  12.374538   \n",
       "9355 2005-04-04  13:00:00    2.1     1002.50     -200   9.547187   \n",
       "9356 2005-04-04  14:00:00    2.2     1070.75     -200  11.932060   \n",
       "\n",
       "      PT08_S2_NMHC  NOX_GT  PT08_S3_NOX  NO2_GT  PT08_S4_NO2  PT08_S5_O3  \\\n",
       "9352       1101.25   471.7       538.50   189.8      1374.25     1728.50   \n",
       "9353       1027.00   353.3       603.75   179.2      1263.50     1269.00   \n",
       "9354       1062.50   293.0       603.25   174.7      1240.75     1092.00   \n",
       "9355        960.50   234.5       701.50   155.7      1041.00      769.75   \n",
       "9356       1047.25   265.2       654.00   167.7      1128.50      816.00   \n",
       "\n",
       "           T      RH        AH  \n",
       "9352  21.850  29.250  0.756824  \n",
       "9353  24.325  23.725  0.711864  \n",
       "9354  26.900  18.350  0.640649  \n",
       "9355  28.325  13.550  0.513866  \n",
       "9356  28.500  13.125  0.502804  "
      ]
     },
     "execution_count": 384,
     "metadata": {},
     "output_type": "execute_result"
    }
   ],
   "source": [
    "df1.tail(5)"
   ]
  },
  {
   "cell_type": "code",
   "execution_count": null,
   "id": "4796a069",
   "metadata": {
    "id": "4796a069",
    "outputId": "b118d5c0-b751-42ca-dd74-17e43f8c8975"
   },
   "outputs": [
    {
     "data": {
      "text/html": [
       "<div>\n",
       "<style scoped>\n",
       "    .dataframe tbody tr th:only-of-type {\n",
       "        vertical-align: middle;\n",
       "    }\n",
       "\n",
       "    .dataframe tbody tr th {\n",
       "        vertical-align: top;\n",
       "    }\n",
       "\n",
       "    .dataframe thead th {\n",
       "        text-align: right;\n",
       "    }\n",
       "</style>\n",
       "<table border=\"1\" class=\"dataframe\">\n",
       "  <thead>\n",
       "    <tr style=\"text-align: right;\">\n",
       "      <th></th>\n",
       "      <th>count</th>\n",
       "      <th>mean</th>\n",
       "      <th>std</th>\n",
       "      <th>min</th>\n",
       "      <th>25%</th>\n",
       "      <th>50%</th>\n",
       "      <th>75%</th>\n",
       "      <th>max</th>\n",
       "    </tr>\n",
       "  </thead>\n",
       "  <tbody>\n",
       "    <tr>\n",
       "      <th>CO_GT</th>\n",
       "      <td>9357.0</td>\n",
       "      <td>-34.207524</td>\n",
       "      <td>77.657170</td>\n",
       "      <td>-200.0</td>\n",
       "      <td>0.600000</td>\n",
       "      <td>1.500000</td>\n",
       "      <td>2.600000</td>\n",
       "      <td>11.900000</td>\n",
       "    </tr>\n",
       "    <tr>\n",
       "      <th>PT08_S1_CO</th>\n",
       "      <td>9357.0</td>\n",
       "      <td>1048.869652</td>\n",
       "      <td>329.817015</td>\n",
       "      <td>-200.0</td>\n",
       "      <td>921.000000</td>\n",
       "      <td>1052.500000</td>\n",
       "      <td>1221.250000</td>\n",
       "      <td>2039.750000</td>\n",
       "    </tr>\n",
       "    <tr>\n",
       "      <th>NMHC_GT</th>\n",
       "      <td>9357.0</td>\n",
       "      <td>-159.090093</td>\n",
       "      <td>139.789093</td>\n",
       "      <td>-200.0</td>\n",
       "      <td>-200.000000</td>\n",
       "      <td>-200.000000</td>\n",
       "      <td>-200.000000</td>\n",
       "      <td>1189.000000</td>\n",
       "    </tr>\n",
       "    <tr>\n",
       "      <th>C6H6_GT</th>\n",
       "      <td>9357.0</td>\n",
       "      <td>1.865576</td>\n",
       "      <td>41.380154</td>\n",
       "      <td>-200.0</td>\n",
       "      <td>4.004958</td>\n",
       "      <td>7.886653</td>\n",
       "      <td>13.636091</td>\n",
       "      <td>63.741476</td>\n",
       "    </tr>\n",
       "    <tr>\n",
       "      <th>PT08_S2_NMHC</th>\n",
       "      <td>9357.0</td>\n",
       "      <td>894.475963</td>\n",
       "      <td>342.315902</td>\n",
       "      <td>-200.0</td>\n",
       "      <td>711.000000</td>\n",
       "      <td>894.500000</td>\n",
       "      <td>1104.750000</td>\n",
       "      <td>2214.000000</td>\n",
       "    </tr>\n",
       "    <tr>\n",
       "      <th>NOX_GT</th>\n",
       "      <td>9357.0</td>\n",
       "      <td>168.604200</td>\n",
       "      <td>257.424561</td>\n",
       "      <td>-200.0</td>\n",
       "      <td>50.000000</td>\n",
       "      <td>141.000000</td>\n",
       "      <td>284.200000</td>\n",
       "      <td>1479.000000</td>\n",
       "    </tr>\n",
       "    <tr>\n",
       "      <th>PT08_S3_NOX</th>\n",
       "      <td>9357.0</td>\n",
       "      <td>794.872333</td>\n",
       "      <td>321.977031</td>\n",
       "      <td>-200.0</td>\n",
       "      <td>637.000000</td>\n",
       "      <td>794.250000</td>\n",
       "      <td>960.250000</td>\n",
       "      <td>2682.750000</td>\n",
       "    </tr>\n",
       "    <tr>\n",
       "      <th>NO2_GT</th>\n",
       "      <td>9357.0</td>\n",
       "      <td>58.135898</td>\n",
       "      <td>126.931428</td>\n",
       "      <td>-200.0</td>\n",
       "      <td>53.000000</td>\n",
       "      <td>96.000000</td>\n",
       "      <td>133.000000</td>\n",
       "      <td>339.700000</td>\n",
       "    </tr>\n",
       "    <tr>\n",
       "      <th>PT08_S4_NO2</th>\n",
       "      <td>9357.0</td>\n",
       "      <td>1391.363266</td>\n",
       "      <td>467.192382</td>\n",
       "      <td>-200.0</td>\n",
       "      <td>1184.750000</td>\n",
       "      <td>1445.500000</td>\n",
       "      <td>1662.000000</td>\n",
       "      <td>2775.000000</td>\n",
       "    </tr>\n",
       "    <tr>\n",
       "      <th>PT08_S5_O3</th>\n",
       "      <td>9357.0</td>\n",
       "      <td>974.951534</td>\n",
       "      <td>456.922728</td>\n",
       "      <td>-200.0</td>\n",
       "      <td>699.750000</td>\n",
       "      <td>942.000000</td>\n",
       "      <td>1255.250000</td>\n",
       "      <td>2522.750000</td>\n",
       "    </tr>\n",
       "    <tr>\n",
       "      <th>T</th>\n",
       "      <td>9357.0</td>\n",
       "      <td>9.776600</td>\n",
       "      <td>43.203438</td>\n",
       "      <td>-200.0</td>\n",
       "      <td>10.950000</td>\n",
       "      <td>17.200000</td>\n",
       "      <td>24.075000</td>\n",
       "      <td>44.600000</td>\n",
       "    </tr>\n",
       "    <tr>\n",
       "      <th>RH</th>\n",
       "      <td>9357.0</td>\n",
       "      <td>39.483611</td>\n",
       "      <td>51.215645</td>\n",
       "      <td>-200.0</td>\n",
       "      <td>34.050000</td>\n",
       "      <td>48.550000</td>\n",
       "      <td>61.875000</td>\n",
       "      <td>88.725000</td>\n",
       "    </tr>\n",
       "    <tr>\n",
       "      <th>AH</th>\n",
       "      <td>9357.0</td>\n",
       "      <td>-6.837604</td>\n",
       "      <td>38.976670</td>\n",
       "      <td>-200.0</td>\n",
       "      <td>0.692275</td>\n",
       "      <td>0.976823</td>\n",
       "      <td>1.296223</td>\n",
       "      <td>2.231036</td>\n",
       "    </tr>\n",
       "  </tbody>\n",
       "</table>\n",
       "</div>"
      ],
      "text/plain": [
       "               count         mean         std    min          25%  \\\n",
       "CO_GT         9357.0   -34.207524   77.657170 -200.0     0.600000   \n",
       "PT08_S1_CO    9357.0  1048.869652  329.817015 -200.0   921.000000   \n",
       "NMHC_GT       9357.0  -159.090093  139.789093 -200.0  -200.000000   \n",
       "C6H6_GT       9357.0     1.865576   41.380154 -200.0     4.004958   \n",
       "PT08_S2_NMHC  9357.0   894.475963  342.315902 -200.0   711.000000   \n",
       "NOX_GT        9357.0   168.604200  257.424561 -200.0    50.000000   \n",
       "PT08_S3_NOX   9357.0   794.872333  321.977031 -200.0   637.000000   \n",
       "NO2_GT        9357.0    58.135898  126.931428 -200.0    53.000000   \n",
       "PT08_S4_NO2   9357.0  1391.363266  467.192382 -200.0  1184.750000   \n",
       "PT08_S5_O3    9357.0   974.951534  456.922728 -200.0   699.750000   \n",
       "T             9357.0     9.776600   43.203438 -200.0    10.950000   \n",
       "RH            9357.0    39.483611   51.215645 -200.0    34.050000   \n",
       "AH            9357.0    -6.837604   38.976670 -200.0     0.692275   \n",
       "\n",
       "                      50%          75%          max  \n",
       "CO_GT            1.500000     2.600000    11.900000  \n",
       "PT08_S1_CO    1052.500000  1221.250000  2039.750000  \n",
       "NMHC_GT       -200.000000  -200.000000  1189.000000  \n",
       "C6H6_GT          7.886653    13.636091    63.741476  \n",
       "PT08_S2_NMHC   894.500000  1104.750000  2214.000000  \n",
       "NOX_GT         141.000000   284.200000  1479.000000  \n",
       "PT08_S3_NOX    794.250000   960.250000  2682.750000  \n",
       "NO2_GT          96.000000   133.000000   339.700000  \n",
       "PT08_S4_NO2   1445.500000  1662.000000  2775.000000  \n",
       "PT08_S5_O3     942.000000  1255.250000  2522.750000  \n",
       "T               17.200000    24.075000    44.600000  \n",
       "RH              48.550000    61.875000    88.725000  \n",
       "AH               0.976823     1.296223     2.231036  "
      ]
     },
     "execution_count": 385,
     "metadata": {},
     "output_type": "execute_result"
    }
   ],
   "source": [
    "df1.describe().T"
   ]
  },
  {
   "cell_type": "code",
   "execution_count": null,
   "id": "8cff6a7b",
   "metadata": {
    "id": "8cff6a7b",
    "outputId": "371cb504-f7f9-4f9b-a854-6bf03ad7aa5c"
   },
   "outputs": [
    {
     "name": "stdout",
     "output_type": "stream",
     "text": [
      "Missing values:\n",
      "\n",
      " DATE            0\n",
      "TIME            0\n",
      "CO_GT           0\n",
      "PT08_S1_CO      0\n",
      "NMHC_GT         0\n",
      "C6H6_GT         0\n",
      "PT08_S2_NMHC    0\n",
      "NOX_GT          0\n",
      "PT08_S3_NOX     0\n",
      "NO2_GT          0\n",
      "PT08_S4_NO2     0\n",
      "PT08_S5_O3      0\n",
      "T               0\n",
      "RH              0\n",
      "AH              0\n",
      "dtype: int64\n",
      "\n",
      "\n",
      "No Missing Values\n"
     ]
    }
   ],
   "source": [
    "print('Missing values:\\n\\n',df1.shape[0]-df1.count())\n",
    "clean=(df1.shape[0]-df1.count()).sum()\n",
    "print(\"\\n\")\n",
    "if(clean==0):\n",
    "    print(\"No Missing Values\")"
   ]
  },
  {
   "cell_type": "code",
   "execution_count": null,
   "id": "26ecf117",
   "metadata": {
    "id": "26ecf117",
    "outputId": "41fcddbf-dbfb-4d7d-8364-d42ba8bf5068"
   },
   "outputs": [
    {
     "data": {
      "text/html": [
       "<div>\n",
       "<style scoped>\n",
       "    .dataframe tbody tr th:only-of-type {\n",
       "        vertical-align: middle;\n",
       "    }\n",
       "\n",
       "    .dataframe tbody tr th {\n",
       "        vertical-align: top;\n",
       "    }\n",
       "\n",
       "    .dataframe thead th {\n",
       "        text-align: right;\n",
       "    }\n",
       "</style>\n",
       "<table border=\"1\" class=\"dataframe\">\n",
       "  <thead>\n",
       "    <tr style=\"text-align: right;\">\n",
       "      <th></th>\n",
       "      <th>DATE</th>\n",
       "      <th>TIME</th>\n",
       "      <th>CO_GT</th>\n",
       "      <th>PT08_S1_CO</th>\n",
       "      <th>NMHC_GT</th>\n",
       "      <th>C6H6_GT</th>\n",
       "      <th>PT08_S2_NMHC</th>\n",
       "      <th>NOX_GT</th>\n",
       "      <th>PT08_S3_NOX</th>\n",
       "      <th>NO2_GT</th>\n",
       "      <th>PT08_S4_NO2</th>\n",
       "      <th>PT08_S5_O3</th>\n",
       "      <th>T</th>\n",
       "      <th>RH</th>\n",
       "      <th>AH</th>\n",
       "      <th>MONTH</th>\n",
       "    </tr>\n",
       "  </thead>\n",
       "  <tbody>\n",
       "    <tr>\n",
       "      <th>0</th>\n",
       "      <td>2004-03-10</td>\n",
       "      <td>18:00:00</td>\n",
       "      <td>2.6</td>\n",
       "      <td>1360.00</td>\n",
       "      <td>150</td>\n",
       "      <td>11.881723</td>\n",
       "      <td>1045.50</td>\n",
       "      <td>166.0</td>\n",
       "      <td>1056.25</td>\n",
       "      <td>113.0</td>\n",
       "      <td>1692.00</td>\n",
       "      <td>1267.50</td>\n",
       "      <td>13.60</td>\n",
       "      <td>48.875001</td>\n",
       "      <td>0.757754</td>\n",
       "      <td>3</td>\n",
       "    </tr>\n",
       "    <tr>\n",
       "      <th>1</th>\n",
       "      <td>2004-03-10</td>\n",
       "      <td>19:00:00</td>\n",
       "      <td>2.0</td>\n",
       "      <td>1292.25</td>\n",
       "      <td>112</td>\n",
       "      <td>9.397165</td>\n",
       "      <td>954.75</td>\n",
       "      <td>103.0</td>\n",
       "      <td>1173.75</td>\n",
       "      <td>92.0</td>\n",
       "      <td>1558.75</td>\n",
       "      <td>972.25</td>\n",
       "      <td>13.30</td>\n",
       "      <td>47.700000</td>\n",
       "      <td>0.725487</td>\n",
       "      <td>3</td>\n",
       "    </tr>\n",
       "    <tr>\n",
       "      <th>2</th>\n",
       "      <td>2004-03-10</td>\n",
       "      <td>20:00:00</td>\n",
       "      <td>2.2</td>\n",
       "      <td>1402.00</td>\n",
       "      <td>88</td>\n",
       "      <td>8.997817</td>\n",
       "      <td>939.25</td>\n",
       "      <td>131.0</td>\n",
       "      <td>1140.00</td>\n",
       "      <td>114.0</td>\n",
       "      <td>1554.50</td>\n",
       "      <td>1074.00</td>\n",
       "      <td>11.90</td>\n",
       "      <td>53.975000</td>\n",
       "      <td>0.750239</td>\n",
       "      <td>3</td>\n",
       "    </tr>\n",
       "    <tr>\n",
       "      <th>3</th>\n",
       "      <td>2004-03-10</td>\n",
       "      <td>21:00:00</td>\n",
       "      <td>2.2</td>\n",
       "      <td>1375.50</td>\n",
       "      <td>80</td>\n",
       "      <td>9.228796</td>\n",
       "      <td>948.25</td>\n",
       "      <td>172.0</td>\n",
       "      <td>1092.00</td>\n",
       "      <td>122.0</td>\n",
       "      <td>1583.75</td>\n",
       "      <td>1203.25</td>\n",
       "      <td>11.00</td>\n",
       "      <td>60.000000</td>\n",
       "      <td>0.786713</td>\n",
       "      <td>3</td>\n",
       "    </tr>\n",
       "    <tr>\n",
       "      <th>4</th>\n",
       "      <td>2004-03-10</td>\n",
       "      <td>22:00:00</td>\n",
       "      <td>1.6</td>\n",
       "      <td>1272.25</td>\n",
       "      <td>51</td>\n",
       "      <td>6.518224</td>\n",
       "      <td>835.50</td>\n",
       "      <td>131.0</td>\n",
       "      <td>1205.00</td>\n",
       "      <td>116.0</td>\n",
       "      <td>1490.00</td>\n",
       "      <td>1110.00</td>\n",
       "      <td>11.15</td>\n",
       "      <td>59.575001</td>\n",
       "      <td>0.788794</td>\n",
       "      <td>3</td>\n",
       "    </tr>\n",
       "  </tbody>\n",
       "</table>\n",
       "</div>"
      ],
      "text/plain": [
       "        DATE      TIME  CO_GT  PT08_S1_CO  NMHC_GT    C6H6_GT  PT08_S2_NMHC  \\\n",
       "0 2004-03-10  18:00:00    2.6     1360.00      150  11.881723       1045.50   \n",
       "1 2004-03-10  19:00:00    2.0     1292.25      112   9.397165        954.75   \n",
       "2 2004-03-10  20:00:00    2.2     1402.00       88   8.997817        939.25   \n",
       "3 2004-03-10  21:00:00    2.2     1375.50       80   9.228796        948.25   \n",
       "4 2004-03-10  22:00:00    1.6     1272.25       51   6.518224        835.50   \n",
       "\n",
       "   NOX_GT  PT08_S3_NOX  NO2_GT  PT08_S4_NO2  PT08_S5_O3      T         RH  \\\n",
       "0   166.0      1056.25   113.0      1692.00     1267.50  13.60  48.875001   \n",
       "1   103.0      1173.75    92.0      1558.75      972.25  13.30  47.700000   \n",
       "2   131.0      1140.00   114.0      1554.50     1074.00  11.90  53.975000   \n",
       "3   172.0      1092.00   122.0      1583.75     1203.25  11.00  60.000000   \n",
       "4   131.0      1205.00   116.0      1490.00     1110.00  11.15  59.575001   \n",
       "\n",
       "         AH  MONTH  \n",
       "0  0.757754      3  \n",
       "1  0.725487      3  \n",
       "2  0.750239      3  \n",
       "3  0.786713      3  \n",
       "4  0.788794      3  "
      ]
     },
     "execution_count": 387,
     "metadata": {},
     "output_type": "execute_result"
    }
   ],
   "source": [
    "df1['DATE']=pd.to_datetime(df1.DATE, format='%d-%m-%Y')\n",
    "df1['MONTH']= df1['DATE'].dt.month  \n",
    "df1.head(5)"
   ]
  },
  {
   "cell_type": "code",
   "execution_count": null,
   "id": "f5cab32b",
   "metadata": {
    "id": "f5cab32b",
    "outputId": "940e16fa-fc10-4157-8331-003ac8c40331"
   },
   "outputs": [
    {
     "data": {
      "text/plain": [
       "0    18\n",
       "1    19\n",
       "2    20\n",
       "3    21\n",
       "4    22\n",
       "5    23\n",
       "6     0\n",
       "7     1\n",
       "8     2\n",
       "9     3\n",
       "Name: HOUR, dtype: int32"
      ]
     },
     "execution_count": 388,
     "metadata": {},
     "output_type": "execute_result"
    }
   ],
   "source": [
    "X=[]\n",
    "for i in df1['TIME']:\n",
    "    i = str(i)\n",
    "    Hour = (datetime.datetime.strptime(i,'%H:%M:%S')).hour\n",
    "    X.append(Hour)\n",
    "X = np.array(X)\n",
    "df1['HOUR']=X.T  \n",
    "df1.HOUR.head(10)"
   ]
  },
  {
   "cell_type": "code",
   "execution_count": null,
   "id": "1d04c73d",
   "metadata": {
    "id": "1d04c73d",
    "outputId": "4bd39642-3409-4fc4-c20b-a5faaea39447"
   },
   "outputs": [
    {
     "data": {
      "text/html": [
       "<div>\n",
       "<style scoped>\n",
       "    .dataframe tbody tr th:only-of-type {\n",
       "        vertical-align: middle;\n",
       "    }\n",
       "\n",
       "    .dataframe tbody tr th {\n",
       "        vertical-align: top;\n",
       "    }\n",
       "\n",
       "    .dataframe thead th {\n",
       "        text-align: right;\n",
       "    }\n",
       "</style>\n",
       "<table border=\"1\" class=\"dataframe\">\n",
       "  <thead>\n",
       "    <tr style=\"text-align: right;\">\n",
       "      <th></th>\n",
       "      <th>DATE</th>\n",
       "      <th>TIME</th>\n",
       "      <th>CO_GT</th>\n",
       "      <th>PT08_S1_CO</th>\n",
       "      <th>NMHC_GT</th>\n",
       "      <th>C6H6_GT</th>\n",
       "      <th>PT08_S2_NMHC</th>\n",
       "      <th>NOX_GT</th>\n",
       "      <th>PT08_S3_NOX</th>\n",
       "      <th>NO2_GT</th>\n",
       "      <th>PT08_S4_NO2</th>\n",
       "      <th>PT08_S5_O3</th>\n",
       "      <th>T</th>\n",
       "      <th>RH</th>\n",
       "      <th>AH</th>\n",
       "      <th>MONTH</th>\n",
       "      <th>HOUR</th>\n",
       "    </tr>\n",
       "  </thead>\n",
       "  <tbody>\n",
       "    <tr>\n",
       "      <th>0</th>\n",
       "      <td>2004-03-10</td>\n",
       "      <td>18:00:00</td>\n",
       "      <td>2.6</td>\n",
       "      <td>1360.00</td>\n",
       "      <td>150</td>\n",
       "      <td>11.881723</td>\n",
       "      <td>1045.50</td>\n",
       "      <td>166.0</td>\n",
       "      <td>1056.25</td>\n",
       "      <td>113.0</td>\n",
       "      <td>1692.00</td>\n",
       "      <td>1267.50</td>\n",
       "      <td>13.60</td>\n",
       "      <td>48.875001</td>\n",
       "      <td>0.757754</td>\n",
       "      <td>3</td>\n",
       "      <td>18</td>\n",
       "    </tr>\n",
       "    <tr>\n",
       "      <th>1</th>\n",
       "      <td>2004-03-10</td>\n",
       "      <td>19:00:00</td>\n",
       "      <td>2.0</td>\n",
       "      <td>1292.25</td>\n",
       "      <td>112</td>\n",
       "      <td>9.397165</td>\n",
       "      <td>954.75</td>\n",
       "      <td>103.0</td>\n",
       "      <td>1173.75</td>\n",
       "      <td>92.0</td>\n",
       "      <td>1558.75</td>\n",
       "      <td>972.25</td>\n",
       "      <td>13.30</td>\n",
       "      <td>47.700000</td>\n",
       "      <td>0.725487</td>\n",
       "      <td>3</td>\n",
       "      <td>19</td>\n",
       "    </tr>\n",
       "    <tr>\n",
       "      <th>2</th>\n",
       "      <td>2004-03-10</td>\n",
       "      <td>20:00:00</td>\n",
       "      <td>2.2</td>\n",
       "      <td>1402.00</td>\n",
       "      <td>88</td>\n",
       "      <td>8.997817</td>\n",
       "      <td>939.25</td>\n",
       "      <td>131.0</td>\n",
       "      <td>1140.00</td>\n",
       "      <td>114.0</td>\n",
       "      <td>1554.50</td>\n",
       "      <td>1074.00</td>\n",
       "      <td>11.90</td>\n",
       "      <td>53.975000</td>\n",
       "      <td>0.750239</td>\n",
       "      <td>3</td>\n",
       "      <td>20</td>\n",
       "    </tr>\n",
       "    <tr>\n",
       "      <th>3</th>\n",
       "      <td>2004-03-10</td>\n",
       "      <td>21:00:00</td>\n",
       "      <td>2.2</td>\n",
       "      <td>1375.50</td>\n",
       "      <td>80</td>\n",
       "      <td>9.228796</td>\n",
       "      <td>948.25</td>\n",
       "      <td>172.0</td>\n",
       "      <td>1092.00</td>\n",
       "      <td>122.0</td>\n",
       "      <td>1583.75</td>\n",
       "      <td>1203.25</td>\n",
       "      <td>11.00</td>\n",
       "      <td>60.000000</td>\n",
       "      <td>0.786713</td>\n",
       "      <td>3</td>\n",
       "      <td>21</td>\n",
       "    </tr>\n",
       "    <tr>\n",
       "      <th>4</th>\n",
       "      <td>2004-03-10</td>\n",
       "      <td>22:00:00</td>\n",
       "      <td>1.6</td>\n",
       "      <td>1272.25</td>\n",
       "      <td>51</td>\n",
       "      <td>6.518224</td>\n",
       "      <td>835.50</td>\n",
       "      <td>131.0</td>\n",
       "      <td>1205.00</td>\n",
       "      <td>116.0</td>\n",
       "      <td>1490.00</td>\n",
       "      <td>1110.00</td>\n",
       "      <td>11.15</td>\n",
       "      <td>59.575001</td>\n",
       "      <td>0.788794</td>\n",
       "      <td>3</td>\n",
       "      <td>22</td>\n",
       "    </tr>\n",
       "  </tbody>\n",
       "</table>\n",
       "</div>"
      ],
      "text/plain": [
       "        DATE      TIME  CO_GT  PT08_S1_CO  NMHC_GT    C6H6_GT  PT08_S2_NMHC  \\\n",
       "0 2004-03-10  18:00:00    2.6     1360.00      150  11.881723       1045.50   \n",
       "1 2004-03-10  19:00:00    2.0     1292.25      112   9.397165        954.75   \n",
       "2 2004-03-10  20:00:00    2.2     1402.00       88   8.997817        939.25   \n",
       "3 2004-03-10  21:00:00    2.2     1375.50       80   9.228796        948.25   \n",
       "4 2004-03-10  22:00:00    1.6     1272.25       51   6.518224        835.50   \n",
       "\n",
       "   NOX_GT  PT08_S3_NOX  NO2_GT  PT08_S4_NO2  PT08_S5_O3      T         RH  \\\n",
       "0   166.0      1056.25   113.0      1692.00     1267.50  13.60  48.875001   \n",
       "1   103.0      1173.75    92.0      1558.75      972.25  13.30  47.700000   \n",
       "2   131.0      1140.00   114.0      1554.50     1074.00  11.90  53.975000   \n",
       "3   172.0      1092.00   122.0      1583.75     1203.25  11.00  60.000000   \n",
       "4   131.0      1205.00   116.0      1490.00     1110.00  11.15  59.575001   \n",
       "\n",
       "         AH  MONTH  HOUR  \n",
       "0  0.757754      3    18  \n",
       "1  0.725487      3    19  \n",
       "2  0.750239      3    20  \n",
       "3  0.786713      3    21  \n",
       "4  0.788794      3    22  "
      ]
     },
     "execution_count": 389,
     "metadata": {},
     "output_type": "execute_result"
    }
   ],
   "source": [
    "df1.head(5)"
   ]
  },
  {
   "cell_type": "code",
   "execution_count": null,
   "id": "807be80b",
   "metadata": {
    "id": "807be80b",
    "outputId": "76e2a34d-d927-46fd-e5b1-9becfa3460ec"
   },
   "outputs": [
    {
     "data": {
      "text/plain": [
       "<AxesSubplot: >"
      ]
     },
     "execution_count": 390,
     "metadata": {},
     "output_type": "execute_result"
    },
    {
     "data": {
      "image/png": "[encoded data removed]",
      "text/plain": [
       "<Figure size 800x600 with 2 Axes>"
      ]
     },
     "metadata": {},
     "output_type": "display_data"
    }
   ],
   "source": [
    "ax= plt.subplots(figsize=(8,6))\n",
    "sns.heatmap(df1.corr().round(3),annot=False,vmin=-1,vmax=1,cmap='vlag')"
   ]
  },
  {
   "cell_type": "code",
   "execution_count": null,
   "id": "b99765a8",
   "metadata": {
    "id": "b99765a8"
   },
   "outputs": [],
   "source": [
    "# df1= df1.to_numpy()\n",
    "from sklearn.model_selection import train_test_split\n",
    "from sklearn.preprocessing import StandardScaler "
   ]
  },
  {
   "cell_type": "code",
   "execution_count": null,
   "id": "e33abe05",
   "metadata": {
    "id": "e33abe05",
    "outputId": "5abc1672-eee2-44ae-9748-4537bcf9044e"
   },
   "outputs": [
    {
     "name": "stderr",
     "output_type": "stream",
     "text": [
      "C:\\Users\\Sneh Omer\\AppData\\Local\\Temp\\ipykernel_19852\\1560348009.py:2: FutureWarning: In a future version of pandas all arguments of DataFrame.drop except for the argument 'labels' will be keyword-only.\n",
      "  X=df1[col1].drop('RH',1)\n"
     ]
    },
    {
     "data": {
      "text/html": [
       "<div>\n",
       "<style scoped>\n",
       "    .dataframe tbody tr th:only-of-type {\n",
       "        vertical-align: middle;\n",
       "    }\n",
       "\n",
       "    .dataframe tbody tr th {\n",
       "        vertical-align: top;\n",
       "    }\n",
       "\n",
       "    .dataframe thead th {\n",
       "        text-align: right;\n",
       "    }\n",
       "</style>\n",
       "<table border=\"1\" class=\"dataframe\">\n",
       "  <thead>\n",
       "    <tr style=\"text-align: right;\">\n",
       "      <th></th>\n",
       "      <th>CO_GT</th>\n",
       "      <th>PT08_S1_CO</th>\n",
       "      <th>NMHC_GT</th>\n",
       "      <th>C6H6_GT</th>\n",
       "      <th>PT08_S2_NMHC</th>\n",
       "      <th>NOX_GT</th>\n",
       "      <th>PT08_S3_NOX</th>\n",
       "      <th>NO2_GT</th>\n",
       "      <th>PT08_S4_NO2</th>\n",
       "      <th>PT08_S5_O3</th>\n",
       "      <th>T</th>\n",
       "      <th>AH</th>\n",
       "      <th>MONTH</th>\n",
       "      <th>HOUR</th>\n",
       "    </tr>\n",
       "  </thead>\n",
       "  <tbody>\n",
       "    <tr>\n",
       "      <th>0</th>\n",
       "      <td>2.6</td>\n",
       "      <td>1360.00</td>\n",
       "      <td>150</td>\n",
       "      <td>11.881723</td>\n",
       "      <td>1045.50</td>\n",
       "      <td>166.0</td>\n",
       "      <td>1056.25</td>\n",
       "      <td>113.0</td>\n",
       "      <td>1692.00</td>\n",
       "      <td>1267.50</td>\n",
       "      <td>13.60</td>\n",
       "      <td>0.757754</td>\n",
       "      <td>3</td>\n",
       "      <td>18</td>\n",
       "    </tr>\n",
       "    <tr>\n",
       "      <th>1</th>\n",
       "      <td>2.0</td>\n",
       "      <td>1292.25</td>\n",
       "      <td>112</td>\n",
       "      <td>9.397165</td>\n",
       "      <td>954.75</td>\n",
       "      <td>103.0</td>\n",
       "      <td>1173.75</td>\n",
       "      <td>92.0</td>\n",
       "      <td>1558.75</td>\n",
       "      <td>972.25</td>\n",
       "      <td>13.30</td>\n",
       "      <td>0.725487</td>\n",
       "      <td>3</td>\n",
       "      <td>19</td>\n",
       "    </tr>\n",
       "    <tr>\n",
       "      <th>2</th>\n",
       "      <td>2.2</td>\n",
       "      <td>1402.00</td>\n",
       "      <td>88</td>\n",
       "      <td>8.997817</td>\n",
       "      <td>939.25</td>\n",
       "      <td>131.0</td>\n",
       "      <td>1140.00</td>\n",
       "      <td>114.0</td>\n",
       "      <td>1554.50</td>\n",
       "      <td>1074.00</td>\n",
       "      <td>11.90</td>\n",
       "      <td>0.750239</td>\n",
       "      <td>3</td>\n",
       "      <td>20</td>\n",
       "    </tr>\n",
       "    <tr>\n",
       "      <th>3</th>\n",
       "      <td>2.2</td>\n",
       "      <td>1375.50</td>\n",
       "      <td>80</td>\n",
       "      <td>9.228796</td>\n",
       "      <td>948.25</td>\n",
       "      <td>172.0</td>\n",
       "      <td>1092.00</td>\n",
       "      <td>122.0</td>\n",
       "      <td>1583.75</td>\n",
       "      <td>1203.25</td>\n",
       "      <td>11.00</td>\n",
       "      <td>0.786713</td>\n",
       "      <td>3</td>\n",
       "      <td>21</td>\n",
       "    </tr>\n",
       "    <tr>\n",
       "      <th>4</th>\n",
       "      <td>1.6</td>\n",
       "      <td>1272.25</td>\n",
       "      <td>51</td>\n",
       "      <td>6.518224</td>\n",
       "      <td>835.50</td>\n",
       "      <td>131.0</td>\n",
       "      <td>1205.00</td>\n",
       "      <td>116.0</td>\n",
       "      <td>1490.00</td>\n",
       "      <td>1110.00</td>\n",
       "      <td>11.15</td>\n",
       "      <td>0.788794</td>\n",
       "      <td>3</td>\n",
       "      <td>22</td>\n",
       "    </tr>\n",
       "  </tbody>\n",
       "</table>\n",
       "</div>"
      ],
      "text/plain": [
       "   CO_GT  PT08_S1_CO  NMHC_GT    C6H6_GT  PT08_S2_NMHC  NOX_GT  PT08_S3_NOX  \\\n",
       "0    2.6     1360.00      150  11.881723       1045.50   166.0      1056.25   \n",
       "1    2.0     1292.25      112   9.397165        954.75   103.0      1173.75   \n",
       "2    2.2     1402.00       88   8.997817        939.25   131.0      1140.00   \n",
       "3    2.2     1375.50       80   9.228796        948.25   172.0      1092.00   \n",
       "4    1.6     1272.25       51   6.518224        835.50   131.0      1205.00   \n",
       "\n",
       "   NO2_GT  PT08_S4_NO2  PT08_S5_O3      T        AH  MONTH  HOUR  \n",
       "0   113.0      1692.00     1267.50  13.60  0.757754      3    18  \n",
       "1    92.0      1558.75      972.25  13.30  0.725487      3    19  \n",
       "2   114.0      1554.50     1074.00  11.90  0.750239      3    20  \n",
       "3   122.0      1583.75     1203.25  11.00  0.786713      3    21  \n",
       "4   116.0      1490.00     1110.00  11.15  0.788794      3    22  "
      ]
     },
     "execution_count": 392,
     "metadata": {},
     "output_type": "execute_result"
    }
   ],
   "source": [
    "col1=df1.columns.tolist()[2:]\n",
    "X=df1[col1].drop('RH',1)     \n",
    "Y=df1['RH']   \n",
    "SScaler=StandardScaler()\n",
    "Xsd=SScaler.fit_transform(X)    #applying stardardisation\n",
    "X.head()"
   ]
  },
  {
   "cell_type": "code",
   "execution_count": null,
   "id": "7c9536d8",
   "metadata": {
    "id": "7c9536d8"
   },
   "outputs": [],
   "source": [
    "X_train, X_test, Y_train, Y_test=train_test_split(Xsd,Y,test_size=0.2, random_state=3)"
   ]
  },
  {
   "cell_type": "code",
   "execution_count": null,
   "id": "f66f39d4",
   "metadata": {
    "id": "f66f39d4",
    "outputId": "7fc03238-cffc-49f1-e0d5-014630a1274d"
   },
   "outputs": [
    {
     "data": {
      "text/plain": [
       "(7485, 14)"
      ]
     },
     "execution_count": 394,
     "metadata": {},
     "output_type": "execute_result"
    }
   ],
   "source": [
    "X_train.shape"
   ]
  },
  {
   "cell_type": "code",
   "execution_count": null,
   "id": "27c17372",
   "metadata": {
    "id": "27c17372",
    "outputId": "0106442c-3b64-4f78-fcfd-9c0116f769e9"
   },
   "outputs": [
    {
     "data": {
      "text/plain": [
       "(7485,)"
      ]
     },
     "execution_count": 395,
     "metadata": {},
     "output_type": "execute_result"
    }
   ],
   "source": [
    "Y_train.shape"
   ]
  },
  {
   "cell_type": "code",
   "execution_count": null,
   "id": "84be19a7",
   "metadata": {
    "id": "84be19a7",
    "outputId": "ae452431-8020-4953-e7a8-26f8fb1acbbe"
   },
   "outputs": [
    {
     "data": {
      "text/plain": [
       "(1872, 14)"
      ]
     },
     "execution_count": 396,
     "metadata": {},
     "output_type": "execute_result"
    }
   ],
   "source": [
    "X_test.shape"
   ]
  },
  {
   "cell_type": "code",
   "execution_count": null,
   "id": "4e53581e",
   "metadata": {
    "id": "4e53581e",
    "outputId": "ee6278f4-16df-4cda-ca2e-05ea02e9bdc9"
   },
   "outputs": [
    {
     "data": {
      "text/plain": [
       "(1872,)"
      ]
     },
     "execution_count": 397,
     "metadata": {},
     "output_type": "execute_result"
    }
   ],
   "source": [
    "Y_test.shape"
   ]
  },
  {
   "cell_type": "markdown",
   "id": "17b6020d",
   "metadata": {
    "id": "17b6020d"
   },
   "source": [
    "# MODEL 1"
   ]
  },
  {
   "cell_type": "markdown",
   "id": "c44a4095",
   "metadata": {
    "id": "c44a4095"
   },
   "source": [
    "3 Hidden Layers 32>16>8 Nodes"
   ]
  },
  {
   "cell_type": "code",
   "execution_count": null,
   "id": "5832c50d",
   "metadata": {
    "id": "5832c50d"
   },
   "outputs": [],
   "source": [
    "model1= Sequential()\n",
    "model1.add(Dense(64, input_dim=14, activation='linear'))\n",
    "model1.add(Dense(32, activation='relu'))\n",
    "model1.add(Dense(16, activation='tanh'))\n",
    "model1.add(Dense(8, activation='linear'))\n",
    "model1.add(Dense(1,activation='linear'))"
   ]
  },
  {
   "cell_type": "code",
   "execution_count": null,
   "id": "5d4b9610",
   "metadata": {
    "id": "5d4b9610",
    "outputId": "ea46ef30-009d-4640-b28d-119988a7696a"
   },
   "outputs": [
    {
     "name": "stdout",
     "output_type": "stream",
     "text": [
      "Model: \"sequential_24\"\n",
      "_________________________________________________________________\n",
      " Layer (type)                Output Shape              Param #   \n",
      "=================================================================\n",
      " dense_114 (Dense)           (None, 64)                960       \n",
      "                                                                 \n",
      " dense_115 (Dense)           (None, 32)                2080      \n",
      "                                                                 \n",
      " dense_116 (Dense)           (None, 16)                528       \n",
      "                                                                 \n",
      " dense_117 (Dense)           (None, 8)                 136       \n",
      "                                                                 \n",
      " dense_118 (Dense)           (None, 1)                 9         \n",
      "                                                                 \n",
      "=================================================================\n",
      "Total params: 3,713\n",
      "Trainable params: 3,713\n",
      "Non-trainable params: 0\n",
      "_________________________________________________________________\n"
     ]
    }
   ],
   "source": [
    "model1.summary()"
   ]
  },
  {
   "cell_type": "code",
   "execution_count": null,
   "id": "6a185b9b",
   "metadata": {
    "id": "6a185b9b"
   },
   "outputs": [],
   "source": [
    "model1.compile(optimizer='adam',\n",
    "             loss=tf.keras.losses.mean_squared_error)"
   ]
  },
  {
   "cell_type": "code",
   "execution_count": null,
   "id": "44db6c9f",
   "metadata": {
    "id": "44db6c9f",
    "outputId": "64a49c0d-8d1e-48c5-8cc1-cf57cfa24eec"
   },
   "outputs": [
    {
     "name": "stdout",
     "output_type": "stream",
     "text": [
      "Epoch 1/50\n",
      "234/234 [==============================] - 1s 1ms/step - loss: 2855.8298\n",
      "Epoch 2/50\n",
      "234/234 [==============================] - 0s 1ms/step - loss: 1388.5867\n",
      "Epoch 3/50\n",
      "234/234 [==============================] - 0s 1ms/step - loss: 1072.5610\n",
      "Epoch 4/50\n",
      "234/234 [==============================] - 0s 1ms/step - loss: 678.6399\n",
      "Epoch 5/50\n",
      "234/234 [==============================] - 0s 1ms/step - loss: 403.2687\n",
      "Epoch 6/50\n",
      "234/234 [==============================] - 0s 1ms/step - loss: 207.5913\n",
      "Epoch 7/50\n",
      "234/234 [==============================] - 0s 1ms/step - loss: 89.2469\n",
      "Epoch 8/50\n",
      "234/234 [==============================] - 0s 1ms/step - loss: 36.6582\n",
      "Epoch 9/50\n",
      "234/234 [==============================] - 0s 1ms/step - loss: 19.4229\n",
      "Epoch 10/50\n",
      "234/234 [==============================] - 0s 924us/step - loss: 15.2808\n",
      "Epoch 11/50\n",
      "234/234 [==============================] - 0s 973us/step - loss: 13.1248\n",
      "Epoch 12/50\n",
      "234/234 [==============================] - 0s 964us/step - loss: 12.6555\n",
      "Epoch 13/50\n",
      "234/234 [==============================] - 0s 1ms/step - loss: 12.9705\n",
      "Epoch 14/50\n",
      "234/234 [==============================] - 0s 1ms/step - loss: 11.9669\n",
      "Epoch 15/50\n",
      "234/234 [==============================] - 0s 1ms/step - loss: 11.8954\n",
      "Epoch 16/50\n",
      "234/234 [==============================] - 0s 1ms/step - loss: 12.0419\n",
      "Epoch 17/50\n",
      "234/234 [==============================] - 0s 1ms/step - loss: 11.1200\n",
      "Epoch 18/50\n",
      "234/234 [==============================] - 0s 1ms/step - loss: 11.7035\n",
      "Epoch 19/50\n",
      "234/234 [==============================] - 0s 1ms/step - loss: 11.1074\n",
      "Epoch 20/50\n",
      "234/234 [==============================] - 0s 1ms/step - loss: 10.9913\n",
      "Epoch 21/50\n",
      "234/234 [==============================] - 0s 1ms/step - loss: 10.6953\n",
      "Epoch 22/50\n",
      "234/234 [==============================] - 0s 1ms/step - loss: 10.2463\n",
      "Epoch 23/50\n",
      "234/234 [==============================] - 0s 1ms/step - loss: 10.3054\n",
      "Epoch 24/50\n",
      "234/234 [==============================] - 0s 1ms/step - loss: 10.3609\n",
      "Epoch 25/50\n",
      "234/234 [==============================] - 0s 1ms/step - loss: 10.0326\n",
      "Epoch 26/50\n",
      "234/234 [==============================] - 0s 1ms/step - loss: 10.1891\n",
      "Epoch 27/50\n",
      "234/234 [==============================] - 0s 1ms/step - loss: 10.2076\n",
      "Epoch 28/50\n",
      "234/234 [==============================] - 0s 1ms/step - loss: 10.0983\n",
      "Epoch 29/50\n",
      "234/234 [==============================] - 0s 1ms/step - loss: 9.6679\n",
      "Epoch 30/50\n",
      "234/234 [==============================] - 0s 1ms/step - loss: 9.8851\n",
      "Epoch 31/50\n",
      "234/234 [==============================] - 0s 1ms/step - loss: 9.7658\n",
      "Epoch 32/50\n",
      "234/234 [==============================] - 0s 1ms/step - loss: 9.4069\n",
      "Epoch 33/50\n",
      "234/234 [==============================] - 0s 1ms/step - loss: 9.4809\n",
      "Epoch 34/50\n",
      "234/234 [==============================] - 0s 1ms/step - loss: 9.4201\n",
      "Epoch 35/50\n",
      "234/234 [==============================] - 0s 1ms/step - loss: 9.2244\n",
      "Epoch 36/50\n",
      "234/234 [==============================] - 0s 1ms/step - loss: 9.4777\n",
      "Epoch 37/50\n",
      "234/234 [==============================] - 0s 1ms/step - loss: 8.9310\n",
      "Epoch 38/50\n",
      "234/234 [==============================] - 0s 1ms/step - loss: 8.9831\n",
      "Epoch 39/50\n",
      "234/234 [==============================] - 0s 1ms/step - loss: 9.0979\n",
      "Epoch 40/50\n",
      "234/234 [==============================] - 0s 1ms/step - loss: 8.8230\n",
      "Epoch 41/50\n",
      "234/234 [==============================] - 0s 1ms/step - loss: 8.6325\n",
      "Epoch 42/50\n",
      "234/234 [==============================] - 0s 1ms/step - loss: 8.7293\n",
      "Epoch 43/50\n",
      "234/234 [==============================] - 0s 1ms/step - loss: 8.8923\n",
      "Epoch 44/50\n",
      "234/234 [==============================] - 0s 1ms/step - loss: 8.6280\n",
      "Epoch 45/50\n",
      "234/234 [==============================] - 0s 1ms/step - loss: 8.4496\n",
      "Epoch 46/50\n",
      "234/234 [==============================] - 0s 901us/step - loss: 8.4031\n",
      "Epoch 47/50\n",
      "234/234 [==============================] - 0s 1ms/step - loss: 8.5894\n",
      "Epoch 48/50\n",
      "234/234 [==============================] - 0s 1ms/step - loss: 8.6862\n",
      "Epoch 49/50\n",
      "234/234 [==============================] - 0s 1ms/step - loss: 8.2196\n",
      "Epoch 50/50\n",
      "234/234 [==============================] - 0s 1ms/step - loss: 8.4046\n"
     ]
    },
    {
     "data": {
      "text/plain": [
       "<keras.callbacks.History at 0x17b9d1dc640>"
      ]
     },
     "execution_count": 401,
     "metadata": {},
     "output_type": "execute_result"
    }
   ],
   "source": [
    "model1.fit(X_train,Y_train, epochs=50)"
   ]
  },
  {
   "cell_type": "code",
   "execution_count": null,
   "id": "a3dcfea6",
   "metadata": {
    "id": "a3dcfea6",
    "outputId": "87819b8e-fbe8-40de-c03d-61f1c1efbe40"
   },
   "outputs": [
    {
     "name": "stdout",
     "output_type": "stream",
     "text": [
      "59/59 [==============================] - 0s 1ms/step - loss: 8.6011\n"
     ]
    },
    {
     "data": {
      "text/plain": [
       "8.601094245910645"
      ]
     },
     "execution_count": 402,
     "metadata": {},
     "output_type": "execute_result"
    }
   ],
   "source": [
    "model1.evaluate(X_test, Y_test)"
   ]
  },
  {
   "cell_type": "markdown",
   "id": "9beaf393",
   "metadata": {
    "id": "9beaf393"
   },
   "source": [
    "# MODEL 2"
   ]
  },
  {
   "cell_type": "markdown",
   "id": "7e3ccc8d",
   "metadata": {
    "id": "7e3ccc8d"
   },
   "source": [
    "3 Hidden Layers 50>25>10 Nodes"
   ]
  },
  {
   "cell_type": "code",
   "execution_count": null,
   "id": "9c7db00a",
   "metadata": {
    "id": "9c7db00a"
   },
   "outputs": [],
   "source": [
    "model2= Sequential()\n",
    "model2.add(Dense(100, input_dim=14, activation='linear'))\n",
    "model2.add(Dense(50, activation='relu'))\n",
    "model2.add(Dense(25, activation='relu'))\n",
    "model2.add(Dense(10, activation='relu'))\n",
    "model2.add(Dense(1,activation='linear'))"
   ]
  },
  {
   "cell_type": "code",
   "execution_count": null,
   "id": "0ac253e7",
   "metadata": {
    "id": "0ac253e7",
    "outputId": "86c26d72-10c6-4675-d332-10d55f99edca"
   },
   "outputs": [
    {
     "name": "stdout",
     "output_type": "stream",
     "text": [
      "Model: \"sequential_25\"\n",
      "_________________________________________________________________\n",
      " Layer (type)                Output Shape              Param #   \n",
      "=================================================================\n",
      " dense_119 (Dense)           (None, 100)               1500      \n",
      "                                                                 \n",
      " dense_120 (Dense)           (None, 50)                5050      \n",
      "                                                                 \n",
      " dense_121 (Dense)           (None, 25)                1275      \n",
      "                                                                 \n",
      " dense_122 (Dense)           (None, 10)                260       \n",
      "                                                                 \n",
      " dense_123 (Dense)           (None, 1)                 11        \n",
      "                                                                 \n",
      "=================================================================\n",
      "Total params: 8,096\n",
      "Trainable params: 8,096\n",
      "Non-trainable params: 0\n",
      "_________________________________________________________________\n"
     ]
    }
   ],
   "source": [
    "model2.summary()"
   ]
  },
  {
   "cell_type": "code",
   "execution_count": null,
   "id": "e4ea178c",
   "metadata": {
    "id": "e4ea178c"
   },
   "outputs": [],
   "source": [
    "model2.compile(optimizer='adam',\n",
    "             loss=tf.keras.losses.mean_squared_error)"
   ]
  },
  {
   "cell_type": "code",
   "execution_count": null,
   "id": "26f0302c",
   "metadata": {
    "id": "26f0302c",
    "outputId": "e3809237-1e63-4250-9321-5774b66e31bf"
   },
   "outputs": [
    {
     "name": "stdout",
     "output_type": "stream",
     "text": [
      "Epoch 1/50\n",
      "234/234 [==============================] - 1s 1ms/step - loss: 1573.5505\n",
      "Epoch 2/50\n",
      "234/234 [==============================] - 0s 1ms/step - loss: 196.6688\n",
      "Epoch 3/50\n",
      "234/234 [==============================] - 0s 1ms/step - loss: 91.3939\n",
      "Epoch 4/50\n",
      "234/234 [==============================] - 0s 1ms/step - loss: 47.6508\n",
      "Epoch 5/50\n",
      "234/234 [==============================] - 0s 1ms/step - loss: 32.4821\n",
      "Epoch 6/50\n",
      "234/234 [==============================] - 0s 1ms/step - loss: 26.2986\n",
      "Epoch 7/50\n",
      "234/234 [==============================] - 0s 1ms/step - loss: 23.2270\n",
      "Epoch 8/50\n",
      "234/234 [==============================] - 0s 1ms/step - loss: 20.2212\n",
      "Epoch 9/50\n",
      "234/234 [==============================] - 0s 1ms/step - loss: 18.1000\n",
      "Epoch 10/50\n",
      "234/234 [==============================] - 0s 2ms/step - loss: 16.9947\n",
      "Epoch 11/50\n",
      "234/234 [==============================] - 0s 2ms/step - loss: 15.9829\n",
      "Epoch 12/50\n",
      "234/234 [==============================] - 0s 2ms/step - loss: 15.4752\n",
      "Epoch 13/50\n",
      "234/234 [==============================] - 0s 2ms/step - loss: 13.8939\n",
      "Epoch 14/50\n",
      "234/234 [==============================] - 1s 2ms/step - loss: 14.2324\n",
      "Epoch 15/50\n",
      "234/234 [==============================] - 0s 1ms/step - loss: 13.1384\n",
      "Epoch 16/50\n",
      "234/234 [==============================] - 0s 1ms/step - loss: 12.9969\n",
      "Epoch 17/50\n",
      "234/234 [==============================] - 0s 1ms/step - loss: 11.8162\n",
      "Epoch 18/50\n",
      "234/234 [==============================] - 0s 1ms/step - loss: 11.7977\n",
      "Epoch 19/50\n",
      "234/234 [==============================] - 0s 1ms/step - loss: 11.6905\n",
      "Epoch 20/50\n",
      "234/234 [==============================] - 0s 2ms/step - loss: 11.1030\n",
      "Epoch 21/50\n",
      "234/234 [==============================] - 0s 2ms/step - loss: 11.5995\n",
      "Epoch 22/50\n",
      "234/234 [==============================] - 0s 2ms/step - loss: 10.9742\n",
      "Epoch 23/50\n",
      "234/234 [==============================] - 0s 2ms/step - loss: 11.6595\n",
      "Epoch 24/50\n",
      "234/234 [==============================] - 0s 2ms/step - loss: 10.6629\n",
      "Epoch 25/50\n",
      "234/234 [==============================] - 0s 2ms/step - loss: 10.6847\n",
      "Epoch 26/50\n",
      "234/234 [==============================] - 0s 1ms/step - loss: 10.2767\n",
      "Epoch 27/50\n",
      "234/234 [==============================] - 0s 2ms/step - loss: 10.2210\n",
      "Epoch 28/50\n",
      "234/234 [==============================] - 0s 1ms/step - loss: 10.1216\n",
      "Epoch 29/50\n",
      "234/234 [==============================] - 0s 2ms/step - loss: 11.1944\n",
      "Epoch 30/50\n",
      "234/234 [==============================] - 0s 2ms/step - loss: 9.6806\n",
      "Epoch 31/50\n",
      "234/234 [==============================] - 0s 2ms/step - loss: 9.4959\n",
      "Epoch 32/50\n",
      "234/234 [==============================] - 0s 2ms/step - loss: 9.5694\n",
      "Epoch 33/50\n",
      "234/234 [==============================] - 0s 1ms/step - loss: 14.2592\n",
      "Epoch 34/50\n",
      "234/234 [==============================] - 0s 1ms/step - loss: 9.4749\n",
      "Epoch 35/50\n",
      "234/234 [==============================] - 0s 2ms/step - loss: 9.3074\n",
      "Epoch 36/50\n",
      "234/234 [==============================] - 0s 2ms/step - loss: 9.2720\n",
      "Epoch 37/50\n",
      "234/234 [==============================] - 0s 2ms/step - loss: 8.9040\n",
      "Epoch 38/50\n",
      "234/234 [==============================] - 0s 2ms/step - loss: 9.1853\n",
      "Epoch 39/50\n",
      "234/234 [==============================] - 0s 2ms/step - loss: 8.9525\n",
      "Epoch 40/50\n",
      "234/234 [==============================] - 0s 2ms/step - loss: 9.2923\n",
      "Epoch 41/50\n",
      "234/234 [==============================] - 1s 2ms/step - loss: 9.1674\n",
      "Epoch 42/50\n",
      "234/234 [==============================] - 0s 1ms/step - loss: 8.8121\n",
      "Epoch 43/50\n",
      "234/234 [==============================] - 0s 1ms/step - loss: 8.7879\n",
      "Epoch 44/50\n",
      "234/234 [==============================] - 0s 2ms/step - loss: 8.7391\n",
      "Epoch 45/50\n",
      "234/234 [==============================] - 0s 1ms/step - loss: 8.4739\n",
      "Epoch 46/50\n",
      "234/234 [==============================] - 0s 1ms/step - loss: 8.3849\n",
      "Epoch 47/50\n",
      "234/234 [==============================] - 0s 2ms/step - loss: 8.7003\n",
      "Epoch 48/50\n",
      "234/234 [==============================] - 0s 1ms/step - loss: 8.5387\n",
      "Epoch 49/50\n",
      "234/234 [==============================] - 0s 1ms/step - loss: 8.2184\n",
      "Epoch 50/50\n",
      "234/234 [==============================] - 0s 2ms/step - loss: 8.3380\n"
     ]
    },
    {
     "data": {
      "text/plain": [
       "<keras.callbacks.History at 0x17b9d023b20>"
      ]
     },
     "execution_count": 406,
     "metadata": {},
     "output_type": "execute_result"
    }
   ],
   "source": [
    "model2.fit(X_train,Y_train, epochs=50)"
   ]
  },
  {
   "cell_type": "code",
   "execution_count": null,
   "id": "ca88054f",
   "metadata": {
    "id": "ca88054f",
    "outputId": "e6e36ba5-4130-46b5-a12e-9a806a05e798"
   },
   "outputs": [
    {
     "name": "stdout",
     "output_type": "stream",
     "text": [
      "59/59 [==============================] - 0s 992us/step - loss: 8.6011\n"
     ]
    },
    {
     "data": {
      "text/plain": [
       "8.601094245910645"
      ]
     },
     "execution_count": 407,
     "metadata": {},
     "output_type": "execute_result"
    }
   ],
   "source": [
    "model1.evaluate(X_test, Y_test)"
   ]
  },
  {
   "cell_type": "markdown",
   "id": "db7c87ae",
   "metadata": {
    "id": "db7c87ae"
   },
   "source": [
    "# MODEL 3"
   ]
  },
  {
   "cell_type": "markdown",
   "id": "eae0c372",
   "metadata": {
    "id": "eae0c372"
   },
   "source": [
    "4 Hidden Layers 60>30>15>8 Nodes"
   ]
  },
  {
   "cell_type": "code",
   "execution_count": null,
   "id": "c518e94a",
   "metadata": {
    "id": "c518e94a"
   },
   "outputs": [],
   "source": [
    "model3= Sequential()\n",
    "model3.add(Dense(120, input_dim=14, activation='relu'))\n",
    "model3.add(Dense(60, activation='relu'))\n",
    "model3.add(Dense(30, activation='relu'))\n",
    "model3.add(Dense(15, activation='relu'))\n",
    "model3.add(Dense(8, activation='relu'))\n",
    "model3.add(Dense(1,activation='linear'))"
   ]
  },
  {
   "cell_type": "code",
   "execution_count": null,
   "id": "16304611",
   "metadata": {
    "id": "16304611",
    "outputId": "299e76c7-e5d2-4a44-88df-6df994d7fb40"
   },
   "outputs": [
    {
     "name": "stdout",
     "output_type": "stream",
     "text": [
      "Model: \"sequential_26\"\n",
      "_________________________________________________________________\n",
      " Layer (type)                Output Shape              Param #   \n",
      "=================================================================\n",
      " dense_124 (Dense)           (None, 120)               1800      \n",
      "                                                                 \n",
      " dense_125 (Dense)           (None, 60)                7260      \n",
      "                                                                 \n",
      " dense_126 (Dense)           (None, 30)                1830      \n",
      "                                                                 \n",
      " dense_127 (Dense)           (None, 15)                465       \n",
      "                                                                 \n",
      " dense_128 (Dense)           (None, 8)                 128       \n",
      "                                                                 \n",
      " dense_129 (Dense)           (None, 1)                 9         \n",
      "                                                                 \n",
      "=================================================================\n",
      "Total params: 11,492\n",
      "Trainable params: 11,492\n",
      "Non-trainable params: 0\n",
      "_________________________________________________________________\n"
     ]
    }
   ],
   "source": [
    "model3.summary()"
   ]
  },
  {
   "cell_type": "code",
   "execution_count": null,
   "id": "42b86d7b",
   "metadata": {
    "id": "42b86d7b"
   },
   "outputs": [],
   "source": [
    "model3.compile(optimizer='adam',\n",
    "             loss=tf.keras.losses.mean_squared_error)"
   ]
  },
  {
   "cell_type": "code",
   "execution_count": null,
   "id": "e49109bc",
   "metadata": {
    "id": "e49109bc",
    "outputId": "f69ffb71-4ef3-4ef6-fe0b-cff41a1c588c"
   },
   "outputs": [
    {
     "name": "stdout",
     "output_type": "stream",
     "text": [
      "Epoch 1/50\n",
      "234/234 [==============================] - 1s 1ms/step - loss: 1461.5494\n",
      "Epoch 2/50\n",
      "234/234 [==============================] - 0s 1ms/step - loss: 156.4088\n",
      "Epoch 3/50\n",
      "234/234 [==============================] - 0s 2ms/step - loss: 86.2968\n",
      "Epoch 4/50\n",
      "234/234 [==============================] - 0s 2ms/step - loss: 50.3546\n",
      "Epoch 5/50\n",
      "234/234 [==============================] - 0s 2ms/step - loss: 33.9358\n",
      "Epoch 6/50\n",
      "234/234 [==============================] - 0s 2ms/step - loss: 27.8848\n",
      "Epoch 7/50\n",
      "234/234 [==============================] - 0s 1ms/step - loss: 22.4395\n",
      "Epoch 8/50\n",
      "234/234 [==============================] - 0s 1ms/step - loss: 21.6395\n",
      "Epoch 9/50\n",
      "234/234 [==============================] - 0s 1ms/step - loss: 18.0361\n",
      "Epoch 10/50\n",
      "234/234 [==============================] - 0s 1ms/step - loss: 18.3801\n",
      "Epoch 11/50\n",
      "234/234 [==============================] - 0s 1ms/step - loss: 15.2315\n",
      "Epoch 12/50\n",
      "234/234 [==============================] - 1s 2ms/step - loss: 15.0236\n",
      "Epoch 13/50\n",
      "234/234 [==============================] - 1s 2ms/step - loss: 17.9768\n",
      "Epoch 14/50\n",
      "234/234 [==============================] - 1s 2ms/step - loss: 12.5151\n",
      "Epoch 15/50\n",
      "234/234 [==============================] - 0s 2ms/step - loss: 12.2726\n",
      "Epoch 16/50\n",
      "234/234 [==============================] - 0s 2ms/step - loss: 11.8769\n",
      "Epoch 17/50\n",
      "234/234 [==============================] - 0s 2ms/step - loss: 11.4228\n",
      "Epoch 18/50\n",
      "234/234 [==============================] - 0s 1ms/step - loss: 12.4662\n",
      "Epoch 19/50\n",
      "234/234 [==============================] - 0s 1ms/step - loss: 11.5181\n",
      "Epoch 20/50\n",
      "234/234 [==============================] - 0s 1ms/step - loss: 11.7154\n",
      "Epoch 21/50\n",
      "234/234 [==============================] - 0s 2ms/step - loss: 11.0594\n",
      "Epoch 22/50\n",
      "234/234 [==============================] - 0s 2ms/step - loss: 11.8928\n",
      "Epoch 23/50\n",
      "234/234 [==============================] - 0s 2ms/step - loss: 10.4338\n",
      "Epoch 24/50\n",
      "234/234 [==============================] - 0s 1ms/step - loss: 9.9584\n",
      "Epoch 25/50\n",
      "234/234 [==============================] - 0s 1ms/step - loss: 10.1933\n",
      "Epoch 26/50\n",
      "234/234 [==============================] - 0s 1ms/step - loss: 9.6993\n",
      "Epoch 27/50\n",
      "234/234 [==============================] - 0s 1ms/step - loss: 9.6964\n",
      "Epoch 28/50\n",
      "234/234 [==============================] - 0s 1ms/step - loss: 9.7354\n",
      "Epoch 29/50\n",
      "234/234 [==============================] - 0s 1ms/step - loss: 9.3052\n",
      "Epoch 30/50\n",
      "234/234 [==============================] - 0s 1ms/step - loss: 9.5030\n",
      "Epoch 31/50\n",
      "234/234 [==============================] - 0s 1ms/step - loss: 9.6901\n",
      "Epoch 32/50\n",
      "234/234 [==============================] - 0s 1ms/step - loss: 9.0999\n",
      "Epoch 33/50\n",
      "234/234 [==============================] - 0s 1ms/step - loss: 9.4132\n",
      "Epoch 34/50\n",
      "234/234 [==============================] - 0s 2ms/step - loss: 8.7234\n",
      "Epoch 35/50\n",
      "234/234 [==============================] - 0s 1ms/step - loss: 9.0046\n",
      "Epoch 36/50\n",
      "234/234 [==============================] - 0s 1ms/step - loss: 8.8637\n",
      "Epoch 37/50\n",
      "234/234 [==============================] - 0s 1ms/step - loss: 8.7811\n",
      "Epoch 38/50\n",
      "234/234 [==============================] - 0s 1ms/step - loss: 8.6264\n",
      "Epoch 39/50\n",
      "234/234 [==============================] - 0s 1ms/step - loss: 8.3988\n",
      "Epoch 40/50\n",
      "234/234 [==============================] - 0s 1ms/step - loss: 8.4854\n",
      "Epoch 41/50\n",
      "234/234 [==============================] - 0s 2ms/step - loss: 8.9676\n",
      "Epoch 42/50\n",
      "234/234 [==============================] - 0s 1ms/step - loss: 8.4109\n",
      "Epoch 43/50\n",
      "234/234 [==============================] - 0s 1ms/step - loss: 8.1298\n",
      "Epoch 44/50\n",
      "234/234 [==============================] - 0s 1ms/step - loss: 8.3181\n",
      "Epoch 45/50\n",
      "234/234 [==============================] - 0s 2ms/step - loss: 7.8956\n",
      "Epoch 46/50\n",
      "234/234 [==============================] - 0s 2ms/step - loss: 8.0971\n",
      "Epoch 47/50\n",
      "234/234 [==============================] - 0s 2ms/step - loss: 8.4431\n",
      "Epoch 48/50\n",
      "234/234 [==============================] - 0s 1ms/step - loss: 7.8556\n",
      "Epoch 49/50\n",
      "234/234 [==============================] - 0s 2ms/step - loss: 7.9416\n",
      "Epoch 50/50\n",
      "234/234 [==============================] - 0s 2ms/step - loss: 7.8283\n"
     ]
    },
    {
     "data": {
      "text/plain": [
       "<keras.callbacks.History at 0x17b9996fc10>"
      ]
     },
     "execution_count": 411,
     "metadata": {},
     "output_type": "execute_result"
    }
   ],
   "source": [
    "model3.fit(X_train,Y_train, epochs=50)"
   ]
  },
  {
   "cell_type": "code",
   "execution_count": null,
   "id": "174a802e",
   "metadata": {
    "id": "174a802e",
    "outputId": "3f3fbc26-3ad7-4899-aa77-78efcdf96c6f"
   },
   "outputs": [
    {
     "name": "stdout",
     "output_type": "stream",
     "text": [
      "59/59 [==============================] - 0s 1ms/step - loss: 11.2404\n"
     ]
    },
    {
     "data": {
      "text/plain": [
       "11.240365028381348"
      ]
     },
     "execution_count": 412,
     "metadata": {},
     "output_type": "execute_result"
    }
   ],
   "source": [
    "model3.evaluate(X_test, Y_test)"
   ]
  },
  {
   "cell_type": "markdown",
   "id": "3ccdaebc",
   "metadata": {
    "id": "3ccdaebc"
   },
   "source": [
    "# MODEL 4"
   ]
  },
  {
   "cell_type": "markdown",
   "id": "a7483920",
   "metadata": {
    "id": "a7483920"
   },
   "source": [
    "4 Hidden Layers 100>50>20>10 Nodes"
   ]
  },
  {
   "cell_type": "code",
   "execution_count": null,
   "id": "ada38489",
   "metadata": {
    "id": "ada38489"
   },
   "outputs": [],
   "source": [
    "model4= Sequential()\n",
    "model4.add(Dense(200, input_dim=14, activation='relu'))\n",
    "model4.add(Dense(100, activation='relu'))\n",
    "model4.add(Dense(50, activation='relu'))\n",
    "model4.add(Dense(20, activation='relu'))\n",
    "model4.add(Dense(10, activation='relu'))\n",
    "model4.add(Dense(1,activation='linear'))"
   ]
  },
  {
   "cell_type": "code",
   "execution_count": null,
   "id": "ad01d2c5",
   "metadata": {
    "id": "ad01d2c5",
    "outputId": "597770ce-0fd8-4504-e0ee-51f7c1da192d"
   },
   "outputs": [
    {
     "name": "stdout",
     "output_type": "stream",
     "text": [
      "Model: \"sequential_27\"\n",
      "_________________________________________________________________\n",
      " Layer (type)                Output Shape              Param #   \n",
      "=================================================================\n",
      " dense_130 (Dense)           (None, 200)               3000      \n",
      "                                                                 \n",
      " dense_131 (Dense)           (None, 100)               20100     \n",
      "                                                                 \n",
      " dense_132 (Dense)           (None, 50)                5050      \n",
      "                                                                 \n",
      " dense_133 (Dense)           (None, 20)                1020      \n",
      "                                                                 \n",
      " dense_134 (Dense)           (None, 10)                210       \n",
      "                                                                 \n",
      " dense_135 (Dense)           (None, 1)                 11        \n",
      "                                                                 \n",
      "=================================================================\n",
      "Total params: 29,391\n",
      "Trainable params: 29,391\n",
      "Non-trainable params: 0\n",
      "_________________________________________________________________\n"
     ]
    }
   ],
   "source": [
    "model4.summary()"
   ]
  },
  {
   "cell_type": "code",
   "execution_count": null,
   "id": "1113f912",
   "metadata": {
    "id": "1113f912"
   },
   "outputs": [],
   "source": [
    "model4.compile(optimizer='adam',\n",
    "             loss=tf.keras.losses.mean_squared_error)"
   ]
  },
  {
   "cell_type": "code",
   "execution_count": null,
   "id": "d88fa8c6",
   "metadata": {
    "id": "d88fa8c6",
    "outputId": "6218c269-e905-4a1f-89b3-41c05ee58cb2"
   },
   "outputs": [
    {
     "name": "stdout",
     "output_type": "stream",
     "text": [
      "Epoch 1/50\n",
      "234/234 [==============================] - 1s 2ms/step - loss: 1141.6588\n",
      "Epoch 2/50\n",
      "234/234 [==============================] - 0s 2ms/step - loss: 82.5128\n",
      "Epoch 3/50\n",
      "234/234 [==============================] - 0s 2ms/step - loss: 42.4161\n",
      "Epoch 4/50\n",
      "234/234 [==============================] - 0s 2ms/step - loss: 28.1336\n",
      "Epoch 5/50\n",
      "234/234 [==============================] - 0s 2ms/step - loss: 22.4820\n",
      "Epoch 6/50\n",
      "234/234 [==============================] - 1s 2ms/step - loss: 18.0390\n",
      "Epoch 7/50\n",
      "234/234 [==============================] - 1s 2ms/step - loss: 16.5279\n",
      "Epoch 8/50\n",
      "234/234 [==============================] - 0s 1ms/step - loss: 15.2424\n",
      "Epoch 9/50\n",
      "234/234 [==============================] - 0s 1ms/step - loss: 13.6032\n",
      "Epoch 10/50\n",
      "234/234 [==============================] - 0s 1ms/step - loss: 13.4247\n",
      "Epoch 11/50\n",
      "234/234 [==============================] - 0s 1ms/step - loss: 12.7363\n",
      "Epoch 12/50\n",
      "234/234 [==============================] - 0s 1ms/step - loss: 12.0875\n",
      "Epoch 13/50\n",
      "234/234 [==============================] - 0s 1ms/step - loss: 12.0139\n",
      "Epoch 14/50\n",
      "234/234 [==============================] - 0s 1ms/step - loss: 11.4646\n",
      "Epoch 15/50\n",
      "234/234 [==============================] - 0s 1ms/step - loss: 11.1164\n",
      "Epoch 16/50\n",
      "234/234 [==============================] - 0s 1ms/step - loss: 9.9873\n",
      "Epoch 17/50\n",
      "234/234 [==============================] - 0s 1ms/step - loss: 10.6950\n",
      "Epoch 18/50\n",
      "234/234 [==============================] - 0s 1ms/step - loss: 9.9876\n",
      "Epoch 19/50\n",
      "234/234 [==============================] - 0s 1ms/step - loss: 11.0213\n",
      "Epoch 20/50\n",
      "234/234 [==============================] - 0s 1ms/step - loss: 9.9976\n",
      "Epoch 21/50\n",
      "234/234 [==============================] - 0s 1ms/step - loss: 9.7629\n",
      "Epoch 22/50\n",
      "234/234 [==============================] - 0s 1ms/step - loss: 9.5717\n",
      "Epoch 23/50\n",
      "234/234 [==============================] - 0s 1ms/step - loss: 11.6352\n",
      "Epoch 24/50\n",
      "234/234 [==============================] - 0s 2ms/step - loss: 9.1631\n",
      "Epoch 25/50\n",
      "234/234 [==============================] - 0s 2ms/step - loss: 9.8119\n",
      "Epoch 26/50\n",
      "234/234 [==============================] - 0s 2ms/step - loss: 9.8153\n",
      "Epoch 27/50\n",
      "234/234 [==============================] - 0s 2ms/step - loss: 8.4208\n",
      "Epoch 28/50\n",
      "234/234 [==============================] - 0s 2ms/step - loss: 8.5470\n",
      "Epoch 29/50\n",
      "234/234 [==============================] - 0s 2ms/step - loss: 8.7110\n",
      "Epoch 30/50\n",
      "234/234 [==============================] - 0s 2ms/step - loss: 9.4052\n",
      "Epoch 31/50\n",
      "234/234 [==============================] - 0s 2ms/step - loss: 8.4687\n",
      "Epoch 32/50\n",
      "234/234 [==============================] - 0s 2ms/step - loss: 8.6187\n",
      "Epoch 33/50\n",
      "234/234 [==============================] - 0s 2ms/step - loss: 8.0953\n",
      "Epoch 34/50\n",
      "234/234 [==============================] - 0s 2ms/step - loss: 8.5114\n",
      "Epoch 35/50\n",
      "234/234 [==============================] - 0s 2ms/step - loss: 10.2472\n",
      "Epoch 36/50\n",
      "234/234 [==============================] - 0s 2ms/step - loss: 7.8850\n",
      "Epoch 37/50\n",
      "234/234 [==============================] - 0s 2ms/step - loss: 7.3558\n",
      "Epoch 38/50\n",
      "234/234 [==============================] - 0s 2ms/step - loss: 7.7596\n",
      "Epoch 39/50\n",
      "234/234 [==============================] - 0s 2ms/step - loss: 7.8942\n",
      "Epoch 40/50\n",
      "234/234 [==============================] - 0s 2ms/step - loss: 8.0122\n",
      "Epoch 41/50\n",
      "234/234 [==============================] - 0s 2ms/step - loss: 7.8344\n",
      "Epoch 42/50\n",
      "234/234 [==============================] - 0s 1ms/step - loss: 7.4213\n",
      "Epoch 43/50\n",
      "234/234 [==============================] - 0s 1ms/step - loss: 7.7950\n",
      "Epoch 44/50\n",
      "234/234 [==============================] - 0s 1ms/step - loss: 7.3727\n",
      "Epoch 45/50\n",
      "234/234 [==============================] - 0s 1ms/step - loss: 7.6276\n",
      "Epoch 46/50\n",
      "234/234 [==============================] - 0s 1ms/step - loss: 7.6546\n",
      "Epoch 47/50\n",
      "234/234 [==============================] - 0s 1ms/step - loss: 7.8102\n",
      "Epoch 48/50\n",
      "234/234 [==============================] - 1s 2ms/step - loss: 7.4715\n",
      "Epoch 49/50\n",
      "234/234 [==============================] - 0s 2ms/step - loss: 7.2968\n",
      "Epoch 50/50\n",
      "234/234 [==============================] - 0s 2ms/step - loss: 7.0340\n"
     ]
    },
    {
     "data": {
      "text/plain": [
       "<keras.callbacks.History at 0x17b9cd1b040>"
      ]
     },
     "execution_count": 416,
     "metadata": {},
     "output_type": "execute_result"
    }
   ],
   "source": [
    "model4.fit(X_train,Y_train, epochs=50)"
   ]
  },
  {
   "cell_type": "code",
   "execution_count": null,
   "id": "952bc56a",
   "metadata": {
    "id": "952bc56a",
    "outputId": "adefb98e-a2ad-46a6-80c2-64c71f9b6954"
   },
   "outputs": [
    {
     "name": "stdout",
     "output_type": "stream",
     "text": [
      "59/59 [==============================] - 0s 2ms/step - loss: 7.7481\n"
     ]
    },
    {
     "data": {
      "text/plain": [
       "7.748126029968262"
      ]
     },
     "execution_count": 417,
     "metadata": {},
     "output_type": "execute_result"
    }
   ],
   "source": [
    "model4.evaluate(X_test, Y_test)"
   ]
  },
  {
   "cell_type": "markdown",
   "id": "4ac94320",
   "metadata": {
    "id": "4ac94320"
   },
   "source": [
    "# MODEL 5"
   ]
  },
  {
   "cell_type": "markdown",
   "id": "61073076",
   "metadata": {
    "id": "61073076"
   },
   "source": [
    "5 Hidden Layers 150>100>65>30>10 Nodes"
   ]
  },
  {
   "cell_type": "code",
   "execution_count": null,
   "id": "b2ba8b10",
   "metadata": {
    "id": "b2ba8b10"
   },
   "outputs": [],
   "source": [
    "model5= Sequential()\n",
    "model5.add(Dense(200, input_dim=14, activation='relu'))\n",
    "model5.add(Dense(150, activation='relu'))\n",
    "model5.add(Dense(100, activation='relu'))\n",
    "model5.add(Dense(65, activation='relu'))\n",
    "model5.add(Dense(30, activation='relu'))\n",
    "model5.add(Dense(10, activation='relu'))\n",
    "model5.add(Dense(1,activation='linear'))"
   ]
  },
  {
   "cell_type": "code",
   "execution_count": null,
   "id": "21c14732",
   "metadata": {
    "id": "21c14732",
    "outputId": "3dee8ff2-0fdd-41d2-8e7e-84adb9796720"
   },
   "outputs": [
    {
     "name": "stdout",
     "output_type": "stream",
     "text": [
      "Model: \"sequential_28\"\n",
      "_________________________________________________________________\n",
      " Layer (type)                Output Shape              Param #   \n",
      "=================================================================\n",
      " dense_136 (Dense)           (None, 200)               3000      \n",
      "                                                                 \n",
      " dense_137 (Dense)           (None, 150)               30150     \n",
      "                                                                 \n",
      " dense_138 (Dense)           (None, 100)               15100     \n",
      "                                                                 \n",
      " dense_139 (Dense)           (None, 65)                6565      \n",
      "                                                                 \n",
      " dense_140 (Dense)           (None, 30)                1980      \n",
      "                                                                 \n",
      " dense_141 (Dense)           (None, 10)                310       \n",
      "                                                                 \n",
      " dense_142 (Dense)           (None, 1)                 11        \n",
      "                                                                 \n",
      "=================================================================\n",
      "Total params: 57,116\n",
      "Trainable params: 57,116\n",
      "Non-trainable params: 0\n",
      "_________________________________________________________________\n"
     ]
    }
   ],
   "source": [
    "model5.summary()"
   ]
  },
  {
   "cell_type": "code",
   "execution_count": null,
   "id": "c2d8cc06",
   "metadata": {
    "id": "c2d8cc06"
   },
   "outputs": [],
   "source": [
    "model5.compile(optimizer='adam',\n",
    "             loss=tf.keras.losses.mean_squared_error)"
   ]
  },
  {
   "cell_type": "code",
   "execution_count": null,
   "id": "62b8ad8b",
   "metadata": {
    "id": "62b8ad8b",
    "outputId": "d55e5930-6c67-4bc1-8087-410f19095839"
   },
   "outputs": [
    {
     "name": "stdout",
     "output_type": "stream",
     "text": [
      "Epoch 1/50\n",
      "234/234 [==============================] - 2s 3ms/step - loss: 796.9160\n",
      "Epoch 2/50\n",
      "234/234 [==============================] - 0s 2ms/step - loss: 70.1178\n",
      "Epoch 3/50\n",
      "234/234 [==============================] - 0s 2ms/step - loss: 33.1530\n",
      "Epoch 4/50\n",
      "234/234 [==============================] - 0s 2ms/step - loss: 23.6359\n",
      "Epoch 5/50\n",
      "234/234 [==============================] - 0s 2ms/step - loss: 18.8695\n",
      "Epoch 6/50\n",
      "234/234 [==============================] - 0s 2ms/step - loss: 15.1235\n",
      "Epoch 7/50\n",
      "234/234 [==============================] - 0s 2ms/step - loss: 16.9656\n",
      "Epoch 8/50\n",
      "234/234 [==============================] - 0s 2ms/step - loss: 14.0244\n",
      "Epoch 9/50\n",
      "234/234 [==============================] - 0s 2ms/step - loss: 13.2052\n",
      "Epoch 10/50\n",
      "234/234 [==============================] - 0s 2ms/step - loss: 12.3557\n",
      "Epoch 11/50\n",
      "234/234 [==============================] - 0s 2ms/step - loss: 12.9324\n",
      "Epoch 12/50\n",
      "234/234 [==============================] - 0s 2ms/step - loss: 11.5280\n",
      "Epoch 13/50\n",
      "234/234 [==============================] - 0s 2ms/step - loss: 12.5681\n",
      "Epoch 14/50\n",
      "234/234 [==============================] - 0s 2ms/step - loss: 12.0179\n",
      "Epoch 15/50\n",
      "234/234 [==============================] - 0s 2ms/step - loss: 10.6450\n",
      "Epoch 16/50\n",
      "234/234 [==============================] - 0s 2ms/step - loss: 11.6824\n",
      "Epoch 17/50\n",
      "234/234 [==============================] - 1s 2ms/step - loss: 10.7848\n",
      "Epoch 18/50\n",
      "234/234 [==============================] - 1s 3ms/step - loss: 10.5861\n",
      "Epoch 19/50\n",
      "234/234 [==============================] - 1s 2ms/step - loss: 10.4696\n",
      "Epoch 20/50\n",
      "234/234 [==============================] - 0s 2ms/step - loss: 10.8586\n",
      "Epoch 21/50\n",
      "234/234 [==============================] - 0s 2ms/step - loss: 12.3727\n",
      "Epoch 22/50\n",
      "234/234 [==============================] - 0s 2ms/step - loss: 9.4480\n",
      "Epoch 23/50\n",
      "234/234 [==============================] - 1s 2ms/step - loss: 9.2475\n",
      "Epoch 24/50\n",
      "234/234 [==============================] - 1s 3ms/step - loss: 9.5059\n",
      "Epoch 25/50\n",
      "234/234 [==============================] - 0s 2ms/step - loss: 9.0965\n",
      "Epoch 26/50\n",
      "234/234 [==============================] - 1s 2ms/step - loss: 11.6749\n",
      "Epoch 27/50\n",
      "234/234 [==============================] - 0s 2ms/step - loss: 8.8583\n",
      "Epoch 28/50\n",
      "234/234 [==============================] - 1s 2ms/step - loss: 8.8670\n",
      "Epoch 29/50\n",
      "234/234 [==============================] - 1s 3ms/step - loss: 8.9580\n",
      "Epoch 30/50\n",
      "234/234 [==============================] - 1s 2ms/step - loss: 8.3855\n",
      "Epoch 31/50\n",
      "234/234 [==============================] - 0s 2ms/step - loss: 9.8120\n",
      "Epoch 32/50\n",
      "234/234 [==============================] - 0s 2ms/step - loss: 8.0464\n",
      "Epoch 33/50\n",
      "234/234 [==============================] - 0s 2ms/step - loss: 7.6231\n",
      "Epoch 34/50\n",
      "234/234 [==============================] - 0s 2ms/step - loss: 14.8735\n",
      "Epoch 35/50\n",
      "234/234 [==============================] - 1s 2ms/step - loss: 8.6682\n",
      "Epoch 36/50\n",
      "234/234 [==============================] - 1s 2ms/step - loss: 8.0774\n",
      "Epoch 37/50\n",
      "234/234 [==============================] - 0s 2ms/step - loss: 8.0407\n",
      "Epoch 38/50\n",
      "234/234 [==============================] - 0s 2ms/step - loss: 7.6228\n",
      "Epoch 39/50\n",
      "234/234 [==============================] - 1s 2ms/step - loss: 7.7689\n",
      "Epoch 40/50\n",
      "234/234 [==============================] - 0s 2ms/step - loss: 7.8142\n",
      "Epoch 41/50\n",
      "234/234 [==============================] - 0s 2ms/step - loss: 7.3109\n",
      "Epoch 42/50\n",
      "234/234 [==============================] - 0s 2ms/step - loss: 7.2513\n",
      "Epoch 43/50\n",
      "234/234 [==============================] - 1s 3ms/step - loss: 7.4479\n",
      "Epoch 44/50\n",
      "234/234 [==============================] - 0s 2ms/step - loss: 7.0492\n",
      "Epoch 45/50\n",
      "234/234 [==============================] - 0s 2ms/step - loss: 19.0101\n",
      "Epoch 46/50\n",
      "234/234 [==============================] - 0s 2ms/step - loss: 6.5945\n",
      "Epoch 47/50\n",
      "234/234 [==============================] - 0s 2ms/step - loss: 6.6997\n",
      "Epoch 48/50\n",
      "234/234 [==============================] - 0s 2ms/step - loss: 7.3312\n",
      "Epoch 49/50\n",
      "234/234 [==============================] - 0s 2ms/step - loss: 6.8352\n",
      "Epoch 50/50\n",
      "234/234 [==============================] - 0s 2ms/step - loss: 6.6937\n"
     ]
    },
    {
     "data": {
      "text/plain": [
       "<keras.callbacks.History at 0x17b91c8bbe0>"
      ]
     },
     "execution_count": 421,
     "metadata": {},
     "output_type": "execute_result"
    }
   ],
   "source": [
    "model5.fit(X_train,Y_train, epochs=50)"
   ]
  },
  {
   "cell_type": "code",
   "execution_count": null,
   "id": "1cf26d89",
   "metadata": {
    "id": "1cf26d89",
    "outputId": "b4edbb9b-05a2-4e65-9289-1c7fd369a4bd"
   },
   "outputs": [
    {
     "name": "stdout",
     "output_type": "stream",
     "text": [
      "59/59 [==============================] - 0s 1ms/step - loss: 7.9045\n"
     ]
    },
    {
     "data": {
      "text/plain": [
       "7.904499053955078"
      ]
     },
     "execution_count": 422,
     "metadata": {},
     "output_type": "execute_result"
    }
   ],
   "source": [
    "model5.evaluate(X_test, Y_test)"
   ]
  },
  {
   "cell_type": "markdown",
   "id": "275fa312",
   "metadata": {
    "id": "275fa312"
   },
   "source": [
    "________________________________________________________________________________________________________________________________"
   ]
  },
  {
   "cell_type": "markdown",
   "id": "89300557",
   "metadata": {
    "id": "89300557"
   },
   "source": [
    "# CONCLUSION : Minimum Loss and Error is in MODEL-4."
   ]
  }
 ],
 "metadata": {
  "colab": {
   "provenance": []
  },
  "kernelspec": {
   "display_name": "Python 3 (ipykernel)",
   "language": "python",
   "name": "python3"
  },
  "language_info": {
   "codemirror_mode": {
    "name": "ipython",
    "version": 3
   },
   "file_extension": ".py",
   "mimetype": "text/x-python",
   "name": "python",
   "nbconvert_exporter": "python",
   "pygments_lexer": "ipython3",
   "version": "3.10.5"
  }
 },
 "nbformat": 4,
 "nbformat_minor": 5
}
