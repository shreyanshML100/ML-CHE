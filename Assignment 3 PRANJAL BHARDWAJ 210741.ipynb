{
 "cells": [
  {
   "cell_type": "code",
   "execution_count": 1,
   "metadata": {},
   "outputs": [],
   "source": [
    "import numpy as np\n",
    "import pandas as pd\n",
    "import tensorflow as tf\n",
    "from sklearn.linear_model import LinearRegression\n",
    "from sklearn.model_selection import train_test_split\n",
    "import keras\n",
    "import keras_preprocessing\n",
    "from sklearn.preprocessing import StandardScaler\n",
    "from tensorflow.keras.losses import mean_squared_error"
   ]
  },
  {
   "cell_type": "code",
   "execution_count": 2,
   "metadata": {},
   "outputs": [],
   "source": [
    "data = pd.read_excel(\"C:/Users/manis/Downloads/AirQualityUCI\\AirQualityUCI.xlsx\")"
   ]
  },
  {
   "cell_type": "code",
   "execution_count": 3,
   "metadata": {},
   "outputs": [
    {
     "data": {
      "text/html": [
       "<div>\n",
       "<style scoped>\n",
       "    .dataframe tbody tr th:only-of-type {\n",
       "        vertical-align: middle;\n",
       "    }\n",
       "\n",
       "    .dataframe tbody tr th {\n",
       "        vertical-align: top;\n",
       "    }\n",
       "\n",
       "    .dataframe thead th {\n",
       "        text-align: right;\n",
       "    }\n",
       "</style>\n",
       "<table border=\"1\" class=\"dataframe\">\n",
       "  <thead>\n",
       "    <tr style=\"text-align: right;\">\n",
       "      <th></th>\n",
       "      <th>Date</th>\n",
       "      <th>Time</th>\n",
       "      <th>CO(GT)</th>\n",
       "      <th>PT08.S1(CO)</th>\n",
       "      <th>NMHC(GT)</th>\n",
       "      <th>C6H6(GT)</th>\n",
       "      <th>PT08.S2(NMHC)</th>\n",
       "      <th>NOx(GT)</th>\n",
       "      <th>PT08.S3(NOx)</th>\n",
       "      <th>NO2(GT)</th>\n",
       "      <th>PT08.S4(NO2)</th>\n",
       "      <th>PT08.S5(O3)</th>\n",
       "      <th>T</th>\n",
       "      <th>RH</th>\n",
       "      <th>AH</th>\n",
       "    </tr>\n",
       "  </thead>\n",
       "  <tbody>\n",
       "    <tr>\n",
       "      <th>0</th>\n",
       "      <td>2004-03-10</td>\n",
       "      <td>18:00:00</td>\n",
       "      <td>2.6</td>\n",
       "      <td>1360.00</td>\n",
       "      <td>150</td>\n",
       "      <td>11.881723</td>\n",
       "      <td>1045.50</td>\n",
       "      <td>166.0</td>\n",
       "      <td>1056.25</td>\n",
       "      <td>113.0</td>\n",
       "      <td>1692.00</td>\n",
       "      <td>1267.50</td>\n",
       "      <td>13.60</td>\n",
       "      <td>48.875001</td>\n",
       "      <td>0.757754</td>\n",
       "    </tr>\n",
       "    <tr>\n",
       "      <th>1</th>\n",
       "      <td>2004-03-10</td>\n",
       "      <td>19:00:00</td>\n",
       "      <td>2.0</td>\n",
       "      <td>1292.25</td>\n",
       "      <td>112</td>\n",
       "      <td>9.397165</td>\n",
       "      <td>954.75</td>\n",
       "      <td>103.0</td>\n",
       "      <td>1173.75</td>\n",
       "      <td>92.0</td>\n",
       "      <td>1558.75</td>\n",
       "      <td>972.25</td>\n",
       "      <td>13.30</td>\n",
       "      <td>47.700000</td>\n",
       "      <td>0.725487</td>\n",
       "    </tr>\n",
       "    <tr>\n",
       "      <th>2</th>\n",
       "      <td>2004-03-10</td>\n",
       "      <td>20:00:00</td>\n",
       "      <td>2.2</td>\n",
       "      <td>1402.00</td>\n",
       "      <td>88</td>\n",
       "      <td>8.997817</td>\n",
       "      <td>939.25</td>\n",
       "      <td>131.0</td>\n",
       "      <td>1140.00</td>\n",
       "      <td>114.0</td>\n",
       "      <td>1554.50</td>\n",
       "      <td>1074.00</td>\n",
       "      <td>11.90</td>\n",
       "      <td>53.975000</td>\n",
       "      <td>0.750239</td>\n",
       "    </tr>\n",
       "    <tr>\n",
       "      <th>3</th>\n",
       "      <td>2004-03-10</td>\n",
       "      <td>21:00:00</td>\n",
       "      <td>2.2</td>\n",
       "      <td>1375.50</td>\n",
       "      <td>80</td>\n",
       "      <td>9.228796</td>\n",
       "      <td>948.25</td>\n",
       "      <td>172.0</td>\n",
       "      <td>1092.00</td>\n",
       "      <td>122.0</td>\n",
       "      <td>1583.75</td>\n",
       "      <td>1203.25</td>\n",
       "      <td>11.00</td>\n",
       "      <td>60.000000</td>\n",
       "      <td>0.786713</td>\n",
       "    </tr>\n",
       "    <tr>\n",
       "      <th>4</th>\n",
       "      <td>2004-03-10</td>\n",
       "      <td>22:00:00</td>\n",
       "      <td>1.6</td>\n",
       "      <td>1272.25</td>\n",
       "      <td>51</td>\n",
       "      <td>6.518224</td>\n",
       "      <td>835.50</td>\n",
       "      <td>131.0</td>\n",
       "      <td>1205.00</td>\n",
       "      <td>116.0</td>\n",
       "      <td>1490.00</td>\n",
       "      <td>1110.00</td>\n",
       "      <td>11.15</td>\n",
       "      <td>59.575001</td>\n",
       "      <td>0.788794</td>\n",
       "    </tr>\n",
       "  </tbody>\n",
       "</table>\n",
       "</div>"
      ],
      "text/plain": [
       "        Date      Time  CO(GT)  PT08.S1(CO)  NMHC(GT)   C6H6(GT)  \\\n",
       "0 2004-03-10  18:00:00     2.6      1360.00       150  11.881723   \n",
       "1 2004-03-10  19:00:00     2.0      1292.25       112   9.397165   \n",
       "2 2004-03-10  20:00:00     2.2      1402.00        88   8.997817   \n",
       "3 2004-03-10  21:00:00     2.2      1375.50        80   9.228796   \n",
       "4 2004-03-10  22:00:00     1.6      1272.25        51   6.518224   \n",
       "\n",
       "   PT08.S2(NMHC)  NOx(GT)  PT08.S3(NOx)  NO2(GT)  PT08.S4(NO2)  PT08.S5(O3)  \\\n",
       "0        1045.50    166.0       1056.25    113.0       1692.00      1267.50   \n",
       "1         954.75    103.0       1173.75     92.0       1558.75       972.25   \n",
       "2         939.25    131.0       1140.00    114.0       1554.50      1074.00   \n",
       "3         948.25    172.0       1092.00    122.0       1583.75      1203.25   \n",
       "4         835.50    131.0       1205.00    116.0       1490.00      1110.00   \n",
       "\n",
       "       T         RH        AH  \n",
       "0  13.60  48.875001  0.757754  \n",
       "1  13.30  47.700000  0.725487  \n",
       "2  11.90  53.975000  0.750239  \n",
       "3  11.00  60.000000  0.786713  \n",
       "4  11.15  59.575001  0.788794  "
      ]
     },
     "execution_count": 3,
     "metadata": {},
     "output_type": "execute_result"
    }
   ],
   "source": [
    "data.head()"
   ]
  },
  {
   "cell_type": "code",
   "execution_count": 4,
   "metadata": {},
   "outputs": [
    {
     "name": "stdout",
     "output_type": "stream",
     "text": [
      "<class 'pandas.core.frame.DataFrame'>\n",
      "RangeIndex: 9357 entries, 0 to 9356\n",
      "Data columns (total 15 columns):\n",
      " #   Column         Non-Null Count  Dtype         \n",
      "---  ------         --------------  -----         \n",
      " 0   Date           9357 non-null   datetime64[ns]\n",
      " 1   Time           9357 non-null   object        \n",
      " 2   CO(GT)         9357 non-null   float64       \n",
      " 3   PT08.S1(CO)    9357 non-null   float64       \n",
      " 4   NMHC(GT)       9357 non-null   int64         \n",
      " 5   C6H6(GT)       9357 non-null   float64       \n",
      " 6   PT08.S2(NMHC)  9357 non-null   float64       \n",
      " 7   NOx(GT)        9357 non-null   float64       \n",
      " 8   PT08.S3(NOx)   9357 non-null   float64       \n",
      " 9   NO2(GT)        9357 non-null   float64       \n",
      " 10  PT08.S4(NO2)   9357 non-null   float64       \n",
      " 11  PT08.S5(O3)    9357 non-null   float64       \n",
      " 12  T              9357 non-null   float64       \n",
      " 13  RH             9357 non-null   float64       \n",
      " 14  AH             9357 non-null   float64       \n",
      "dtypes: datetime64[ns](1), float64(12), int64(1), object(1)\n",
      "memory usage: 1.1+ MB\n"
     ]
    }
   ],
   "source": [
    "data.info()"
   ]
  },
  {
   "cell_type": "code",
   "execution_count": 5,
   "metadata": {},
   "outputs": [
    {
     "data": {
      "text/html": [
       "<div>\n",
       "<style scoped>\n",
       "    .dataframe tbody tr th:only-of-type {\n",
       "        vertical-align: middle;\n",
       "    }\n",
       "\n",
       "    .dataframe tbody tr th {\n",
       "        vertical-align: top;\n",
       "    }\n",
       "\n",
       "    .dataframe thead th {\n",
       "        text-align: right;\n",
       "    }\n",
       "</style>\n",
       "<table border=\"1\" class=\"dataframe\">\n",
       "  <thead>\n",
       "    <tr style=\"text-align: right;\">\n",
       "      <th></th>\n",
       "      <th>CO(GT)</th>\n",
       "      <th>PT08.S1(CO)</th>\n",
       "      <th>NMHC(GT)</th>\n",
       "      <th>C6H6(GT)</th>\n",
       "      <th>PT08.S2(NMHC)</th>\n",
       "      <th>NOx(GT)</th>\n",
       "      <th>PT08.S3(NOx)</th>\n",
       "      <th>NO2(GT)</th>\n",
       "      <th>PT08.S4(NO2)</th>\n",
       "      <th>PT08.S5(O3)</th>\n",
       "      <th>T</th>\n",
       "      <th>RH</th>\n",
       "      <th>AH</th>\n",
       "    </tr>\n",
       "  </thead>\n",
       "  <tbody>\n",
       "    <tr>\n",
       "      <th>0</th>\n",
       "      <td>2.6</td>\n",
       "      <td>1360.00</td>\n",
       "      <td>150</td>\n",
       "      <td>11.881723</td>\n",
       "      <td>1045.50</td>\n",
       "      <td>166.0</td>\n",
       "      <td>1056.25</td>\n",
       "      <td>113.0</td>\n",
       "      <td>1692.00</td>\n",
       "      <td>1267.50</td>\n",
       "      <td>13.60</td>\n",
       "      <td>48.875001</td>\n",
       "      <td>0.757754</td>\n",
       "    </tr>\n",
       "    <tr>\n",
       "      <th>1</th>\n",
       "      <td>2.0</td>\n",
       "      <td>1292.25</td>\n",
       "      <td>112</td>\n",
       "      <td>9.397165</td>\n",
       "      <td>954.75</td>\n",
       "      <td>103.0</td>\n",
       "      <td>1173.75</td>\n",
       "      <td>92.0</td>\n",
       "      <td>1558.75</td>\n",
       "      <td>972.25</td>\n",
       "      <td>13.30</td>\n",
       "      <td>47.700000</td>\n",
       "      <td>0.725487</td>\n",
       "    </tr>\n",
       "    <tr>\n",
       "      <th>2</th>\n",
       "      <td>2.2</td>\n",
       "      <td>1402.00</td>\n",
       "      <td>88</td>\n",
       "      <td>8.997817</td>\n",
       "      <td>939.25</td>\n",
       "      <td>131.0</td>\n",
       "      <td>1140.00</td>\n",
       "      <td>114.0</td>\n",
       "      <td>1554.50</td>\n",
       "      <td>1074.00</td>\n",
       "      <td>11.90</td>\n",
       "      <td>53.975000</td>\n",
       "      <td>0.750239</td>\n",
       "    </tr>\n",
       "    <tr>\n",
       "      <th>3</th>\n",
       "      <td>2.2</td>\n",
       "      <td>1375.50</td>\n",
       "      <td>80</td>\n",
       "      <td>9.228796</td>\n",
       "      <td>948.25</td>\n",
       "      <td>172.0</td>\n",
       "      <td>1092.00</td>\n",
       "      <td>122.0</td>\n",
       "      <td>1583.75</td>\n",
       "      <td>1203.25</td>\n",
       "      <td>11.00</td>\n",
       "      <td>60.000000</td>\n",
       "      <td>0.786713</td>\n",
       "    </tr>\n",
       "    <tr>\n",
       "      <th>4</th>\n",
       "      <td>1.6</td>\n",
       "      <td>1272.25</td>\n",
       "      <td>51</td>\n",
       "      <td>6.518224</td>\n",
       "      <td>835.50</td>\n",
       "      <td>131.0</td>\n",
       "      <td>1205.00</td>\n",
       "      <td>116.0</td>\n",
       "      <td>1490.00</td>\n",
       "      <td>1110.00</td>\n",
       "      <td>11.15</td>\n",
       "      <td>59.575001</td>\n",
       "      <td>0.788794</td>\n",
       "    </tr>\n",
       "  </tbody>\n",
       "</table>\n",
       "</div>"
      ],
      "text/plain": [
       "   CO(GT)  PT08.S1(CO)  NMHC(GT)   C6H6(GT)  PT08.S2(NMHC)  NOx(GT)  \\\n",
       "0     2.6      1360.00       150  11.881723        1045.50    166.0   \n",
       "1     2.0      1292.25       112   9.397165         954.75    103.0   \n",
       "2     2.2      1402.00        88   8.997817         939.25    131.0   \n",
       "3     2.2      1375.50        80   9.228796         948.25    172.0   \n",
       "4     1.6      1272.25        51   6.518224         835.50    131.0   \n",
       "\n",
       "   PT08.S3(NOx)  NO2(GT)  PT08.S4(NO2)  PT08.S5(O3)      T         RH  \\\n",
       "0       1056.25    113.0       1692.00      1267.50  13.60  48.875001   \n",
       "1       1173.75     92.0       1558.75       972.25  13.30  47.700000   \n",
       "2       1140.00    114.0       1554.50      1074.00  11.90  53.975000   \n",
       "3       1092.00    122.0       1583.75      1203.25  11.00  60.000000   \n",
       "4       1205.00    116.0       1490.00      1110.00  11.15  59.575001   \n",
       "\n",
       "         AH  \n",
       "0  0.757754  \n",
       "1  0.725487  \n",
       "2  0.750239  \n",
       "3  0.786713  \n",
       "4  0.788794  "
      ]
     },
     "execution_count": 5,
     "metadata": {},
     "output_type": "execute_result"
    }
   ],
   "source": [
    "data['Date']=pd.to_datetime(data['Date'],format=' %y-%m-%d')\n",
    "data=data.drop('Time', axis=1)\n",
    "data=data.drop('Date',axis=1)\n",
    "#data['Month']=data['Date'].dt.month_name()\n",
    "#data['Time'] = pd.to_datetime(data['Time'],format= '%H:%M:%S').dt.hour\n",
    "data.head()"
   ]
  },
  {
   "cell_type": "code",
   "execution_count": 6,
   "metadata": {},
   "outputs": [
    {
     "data": {
      "text/plain": [
       "CO(GT)           0\n",
       "PT08.S1(CO)      0\n",
       "NMHC(GT)         0\n",
       "C6H6(GT)         0\n",
       "PT08.S2(NMHC)    0\n",
       "NOx(GT)          0\n",
       "PT08.S3(NOx)     0\n",
       "NO2(GT)          0\n",
       "PT08.S4(NO2)     0\n",
       "PT08.S5(O3)      0\n",
       "T                0\n",
       "RH               0\n",
       "AH               0\n",
       "dtype: int64"
      ]
     },
     "execution_count": 6,
     "metadata": {},
     "output_type": "execute_result"
    }
   ],
   "source": [
    "data.isnull().sum()\n"
   ]
  },
  {
   "cell_type": "code",
   "execution_count": 7,
   "metadata": {},
   "outputs": [],
   "source": [
    "col_=data.columns.tolist()[1:]\n",
    "X=data[col_].drop('RH',axis=1)\n",
    "#X=data[col_].drop('Month',axis=1)\n",
    "#X=data[col_].drop('Time',axis=1)\n",
    "\n",
    "y=data['RH'] \n",
    "ss_x = StandardScaler()\n",
    "X=ss_x.fit_transform(X) \n",
    "#y=ss_x.fit_transform(y)"
   ]
  },
  {
   "cell_type": "code",
   "execution_count": 8,
   "metadata": {},
   "outputs": [],
   "source": [
    "X_train, X_test, y_train, y_test = train_test_split(\n",
    "    X, y, test_size=0.20, random_state=0,shuffle=False)"
   ]
  },
  {
   "cell_type": "code",
   "execution_count": 9,
   "metadata": {},
   "outputs": [],
   "source": [
    "#col_=data.columns.tolist()[1:]\n",
    "#X_train=data[col_].drop(['RH'],axis=1)\n",
    "#X_train=data[col_].drop('Month',axis=1)\n",
    "#X_test=data[col_].drop(['RH'],axis=1)\n",
    "#X_test=data[col_].drop('Month',axis=1)\n",
    "\n",
    "X_train\n",
    "Xt=X_train\n",
    "yt=y_train"
   ]
  },
  {
   "cell_type": "code",
   "execution_count": 10,
   "metadata": {},
   "outputs": [
    {
     "data": {
      "text/plain": [
       "0       48.875001\n",
       "1       47.700000\n",
       "2       53.975000\n",
       "3       60.000000\n",
       "4       59.575001\n",
       "          ...    \n",
       "7480    39.525000\n",
       "7481    34.375001\n",
       "7482    33.350001\n",
       "7483    30.775000\n",
       "7484    31.975000\n",
       "Name: RH, Length: 7485, dtype: float64"
      ]
     },
     "execution_count": 10,
     "metadata": {},
     "output_type": "execute_result"
    }
   ],
   "source": [
    "y_train"
   ]
  },
  {
   "cell_type": "code",
   "execution_count": 11,
   "metadata": {},
   "outputs": [
    {
     "name": "stdout",
     "output_type": "stream",
     "text": [
      "train_x_orig shape: (7485, 11)\n",
      "train_y shape: (7485,)\n",
      "test_x_orig shape: (1872, 11)\n",
      "test_y shape: (1872,)\n"
     ]
    }
   ],
   "source": [
    "print (\"train_x_orig shape: \" + str(X_train.shape))\n",
    "print (\"train_y shape: \" + str(y_train.shape))\n",
    "print (\"test_x_orig shape: \" + str(X_test.shape))\n",
    "print (\"test_y shape: \" + str(y_test.shape))\n"
   ]
  },
  {
   "cell_type": "code",
   "execution_count": 12,
   "metadata": {},
   "outputs": [],
   "source": [
    "#X_test=tf.data.Dataset.from_tensor_slices(dict(X_test))\n",
    "#X_train=tf.data.Dataset.from_tensor_slices(dict(X_train))\n",
    "#y_test=tf.data.Dataset.from_tensor_slices(dict(y_test))\n",
    "#y_train=tf.data.Dataset.from_tensor_slices(dict(y_train))\n"
   ]
  },
  {
   "attachments": {},
   "cell_type": "markdown",
   "metadata": {},
   "source": [
    "Neural network 1\n",
    "layers=3\n",
    "nodes = 64->16->1"
   ]
  },
  {
   "cell_type": "code",
   "execution_count": 13,
   "metadata": {},
   "outputs": [],
   "source": [
    "model = tf.keras.Sequential([\n",
    "    tf.keras.Input(shape=(11,)),\n",
    "    keras.layers.Dense(units=64, activation='relu'),\n",
    "    keras.layers.Dense(units=16, activation='relu'),\n",
    "    keras.layers.Dense(units=1, activation='linear')\n",
    "     ])\n"
   ]
  },
  {
   "cell_type": "code",
   "execution_count": 14,
   "metadata": {},
   "outputs": [],
   "source": [
    "model.compile(optimizer='adam',\n",
    "              loss='tf.keras.losses.mean_squared_error')"
   ]
  },
  {
   "cell_type": "code",
   "execution_count": 15,
   "metadata": {},
   "outputs": [
    {
     "name": "stdout",
     "output_type": "stream",
     "text": [
      "Model: \"sequential\"\n",
      "_________________________________________________________________\n",
      " Layer (type)                Output Shape              Param #   \n",
      "=================================================================\n",
      " dense (Dense)               (None, 64)                768       \n",
      "                                                                 \n",
      " dense_1 (Dense)             (None, 16)                1040      \n",
      "                                                                 \n",
      " dense_2 (Dense)             (None, 1)                 17        \n",
      "                                                                 \n",
      "=================================================================\n",
      "Total params: 1,825\n",
      "Trainable params: 1,825\n",
      "Non-trainable params: 0\n",
      "_________________________________________________________________\n"
     ]
    }
   ],
   "source": [
    "\n",
    "model.summary()"
   ]
  },
  {
   "cell_type": "code",
   "execution_count": 16,
   "metadata": {},
   "outputs": [],
   "source": [
    "model.compile(optimizer='adam',\n",
    "             loss=tf.keras.losses.mean_squared_error)"
   ]
  },
  {
   "cell_type": "code",
   "execution_count": 17,
   "metadata": {},
   "outputs": [
    {
     "name": "stdout",
     "output_type": "stream",
     "text": [
      "Epoch 1/50\n",
      "234/234 [==============================] - 1s 2ms/step - loss: 2725.5635\n",
      "Epoch 2/50\n",
      "234/234 [==============================] - 1s 2ms/step - loss: 452.4026\n",
      "Epoch 3/50\n",
      "234/234 [==============================] - 0s 2ms/step - loss: 291.3504\n",
      "Epoch 4/50\n",
      "234/234 [==============================] - 0s 2ms/step - loss: 198.2696\n",
      "Epoch 5/50\n",
      "234/234 [==============================] - 1s 2ms/step - loss: 135.5221\n",
      "Epoch 6/50\n",
      "234/234 [==============================] - 1s 2ms/step - loss: 90.6218\n",
      "Epoch 7/50\n",
      "234/234 [==============================] - 1s 2ms/step - loss: 64.4280\n",
      "Epoch 8/50\n",
      "234/234 [==============================] - 0s 2ms/step - loss: 51.1174\n",
      "Epoch 9/50\n",
      "234/234 [==============================] - 1s 2ms/step - loss: 43.2292\n",
      "Epoch 10/50\n",
      "234/234 [==============================] - 1s 3ms/step - loss: 38.0740\n",
      "Epoch 11/50\n",
      "234/234 [==============================] - 1s 3ms/step - loss: 34.7023\n",
      "Epoch 12/50\n",
      "234/234 [==============================] - 1s 4ms/step - loss: 32.5320\n",
      "Epoch 13/50\n",
      "234/234 [==============================] - 1s 3ms/step - loss: 30.7010\n",
      "Epoch 14/50\n",
      "234/234 [==============================] - 1s 4ms/step - loss: 29.2319\n",
      "Epoch 15/50\n",
      "234/234 [==============================] - 1s 3ms/step - loss: 28.0318\n",
      "Epoch 16/50\n",
      "234/234 [==============================] - 1s 3ms/step - loss: 26.8040\n",
      "Epoch 17/50\n",
      "234/234 [==============================] - 1s 2ms/step - loss: 26.1808\n",
      "Epoch 18/50\n",
      "234/234 [==============================] - 1s 2ms/step - loss: 25.3021\n",
      "Epoch 19/50\n",
      "234/234 [==============================] - 0s 2ms/step - loss: 24.9061\n",
      "Epoch 20/50\n",
      "234/234 [==============================] - 0s 2ms/step - loss: 24.1643\n",
      "Epoch 21/50\n",
      "234/234 [==============================] - 1s 2ms/step - loss: 23.4355\n",
      "Epoch 22/50\n",
      "234/234 [==============================] - 1s 2ms/step - loss: 22.9642\n",
      "Epoch 23/50\n",
      "234/234 [==============================] - 0s 2ms/step - loss: 22.9253\n",
      "Epoch 24/50\n",
      "234/234 [==============================] - 0s 2ms/step - loss: 22.2979\n",
      "Epoch 25/50\n",
      "234/234 [==============================] - 0s 2ms/step - loss: 21.8800\n",
      "Epoch 26/50\n",
      "234/234 [==============================] - 1s 2ms/step - loss: 21.4059\n",
      "Epoch 27/50\n",
      "234/234 [==============================] - 0s 2ms/step - loss: 21.1933\n",
      "Epoch 28/50\n",
      "234/234 [==============================] - 0s 2ms/step - loss: 20.8154\n",
      "Epoch 29/50\n",
      "234/234 [==============================] - 0s 2ms/step - loss: 20.7289\n",
      "Epoch 30/50\n",
      "234/234 [==============================] - 1s 2ms/step - loss: 20.3361\n",
      "Epoch 31/50\n",
      "234/234 [==============================] - 1s 2ms/step - loss: 20.4180\n",
      "Epoch 32/50\n",
      "234/234 [==============================] - 0s 2ms/step - loss: 19.9546\n",
      "Epoch 33/50\n",
      "234/234 [==============================] - 0s 2ms/step - loss: 19.7222\n",
      "Epoch 34/50\n",
      "234/234 [==============================] - 0s 2ms/step - loss: 19.5050\n",
      "Epoch 35/50\n",
      "234/234 [==============================] - 0s 2ms/step - loss: 19.1920\n",
      "Epoch 36/50\n",
      "234/234 [==============================] - 0s 2ms/step - loss: 18.9210\n",
      "Epoch 37/50\n",
      "234/234 [==============================] - 0s 2ms/step - loss: 18.7674\n",
      "Epoch 38/50\n",
      "234/234 [==============================] - 0s 2ms/step - loss: 18.8919\n",
      "Epoch 39/50\n",
      "234/234 [==============================] - 1s 3ms/step - loss: 18.3314\n",
      "Epoch 40/50\n",
      "234/234 [==============================] - 1s 3ms/step - loss: 18.3707\n",
      "Epoch 41/50\n",
      "234/234 [==============================] - 1s 2ms/step - loss: 18.2093\n",
      "Epoch 42/50\n",
      "234/234 [==============================] - 1s 2ms/step - loss: 17.8917\n",
      "Epoch 43/50\n",
      "234/234 [==============================] - 1s 2ms/step - loss: 17.8649\n",
      "Epoch 44/50\n",
      "234/234 [==============================] - 0s 2ms/step - loss: 17.9992\n",
      "Epoch 45/50\n",
      "234/234 [==============================] - 0s 2ms/step - loss: 17.3725\n",
      "Epoch 46/50\n",
      "234/234 [==============================] - 1s 2ms/step - loss: 17.2603\n",
      "Epoch 47/50\n",
      "234/234 [==============================] - 0s 2ms/step - loss: 17.0540\n",
      "Epoch 48/50\n",
      "234/234 [==============================] - 0s 2ms/step - loss: 16.7370\n",
      "Epoch 49/50\n",
      "234/234 [==============================] - 0s 2ms/step - loss: 17.0212\n",
      "Epoch 50/50\n",
      "234/234 [==============================] - 0s 2ms/step - loss: 16.5700\n"
     ]
    },
    {
     "data": {
      "text/plain": [
       "<keras.callbacks.History at 0x21db06aae50>"
      ]
     },
     "execution_count": 17,
     "metadata": {},
     "output_type": "execute_result"
    }
   ],
   "source": [
    "model.fit(X_train,y_train, epochs=50)"
   ]
  },
  {
   "cell_type": "code",
   "execution_count": 18,
   "metadata": {},
   "outputs": [
    {
     "name": "stdout",
     "output_type": "stream",
     "text": [
      "59/59 [==============================] - 0s 976us/step\n"
     ]
    }
   ],
   "source": [
    "y_predicted = model.predict(X_test)"
   ]
  },
  {
   "cell_type": "code",
   "execution_count": 19,
   "metadata": {},
   "outputs": [
    {
     "name": "stdout",
     "output_type": "stream",
     "text": [
      "59/59 [==============================] - 0s 1ms/step - loss: 40.0750\n"
     ]
    },
    {
     "data": {
      "text/plain": [
       "40.075008392333984"
      ]
     },
     "execution_count": 19,
     "metadata": {},
     "output_type": "execute_result"
    }
   ],
   "source": [
    "model.evaluate(X_test, y_test)"
   ]
  },
  {
   "attachments": {},
   "cell_type": "markdown",
   "metadata": {},
   "source": [
    "Neural network 2\n",
    "layers=5\n",
    "nodes = 16->8->4->2->1"
   ]
  },
  {
   "cell_type": "code",
   "execution_count": 20,
   "metadata": {},
   "outputs": [],
   "source": [
    "model2 = tf.keras.Sequential([\n",
    "    tf.keras.Input(shape=(11,)),\n",
    "    keras.layers.Dense(units=16, activation='relu'),\n",
    "    keras.layers.Dense(units=8, activation='relu'),\n",
    "    keras.layers.Dense(units=4, activation='relu'),\n",
    "    keras.layers.Dense(units=2, activation='relu'),\n",
    "    keras.layers.Dense(units=1, activation='linear')\n",
    "     ])\n",
    "\n",
    "\n"
   ]
  },
  {
   "cell_type": "code",
   "execution_count": 21,
   "metadata": {},
   "outputs": [
    {
     "name": "stdout",
     "output_type": "stream",
     "text": [
      "Model: \"sequential_1\"\n",
      "_________________________________________________________________\n",
      " Layer (type)                Output Shape              Param #   \n",
      "=================================================================\n",
      " dense_3 (Dense)             (None, 16)                192       \n",
      "                                                                 \n",
      " dense_4 (Dense)             (None, 8)                 136       \n",
      "                                                                 \n",
      " dense_5 (Dense)             (None, 4)                 36        \n",
      "                                                                 \n",
      " dense_6 (Dense)             (None, 2)                 10        \n",
      "                                                                 \n",
      " dense_7 (Dense)             (None, 1)                 3         \n",
      "                                                                 \n",
      "=================================================================\n",
      "Total params: 377\n",
      "Trainable params: 377\n",
      "Non-trainable params: 0\n",
      "_________________________________________________________________\n"
     ]
    }
   ],
   "source": [
    "model2.compile(optimizer='adam',\n",
    "              loss='tf.keras.losses.mean_squared_error')\n",
    "model2.summary()\n"
   ]
  },
  {
   "cell_type": "code",
   "execution_count": 22,
   "metadata": {},
   "outputs": [],
   "source": [
    "model2.compile(optimizer='adam',\n",
    "             loss=tf.keras.losses.mean_squared_error)"
   ]
  },
  {
   "cell_type": "code",
   "execution_count": 23,
   "metadata": {},
   "outputs": [
    {
     "name": "stdout",
     "output_type": "stream",
     "text": [
      "Epoch 1/50\n",
      "234/234 [==============================] - 1s 3ms/step - loss: 4068.8801\n",
      "Epoch 2/50\n",
      "234/234 [==============================] - 1s 2ms/step - loss: 3193.2085\n",
      "Epoch 3/50\n",
      "234/234 [==============================] - 1s 2ms/step - loss: 2548.0134\n",
      "Epoch 4/50\n",
      "234/234 [==============================] - 1s 2ms/step - loss: 2524.8521\n",
      "Epoch 5/50\n",
      "234/234 [==============================] - 1s 2ms/step - loss: 2502.5195\n",
      "Epoch 6/50\n",
      "234/234 [==============================] - 1s 2ms/step - loss: 2480.6404\n",
      "Epoch 7/50\n",
      "234/234 [==============================] - 1s 2ms/step - loss: 2459.0935\n",
      "Epoch 8/50\n",
      "234/234 [==============================] - 1s 2ms/step - loss: 2437.7922\n",
      "Epoch 9/50\n",
      "234/234 [==============================] - 1s 2ms/step - loss: 2416.6936\n",
      "Epoch 10/50\n",
      "234/234 [==============================] - 1s 3ms/step - loss: 2395.7903\n",
      "Epoch 11/50\n",
      "234/234 [==============================] - 1s 3ms/step - loss: 2375.0427\n",
      "Epoch 12/50\n",
      "234/234 [==============================] - 1s 2ms/step - loss: 2354.4419\n",
      "Epoch 13/50\n",
      "234/234 [==============================] - 1s 2ms/step - loss: 2333.9883\n",
      "Epoch 14/50\n",
      "234/234 [==============================] - 1s 2ms/step - loss: 2313.6692\n",
      "Epoch 15/50\n",
      "234/234 [==============================] - 1s 2ms/step - loss: 2293.4746\n",
      "Epoch 16/50\n",
      "234/234 [==============================] - 1s 2ms/step - loss: 2273.4082\n",
      "Epoch 17/50\n",
      "234/234 [==============================] - 1s 2ms/step - loss: 2253.4590\n",
      "Epoch 18/50\n",
      "234/234 [==============================] - 1s 2ms/step - loss: 2233.6387\n",
      "Epoch 19/50\n",
      "234/234 [==============================] - 1s 2ms/step - loss: 2213.9153\n",
      "Epoch 20/50\n",
      "234/234 [==============================] - 1s 2ms/step - loss: 2194.3044\n",
      "Epoch 21/50\n",
      "234/234 [==============================] - 1s 2ms/step - loss: 2174.8059\n",
      "Epoch 22/50\n",
      "234/234 [==============================] - 1s 2ms/step - loss: 2155.3982\n",
      "Epoch 23/50\n",
      "234/234 [==============================] - 1s 2ms/step - loss: 2136.1072\n",
      "Epoch 24/50\n",
      "234/234 [==============================] - 1s 2ms/step - loss: 2116.9194\n",
      "Epoch 25/50\n",
      "234/234 [==============================] - 1s 2ms/step - loss: 2097.8489\n",
      "Epoch 26/50\n",
      "234/234 [==============================] - 1s 2ms/step - loss: 2078.9492\n",
      "Epoch 27/50\n",
      "234/234 [==============================] - 1s 2ms/step - loss: 2060.0090\n",
      "Epoch 28/50\n",
      "234/234 [==============================] - 1s 2ms/step - loss: 2041.2505\n",
      "Epoch 29/50\n",
      "234/234 [==============================] - 1s 2ms/step - loss: 2022.6062\n",
      "Epoch 30/50\n",
      "234/234 [==============================] - 1s 3ms/step - loss: 2004.0627\n",
      "Epoch 31/50\n",
      "234/234 [==============================] - 1s 2ms/step - loss: 1985.6095\n",
      "Epoch 32/50\n",
      "234/234 [==============================] - 0s 2ms/step - loss: 1967.2648\n",
      "Epoch 33/50\n",
      "234/234 [==============================] - 1s 2ms/step - loss: 1949.0303\n",
      "Epoch 34/50\n",
      "234/234 [==============================] - 1s 2ms/step - loss: 1930.8928\n",
      "Epoch 35/50\n",
      "234/234 [==============================] - 1s 2ms/step - loss: 1912.8633\n",
      "Epoch 36/50\n",
      "234/234 [==============================] - 1s 2ms/step - loss: 1894.9265\n",
      "Epoch 37/50\n",
      "234/234 [==============================] - 1s 2ms/step - loss: 1877.1122\n",
      "Epoch 38/50\n",
      "234/234 [==============================] - 1s 2ms/step - loss: 1859.3739\n",
      "Epoch 39/50\n",
      "234/234 [==============================] - 1s 2ms/step - loss: 1841.7579\n",
      "Epoch 40/50\n",
      "234/234 [==============================] - 1s 2ms/step - loss: 1824.4336\n",
      "Epoch 41/50\n",
      "234/234 [==============================] - 1s 2ms/step - loss: 1806.8350\n",
      "Epoch 42/50\n",
      "234/234 [==============================] - 1s 2ms/step - loss: 1789.5176\n",
      "Epoch 43/50\n",
      "234/234 [==============================] - 1s 2ms/step - loss: 1772.3097\n",
      "Epoch 44/50\n",
      "234/234 [==============================] - 1s 2ms/step - loss: 1755.2070\n",
      "Epoch 45/50\n",
      "234/234 [==============================] - 0s 2ms/step - loss: 1738.2009\n",
      "Epoch 46/50\n",
      "234/234 [==============================] - 1s 2ms/step - loss: 1721.3027\n",
      "Epoch 47/50\n",
      "234/234 [==============================] - 1s 2ms/step - loss: 1704.5111\n",
      "Epoch 48/50\n",
      "234/234 [==============================] - 0s 2ms/step - loss: 1687.8181\n",
      "Epoch 49/50\n",
      "234/234 [==============================] - 1s 2ms/step - loss: 1671.2218\n",
      "Epoch 50/50\n",
      "234/234 [==============================] - 1s 3ms/step - loss: 1654.7380\n"
     ]
    },
    {
     "data": {
      "text/plain": [
       "<keras.callbacks.History at 0x21db04d36d0>"
      ]
     },
     "execution_count": 23,
     "metadata": {},
     "output_type": "execute_result"
    }
   ],
   "source": [
    "model2.fit(Xt,yt,epochs=50)"
   ]
  },
  {
   "cell_type": "code",
   "execution_count": 24,
   "metadata": {},
   "outputs": [
    {
     "name": "stdout",
     "output_type": "stream",
     "text": [
      "59/59 [==============================] - 0s 1ms/step - loss: 1698.4520\n"
     ]
    },
    {
     "data": {
      "text/plain": [
       "1698.4520263671875"
      ]
     },
     "execution_count": 24,
     "metadata": {},
     "output_type": "execute_result"
    }
   ],
   "source": [
    "model2.evaluate(X_test, y_test)"
   ]
  },
  {
   "attachments": {},
   "cell_type": "markdown",
   "metadata": {},
   "source": [
    "Neural network 3\n",
    "layers=2\n",
    "nodes = 11->1"
   ]
  },
  {
   "cell_type": "code",
   "execution_count": 25,
   "metadata": {},
   "outputs": [],
   "source": [
    "model3 = tf.keras.Sequential([\n",
    "    tf.keras.Input(shape=(11,)),\n",
    "    keras.layers.Dense(units=11, activation='relu'),\n",
    "    keras.layers.Dense(units=1, activation='linear')\n",
    "     ])"
   ]
  },
  {
   "cell_type": "code",
   "execution_count": 26,
   "metadata": {},
   "outputs": [
    {
     "name": "stdout",
     "output_type": "stream",
     "text": [
      "Model: \"sequential_2\"\n",
      "_________________________________________________________________\n",
      " Layer (type)                Output Shape              Param #   \n",
      "=================================================================\n",
      " dense_8 (Dense)             (None, 11)                132       \n",
      "                                                                 \n",
      " dense_9 (Dense)             (None, 1)                 12        \n",
      "                                                                 \n",
      "=================================================================\n",
      "Total params: 144\n",
      "Trainable params: 144\n",
      "Non-trainable params: 0\n",
      "_________________________________________________________________\n"
     ]
    }
   ],
   "source": [
    "model3.compile(optimizer='adam',\n",
    "              loss='tf.keras.losses.mean_squared_error')\n",
    "model3.summary()\n",
    "model3.compile(optimizer='adam',\n",
    "             loss=tf.keras.losses.mean_squared_error)\n"
   ]
  },
  {
   "cell_type": "code",
   "execution_count": 27,
   "metadata": {},
   "outputs": [
    {
     "name": "stdout",
     "output_type": "stream",
     "text": [
      "Epoch 1/50\n",
      "234/234 [==============================] - 1s 2ms/step - loss: 3933.3845\n",
      "Epoch 2/50\n",
      "234/234 [==============================] - 0s 2ms/step - loss: 3352.9819\n",
      "Epoch 3/50\n",
      "234/234 [==============================] - 0s 2ms/step - loss: 2435.8562\n",
      "Epoch 4/50\n",
      "234/234 [==============================] - 0s 2ms/step - loss: 1569.2100\n",
      "Epoch 5/50\n",
      "234/234 [==============================] - 0s 2ms/step - loss: 975.8896\n",
      "Epoch 6/50\n",
      "234/234 [==============================] - 0s 2ms/step - loss: 658.6625\n",
      "Epoch 7/50\n",
      "234/234 [==============================] - 0s 2ms/step - loss: 519.5799\n",
      "Epoch 8/50\n",
      "234/234 [==============================] - 0s 2ms/step - loss: 454.2900\n",
      "Epoch 9/50\n",
      "234/234 [==============================] - 0s 2ms/step - loss: 411.0377\n",
      "Epoch 10/50\n",
      "234/234 [==============================] - 0s 2ms/step - loss: 374.2024\n",
      "Epoch 11/50\n",
      "234/234 [==============================] - 0s 2ms/step - loss: 340.2575\n",
      "Epoch 12/50\n",
      "234/234 [==============================] - 0s 2ms/step - loss: 309.2112\n",
      "Epoch 13/50\n",
      "234/234 [==============================] - 0s 2ms/step - loss: 281.6637\n",
      "Epoch 14/50\n",
      "234/234 [==============================] - 0s 2ms/step - loss: 257.4349\n",
      "Epoch 15/50\n",
      "234/234 [==============================] - 0s 2ms/step - loss: 236.2373\n",
      "Epoch 16/50\n",
      "234/234 [==============================] - 0s 2ms/step - loss: 217.4722\n",
      "Epoch 17/50\n",
      "234/234 [==============================] - 0s 2ms/step - loss: 200.6215\n",
      "Epoch 18/50\n",
      "234/234 [==============================] - 0s 2ms/step - loss: 185.3981\n",
      "Epoch 19/50\n",
      "234/234 [==============================] - 0s 2ms/step - loss: 171.4198\n",
      "Epoch 20/50\n",
      "234/234 [==============================] - 0s 2ms/step - loss: 157.9604\n",
      "Epoch 21/50\n",
      "234/234 [==============================] - 0s 2ms/step - loss: 145.5125\n",
      "Epoch 22/50\n",
      "234/234 [==============================] - 0s 2ms/step - loss: 134.5909\n",
      "Epoch 23/50\n",
      "234/234 [==============================] - 1s 2ms/step - loss: 124.6491\n",
      "Epoch 24/50\n",
      "234/234 [==============================] - 0s 2ms/step - loss: 115.5360\n",
      "Epoch 25/50\n",
      "234/234 [==============================] - 0s 2ms/step - loss: 107.3251\n",
      "Epoch 26/50\n",
      "234/234 [==============================] - 0s 2ms/step - loss: 100.0683\n",
      "Epoch 27/50\n",
      "234/234 [==============================] - 0s 2ms/step - loss: 93.6332\n",
      "Epoch 28/50\n",
      "234/234 [==============================] - 0s 2ms/step - loss: 87.9517\n",
      "Epoch 29/50\n",
      "234/234 [==============================] - 0s 2ms/step - loss: 82.7325\n",
      "Epoch 30/50\n",
      "234/234 [==============================] - 0s 2ms/step - loss: 78.3309\n",
      "Epoch 31/50\n",
      "234/234 [==============================] - 0s 2ms/step - loss: 74.2217\n",
      "Epoch 32/50\n",
      "234/234 [==============================] - 0s 2ms/step - loss: 70.8181\n",
      "Epoch 33/50\n",
      "234/234 [==============================] - 0s 2ms/step - loss: 67.9285\n",
      "Epoch 34/50\n",
      "234/234 [==============================] - 0s 2ms/step - loss: 65.3957\n",
      "Epoch 35/50\n",
      "234/234 [==============================] - 0s 2ms/step - loss: 63.1793\n",
      "Epoch 36/50\n",
      "234/234 [==============================] - 0s 2ms/step - loss: 61.1828\n",
      "Epoch 37/50\n",
      "234/234 [==============================] - 0s 2ms/step - loss: 59.3990\n",
      "Epoch 38/50\n",
      "234/234 [==============================] - 0s 2ms/step - loss: 57.8343\n",
      "Epoch 39/50\n",
      "234/234 [==============================] - 0s 2ms/step - loss: 56.3016\n",
      "Epoch 40/50\n",
      "234/234 [==============================] - 0s 2ms/step - loss: 54.9738\n",
      "Epoch 41/50\n",
      "234/234 [==============================] - 0s 2ms/step - loss: 53.7698\n",
      "Epoch 42/50\n",
      "234/234 [==============================] - 0s 2ms/step - loss: 52.5008\n",
      "Epoch 43/50\n",
      "234/234 [==============================] - 0s 2ms/step - loss: 51.3160\n",
      "Epoch 44/50\n",
      "234/234 [==============================] - 0s 2ms/step - loss: 50.1673\n",
      "Epoch 45/50\n",
      "234/234 [==============================] - 0s 2ms/step - loss: 48.9462\n",
      "Epoch 46/50\n",
      "234/234 [==============================] - 0s 2ms/step - loss: 47.4178\n",
      "Epoch 47/50\n",
      "234/234 [==============================] - 0s 2ms/step - loss: 45.5675\n",
      "Epoch 48/50\n",
      "234/234 [==============================] - 0s 2ms/step - loss: 43.5882\n",
      "Epoch 49/50\n",
      "234/234 [==============================] - 0s 2ms/step - loss: 42.0611\n",
      "Epoch 50/50\n",
      "234/234 [==============================] - 0s 2ms/step - loss: 40.9250\n"
     ]
    },
    {
     "data": {
      "text/plain": [
       "<keras.callbacks.History at 0x21db0213f40>"
      ]
     },
     "execution_count": 27,
     "metadata": {},
     "output_type": "execute_result"
    }
   ],
   "source": [
    "model3.fit(Xt,yt,epochs=50)"
   ]
  },
  {
   "cell_type": "code",
   "execution_count": 28,
   "metadata": {},
   "outputs": [
    {
     "name": "stdout",
     "output_type": "stream",
     "text": [
      "59/59 [==============================] - 0s 1ms/step - loss: 79.6626\n"
     ]
    },
    {
     "data": {
      "text/plain": [
       "79.6626205444336"
      ]
     },
     "execution_count": 28,
     "metadata": {},
     "output_type": "execute_result"
    }
   ],
   "source": [
    "model3.evaluate(X_test, y_test)"
   ]
  },
  {
   "attachments": {},
   "cell_type": "markdown",
   "metadata": {},
   "source": [
    "Neural network 4\n",
    "layers = 6\n",
    "nodes=128->64->32->16->8->1\n"
   ]
  },
  {
   "cell_type": "code",
   "execution_count": 29,
   "metadata": {},
   "outputs": [],
   "source": [
    "model4 = tf.keras.Sequential([\n",
    "    tf.keras.Input(shape=(11,)),\n",
    "    keras.layers.Dense(units=128, activation='relu'),\n",
    "    keras.layers.Dense(units=64, activation='relu'),\n",
    "    keras.layers.Dense(units=32, activation='relu'),\n",
    "    keras.layers.Dense(units=16, activation='relu'),\n",
    "        keras.layers.Dense(units=8, activation='relu'),\n",
    "    keras.layers.Dense(units=1, activation='linear')\n",
    "     ])\n",
    "\n",
    "\n"
   ]
  },
  {
   "cell_type": "code",
   "execution_count": 30,
   "metadata": {},
   "outputs": [
    {
     "name": "stdout",
     "output_type": "stream",
     "text": [
      "Model: \"sequential_3\"\n",
      "_________________________________________________________________\n",
      " Layer (type)                Output Shape              Param #   \n",
      "=================================================================\n",
      " dense_10 (Dense)            (None, 128)               1536      \n",
      "                                                                 \n",
      " dense_11 (Dense)            (None, 64)                8256      \n",
      "                                                                 \n",
      " dense_12 (Dense)            (None, 32)                2080      \n",
      "                                                                 \n",
      " dense_13 (Dense)            (None, 16)                528       \n",
      "                                                                 \n",
      " dense_14 (Dense)            (None, 8)                 136       \n",
      "                                                                 \n",
      " dense_15 (Dense)            (None, 1)                 9         \n",
      "                                                                 \n",
      "=================================================================\n",
      "Total params: 12,545\n",
      "Trainable params: 12,545\n",
      "Non-trainable params: 0\n",
      "_________________________________________________________________\n"
     ]
    }
   ],
   "source": [
    "model4.compile(optimizer='adam',\n",
    "              loss='tf.keras.losses.mean_squared_error')\n",
    "model4.summary()\n",
    "model4.compile(optimizer='adam',\n",
    "             loss=tf.keras.losses.mean_squared_error)\n"
   ]
  },
  {
   "cell_type": "code",
   "execution_count": 31,
   "metadata": {},
   "outputs": [
    {
     "name": "stdout",
     "output_type": "stream",
     "text": [
      "Epoch 1/50\n",
      "234/234 [==============================] - 1s 3ms/step - loss: 1345.9698\n",
      "Epoch 2/50\n",
      "234/234 [==============================] - 1s 3ms/step - loss: 111.0032\n",
      "Epoch 3/50\n",
      "234/234 [==============================] - 1s 2ms/step - loss: 44.3901\n",
      "Epoch 4/50\n",
      "234/234 [==============================] - 1s 2ms/step - loss: 33.1617\n",
      "Epoch 5/50\n",
      "234/234 [==============================] - 1s 2ms/step - loss: 29.6311\n",
      "Epoch 6/50\n",
      "234/234 [==============================] - 1s 2ms/step - loss: 27.0458\n",
      "Epoch 7/50\n",
      "234/234 [==============================] - 1s 2ms/step - loss: 25.2325\n",
      "Epoch 8/50\n",
      "234/234 [==============================] - 1s 2ms/step - loss: 23.9784\n",
      "Epoch 9/50\n",
      "234/234 [==============================] - 1s 2ms/step - loss: 23.1901\n",
      "Epoch 10/50\n",
      "234/234 [==============================] - 1s 3ms/step - loss: 22.9411\n",
      "Epoch 11/50\n",
      "234/234 [==============================] - 1s 2ms/step - loss: 21.0789\n",
      "Epoch 12/50\n",
      "234/234 [==============================] - 1s 2ms/step - loss: 20.3704\n",
      "Epoch 13/50\n",
      "234/234 [==============================] - 1s 2ms/step - loss: 19.9748\n",
      "Epoch 14/50\n",
      "234/234 [==============================] - 1s 2ms/step - loss: 19.9977\n",
      "Epoch 15/50\n",
      "234/234 [==============================] - 1s 3ms/step - loss: 18.2649\n",
      "Epoch 16/50\n",
      "234/234 [==============================] - 1s 3ms/step - loss: 18.9048\n",
      "Epoch 17/50\n",
      "234/234 [==============================] - 1s 2ms/step - loss: 17.6319\n",
      "Epoch 18/50\n",
      "234/234 [==============================] - 1s 2ms/step - loss: 17.1226\n",
      "Epoch 19/50\n",
      "234/234 [==============================] - 1s 2ms/step - loss: 17.8987\n",
      "Epoch 20/50\n",
      "234/234 [==============================] - 1s 2ms/step - loss: 16.9027\n",
      "Epoch 21/50\n",
      "234/234 [==============================] - 1s 2ms/step - loss: 16.7422\n",
      "Epoch 22/50\n",
      "234/234 [==============================] - 1s 2ms/step - loss: 16.1532\n",
      "Epoch 23/50\n",
      "234/234 [==============================] - 1s 2ms/step - loss: 16.2163\n",
      "Epoch 24/50\n",
      "234/234 [==============================] - 1s 2ms/step - loss: 16.0198\n",
      "Epoch 25/50\n",
      "234/234 [==============================] - 1s 2ms/step - loss: 15.4100\n",
      "Epoch 26/50\n",
      "234/234 [==============================] - 1s 2ms/step - loss: 14.1276\n",
      "Epoch 27/50\n",
      "234/234 [==============================] - 1s 2ms/step - loss: 14.5535\n",
      "Epoch 28/50\n",
      "234/234 [==============================] - 1s 2ms/step - loss: 14.6902\n",
      "Epoch 29/50\n",
      "234/234 [==============================] - 1s 2ms/step - loss: 13.6065\n",
      "Epoch 30/50\n",
      "234/234 [==============================] - 1s 2ms/step - loss: 14.1785\n",
      "Epoch 31/50\n",
      "234/234 [==============================] - 1s 2ms/step - loss: 13.3796\n",
      "Epoch 32/50\n",
      "234/234 [==============================] - 1s 2ms/step - loss: 13.2974\n",
      "Epoch 33/50\n",
      "234/234 [==============================] - 1s 2ms/step - loss: 13.3446\n",
      "Epoch 34/50\n",
      "234/234 [==============================] - 1s 3ms/step - loss: 13.0590\n",
      "Epoch 35/50\n",
      "234/234 [==============================] - 1s 2ms/step - loss: 12.4096\n",
      "Epoch 36/50\n",
      "234/234 [==============================] - 1s 2ms/step - loss: 12.9603\n",
      "Epoch 37/50\n",
      "234/234 [==============================] - 1s 2ms/step - loss: 11.9861\n",
      "Epoch 38/50\n",
      "234/234 [==============================] - 1s 2ms/step - loss: 11.7366\n",
      "Epoch 39/50\n",
      "234/234 [==============================] - 1s 2ms/step - loss: 11.8951\n",
      "Epoch 40/50\n",
      "234/234 [==============================] - 1s 3ms/step - loss: 11.5372\n",
      "Epoch 41/50\n",
      "234/234 [==============================] - 1s 2ms/step - loss: 14.1566\n",
      "Epoch 42/50\n",
      "234/234 [==============================] - 1s 3ms/step - loss: 11.6630\n",
      "Epoch 43/50\n",
      "234/234 [==============================] - 1s 2ms/step - loss: 11.0658\n",
      "Epoch 44/50\n",
      "234/234 [==============================] - 1s 2ms/step - loss: 11.6679\n",
      "Epoch 45/50\n",
      "234/234 [==============================] - 1s 2ms/step - loss: 11.3899\n",
      "Epoch 46/50\n",
      "234/234 [==============================] - 1s 2ms/step - loss: 10.9147\n",
      "Epoch 47/50\n",
      "234/234 [==============================] - 1s 2ms/step - loss: 10.5615\n",
      "Epoch 48/50\n",
      "234/234 [==============================] - 1s 2ms/step - loss: 10.2434\n",
      "Epoch 49/50\n",
      "234/234 [==============================] - 1s 2ms/step - loss: 10.7836\n",
      "Epoch 50/50\n",
      "234/234 [==============================] - 1s 2ms/step - loss: 11.9448\n"
     ]
    },
    {
     "data": {
      "text/plain": [
       "<keras.callbacks.History at 0x21db0883760>"
      ]
     },
     "execution_count": 31,
     "metadata": {},
     "output_type": "execute_result"
    }
   ],
   "source": [
    "model4.fit(Xt,yt,epochs=50)"
   ]
  },
  {
   "cell_type": "code",
   "execution_count": 32,
   "metadata": {},
   "outputs": [
    {
     "name": "stdout",
     "output_type": "stream",
     "text": [
      "59/59 [==============================] - 0s 1ms/step - loss: 29.5107\n"
     ]
    },
    {
     "data": {
      "text/plain": [
       "29.510726928710938"
      ]
     },
     "execution_count": 32,
     "metadata": {},
     "output_type": "execute_result"
    }
   ],
   "source": [
    "model4.evaluate(X_test, y_test)"
   ]
  },
  {
   "attachments": {},
   "cell_type": "markdown",
   "metadata": {},
   "source": [
    "Neural Network 5 \n",
    "layers=3\n",
    "nodes=21->7->1"
   ]
  },
  {
   "cell_type": "markdown",
   "metadata": {},
   "source": []
  },
  {
   "cell_type": "code",
   "execution_count": 33,
   "metadata": {},
   "outputs": [],
   "source": [
    "model5 = tf.keras.Sequential([\n",
    "    tf.keras.Input(shape=(11,)),\n",
    "    keras.layers.Dense(units=21, activation='relu'),\n",
    "    keras.layers.Dense(units=7, activation='relu'),\n",
    "    keras.layers.Dense(units=1, activation='linear')\n",
    "     ])\n"
   ]
  },
  {
   "cell_type": "code",
   "execution_count": 34,
   "metadata": {},
   "outputs": [
    {
     "name": "stdout",
     "output_type": "stream",
     "text": [
      "Model: \"sequential_4\"\n",
      "_________________________________________________________________\n",
      " Layer (type)                Output Shape              Param #   \n",
      "=================================================================\n",
      " dense_16 (Dense)            (None, 21)                252       \n",
      "                                                                 \n",
      " dense_17 (Dense)            (None, 7)                 154       \n",
      "                                                                 \n",
      " dense_18 (Dense)            (None, 1)                 8         \n",
      "                                                                 \n",
      "=================================================================\n",
      "Total params: 414\n",
      "Trainable params: 414\n",
      "Non-trainable params: 0\n",
      "_________________________________________________________________\n"
     ]
    }
   ],
   "source": [
    "model5.compile(optimizer='adam',\n",
    "              loss='tf.keras.losses.mean_squared_error')\n",
    "model5.summary()\n",
    "model5.compile(optimizer='adam',\n",
    "             loss=tf.keras.losses.mean_squared_error)\n"
   ]
  },
  {
   "cell_type": "code",
   "execution_count": 35,
   "metadata": {},
   "outputs": [
    {
     "name": "stdout",
     "output_type": "stream",
     "text": [
      "Epoch 1/50\n",
      "234/234 [==============================] - 1s 3ms/step - loss: 3447.8008\n",
      "Epoch 2/50\n",
      "234/234 [==============================] - 0s 2ms/step - loss: 1234.9579\n",
      "Epoch 3/50\n",
      "234/234 [==============================] - 0s 2ms/step - loss: 449.3885\n",
      "Epoch 4/50\n",
      "234/234 [==============================] - 0s 2ms/step - loss: 338.0228\n",
      "Epoch 5/50\n",
      "234/234 [==============================] - 0s 2ms/step - loss: 258.5390\n",
      "Epoch 6/50\n",
      "234/234 [==============================] - 0s 2ms/step - loss: 200.6695\n",
      "Epoch 7/50\n",
      "234/234 [==============================] - 0s 2ms/step - loss: 154.8056\n",
      "Epoch 8/50\n",
      "234/234 [==============================] - 0s 2ms/step - loss: 120.1689\n",
      "Epoch 9/50\n",
      "234/234 [==============================] - 0s 2ms/step - loss: 95.5924\n",
      "Epoch 10/50\n",
      "234/234 [==============================] - 0s 2ms/step - loss: 78.9035\n",
      "Epoch 11/50\n",
      "234/234 [==============================] - 0s 2ms/step - loss: 67.0150\n",
      "Epoch 12/50\n",
      "234/234 [==============================] - 0s 2ms/step - loss: 58.4283\n",
      "Epoch 13/50\n",
      "234/234 [==============================] - 0s 2ms/step - loss: 51.9490\n",
      "Epoch 14/50\n",
      "234/234 [==============================] - 0s 2ms/step - loss: 46.9008\n",
      "Epoch 15/50\n",
      "234/234 [==============================] - 0s 2ms/step - loss: 42.9002\n",
      "Epoch 16/50\n",
      "234/234 [==============================] - 0s 2ms/step - loss: 39.6397\n",
      "Epoch 17/50\n",
      "234/234 [==============================] - 0s 2ms/step - loss: 37.0979\n",
      "Epoch 18/50\n",
      "234/234 [==============================] - 0s 2ms/step - loss: 35.1968\n",
      "Epoch 19/50\n",
      "234/234 [==============================] - 0s 2ms/step - loss: 33.8004\n",
      "Epoch 20/50\n",
      "234/234 [==============================] - 0s 2ms/step - loss: 32.6602\n",
      "Epoch 21/50\n",
      "234/234 [==============================] - 0s 2ms/step - loss: 31.8683\n",
      "Epoch 22/50\n",
      "234/234 [==============================] - 0s 2ms/step - loss: 30.9413\n",
      "Epoch 23/50\n",
      "234/234 [==============================] - 0s 2ms/step - loss: 30.1179\n",
      "Epoch 24/50\n",
      "234/234 [==============================] - 1s 3ms/step - loss: 29.5274\n",
      "Epoch 25/50\n",
      "234/234 [==============================] - 0s 2ms/step - loss: 28.7354\n",
      "Epoch 26/50\n",
      "234/234 [==============================] - 0s 2ms/step - loss: 28.2829\n",
      "Epoch 27/50\n",
      "234/234 [==============================] - 0s 2ms/step - loss: 27.5583\n",
      "Epoch 28/50\n",
      "234/234 [==============================] - 0s 2ms/step - loss: 27.0964\n",
      "Epoch 29/50\n",
      "234/234 [==============================] - 0s 2ms/step - loss: 26.6359\n",
      "Epoch 30/50\n",
      "234/234 [==============================] - 0s 2ms/step - loss: 25.9676\n",
      "Epoch 31/50\n",
      "234/234 [==============================] - 0s 2ms/step - loss: 25.8098\n",
      "Epoch 32/50\n",
      "234/234 [==============================] - 0s 2ms/step - loss: 25.7791\n",
      "Epoch 33/50\n",
      "234/234 [==============================] - 0s 2ms/step - loss: 24.9807\n",
      "Epoch 34/50\n",
      "234/234 [==============================] - 0s 2ms/step - loss: 24.8997\n",
      "Epoch 35/50\n",
      "234/234 [==============================] - 0s 2ms/step - loss: 24.5360\n",
      "Epoch 36/50\n",
      "234/234 [==============================] - 0s 2ms/step - loss: 24.1869\n",
      "Epoch 37/50\n",
      "234/234 [==============================] - 0s 2ms/step - loss: 24.0208\n",
      "Epoch 38/50\n",
      "234/234 [==============================] - 0s 2ms/step - loss: 23.7919\n",
      "Epoch 39/50\n",
      "234/234 [==============================] - 0s 2ms/step - loss: 23.5783\n",
      "Epoch 40/50\n",
      "234/234 [==============================] - 0s 2ms/step - loss: 23.3732\n",
      "Epoch 41/50\n",
      "234/234 [==============================] - 0s 2ms/step - loss: 23.1643\n",
      "Epoch 42/50\n",
      "234/234 [==============================] - 0s 2ms/step - loss: 22.9756\n",
      "Epoch 43/50\n",
      "234/234 [==============================] - 0s 2ms/step - loss: 22.7025\n",
      "Epoch 44/50\n",
      "234/234 [==============================] - 0s 2ms/step - loss: 22.6055\n",
      "Epoch 45/50\n",
      "234/234 [==============================] - 0s 2ms/step - loss: 22.5450\n",
      "Epoch 46/50\n",
      "234/234 [==============================] - 0s 2ms/step - loss: 22.2115\n",
      "Epoch 47/50\n",
      "234/234 [==============================] - 1s 2ms/step - loss: 22.1715\n",
      "Epoch 48/50\n",
      "234/234 [==============================] - 1s 2ms/step - loss: 21.9481\n",
      "Epoch 49/50\n",
      "234/234 [==============================] - 0s 2ms/step - loss: 21.7582\n",
      "Epoch 50/50\n",
      "234/234 [==============================] - 0s 2ms/step - loss: 21.7872\n"
     ]
    },
    {
     "data": {
      "text/plain": [
       "<keras.callbacks.History at 0x21db6c01f70>"
      ]
     },
     "execution_count": 35,
     "metadata": {},
     "output_type": "execute_result"
    }
   ],
   "source": [
    "model5.fit(X_train,y_train,epochs=50)"
   ]
  },
  {
   "cell_type": "code",
   "execution_count": 36,
   "metadata": {},
   "outputs": [
    {
     "name": "stdout",
     "output_type": "stream",
     "text": [
      "59/59 [==============================] - 0s 1ms/step - loss: 52.6311\n"
     ]
    },
    {
     "data": {
      "text/plain": [
       "52.631099700927734"
      ]
     },
     "execution_count": 36,
     "metadata": {},
     "output_type": "execute_result"
    }
   ],
   "source": [
    "model5.evaluate(X_test, y_test)"
   ]
  },
  {
   "cell_type": "code",
   "execution_count": null,
   "metadata": {},
   "outputs": [],
   "source": []
  }
 ],
 "metadata": {
  "kernelspec": {
   "display_name": "tf",
   "language": "python",
   "name": "python3"
  },
  "language_info": {
   "codemirror_mode": {
    "name": "ipython",
    "version": 3
   },
   "file_extension": ".py",
   "mimetype": "text/x-python",
   "name": "python",
   "nbconvert_exporter": "python",
   "pygments_lexer": "ipython3",
   "version": "3.9.13"
  },
  "orig_nbformat": 4,
  "vscode": {
   "interpreter": {
    "hash": "8037a1f7d5a7fbfad1f619d633cb8ea98643d68a581d37d266c41022ff6cb6cf"
   }
  }
 },
 "nbformat": 4,
 "nbformat_minor": 2
}
