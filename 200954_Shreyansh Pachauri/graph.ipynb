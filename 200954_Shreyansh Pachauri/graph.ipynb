{
 "cells": [
  {
   "cell_type": "code",
   "execution_count": 1,
   "id": "21b39f06",
   "metadata": {},
   "outputs": [],
   "source": [
    "import numpy as np\n",
    "import matplotlib.pyplot as plt\n",
    "import activations as act\n"
   ]
  },
  {
   "cell_type": "code",
   "execution_count": 2,
   "id": "1190947d",
   "metadata": {},
   "outputs": [],
   "source": [
    "\n",
    "def sig_graph(a,b,x):\n",
    "    x = np.linspace(a,b)\n",
    "    y1= act.sigmoid(x)\n",
    "    plt.plot(x,y1)\n",
    "    plt.title(\"Sigmoid\")\n",
    "    plt.show()\n",
    " \n"
   ]
  },
  {
   "cell_type": "code",
   "execution_count": 3,
   "id": "63744412",
   "metadata": {},
   "outputs": [],
   "source": [
    "\n",
    "    \n",
    "def tanh_graph(a,b,x):\n",
    "    x = np.linspace(a,b)\n",
    "    y2 = act.tanh(x)\n",
    "    plt.plot(x,y2)\n",
    "    plt.title(\"tanh\")\n",
    "    plt.show()\n",
    "\n",
    "\n"
   ]
  },
  {
   "cell_type": "code",
   "execution_count": 4,
   "id": "a1dfb463",
   "metadata": {},
   "outputs": [],
   "source": [
    "\n",
    "\n",
    "def ReLU_graph(a,b,x):\n",
    "    x = np.linspace(a,b)\n",
    "    y3 = act.Relu(x)\n",
    "    plt.plot(x,y3)\n",
    "    plt.title(\"ReLU\")\n",
    "    plt.show()\n"
   ]
  },
  {
   "cell_type": "code",
   "execution_count": null,
   "id": "12574589",
   "metadata": {},
   "outputs": [],
   "source": []
  }
 ],
 "metadata": {
  "kernelspec": {
   "display_name": "Python 3 (ipykernel)",
   "language": "python",
   "name": "python3"
  },
  "language_info": {
   "codemirror_mode": {
    "name": "ipython",
    "version": 3
   },
   "file_extension": ".py",
   "mimetype": "text/x-python",
   "name": "python",
   "nbconvert_exporter": "python",
   "pygments_lexer": "ipython3",
   "version": "3.9.13"
  }
 },
 "nbformat": 4,
 "nbformat_minor": 5
}
