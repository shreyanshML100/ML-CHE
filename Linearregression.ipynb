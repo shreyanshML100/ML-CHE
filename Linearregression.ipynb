{
 "cells": [
  {
   "cell_type": "code",
   "execution_count": 1,
   "id": "27e824a2",
   "metadata": {},
   "outputs": [],
   "source": [
    "import numpy as np\n",
    "import matplotlib.pyplot as plt"
   ]
  },
  {
   "cell_type": "code",
   "execution_count": 29,
   "id": "50bd9e8f",
   "metadata": {},
   "outputs": [],
   "source": [
    "def costFun(theta, X_train, Y_train):\n",
    "\n",
    "    m=X_train.shape[0]\n",
    "    J=(1/(2*m))*np.sum(((theta*X_train)-Y_train)**2)\n",
    "\n",
    "    return J\n",
    "\n",
    "\n",
    "\n",
    "\n"
   ]
  },
  {
   "cell_type": "code",
   "execution_count": 30,
   "id": "edf1e79b",
   "metadata": {},
   "outputs": [],
   "source": [
    "def diffCostFun(theta, X_train, Y_train):\n",
    "        \n",
    "    m = X_train.shape[0]\n",
    "    Jo=(1/m)*np.sum(theta*((theta*X_train)-Y_train))  \n",
    "    \n",
    "    return Jo \n",
    "\n",
    "\n"
   ]
  },
  {
   "cell_type": "code",
   "execution_count": 80,
   "id": "e10513e0",
   "metadata": {},
   "outputs": [],
   "source": [
    "def fitGD(x_train, y_train ,alpha, lamb, type_of_regularization, iterations):\n",
    "\n",
    "#// This Function performs batch Gradient Descent for our training dataset with the\n",
    "#// given parameters as input. It should return the trained parameters and should also plot\n",
    "#// the graph of J(theta) vs iteration number for each time it runs using Batch Gradient\n",
    "# Descent. Use vectorized implementation.\n",
    "    theta=0.1\n",
    "    m = x_train.shape[0]\n",
    "    for i in range(iterations):\n",
    "        if type_of_regularization==1:\n",
    "            J=costFun(theta,x_train,y_train)+theta*lamb/(2*m)\n",
    "            theta=theta+alpha*(diffCostFun(theta,x_train,y_train)+lamb/(2*m))\n",
    "        if type_of_regularization==2:\n",
    "            # theta = theta - alpha * (dtheta + regularization_term)\n",
    "            J=costFun(theta,x_train,y_train)+theta*theta*lamb/(2*m)\n",
    "            theta=theta+alpha*(diffCostFun(theta,x_train,y_train)+lamb*theta/m)\n",
    "        if type_of_regularization==3:\n",
    "            J=costFun(theta,x_train,y_train)+theta*theta*lamb/6+lamb*theta/m\n",
    "            theta=theta+alpha*(diffCostFun(theta,x_train,y_train)+lamb/m+lamb*theta/(m/2))\n",
    "        plt.scatter(iterations,costFun(theta,x_train,y_train))\n",
    "        print(\"cost = \", costFun(theta,x_train,y_train))\n",
    "\n",
    "    return theta\n"
   ]
  },
  {
   "cell_type": "code",
   "execution_count": 81,
   "id": "12094014",
   "metadata": {},
   "outputs": [],
   "source": [
    "def fitNormal(X_train, Y_train):\n",
    "    theta=np.linalg.inv(X_train.T.dot(X_train)).dot(X_train.T).dot(Y_train)\n",
    "    return theta\n"
   ]
  },
  {
   "cell_type": "code",
   "execution_count": 82,
   "id": "69d3edae",
   "metadata": {},
   "outputs": [],
   "source": [
    "def locallyWeighted(X_train, Y_train, x, tau, Number_of_Iterations):\n",
    "    m = X_train.shape[0]\n",
    "    W=np.array()\n",
    "    for i in range(m):\n",
    "        W[i] = np.exp(-(X_train[i]-x)*2/2*tau*2)\n",
    "    \n",
    "    Z = X_train.transpose()\n",
    "    theta = np.linalg.inv(Z*W*X_train)*(Z*W*Y_train)\n",
    "    \n",
    "    y = theta*x\n",
    "        #returns prediction of y for given x through locally weighted Regression\n",
    "    return y"
   ]
  },
  {
   "cell_type": "code",
   "execution_count": 91,
   "id": "995f884e",
   "metadata": {},
   "outputs": [
    {
     "name": "stdout",
     "output_type": "stream",
     "text": [
      "cost =  51.59704887702557\n",
      "cost =  51.66843810812446\n",
      "cost =  51.739237839188924\n",
      "cost =  51.80945155650332\n",
      "cost =  51.87908275274218\n",
      "cost =  51.948134926313834\n",
      "cost =  52.01661158071605\n",
      "cost =  52.08451622390386\n",
      "cost =  52.15185236766921\n",
      "cost =  52.218623527032555\n",
      "cost =  52.2848332196461\n",
      "cost =  52.35048496520882\n",
      "cost =  52.41558228489305\n",
      "cost =  52.480128700782366\n",
      "cost =  52.544127735321126\n",
      "cost =  52.607582910774994\n",
      "cost =  52.6704977487028\n",
      "cost =  52.73287576943943\n",
      "cost =  52.79472049158952\n",
      "cost =  52.85603543153221\n",
      "cost =  52.91682410293644\n",
      "cost =  52.9770900162869\n",
      "cost =  53.036836678420606\n",
      "cost =  53.096067592073645\n",
      "cost =  53.15478625543836\n",
      "cost =  53.2129961617306\n",
      "cost =  53.27070079876711\n",
      "cost =  53.32790364855265\n",
      "cost =  53.38460818687719\n",
      "cost =  53.4408178829225\n",
      "cost =  53.49653619887852\n",
      "cost =  53.5517665895691\n",
      "cost =  53.60651250208703\n",
      "cost =  53.660777375438364\n",
      "cost =  53.71456464019572\n",
      "cost =  53.76787771816069\n",
      "cost =  53.820720022034926\n",
      "cost =  53.87309495510013\n",
      "cost =  53.925005910906506\n",
      "cost =  53.97645627296982\n",
      "cost =  54.027449414476706\n",
      "cost =  54.07798869799831\n",
      "cost =  54.12807747521205\n",
      "cost =  54.177719086631335\n",
      "cost =  54.22691686134326\n",
      "cost =  54.275674116753976\n",
      "cost =  54.32399415834181\n",
      "cost =  54.37188027941785\n",
      "cost =  54.419335760894\n",
      "cost =  54.46636387105829\n",
      "cost =  54.512967865357474\n",
      "cost =  54.55915098618655\n",
      "cost =  54.6049164626854\n",
      "cost =  54.650267510542164\n",
      "cost =  54.69520733180339\n",
      "cost =  54.739739114690835\n",
      "cost =  54.78386603342473\n",
      "cost =  54.82759124805342\n",
      "cost =  54.870917904289435\n",
      "cost =  54.91384913335153\n",
      "cost =  54.956388051812965\n",
      "cost =  54.998537761455744\n",
      "cost =  55.04030134913057\n",
      "cost =  55.08168188662273\n",
      "cost =  55.122682430523525\n",
      "cost =  55.16330602210727\n",
      "cost =  55.203555687213765\n",
      "cost =  55.243434436136035\n",
      "cost =  55.28294526351347\n",
      "cost =  55.32209114822988\n",
      "cost =  55.3608750533168\n",
      "cost =  55.39929992586164\n",
      "cost =  55.43736869692067\n",
      "cost =  55.475084281436864\n",
      "cost =  55.51244957816227\n",
      "cost =  55.54946746958508\n",
      "cost =  55.586140821861065\n",
      "cost =  55.62247248474945\n",
      "cost =  55.6584652915531\n",
      "cost =  55.69412205906285\n",
      "cost =  55.729445587506014\n",
      "cost =  55.76443866049894\n",
      "cost =  55.79910404500335\n",
      "cost =  55.833444491286855\n",
      "cost =  55.86746273288685\n",
      "cost =  55.90116148657849\n",
      "cost =  55.93454345234598\n",
      "cost =  55.967611313357565\n",
      "cost =  56.000367735943954\n",
      "cost =  56.03281536958008\n",
      "cost =  56.06495684687014\n",
      "cost =  56.096794783535955\n",
      "cost =  56.128331778408395\n",
      "cost =  56.15957041342188\n",
      "cost =  56.19051325361198\n",
      "cost =  56.22116284711579\n",
      "cost =  56.25152172517531\n",
      "cost =  56.281592402143545\n",
      "cost =  56.31137737549331\n",
      "cost =  56.3408791258288\n",
      "0.03721297991552629\n"
     ]
    },
    {
     "ename": "NameError",
     "evalue": "name 'x_train' is not defined",
     "output_type": "error",
     "traceback": [
      "\u001b[1;31m---------------------------------------------------------------------------\u001b[0m",
      "\u001b[1;31mNameError\u001b[0m                                 Traceback (most recent call last)",
      "\u001b[1;32m~\\AppData\\Local\\Temp\\ipykernel_12916\\3338159915.py\u001b[0m in \u001b[0;36m<module>\u001b[1;34m\u001b[0m\n\u001b[0;32m     14\u001b[0m \u001b[1;33m\u001b[0m\u001b[0m\n\u001b[0;32m     15\u001b[0m \u001b[0mplt\u001b[0m\u001b[1;33m.\u001b[0m\u001b[0mplot\u001b[0m\u001b[1;33m(\u001b[0m\u001b[0mX\u001b[0m\u001b[1;33m,\u001b[0m\u001b[0mX\u001b[0m\u001b[1;33m*\u001b[0m\u001b[0mtheta\u001b[0m\u001b[1;33m)\u001b[0m\u001b[1;33m\u001b[0m\u001b[1;33m\u001b[0m\u001b[0m\n\u001b[1;32m---> 16\u001b[1;33m \u001b[0mplt\u001b[0m\u001b[1;33m.\u001b[0m\u001b[0mscatter\u001b[0m\u001b[1;33m(\u001b[0m\u001b[0mx_train\u001b[0m\u001b[1;33m,\u001b[0m\u001b[0my_train\u001b[0m\u001b[1;33m)\u001b[0m\u001b[1;33m\u001b[0m\u001b[1;33m\u001b[0m\u001b[0m\n\u001b[0m\u001b[0;32m     17\u001b[0m \u001b[0mplt\u001b[0m\u001b[1;33m.\u001b[0m\u001b[0mshow\u001b[0m\u001b[1;33m(\u001b[0m\u001b[1;33m)\u001b[0m\u001b[1;33m\u001b[0m\u001b[1;33m\u001b[0m\u001b[0m\n\u001b[0;32m     18\u001b[0m \u001b[1;33m\u001b[0m\u001b[0m\n",
      "\u001b[1;31mNameError\u001b[0m: name 'x_train' is not defined"
     ]
    },
    {
     "data": {
      "image/png": "[encoded data removed]",
      "text/plain": [
       "<Figure size 640x480 with 1 Axes>"
      ]
     },
     "metadata": {},
     "output_type": "display_data"
    }
   ],
   "source": [
    "\n",
    "     \n",
    "    # Data\n",
    "    X = np.array([2.5, 4.7, 5.2, 7.3, 9.5, 11.5])\n",
    "    Y = np.array([5.21, 7.70, 8.30, 11, 14.5, 15])\n",
    "    plt.plot(X,Y,'bo')\n",
    "    plt.grid()\n",
    "    theta= fitGD(X, Y, 1e-3, 0.01,1, 100)\n",
    "    print(theta)\n",
    "    \n",
    "    X_test = [3.5, 5, 6, 8, 10 ]\n",
    "    Y_testorig=[6.25, 8.2, 9.5, 12.1, 14.7]\n",
    "   # Y_pred_test=(theta*X_test)\n",
    "   # plt.plot(X_test,Y_testpred,'r')\n",
    "    \n",
    "    \n",
    "    plt.plot(X,X*theta)\n",
    "    plt.scatter(x_train,y_train)  \n",
    "    plt.show()\n",
    "        \n",
    "    x_new,theta2=fitNormal(X, Y)\n",
    "    plt.plot(x_train,np.dot(x_new,theta2))\n",
    "    plt.scatter(X,Y)\n",
    "    plt.show()\n",
    "    \n",
    "    \n"
   ]
  },
  {
   "cell_type": "code",
   "execution_count": 88,
   "id": "30f9f3aa",
   "metadata": {},
   "outputs": [],
   "source": [
    "def error_train(Y_train, Y_pred_train):\n",
    "    m = Y_pred_train.shape[0]\n",
    "    error = 0\n",
    "    for i in range(m):\n",
    "        error = error + (Y_train[i]-Y_pred_train[i]**2)/(2*m)\n",
    "    return error\n",
    "\n",
    "def error_test(Y_train, Y_pred_test):\n",
    "    m = Y_pred_test.shape[0]\n",
    "    error = 0\n",
    "    for i in range(m):\n",
    "        error = error + (Y_test[i]-Y_pred_test[i]**2)/(2*m)\n",
    "    return error"
   ]
  },
  {
   "cell_type": "code",
   "execution_count": 84,
   "id": "591aca70",
   "metadata": {},
   "outputs": [
    {
     "ename": "NameError",
     "evalue": "name 'x_train' is not defined",
     "output_type": "error",
     "traceback": [
      "\u001b[1;31m---------------------------------------------------------------------------\u001b[0m",
      "\u001b[1;31mNameError\u001b[0m                                 Traceback (most recent call last)",
      "\u001b[1;32m~\\AppData\\Local\\Temp\\ipykernel_12916\\434111971.py\u001b[0m in \u001b[0;36m<module>\u001b[1;34m\u001b[0m\n\u001b[1;32m----> 1\u001b[1;33m \u001b[0mplt\u001b[0m\u001b[1;33m.\u001b[0m\u001b[0mplot\u001b[0m\u001b[1;33m(\u001b[0m\u001b[0mx_train\u001b[0m\u001b[1;33m,\u001b[0m\u001b[0mx_train\u001b[0m\u001b[1;33m*\u001b[0m\u001b[0mtheta1\u001b[0m\u001b[1;33m)\u001b[0m\u001b[1;33m\u001b[0m\u001b[1;33m\u001b[0m\u001b[0m\n\u001b[0m\u001b[0;32m      2\u001b[0m \u001b[0mplt\u001b[0m\u001b[1;33m.\u001b[0m\u001b[0mscatter\u001b[0m\u001b[1;33m(\u001b[0m\u001b[0mx_train\u001b[0m\u001b[1;33m,\u001b[0m\u001b[0my_train\u001b[0m\u001b[1;33m)\u001b[0m\u001b[1;33m\u001b[0m\u001b[1;33m\u001b[0m\u001b[0m\n\u001b[0;32m      3\u001b[0m \u001b[0mplt\u001b[0m\u001b[1;33m.\u001b[0m\u001b[0mshow\u001b[0m\u001b[1;33m(\u001b[0m\u001b[1;33m)\u001b[0m\u001b[1;33m\u001b[0m\u001b[1;33m\u001b[0m\u001b[0m\n",
      "\u001b[1;31mNameError\u001b[0m: name 'x_train' is not defined"
     ]
    }
   ],
   "source": []
  },
  {
   "cell_type": "code",
   "execution_count": null,
   "id": "cac1d629",
   "metadata": {},
   "outputs": [],
   "source": []
  }
 ],
 "metadata": {
  "kernelspec": {
   "display_name": "Python 3 (ipykernel)",
   "language": "python",
   "name": "python3"
  },
  "language_info": {
   "codemirror_mode": {
    "name": "ipython",
    "version": 3
   },
   "file_extension": ".py",
   "mimetype": "text/x-python",
   "name": "python",
   "nbconvert_exporter": "python",
   "pygments_lexer": "ipython3",
   "version": "3.9.13"
  }
 },
 "nbformat": 4,
 "nbformat_minor": 5
}
