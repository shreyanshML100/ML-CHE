{
  "nbformat": 4,
  "nbformat_minor": 0,
  "metadata": {
    "colab": {
      "provenance": [],
      "toc_visible": true
    },
    "kernelspec": {
      "name": "python3",
      "display_name": "Python 3"
    },
    "language_info": {
      "name": "python"
    },
    "gpuClass": "standard"
  },
  "cells": [
    {
      "cell_type": "code",
      "source": [],
      "metadata": {
        "id": "OYhNNumQ6Fnw"
      },
      "execution_count": 99,
      "outputs": []
    },
    {
      "cell_type": "code",
      "source": [
        "import numpy as np\n",
        "import pandas as pd\n",
        "import tensorflow as tf\n",
        "from sklearn.linear_model import LinearRegression\n",
        "from sklearn.model_selection import train_test_split\n",
        "import keras\n",
        "import keras_preprocessing\n",
        "from sklearn.preprocessing import StandardScaler\n",
        "from tensorflow.keras.losses import mean_squared_error"
      ],
      "metadata": {
        "id": "63Qs4Bro4oTg"
      },
      "execution_count": 100,
      "outputs": []
    },
    {
      "cell_type": "code",
      "source": [
        "data = pd.read_excel(\"AirQualityUCI.xlsx\")\n",
        "data.head()"
      ],
      "metadata": {
        "id": "mFn3xIwP6Y8T",
        "colab": {
          "base_uri": "https://localhost:8080/",
          "height": 357
        },
        "outputId": "b5fa19fc-c518-4170-e685-00c531589398"
      },
      "execution_count": 101,
      "outputs": [
        {
          "output_type": "execute_result",
          "data": {
            "text/plain": [
              "        Date      Time  CO(GT)  PT08.S1(CO)  NMHC(GT)   C6H6(GT)  \\\n",
              "0 2004-03-10  18:00:00     2.6      1360.00       150  11.881723   \n",
              "1 2004-03-10  19:00:00     2.0      1292.25       112   9.397165   \n",
              "2 2004-03-10  20:00:00     2.2      1402.00        88   8.997817   \n",
              "3 2004-03-10  21:00:00     2.2      1375.50        80   9.228796   \n",
              "4 2004-03-10  22:00:00     1.6      1272.25        51   6.518224   \n",
              "\n",
              "   PT08.S2(NMHC)  NOx(GT)  PT08.S3(NOx)  NO2(GT)  PT08.S4(NO2)  PT08.S5(O3)  \\\n",
              "0        1045.50    166.0       1056.25    113.0       1692.00      1267.50   \n",
              "1         954.75    103.0       1173.75     92.0       1558.75       972.25   \n",
              "2         939.25    131.0       1140.00    114.0       1554.50      1074.00   \n",
              "3         948.25    172.0       1092.00    122.0       1583.75      1203.25   \n",
              "4         835.50    131.0       1205.00    116.0       1490.00      1110.00   \n",
              "\n",
              "       T         RH        AH  \n",
              "0  13.60  48.875001  0.757754  \n",
              "1  13.30  47.700000  0.725487  \n",
              "2  11.90  53.975000  0.750239  \n",
              "3  11.00  60.000000  0.786713  \n",
              "4  11.15  59.575001  0.788794  "
            ],
            "text/html": [
              "\n",
              "  <div id=\"df-e15a82d6-e0de-4f4d-8ebe-f968d9a2acdf\">\n",
              "    <div class=\"colab-df-container\">\n",
              "      <div>\n",
              "<style scoped>\n",
              "    .dataframe tbody tr th:only-of-type {\n",
              "        vertical-align: middle;\n",
              "    }\n",
              "\n",
              "    .dataframe tbody tr th {\n",
              "        vertical-align: top;\n",
              "    }\n",
              "\n",
              "    .dataframe thead th {\n",
              "        text-align: right;\n",
              "    }\n",
              "</style>\n",
              "<table border=\"1\" class=\"dataframe\">\n",
              "  <thead>\n",
              "    <tr style=\"text-align: right;\">\n",
              "      <th></th>\n",
              "      <th>Date</th>\n",
              "      <th>Time</th>\n",
              "      <th>CO(GT)</th>\n",
              "      <th>PT08.S1(CO)</th>\n",
              "      <th>NMHC(GT)</th>\n",
              "      <th>C6H6(GT)</th>\n",
              "      <th>PT08.S2(NMHC)</th>\n",
              "      <th>NOx(GT)</th>\n",
              "      <th>PT08.S3(NOx)</th>\n",
              "      <th>NO2(GT)</th>\n",
              "      <th>PT08.S4(NO2)</th>\n",
              "      <th>PT08.S5(O3)</th>\n",
              "      <th>T</th>\n",
              "      <th>RH</th>\n",
              "      <th>AH</th>\n",
              "    </tr>\n",
              "  </thead>\n",
              "  <tbody>\n",
              "    <tr>\n",
              "      <th>0</th>\n",
              "      <td>2004-03-10</td>\n",
              "      <td>18:00:00</td>\n",
              "      <td>2.6</td>\n",
              "      <td>1360.00</td>\n",
              "      <td>150</td>\n",
              "      <td>11.881723</td>\n",
              "      <td>1045.50</td>\n",
              "      <td>166.0</td>\n",
              "      <td>1056.25</td>\n",
              "      <td>113.0</td>\n",
              "      <td>1692.00</td>\n",
              "      <td>1267.50</td>\n",
              "      <td>13.60</td>\n",
              "      <td>48.875001</td>\n",
              "      <td>0.757754</td>\n",
              "    </tr>\n",
              "    <tr>\n",
              "      <th>1</th>\n",
              "      <td>2004-03-10</td>\n",
              "      <td>19:00:00</td>\n",
              "      <td>2.0</td>\n",
              "      <td>1292.25</td>\n",
              "      <td>112</td>\n",
              "      <td>9.397165</td>\n",
              "      <td>954.75</td>\n",
              "      <td>103.0</td>\n",
              "      <td>1173.75</td>\n",
              "      <td>92.0</td>\n",
              "      <td>1558.75</td>\n",
              "      <td>972.25</td>\n",
              "      <td>13.30</td>\n",
              "      <td>47.700000</td>\n",
              "      <td>0.725487</td>\n",
              "    </tr>\n",
              "    <tr>\n",
              "      <th>2</th>\n",
              "      <td>2004-03-10</td>\n",
              "      <td>20:00:00</td>\n",
              "      <td>2.2</td>\n",
              "      <td>1402.00</td>\n",
              "      <td>88</td>\n",
              "      <td>8.997817</td>\n",
              "      <td>939.25</td>\n",
              "      <td>131.0</td>\n",
              "      <td>1140.00</td>\n",
              "      <td>114.0</td>\n",
              "      <td>1554.50</td>\n",
              "      <td>1074.00</td>\n",
              "      <td>11.90</td>\n",
              "      <td>53.975000</td>\n",
              "      <td>0.750239</td>\n",
              "    </tr>\n",
              "    <tr>\n",
              "      <th>3</th>\n",
              "      <td>2004-03-10</td>\n",
              "      <td>21:00:00</td>\n",
              "      <td>2.2</td>\n",
              "      <td>1375.50</td>\n",
              "      <td>80</td>\n",
              "      <td>9.228796</td>\n",
              "      <td>948.25</td>\n",
              "      <td>172.0</td>\n",
              "      <td>1092.00</td>\n",
              "      <td>122.0</td>\n",
              "      <td>1583.75</td>\n",
              "      <td>1203.25</td>\n",
              "      <td>11.00</td>\n",
              "      <td>60.000000</td>\n",
              "      <td>0.786713</td>\n",
              "    </tr>\n",
              "    <tr>\n",
              "      <th>4</th>\n",
              "      <td>2004-03-10</td>\n",
              "      <td>22:00:00</td>\n",
              "      <td>1.6</td>\n",
              "      <td>1272.25</td>\n",
              "      <td>51</td>\n",
              "      <td>6.518224</td>\n",
              "      <td>835.50</td>\n",
              "      <td>131.0</td>\n",
              "      <td>1205.00</td>\n",
              "      <td>116.0</td>\n",
              "      <td>1490.00</td>\n",
              "      <td>1110.00</td>\n",
              "      <td>11.15</td>\n",
              "      <td>59.575001</td>\n",
              "      <td>0.788794</td>\n",
              "    </tr>\n",
              "  </tbody>\n",
              "</table>\n",
              "</div>\n",
              "      <button class=\"colab-df-convert\" onclick=\"convertToInteractive('df-e15a82d6-e0de-4f4d-8ebe-f968d9a2acdf')\"\n",
              "              title=\"Convert this dataframe to an interactive table.\"\n",
              "              style=\"display:none;\">\n",
              "        \n",
              "  <svg xmlns=\"http://www.w3.org/2000/svg\" height=\"24px\"viewBox=\"0 0 24 24\"\n",
              "       width=\"24px\">\n",
              "    <path d=\"M0 0h24v24H0V0z\" fill=\"none\"/>\n",
              "    <path d=\"M18.56 5.44l.94 2.06.94-2.06 2.06-.94-2.06-.94-.94-2.06-.94 2.06-2.06.94zm-11 1L8.5 8.5l.94-2.06 2.06-.94-2.06-.94L8.5 2.5l-.94 2.06-2.06.94zm10 10l.94 2.06.94-2.06 2.06-.94-2.06-.94-.94-2.06-.94 2.06-2.06.94z\"/><path d=\"M17.41 7.96l-1.37-1.37c-.4-.4-.92-.59-1.43-.59-.52 0-1.04.2-1.43.59L10.3 9.45l-7.72 7.72c-.78.78-.78 2.05 0 2.83L4 21.41c.39.39.9.59 1.41.59.51 0 1.02-.2 1.41-.59l7.78-7.78 2.81-2.81c.8-.78.8-2.07 0-2.86zM5.41 20L4 18.59l7.72-7.72 1.47 1.35L5.41 20z\"/>\n",
              "  </svg>\n",
              "      </button>\n",
              "      \n",
              "  <style>\n",
              "    .colab-df-container {\n",
              "      display:flex;\n",
              "      flex-wrap:wrap;\n",
              "      gap: 12px;\n",
              "    }\n",
              "\n",
              "    .colab-df-convert {\n",
              "      background-color: #E8F0FE;\n",
              "      border: none;\n",
              "      border-radius: 50%;\n",
              "      cursor: pointer;\n",
              "      display: none;\n",
              "      fill: #1967D2;\n",
              "      height: 32px;\n",
              "      padding: 0 0 0 0;\n",
              "      width: 32px;\n",
              "    }\n",
              "\n",
              "    .colab-df-convert:hover {\n",
              "      background-color: #E2EBFA;\n",
              "      box-shadow: 0px 1px 2px rgba(60, 64, 67, 0.3), 0px 1px 3px 1px rgba(60, 64, 67, 0.15);\n",
              "      fill: #174EA6;\n",
              "    }\n",
              "\n",
              "    [theme=dark] .colab-df-convert {\n",
              "      background-color: #3B4455;\n",
              "      fill: #D2E3FC;\n",
              "    }\n",
              "\n",
              "    [theme=dark] .colab-df-convert:hover {\n",
              "      background-color: #434B5C;\n",
              "      box-shadow: 0px 1px 3px 1px rgba(0, 0, 0, 0.15);\n",
              "      filter: drop-shadow(0px 1px 2px rgba(0, 0, 0, 0.3));\n",
              "      fill: #FFFFFF;\n",
              "    }\n",
              "  </style>\n",
              "\n",
              "      <script>\n",
              "        const buttonEl =\n",
              "          document.querySelector('#df-e15a82d6-e0de-4f4d-8ebe-f968d9a2acdf button.colab-df-convert');\n",
              "        buttonEl.style.display =\n",
              "          google.colab.kernel.accessAllowed ? 'block' : 'none';\n",
              "\n",
              "        async function convertToInteractive(key) {\n",
              "          const element = document.querySelector('#df-e15a82d6-e0de-4f4d-8ebe-f968d9a2acdf');\n",
              "          const dataTable =\n",
              "            await google.colab.kernel.invokeFunction('convertToInteractive',\n",
              "                                                     [key], {});\n",
              "          if (!dataTable) return;\n",
              "\n",
              "          const docLinkHtml = 'Like what you see? Visit the ' +\n",
              "            '<a target=\"_blank\" href=https://colab.research.google.com/notebooks/data_table.ipynb>data table notebook</a>'\n",
              "            + ' to learn more about interactive tables.';\n",
              "          element.innerHTML = '';\n",
              "          dataTable['output_type'] = 'display_data';\n",
              "          await google.colab.output.renderOutput(dataTable, element);\n",
              "          const docLink = document.createElement('div');\n",
              "          docLink.innerHTML = docLinkHtml;\n",
              "          element.appendChild(docLink);\n",
              "        }\n",
              "      </script>\n",
              "    </div>\n",
              "  </div>\n",
              "  "
            ]
          },
          "metadata": {},
          "execution_count": 101
        }
      ]
    },
    {
      "cell_type": "code",
      "source": [
        "data=data.drop('Time', axis=1)\n",
        "data=data.drop('Date',axis=1)\n",
        "data.head()"
      ],
      "metadata": {
        "colab": {
          "base_uri": "https://localhost:8080/",
          "height": 250
        },
        "id": "Ei7J_rzGkm-Y",
        "outputId": "50be7bac-35e7-416a-9367-47942b3956d4"
      },
      "execution_count": 102,
      "outputs": [
        {
          "output_type": "execute_result",
          "data": {
            "text/plain": [
              "   CO(GT)  PT08.S1(CO)  NMHC(GT)   C6H6(GT)  PT08.S2(NMHC)  NOx(GT)  \\\n",
              "0     2.6      1360.00       150  11.881723        1045.50    166.0   \n",
              "1     2.0      1292.25       112   9.397165         954.75    103.0   \n",
              "2     2.2      1402.00        88   8.997817         939.25    131.0   \n",
              "3     2.2      1375.50        80   9.228796         948.25    172.0   \n",
              "4     1.6      1272.25        51   6.518224         835.50    131.0   \n",
              "\n",
              "   PT08.S3(NOx)  NO2(GT)  PT08.S4(NO2)  PT08.S5(O3)      T         RH  \\\n",
              "0       1056.25    113.0       1692.00      1267.50  13.60  48.875001   \n",
              "1       1173.75     92.0       1558.75       972.25  13.30  47.700000   \n",
              "2       1140.00    114.0       1554.50      1074.00  11.90  53.975000   \n",
              "3       1092.00    122.0       1583.75      1203.25  11.00  60.000000   \n",
              "4       1205.00    116.0       1490.00      1110.00  11.15  59.575001   \n",
              "\n",
              "         AH  \n",
              "0  0.757754  \n",
              "1  0.725487  \n",
              "2  0.750239  \n",
              "3  0.786713  \n",
              "4  0.788794  "
            ],
            "text/html": [
              "\n",
              "  <div id=\"df-169e60b2-8e5b-401f-85d6-9dabc53175f5\">\n",
              "    <div class=\"colab-df-container\">\n",
              "      <div>\n",
              "<style scoped>\n",
              "    .dataframe tbody tr th:only-of-type {\n",
              "        vertical-align: middle;\n",
              "    }\n",
              "\n",
              "    .dataframe tbody tr th {\n",
              "        vertical-align: top;\n",
              "    }\n",
              "\n",
              "    .dataframe thead th {\n",
              "        text-align: right;\n",
              "    }\n",
              "</style>\n",
              "<table border=\"1\" class=\"dataframe\">\n",
              "  <thead>\n",
              "    <tr style=\"text-align: right;\">\n",
              "      <th></th>\n",
              "      <th>CO(GT)</th>\n",
              "      <th>PT08.S1(CO)</th>\n",
              "      <th>NMHC(GT)</th>\n",
              "      <th>C6H6(GT)</th>\n",
              "      <th>PT08.S2(NMHC)</th>\n",
              "      <th>NOx(GT)</th>\n",
              "      <th>PT08.S3(NOx)</th>\n",
              "      <th>NO2(GT)</th>\n",
              "      <th>PT08.S4(NO2)</th>\n",
              "      <th>PT08.S5(O3)</th>\n",
              "      <th>T</th>\n",
              "      <th>RH</th>\n",
              "      <th>AH</th>\n",
              "    </tr>\n",
              "  </thead>\n",
              "  <tbody>\n",
              "    <tr>\n",
              "      <th>0</th>\n",
              "      <td>2.6</td>\n",
              "      <td>1360.00</td>\n",
              "      <td>150</td>\n",
              "      <td>11.881723</td>\n",
              "      <td>1045.50</td>\n",
              "      <td>166.0</td>\n",
              "      <td>1056.25</td>\n",
              "      <td>113.0</td>\n",
              "      <td>1692.00</td>\n",
              "      <td>1267.50</td>\n",
              "      <td>13.60</td>\n",
              "      <td>48.875001</td>\n",
              "      <td>0.757754</td>\n",
              "    </tr>\n",
              "    <tr>\n",
              "      <th>1</th>\n",
              "      <td>2.0</td>\n",
              "      <td>1292.25</td>\n",
              "      <td>112</td>\n",
              "      <td>9.397165</td>\n",
              "      <td>954.75</td>\n",
              "      <td>103.0</td>\n",
              "      <td>1173.75</td>\n",
              "      <td>92.0</td>\n",
              "      <td>1558.75</td>\n",
              "      <td>972.25</td>\n",
              "      <td>13.30</td>\n",
              "      <td>47.700000</td>\n",
              "      <td>0.725487</td>\n",
              "    </tr>\n",
              "    <tr>\n",
              "      <th>2</th>\n",
              "      <td>2.2</td>\n",
              "      <td>1402.00</td>\n",
              "      <td>88</td>\n",
              "      <td>8.997817</td>\n",
              "      <td>939.25</td>\n",
              "      <td>131.0</td>\n",
              "      <td>1140.00</td>\n",
              "      <td>114.0</td>\n",
              "      <td>1554.50</td>\n",
              "      <td>1074.00</td>\n",
              "      <td>11.90</td>\n",
              "      <td>53.975000</td>\n",
              "      <td>0.750239</td>\n",
              "    </tr>\n",
              "    <tr>\n",
              "      <th>3</th>\n",
              "      <td>2.2</td>\n",
              "      <td>1375.50</td>\n",
              "      <td>80</td>\n",
              "      <td>9.228796</td>\n",
              "      <td>948.25</td>\n",
              "      <td>172.0</td>\n",
              "      <td>1092.00</td>\n",
              "      <td>122.0</td>\n",
              "      <td>1583.75</td>\n",
              "      <td>1203.25</td>\n",
              "      <td>11.00</td>\n",
              "      <td>60.000000</td>\n",
              "      <td>0.786713</td>\n",
              "    </tr>\n",
              "    <tr>\n",
              "      <th>4</th>\n",
              "      <td>1.6</td>\n",
              "      <td>1272.25</td>\n",
              "      <td>51</td>\n",
              "      <td>6.518224</td>\n",
              "      <td>835.50</td>\n",
              "      <td>131.0</td>\n",
              "      <td>1205.00</td>\n",
              "      <td>116.0</td>\n",
              "      <td>1490.00</td>\n",
              "      <td>1110.00</td>\n",
              "      <td>11.15</td>\n",
              "      <td>59.575001</td>\n",
              "      <td>0.788794</td>\n",
              "    </tr>\n",
              "  </tbody>\n",
              "</table>\n",
              "</div>\n",
              "      <button class=\"colab-df-convert\" onclick=\"convertToInteractive('df-169e60b2-8e5b-401f-85d6-9dabc53175f5')\"\n",
              "              title=\"Convert this dataframe to an interactive table.\"\n",
              "              style=\"display:none;\">\n",
              "        \n",
              "  <svg xmlns=\"http://www.w3.org/2000/svg\" height=\"24px\"viewBox=\"0 0 24 24\"\n",
              "       width=\"24px\">\n",
              "    <path d=\"M0 0h24v24H0V0z\" fill=\"none\"/>\n",
              "    <path d=\"M18.56 5.44l.94 2.06.94-2.06 2.06-.94-2.06-.94-.94-2.06-.94 2.06-2.06.94zm-11 1L8.5 8.5l.94-2.06 2.06-.94-2.06-.94L8.5 2.5l-.94 2.06-2.06.94zm10 10l.94 2.06.94-2.06 2.06-.94-2.06-.94-.94-2.06-.94 2.06-2.06.94z\"/><path d=\"M17.41 7.96l-1.37-1.37c-.4-.4-.92-.59-1.43-.59-.52 0-1.04.2-1.43.59L10.3 9.45l-7.72 7.72c-.78.78-.78 2.05 0 2.83L4 21.41c.39.39.9.59 1.41.59.51 0 1.02-.2 1.41-.59l7.78-7.78 2.81-2.81c.8-.78.8-2.07 0-2.86zM5.41 20L4 18.59l7.72-7.72 1.47 1.35L5.41 20z\"/>\n",
              "  </svg>\n",
              "      </button>\n",
              "      \n",
              "  <style>\n",
              "    .colab-df-container {\n",
              "      display:flex;\n",
              "      flex-wrap:wrap;\n",
              "      gap: 12px;\n",
              "    }\n",
              "\n",
              "    .colab-df-convert {\n",
              "      background-color: #E8F0FE;\n",
              "      border: none;\n",
              "      border-radius: 50%;\n",
              "      cursor: pointer;\n",
              "      display: none;\n",
              "      fill: #1967D2;\n",
              "      height: 32px;\n",
              "      padding: 0 0 0 0;\n",
              "      width: 32px;\n",
              "    }\n",
              "\n",
              "    .colab-df-convert:hover {\n",
              "      background-color: #E2EBFA;\n",
              "      box-shadow: 0px 1px 2px rgba(60, 64, 67, 0.3), 0px 1px 3px 1px rgba(60, 64, 67, 0.15);\n",
              "      fill: #174EA6;\n",
              "    }\n",
              "\n",
              "    [theme=dark] .colab-df-convert {\n",
              "      background-color: #3B4455;\n",
              "      fill: #D2E3FC;\n",
              "    }\n",
              "\n",
              "    [theme=dark] .colab-df-convert:hover {\n",
              "      background-color: #434B5C;\n",
              "      box-shadow: 0px 1px 3px 1px rgba(0, 0, 0, 0.15);\n",
              "      filter: drop-shadow(0px 1px 2px rgba(0, 0, 0, 0.3));\n",
              "      fill: #FFFFFF;\n",
              "    }\n",
              "  </style>\n",
              "\n",
              "      <script>\n",
              "        const buttonEl =\n",
              "          document.querySelector('#df-169e60b2-8e5b-401f-85d6-9dabc53175f5 button.colab-df-convert');\n",
              "        buttonEl.style.display =\n",
              "          google.colab.kernel.accessAllowed ? 'block' : 'none';\n",
              "\n",
              "        async function convertToInteractive(key) {\n",
              "          const element = document.querySelector('#df-169e60b2-8e5b-401f-85d6-9dabc53175f5');\n",
              "          const dataTable =\n",
              "            await google.colab.kernel.invokeFunction('convertToInteractive',\n",
              "                                                     [key], {});\n",
              "          if (!dataTable) return;\n",
              "\n",
              "          const docLinkHtml = 'Like what you see? Visit the ' +\n",
              "            '<a target=\"_blank\" href=https://colab.research.google.com/notebooks/data_table.ipynb>data table notebook</a>'\n",
              "            + ' to learn more about interactive tables.';\n",
              "          element.innerHTML = '';\n",
              "          dataTable['output_type'] = 'display_data';\n",
              "          await google.colab.output.renderOutput(dataTable, element);\n",
              "          const docLink = document.createElement('div');\n",
              "          docLink.innerHTML = docLinkHtml;\n",
              "          element.appendChild(docLink);\n",
              "        }\n",
              "      </script>\n",
              "    </div>\n",
              "  </div>\n",
              "  "
            ]
          },
          "metadata": {},
          "execution_count": 102
        }
      ]
    },
    {
      "cell_type": "code",
      "source": [],
      "metadata": {
        "id": "AZdL_RrE63qh"
      },
      "execution_count": 102,
      "outputs": []
    },
    {
      "cell_type": "code",
      "source": [
        "data.isnull().sum()"
      ],
      "metadata": {
        "colab": {
          "base_uri": "https://localhost:8080/"
        },
        "id": "-O9ncb9P8Klu",
        "outputId": "08b218de-92ff-4a29-b03c-2ca04e9426f1"
      },
      "execution_count": 103,
      "outputs": [
        {
          "output_type": "execute_result",
          "data": {
            "text/plain": [
              "CO(GT)           0\n",
              "PT08.S1(CO)      0\n",
              "NMHC(GT)         0\n",
              "C6H6(GT)         0\n",
              "PT08.S2(NMHC)    0\n",
              "NOx(GT)          0\n",
              "PT08.S3(NOx)     0\n",
              "NO2(GT)          0\n",
              "PT08.S4(NO2)     0\n",
              "PT08.S5(O3)      0\n",
              "T                0\n",
              "RH               0\n",
              "AH               0\n",
              "dtype: int64"
            ]
          },
          "metadata": {},
          "execution_count": 103
        }
      ]
    },
    {
      "cell_type": "code",
      "source": [
        "col_=data.columns.tolist()[1:]\n",
        "X=data[col_].drop('RH',axis=1)\n",
        "\n",
        "\n",
        "y=data['RH'] \n",
        "ss_x = StandardScaler()\n",
        "X=ss_x.fit_transform(X) \n"
      ],
      "metadata": {
        "id": "OFdXa4zB8PW6"
      },
      "execution_count": 104,
      "outputs": []
    },
    {
      "cell_type": "code",
      "source": [
        "X_train,X_test,y_train,y_test=train_test_split(X,y,test_size=0.2,random_state=42,shuffle=False)"
      ],
      "metadata": {
        "id": "w-LFn-idouuA"
      },
      "execution_count": 105,
      "outputs": []
    },
    {
      "cell_type": "code",
      "source": [
        "X_train\n",
        "Xt=X_train\n",
        "yt=y_train\n",
        "yt"
      ],
      "metadata": {
        "colab": {
          "base_uri": "https://localhost:8080/"
        },
        "id": "TLkJL4poouwk",
        "outputId": "16c4a268-28aa-4293-c632-60de46544cc7"
      },
      "execution_count": 106,
      "outputs": [
        {
          "output_type": "execute_result",
          "data": {
            "text/plain": [
              "0       48.875001\n",
              "1       47.700000\n",
              "2       53.975000\n",
              "3       60.000000\n",
              "4       59.575001\n",
              "          ...    \n",
              "7480    39.525000\n",
              "7481    34.375001\n",
              "7482    33.350001\n",
              "7483    30.775000\n",
              "7484    31.975000\n",
              "Name: RH, Length: 7485, dtype: float64"
            ]
          },
          "metadata": {},
          "execution_count": 106
        }
      ]
    },
    {
      "cell_type": "code",
      "source": [
        "print (\"train_x_orig is of shape: \" + str(X_train.shape))\n",
        "print (\"train_y  is of shape: \" + str(y_train.shape))\n",
        "print (\"test_x_orig  has shape: \" + str(X_test.shape))\n",
        "print (\"test_y shape: \" + str(y_test.shape))"
      ],
      "metadata": {
        "colab": {
          "base_uri": "https://localhost:8080/"
        },
        "id": "ZVm0EUtqou0D",
        "outputId": "d357f1bf-2162-4dd0-895a-d76a3640ea03"
      },
      "execution_count": 107,
      "outputs": [
        {
          "output_type": "stream",
          "name": "stdout",
          "text": [
            "train_x_orig is of shape: (7485, 11)\n",
            "train_y  is of shape: (7485,)\n",
            "test_x_orig  has shape: (1872, 11)\n",
            "test_y shape: (1872,)\n"
          ]
        }
      ]
    },
    {
      "cell_type": "markdown",
      "source": [
        "# Neural Network 1\n",
        "Layers=4\n",
        "\n",
        "---\n",
        "\n",
        "\n",
        "Nodes=64->32->16->1"
      ],
      "metadata": {
        "id": "Nqv5PIqqqNcl"
      }
    },
    {
      "cell_type": "code",
      "source": [
        "model = tf.keras.Sequential([\n",
        "    tf.keras.Input(shape=(11,)),\n",
        "    keras.layers.Dense(units=64, activation='relu'),\n",
        "    keras.layers.Dense(units=32, activation='relu'),\n",
        "    keras.layers.Dense(units=16, activation='relu'),\n",
        "    keras.layers.Dense(units=1, activation='linear')\n",
        "     ])"
      ],
      "metadata": {
        "id": "y_Ggb5uK0Oqo"
      },
      "execution_count": 108,
      "outputs": []
    },
    {
      "cell_type": "code",
      "source": [
        "model.compile(optimizer='adam',\n",
        "              loss='tf.keras.losses.mean_squared_error')"
      ],
      "metadata": {
        "id": "AmgQVkRy0fx9"
      },
      "execution_count": 109,
      "outputs": []
    },
    {
      "cell_type": "code",
      "source": [
        "model.summary()"
      ],
      "metadata": {
        "colab": {
          "base_uri": "https://localhost:8080/"
        },
        "id": "lpW5gL0W0i-k",
        "outputId": "93c48f72-6f41-409c-86f3-71dab6778f9c"
      },
      "execution_count": 110,
      "outputs": [
        {
          "output_type": "stream",
          "name": "stdout",
          "text": [
            "Model: \"sequential_10\"\n",
            "_________________________________________________________________\n",
            " Layer (type)                Output Shape              Param #   \n",
            "=================================================================\n",
            " dense_39 (Dense)            (None, 64)                768       \n",
            "                                                                 \n",
            " dense_40 (Dense)            (None, 32)                2080      \n",
            "                                                                 \n",
            " dense_41 (Dense)            (None, 16)                528       \n",
            "                                                                 \n",
            " dense_42 (Dense)            (None, 1)                 17        \n",
            "                                                                 \n",
            "=================================================================\n",
            "Total params: 3,393\n",
            "Trainable params: 3,393\n",
            "Non-trainable params: 0\n",
            "_________________________________________________________________\n"
          ]
        }
      ]
    },
    {
      "cell_type": "code",
      "source": [
        "model.compile(optimizer='adam',\n",
        "             loss=tf.keras.losses.mean_squared_error)"
      ],
      "metadata": {
        "id": "ZsRwmeH30kZb"
      },
      "execution_count": 111,
      "outputs": []
    },
    {
      "cell_type": "code",
      "source": [
        "model.fit(X_train,y_train, epochs=100)"
      ],
      "metadata": {
        "colab": {
          "base_uri": "https://localhost:8080/"
        },
        "id": "i7al7yaE0q8U",
        "outputId": "6d51650d-6363-43ce-e4fe-ad57893236cc"
      },
      "execution_count": 112,
      "outputs": [
        {
          "output_type": "stream",
          "name": "stdout",
          "text": [
            "Epoch 1/100\n",
            "234/234 [==============================] - 1s 2ms/step - loss: 2054.4026\n",
            "Epoch 2/100\n",
            "234/234 [==============================] - 1s 2ms/step - loss: 283.0076\n",
            "Epoch 3/100\n",
            "234/234 [==============================] - 0s 2ms/step - loss: 151.0446\n",
            "Epoch 4/100\n",
            "234/234 [==============================] - 1s 2ms/step - loss: 82.7597\n",
            "Epoch 5/100\n",
            "234/234 [==============================] - 1s 2ms/step - loss: 52.5675\n",
            "Epoch 6/100\n",
            "234/234 [==============================] - 1s 2ms/step - loss: 39.6447\n",
            "Epoch 7/100\n",
            "234/234 [==============================] - 1s 2ms/step - loss: 33.8140\n",
            "Epoch 8/100\n",
            "234/234 [==============================] - 1s 2ms/step - loss: 30.4603\n",
            "Epoch 9/100\n",
            "234/234 [==============================] - 0s 2ms/step - loss: 28.6515\n",
            "Epoch 10/100\n",
            "234/234 [==============================] - 1s 2ms/step - loss: 27.4626\n",
            "Epoch 11/100\n",
            "234/234 [==============================] - 1s 2ms/step - loss: 25.8961\n",
            "Epoch 12/100\n",
            "234/234 [==============================] - 1s 2ms/step - loss: 24.6444\n",
            "Epoch 13/100\n",
            "234/234 [==============================] - 1s 2ms/step - loss: 23.7548\n",
            "Epoch 14/100\n",
            "234/234 [==============================] - 1s 2ms/step - loss: 23.3422\n",
            "Epoch 15/100\n",
            "234/234 [==============================] - 1s 2ms/step - loss: 22.5080\n",
            "Epoch 16/100\n",
            "234/234 [==============================] - 1s 2ms/step - loss: 22.2965\n",
            "Epoch 17/100\n",
            "234/234 [==============================] - 1s 2ms/step - loss: 21.8504\n",
            "Epoch 18/100\n",
            "234/234 [==============================] - 1s 2ms/step - loss: 21.5574\n",
            "Epoch 19/100\n",
            "234/234 [==============================] - 1s 2ms/step - loss: 20.6900\n",
            "Epoch 20/100\n",
            "234/234 [==============================] - 1s 2ms/step - loss: 20.4365\n",
            "Epoch 21/100\n",
            "234/234 [==============================] - 1s 2ms/step - loss: 20.3315\n",
            "Epoch 22/100\n",
            "234/234 [==============================] - 1s 2ms/step - loss: 20.0784\n",
            "Epoch 23/100\n",
            "234/234 [==============================] - 1s 2ms/step - loss: 19.8422\n",
            "Epoch 24/100\n",
            "234/234 [==============================] - 1s 2ms/step - loss: 19.5823\n",
            "Epoch 25/100\n",
            "234/234 [==============================] - 1s 2ms/step - loss: 18.8469\n",
            "Epoch 26/100\n",
            "234/234 [==============================] - 1s 2ms/step - loss: 18.8752\n",
            "Epoch 27/100\n",
            "234/234 [==============================] - 1s 2ms/step - loss: 18.5109\n",
            "Epoch 28/100\n",
            "234/234 [==============================] - 1s 2ms/step - loss: 18.2871\n",
            "Epoch 29/100\n",
            "234/234 [==============================] - 1s 2ms/step - loss: 17.9332\n",
            "Epoch 30/100\n",
            "234/234 [==============================] - 1s 2ms/step - loss: 17.4795\n",
            "Epoch 31/100\n",
            "234/234 [==============================] - 1s 2ms/step - loss: 17.6775\n",
            "Epoch 32/100\n",
            "234/234 [==============================] - 1s 2ms/step - loss: 17.1704\n",
            "Epoch 33/100\n",
            "234/234 [==============================] - 1s 2ms/step - loss: 16.8162\n",
            "Epoch 34/100\n",
            "234/234 [==============================] - 1s 2ms/step - loss: 16.5936\n",
            "Epoch 35/100\n",
            "234/234 [==============================] - 1s 2ms/step - loss: 16.3866\n",
            "Epoch 36/100\n",
            "234/234 [==============================] - 0s 2ms/step - loss: 16.1834\n",
            "Epoch 37/100\n",
            "234/234 [==============================] - 1s 2ms/step - loss: 15.9961\n",
            "Epoch 38/100\n",
            "234/234 [==============================] - 1s 2ms/step - loss: 15.9469\n",
            "Epoch 39/100\n",
            "234/234 [==============================] - 1s 2ms/step - loss: 15.7459\n",
            "Epoch 40/100\n",
            "234/234 [==============================] - 0s 2ms/step - loss: 15.2997\n",
            "Epoch 41/100\n",
            "234/234 [==============================] - 1s 2ms/step - loss: 14.9609\n",
            "Epoch 42/100\n",
            "234/234 [==============================] - 0s 2ms/step - loss: 14.9741\n",
            "Epoch 43/100\n",
            "234/234 [==============================] - 1s 2ms/step - loss: 14.9182\n",
            "Epoch 44/100\n",
            "234/234 [==============================] - 1s 2ms/step - loss: 14.7290\n",
            "Epoch 45/100\n",
            "234/234 [==============================] - 1s 2ms/step - loss: 14.3799\n",
            "Epoch 46/100\n",
            "234/234 [==============================] - 1s 2ms/step - loss: 14.4481\n",
            "Epoch 47/100\n",
            "234/234 [==============================] - 1s 2ms/step - loss: 13.9568\n",
            "Epoch 48/100\n",
            "234/234 [==============================] - 1s 2ms/step - loss: 13.7261\n",
            "Epoch 49/100\n",
            "234/234 [==============================] - 0s 2ms/step - loss: 13.6605\n",
            "Epoch 50/100\n",
            "234/234 [==============================] - 1s 2ms/step - loss: 13.7366\n",
            "Epoch 51/100\n",
            "234/234 [==============================] - 1s 2ms/step - loss: 13.4983\n",
            "Epoch 52/100\n",
            "234/234 [==============================] - 1s 2ms/step - loss: 13.3414\n",
            "Epoch 53/100\n",
            "234/234 [==============================] - 1s 2ms/step - loss: 12.9519\n",
            "Epoch 54/100\n",
            "234/234 [==============================] - 1s 2ms/step - loss: 12.7725\n",
            "Epoch 55/100\n",
            "234/234 [==============================] - 1s 2ms/step - loss: 12.7804\n",
            "Epoch 56/100\n",
            "234/234 [==============================] - 1s 2ms/step - loss: 12.4717\n",
            "Epoch 57/100\n",
            "234/234 [==============================] - 1s 2ms/step - loss: 12.5209\n",
            "Epoch 58/100\n",
            "234/234 [==============================] - 1s 2ms/step - loss: 11.9940\n",
            "Epoch 59/100\n",
            "234/234 [==============================] - 0s 2ms/step - loss: 11.9374\n",
            "Epoch 60/100\n",
            "234/234 [==============================] - 1s 2ms/step - loss: 11.8373\n",
            "Epoch 61/100\n",
            "234/234 [==============================] - 1s 2ms/step - loss: 11.9952\n",
            "Epoch 62/100\n",
            "234/234 [==============================] - 0s 2ms/step - loss: 11.7455\n",
            "Epoch 63/100\n",
            "234/234 [==============================] - 0s 2ms/step - loss: 11.8895\n",
            "Epoch 64/100\n",
            "234/234 [==============================] - 0s 2ms/step - loss: 11.4310\n",
            "Epoch 65/100\n",
            "234/234 [==============================] - 1s 2ms/step - loss: 11.6611\n",
            "Epoch 66/100\n",
            "234/234 [==============================] - 1s 2ms/step - loss: 11.2479\n",
            "Epoch 67/100\n",
            "234/234 [==============================] - 1s 2ms/step - loss: 11.2885\n",
            "Epoch 68/100\n",
            "234/234 [==============================] - 1s 2ms/step - loss: 11.0673\n",
            "Epoch 69/100\n",
            "234/234 [==============================] - 1s 2ms/step - loss: 11.0247\n",
            "Epoch 70/100\n",
            "234/234 [==============================] - 0s 2ms/step - loss: 10.7527\n",
            "Epoch 71/100\n",
            "234/234 [==============================] - 1s 2ms/step - loss: 10.5506\n",
            "Epoch 72/100\n",
            "234/234 [==============================] - 0s 2ms/step - loss: 10.9080\n",
            "Epoch 73/100\n",
            "234/234 [==============================] - 1s 2ms/step - loss: 10.4648\n",
            "Epoch 74/100\n",
            "234/234 [==============================] - 1s 2ms/step - loss: 11.0161\n",
            "Epoch 75/100\n",
            "234/234 [==============================] - 1s 2ms/step - loss: 10.2538\n",
            "Epoch 76/100\n",
            "234/234 [==============================] - 0s 2ms/step - loss: 10.2971\n",
            "Epoch 77/100\n",
            "234/234 [==============================] - 1s 2ms/step - loss: 10.2906\n",
            "Epoch 78/100\n",
            "234/234 [==============================] - 0s 2ms/step - loss: 10.1453\n",
            "Epoch 79/100\n",
            "234/234 [==============================] - 1s 2ms/step - loss: 10.2248\n",
            "Epoch 80/100\n",
            "234/234 [==============================] - 1s 2ms/step - loss: 9.9343\n",
            "Epoch 81/100\n",
            "234/234 [==============================] - 1s 2ms/step - loss: 9.8278\n",
            "Epoch 82/100\n",
            "234/234 [==============================] - 1s 2ms/step - loss: 10.1415\n",
            "Epoch 83/100\n",
            "234/234 [==============================] - 1s 2ms/step - loss: 9.6593\n",
            "Epoch 84/100\n",
            "234/234 [==============================] - 1s 2ms/step - loss: 9.6996\n",
            "Epoch 85/100\n",
            "234/234 [==============================] - 1s 2ms/step - loss: 9.8118\n",
            "Epoch 86/100\n",
            "234/234 [==============================] - 1s 2ms/step - loss: 9.8734\n",
            "Epoch 87/100\n",
            "234/234 [==============================] - 1s 2ms/step - loss: 9.3652\n",
            "Epoch 88/100\n",
            "234/234 [==============================] - 1s 2ms/step - loss: 9.5869\n",
            "Epoch 89/100\n",
            "234/234 [==============================] - 1s 2ms/step - loss: 9.3576\n",
            "Epoch 90/100\n",
            "234/234 [==============================] - 1s 2ms/step - loss: 9.2972\n",
            "Epoch 91/100\n",
            "234/234 [==============================] - 0s 2ms/step - loss: 9.2775\n",
            "Epoch 92/100\n",
            "234/234 [==============================] - 1s 2ms/step - loss: 8.8981\n",
            "Epoch 93/100\n",
            "234/234 [==============================] - 1s 2ms/step - loss: 9.1299\n",
            "Epoch 94/100\n",
            "234/234 [==============================] - 1s 2ms/step - loss: 8.9633\n",
            "Epoch 95/100\n",
            "234/234 [==============================] - 1s 2ms/step - loss: 8.9760\n",
            "Epoch 96/100\n",
            "234/234 [==============================] - 1s 2ms/step - loss: 8.6495\n",
            "Epoch 97/100\n",
            "234/234 [==============================] - 1s 2ms/step - loss: 8.6976\n",
            "Epoch 98/100\n",
            "234/234 [==============================] - 1s 2ms/step - loss: 9.1508\n",
            "Epoch 99/100\n",
            "234/234 [==============================] - 0s 2ms/step - loss: 8.8173\n",
            "Epoch 100/100\n",
            "234/234 [==============================] - 1s 2ms/step - loss: 8.6164\n"
          ]
        },
        {
          "output_type": "execute_result",
          "data": {
            "text/plain": [
              "<keras.callbacks.History at 0x7f957f6328e0>"
            ]
          },
          "metadata": {},
          "execution_count": 112
        }
      ]
    },
    {
      "cell_type": "code",
      "source": [
        "y_predicted = model.predict(X_test)"
      ],
      "metadata": {
        "colab": {
          "base_uri": "https://localhost:8080/"
        },
        "id": "c4JUp_vW1MGT",
        "outputId": "0a16b504-ba44-46f1-8f85-801b97db4e9d"
      },
      "execution_count": 113,
      "outputs": [
        {
          "output_type": "stream",
          "name": "stdout",
          "text": [
            "59/59 [==============================] - 0s 1ms/step\n"
          ]
        }
      ]
    },
    {
      "cell_type": "code",
      "source": [
        "model.evaluate(X_test, y_test)"
      ],
      "metadata": {
        "colab": {
          "base_uri": "https://localhost:8080/"
        },
        "id": "bnTHL0pi1Qsn",
        "outputId": "5df932e2-8367-43cd-85ff-c0aaa8f1d94f"
      },
      "execution_count": 114,
      "outputs": [
        {
          "output_type": "stream",
          "name": "stdout",
          "text": [
            "59/59 [==============================] - 0s 2ms/step - loss: 29.8100\n"
          ]
        },
        {
          "output_type": "execute_result",
          "data": {
            "text/plain": [
              "29.809995651245117"
            ]
          },
          "metadata": {},
          "execution_count": 114
        }
      ]
    },
    {
      "cell_type": "markdown",
      "source": [
        "# Neural Network 2\n",
        "Layers=3\n",
        "\n",
        "\n",
        "\n",
        "---\n",
        "\n",
        "\n",
        "\n",
        "\n",
        "nodes=64->16->1"
      ],
      "metadata": {
        "id": "olMuJcxq1aOF"
      }
    },
    {
      "cell_type": "code",
      "source": [
        "model2 = tf.keras.Sequential([\n",
        "    tf.keras.Input(shape=(11,)),\n",
        "    keras.layers.Dense(units=64, activation='relu'),\n",
        "    keras.layers.Dense(units=16, activation='relu'),\n",
        "    keras.layers.Dense(units=1, activation='linear')\n",
        "     ])"
      ],
      "metadata": {
        "id": "_K_COoHA1ryJ"
      },
      "execution_count": 115,
      "outputs": []
    },
    {
      "cell_type": "code",
      "source": [
        "model2.compile(optimizer='adam',\n",
        "              loss='tf.keras.losses.mean_squared_error')"
      ],
      "metadata": {
        "id": "7x0wNlmP10wz"
      },
      "execution_count": 116,
      "outputs": []
    },
    {
      "cell_type": "code",
      "source": [
        "model2.summary()"
      ],
      "metadata": {
        "colab": {
          "base_uri": "https://localhost:8080/"
        },
        "id": "BFqujvfP1_oH",
        "outputId": "1f0d144a-409f-4be5-b0a2-8c6a6cfaa9c5"
      },
      "execution_count": 117,
      "outputs": [
        {
          "output_type": "stream",
          "name": "stdout",
          "text": [
            "Model: \"sequential_11\"\n",
            "_________________________________________________________________\n",
            " Layer (type)                Output Shape              Param #   \n",
            "=================================================================\n",
            " dense_43 (Dense)            (None, 64)                768       \n",
            "                                                                 \n",
            " dense_44 (Dense)            (None, 16)                1040      \n",
            "                                                                 \n",
            " dense_45 (Dense)            (None, 1)                 17        \n",
            "                                                                 \n",
            "=================================================================\n",
            "Total params: 1,825\n",
            "Trainable params: 1,825\n",
            "Non-trainable params: 0\n",
            "_________________________________________________________________\n"
          ]
        }
      ]
    },
    {
      "cell_type": "code",
      "source": [
        "model2.compile(optimizer='adam',\n",
        "              loss=tf.keras.losses.mean_squared_error)\n"
      ],
      "metadata": {
        "id": "ReMT5Es-2BMX"
      },
      "execution_count": 118,
      "outputs": []
    },
    {
      "cell_type": "code",
      "source": [
        "model2.fit(X_train,y_train, epochs=100)\n"
      ],
      "metadata": {
        "colab": {
          "base_uri": "https://localhost:8080/"
        },
        "id": "0Sx2dGs72Lf7",
        "outputId": "1adfab65-186c-4443-e699-bca972cec53f"
      },
      "execution_count": 119,
      "outputs": [
        {
          "output_type": "stream",
          "name": "stdout",
          "text": [
            "Epoch 1/100\n",
            "234/234 [==============================] - 1s 2ms/step - loss: 2833.0918\n",
            "Epoch 2/100\n",
            "234/234 [==============================] - 1s 2ms/step - loss: 465.9945\n",
            "Epoch 3/100\n",
            "234/234 [==============================] - 0s 2ms/step - loss: 287.9291\n",
            "Epoch 4/100\n",
            "234/234 [==============================] - 0s 2ms/step - loss: 188.1153\n",
            "Epoch 5/100\n",
            "234/234 [==============================] - 0s 2ms/step - loss: 126.1799\n",
            "Epoch 6/100\n",
            "234/234 [==============================] - 0s 2ms/step - loss: 87.7775\n",
            "Epoch 7/100\n",
            "234/234 [==============================] - 0s 2ms/step - loss: 65.0133\n",
            "Epoch 8/100\n",
            "234/234 [==============================] - 0s 2ms/step - loss: 52.0818\n",
            "Epoch 9/100\n",
            "234/234 [==============================] - 1s 2ms/step - loss: 44.9870\n",
            "Epoch 10/100\n",
            "234/234 [==============================] - 0s 2ms/step - loss: 40.0279\n",
            "Epoch 11/100\n",
            "234/234 [==============================] - 1s 2ms/step - loss: 36.4778\n",
            "Epoch 12/100\n",
            "234/234 [==============================] - 0s 2ms/step - loss: 33.4764\n",
            "Epoch 13/100\n",
            "234/234 [==============================] - 0s 2ms/step - loss: 31.6279\n",
            "Epoch 14/100\n",
            "234/234 [==============================] - 0s 2ms/step - loss: 29.7758\n",
            "Epoch 15/100\n",
            "234/234 [==============================] - 1s 2ms/step - loss: 28.6901\n",
            "Epoch 16/100\n",
            "234/234 [==============================] - 0s 2ms/step - loss: 27.4907\n",
            "Epoch 17/100\n",
            "234/234 [==============================] - 0s 2ms/step - loss: 26.4524\n",
            "Epoch 18/100\n",
            "234/234 [==============================] - 0s 2ms/step - loss: 25.9270\n",
            "Epoch 19/100\n",
            "234/234 [==============================] - 0s 2ms/step - loss: 24.9058\n",
            "Epoch 20/100\n",
            "234/234 [==============================] - 0s 2ms/step - loss: 24.4729\n",
            "Epoch 21/100\n",
            "234/234 [==============================] - 0s 2ms/step - loss: 23.9879\n",
            "Epoch 22/100\n",
            "234/234 [==============================] - 0s 2ms/step - loss: 23.2607\n",
            "Epoch 23/100\n",
            "234/234 [==============================] - 0s 2ms/step - loss: 22.9051\n",
            "Epoch 24/100\n",
            "234/234 [==============================] - 1s 2ms/step - loss: 22.2232\n",
            "Epoch 25/100\n",
            "234/234 [==============================] - 0s 2ms/step - loss: 21.8157\n",
            "Epoch 26/100\n",
            "234/234 [==============================] - 1s 2ms/step - loss: 21.4952\n",
            "Epoch 27/100\n",
            "234/234 [==============================] - 0s 2ms/step - loss: 21.3163\n",
            "Epoch 28/100\n",
            "234/234 [==============================] - 0s 2ms/step - loss: 20.8176\n",
            "Epoch 29/100\n",
            "234/234 [==============================] - 0s 2ms/step - loss: 20.4322\n",
            "Epoch 30/100\n",
            "234/234 [==============================] - 0s 2ms/step - loss: 20.3594\n",
            "Epoch 31/100\n",
            "234/234 [==============================] - 0s 2ms/step - loss: 20.1611\n",
            "Epoch 32/100\n",
            "234/234 [==============================] - 0s 2ms/step - loss: 19.5607\n",
            "Epoch 33/100\n",
            "234/234 [==============================] - 0s 2ms/step - loss: 19.3861\n",
            "Epoch 34/100\n",
            "234/234 [==============================] - 0s 2ms/step - loss: 19.5949\n",
            "Epoch 35/100\n",
            "234/234 [==============================] - 1s 2ms/step - loss: 19.0947\n",
            "Epoch 36/100\n",
            "234/234 [==============================] - 0s 2ms/step - loss: 18.7334\n",
            "Epoch 37/100\n",
            "234/234 [==============================] - 1s 2ms/step - loss: 18.5697\n",
            "Epoch 38/100\n",
            "234/234 [==============================] - 0s 2ms/step - loss: 18.2452\n",
            "Epoch 39/100\n",
            "234/234 [==============================] - 1s 2ms/step - loss: 18.1459\n",
            "Epoch 40/100\n",
            "234/234 [==============================] - 0s 2ms/step - loss: 18.0553\n",
            "Epoch 41/100\n",
            "234/234 [==============================] - 1s 2ms/step - loss: 17.7079\n",
            "Epoch 42/100\n",
            "234/234 [==============================] - 0s 2ms/step - loss: 17.5471\n",
            "Epoch 43/100\n",
            "234/234 [==============================] - 0s 2ms/step - loss: 17.9736\n",
            "Epoch 44/100\n",
            "234/234 [==============================] - 0s 2ms/step - loss: 17.2519\n",
            "Epoch 45/100\n",
            "234/234 [==============================] - 0s 2ms/step - loss: 17.0943\n",
            "Epoch 46/100\n",
            "234/234 [==============================] - 0s 2ms/step - loss: 16.9432\n",
            "Epoch 47/100\n",
            "234/234 [==============================] - 0s 2ms/step - loss: 16.8123\n",
            "Epoch 48/100\n",
            "234/234 [==============================] - 0s 2ms/step - loss: 16.5658\n",
            "Epoch 49/100\n",
            "234/234 [==============================] - 0s 2ms/step - loss: 16.3968\n",
            "Epoch 50/100\n",
            "234/234 [==============================] - 0s 2ms/step - loss: 16.3313\n",
            "Epoch 51/100\n",
            "234/234 [==============================] - 0s 2ms/step - loss: 16.4389\n",
            "Epoch 52/100\n",
            "234/234 [==============================] - 0s 2ms/step - loss: 16.0349\n",
            "Epoch 53/100\n",
            "234/234 [==============================] - 0s 2ms/step - loss: 16.3269\n",
            "Epoch 54/100\n",
            "234/234 [==============================] - 0s 2ms/step - loss: 15.9741\n",
            "Epoch 55/100\n",
            "234/234 [==============================] - 0s 2ms/step - loss: 15.9177\n",
            "Epoch 56/100\n",
            "234/234 [==============================] - 0s 2ms/step - loss: 15.4181\n",
            "Epoch 57/100\n",
            "234/234 [==============================] - 0s 2ms/step - loss: 15.4796\n",
            "Epoch 58/100\n",
            "234/234 [==============================] - 0s 2ms/step - loss: 15.5763\n",
            "Epoch 59/100\n",
            "234/234 [==============================] - 0s 2ms/step - loss: 15.2720\n",
            "Epoch 60/100\n",
            "234/234 [==============================] - 0s 2ms/step - loss: 15.0890\n",
            "Epoch 61/100\n",
            "234/234 [==============================] - 0s 2ms/step - loss: 14.8827\n",
            "Epoch 62/100\n",
            "234/234 [==============================] - 0s 2ms/step - loss: 15.0138\n",
            "Epoch 63/100\n",
            "234/234 [==============================] - 0s 2ms/step - loss: 14.8792\n",
            "Epoch 64/100\n",
            "234/234 [==============================] - 0s 2ms/step - loss: 14.7373\n",
            "Epoch 65/100\n",
            "234/234 [==============================] - 0s 2ms/step - loss: 14.4445\n",
            "Epoch 66/100\n",
            "234/234 [==============================] - 0s 2ms/step - loss: 14.4123\n",
            "Epoch 67/100\n",
            "234/234 [==============================] - 0s 2ms/step - loss: 14.4259\n",
            "Epoch 68/100\n",
            "234/234 [==============================] - 0s 2ms/step - loss: 14.2845\n",
            "Epoch 69/100\n",
            "234/234 [==============================] - 0s 2ms/step - loss: 14.2063\n",
            "Epoch 70/100\n",
            "234/234 [==============================] - 0s 2ms/step - loss: 14.2067\n",
            "Epoch 71/100\n",
            "234/234 [==============================] - 0s 2ms/step - loss: 14.0220\n",
            "Epoch 72/100\n",
            "234/234 [==============================] - 0s 2ms/step - loss: 13.9306\n",
            "Epoch 73/100\n",
            "234/234 [==============================] - 0s 2ms/step - loss: 13.9135\n",
            "Epoch 74/100\n",
            "234/234 [==============================] - 0s 2ms/step - loss: 13.6763\n",
            "Epoch 75/100\n",
            "234/234 [==============================] - 0s 2ms/step - loss: 13.6098\n",
            "Epoch 76/100\n",
            "234/234 [==============================] - 0s 2ms/step - loss: 13.5614\n",
            "Epoch 77/100\n",
            "234/234 [==============================] - 0s 2ms/step - loss: 13.6446\n",
            "Epoch 78/100\n",
            "234/234 [==============================] - 0s 2ms/step - loss: 13.3297\n",
            "Epoch 79/100\n",
            "234/234 [==============================] - 0s 2ms/step - loss: 13.3038\n",
            "Epoch 80/100\n",
            "234/234 [==============================] - 0s 2ms/step - loss: 13.3705\n",
            "Epoch 81/100\n",
            "234/234 [==============================] - 1s 2ms/step - loss: 13.6724\n",
            "Epoch 82/100\n",
            "234/234 [==============================] - 0s 2ms/step - loss: 13.2558\n",
            "Epoch 83/100\n",
            "234/234 [==============================] - 0s 2ms/step - loss: 13.1575\n",
            "Epoch 84/100\n",
            "234/234 [==============================] - 0s 2ms/step - loss: 13.0874\n",
            "Epoch 85/100\n",
            "234/234 [==============================] - 0s 2ms/step - loss: 13.1241\n",
            "Epoch 86/100\n",
            "234/234 [==============================] - 0s 2ms/step - loss: 12.8854\n",
            "Epoch 87/100\n",
            "234/234 [==============================] - 0s 2ms/step - loss: 12.8234\n",
            "Epoch 88/100\n",
            "234/234 [==============================] - 0s 2ms/step - loss: 12.7481\n",
            "Epoch 89/100\n",
            "234/234 [==============================] - 0s 2ms/step - loss: 12.5432\n",
            "Epoch 90/100\n",
            "234/234 [==============================] - 0s 2ms/step - loss: 12.7894\n",
            "Epoch 91/100\n",
            "234/234 [==============================] - 0s 2ms/step - loss: 12.6103\n",
            "Epoch 92/100\n",
            "234/234 [==============================] - 0s 2ms/step - loss: 12.5402\n",
            "Epoch 93/100\n",
            "234/234 [==============================] - 0s 2ms/step - loss: 12.4646\n",
            "Epoch 94/100\n",
            "234/234 [==============================] - 0s 2ms/step - loss: 12.3714\n",
            "Epoch 95/100\n",
            "234/234 [==============================] - 0s 2ms/step - loss: 12.3281\n",
            "Epoch 96/100\n",
            "234/234 [==============================] - 0s 2ms/step - loss: 12.3007\n",
            "Epoch 97/100\n",
            "234/234 [==============================] - 0s 2ms/step - loss: 12.2223\n",
            "Epoch 98/100\n",
            "234/234 [==============================] - 0s 2ms/step - loss: 12.2059\n",
            "Epoch 99/100\n",
            "234/234 [==============================] - 0s 2ms/step - loss: 11.9403\n",
            "Epoch 100/100\n",
            "234/234 [==============================] - 0s 2ms/step - loss: 12.3246\n"
          ]
        },
        {
          "output_type": "execute_result",
          "data": {
            "text/plain": [
              "<keras.callbacks.History at 0x7f957a59f820>"
            ]
          },
          "metadata": {},
          "execution_count": 119
        }
      ]
    },
    {
      "cell_type": "code",
      "source": [
        "y_predicted = model2.predict(X_test)"
      ],
      "metadata": {
        "colab": {
          "base_uri": "https://localhost:8080/"
        },
        "id": "OLvQFNE4_qvD",
        "outputId": "b4e2c67d-d2c2-4298-8b86-2aec6b9ca1b5"
      },
      "execution_count": 120,
      "outputs": [
        {
          "output_type": "stream",
          "name": "stdout",
          "text": [
            "59/59 [==============================] - 0s 1ms/step\n"
          ]
        }
      ]
    },
    {
      "cell_type": "code",
      "source": [
        "model2.evaluate(X_test,y_test)"
      ],
      "metadata": {
        "colab": {
          "base_uri": "https://localhost:8080/"
        },
        "id": "B6GRRynW_skr",
        "outputId": "57ef1fce-6d87-4a3a-b171-1c82748afe8a"
      },
      "execution_count": 121,
      "outputs": [
        {
          "output_type": "stream",
          "name": "stdout",
          "text": [
            "59/59 [==============================] - 0s 2ms/step - loss: 33.3943\n"
          ]
        },
        {
          "output_type": "execute_result",
          "data": {
            "text/plain": [
              "33.39425277709961"
            ]
          },
          "metadata": {},
          "execution_count": 121
        }
      ]
    },
    {
      "cell_type": "markdown",
      "source": [
        "# Neural Network 3\n",
        "Layers 5\n",
        "\n",
        "\n",
        "\n",
        "\n",
        "\n",
        "\n",
        "\n",
        "---\n",
        "\n",
        "\n",
        "\n",
        "\n",
        "Nodes 64->32->16->8->1"
      ],
      "metadata": {
        "id": "aLJjLo3ZAC5s"
      }
    },
    {
      "cell_type": "code",
      "source": [
        "model3 = tf.keras.Sequential([\n",
        "    tf.keras.Input(shape=(11,)),\n",
        "    keras.layers.Dense(units=64, activation='relu'),\n",
        "    keras.layers.Dense(units=32, activation='relu'),\n",
        "    keras.layers.Dense(units=16, activation='relu'),\n",
        "    keras.layers.Dense(units=8, activation='relu'),\n",
        "    keras.layers.Dense(units=1, activation='linear')\n",
        "     ])"
      ],
      "metadata": {
        "id": "9RR66Q5rASJ2"
      },
      "execution_count": 122,
      "outputs": []
    },
    {
      "cell_type": "code",
      "source": [
        "model3.compile(optimizer='adam',\n",
        "              loss='tf.keras.losses.mean_squared_error')"
      ],
      "metadata": {
        "id": "IwO1rrxfBTlS"
      },
      "execution_count": 123,
      "outputs": []
    },
    {
      "cell_type": "code",
      "source": [
        "model3.summary()"
      ],
      "metadata": {
        "colab": {
          "base_uri": "https://localhost:8080/"
        },
        "id": "JibPw1P8AjM4",
        "outputId": "2a872539-0056-44f6-c92a-a5d402236316"
      },
      "execution_count": 124,
      "outputs": [
        {
          "output_type": "stream",
          "name": "stdout",
          "text": [
            "Model: \"sequential_12\"\n",
            "_________________________________________________________________\n",
            " Layer (type)                Output Shape              Param #   \n",
            "=================================================================\n",
            " dense_46 (Dense)            (None, 64)                768       \n",
            "                                                                 \n",
            " dense_47 (Dense)            (None, 32)                2080      \n",
            "                                                                 \n",
            " dense_48 (Dense)            (None, 16)                528       \n",
            "                                                                 \n",
            " dense_49 (Dense)            (None, 8)                 136       \n",
            "                                                                 \n",
            " dense_50 (Dense)            (None, 1)                 9         \n",
            "                                                                 \n",
            "=================================================================\n",
            "Total params: 3,521\n",
            "Trainable params: 3,521\n",
            "Non-trainable params: 0\n",
            "_________________________________________________________________\n"
          ]
        }
      ]
    },
    {
      "cell_type": "code",
      "source": [
        "\n",
        "model3.compile(optimizer='adam',\n",
        "             loss=tf.keras.losses.mean_squared_error)"
      ],
      "metadata": {
        "id": "FltGhqCVBZKZ"
      },
      "execution_count": 125,
      "outputs": []
    },
    {
      "cell_type": "code",
      "source": [
        "model3.fit(X_train,y_train,epochs=100)"
      ],
      "metadata": {
        "colab": {
          "base_uri": "https://localhost:8080/"
        },
        "id": "3v-8ckfWApuT",
        "outputId": "7c84ec8b-6e4a-4c9a-e7a6-9547c646caa8"
      },
      "execution_count": 126,
      "outputs": [
        {
          "output_type": "stream",
          "name": "stdout",
          "text": [
            "Epoch 1/100\n",
            "234/234 [==============================] - 1s 2ms/step - loss: 2385.3345\n",
            "Epoch 2/100\n",
            "234/234 [==============================] - 1s 3ms/step - loss: 317.8761\n",
            "Epoch 3/100\n",
            "234/234 [==============================] - 1s 2ms/step - loss: 78.6788\n",
            "Epoch 4/100\n",
            "234/234 [==============================] - 1s 2ms/step - loss: 44.9939\n",
            "Epoch 5/100\n",
            "234/234 [==============================] - 1s 2ms/step - loss: 37.1644\n",
            "Epoch 6/100\n",
            "234/234 [==============================] - 1s 2ms/step - loss: 32.2020\n",
            "Epoch 7/100\n",
            "234/234 [==============================] - 1s 2ms/step - loss: 29.6423\n",
            "Epoch 8/100\n",
            "234/234 [==============================] - 1s 3ms/step - loss: 27.1965\n",
            "Epoch 9/100\n",
            "234/234 [==============================] - 1s 3ms/step - loss: 26.0129\n",
            "Epoch 10/100\n",
            "234/234 [==============================] - 1s 2ms/step - loss: 24.9316\n",
            "Epoch 11/100\n",
            "234/234 [==============================] - 1s 2ms/step - loss: 23.7054\n",
            "Epoch 12/100\n",
            "234/234 [==============================] - 1s 2ms/step - loss: 23.2389\n",
            "Epoch 13/100\n",
            "234/234 [==============================] - 1s 2ms/step - loss: 22.2172\n",
            "Epoch 14/100\n",
            "234/234 [==============================] - 1s 2ms/step - loss: 21.5181\n",
            "Epoch 15/100\n",
            "234/234 [==============================] - 1s 2ms/step - loss: 20.8454\n",
            "Epoch 16/100\n",
            "234/234 [==============================] - 1s 2ms/step - loss: 21.0243\n",
            "Epoch 17/100\n",
            "234/234 [==============================] - 1s 2ms/step - loss: 20.1288\n",
            "Epoch 18/100\n",
            "234/234 [==============================] - 1s 2ms/step - loss: 19.3778\n",
            "Epoch 19/100\n",
            "234/234 [==============================] - 1s 2ms/step - loss: 19.3241\n",
            "Epoch 20/100\n",
            "234/234 [==============================] - 1s 2ms/step - loss: 19.4441\n",
            "Epoch 21/100\n",
            "234/234 [==============================] - 1s 2ms/step - loss: 18.6022\n",
            "Epoch 22/100\n",
            "234/234 [==============================] - 1s 2ms/step - loss: 18.0442\n",
            "Epoch 23/100\n",
            "234/234 [==============================] - 0s 2ms/step - loss: 17.9424\n",
            "Epoch 24/100\n",
            "234/234 [==============================] - 1s 2ms/step - loss: 18.5786\n",
            "Epoch 25/100\n",
            "234/234 [==============================] - 0s 2ms/step - loss: 17.0564\n",
            "Epoch 26/100\n",
            "234/234 [==============================] - 1s 2ms/step - loss: 17.0507\n",
            "Epoch 27/100\n",
            "234/234 [==============================] - 1s 2ms/step - loss: 16.7031\n",
            "Epoch 28/100\n",
            "234/234 [==============================] - 1s 2ms/step - loss: 16.6637\n",
            "Epoch 29/100\n",
            "234/234 [==============================] - 0s 2ms/step - loss: 16.6776\n",
            "Epoch 30/100\n",
            "234/234 [==============================] - 1s 2ms/step - loss: 16.0324\n",
            "Epoch 31/100\n",
            "234/234 [==============================] - 0s 2ms/step - loss: 15.7822\n",
            "Epoch 32/100\n",
            "234/234 [==============================] - 1s 2ms/step - loss: 15.4649\n",
            "Epoch 33/100\n",
            "234/234 [==============================] - 0s 2ms/step - loss: 15.0485\n",
            "Epoch 34/100\n",
            "234/234 [==============================] - 1s 2ms/step - loss: 15.6973\n",
            "Epoch 35/100\n",
            "234/234 [==============================] - 1s 2ms/step - loss: 15.3105\n",
            "Epoch 36/100\n",
            "234/234 [==============================] - 1s 2ms/step - loss: 14.7180\n",
            "Epoch 37/100\n",
            "234/234 [==============================] - 1s 2ms/step - loss: 14.7381\n",
            "Epoch 38/100\n",
            "234/234 [==============================] - 0s 2ms/step - loss: 14.6630\n",
            "Epoch 39/100\n",
            "234/234 [==============================] - 1s 2ms/step - loss: 14.2148\n",
            "Epoch 40/100\n",
            "234/234 [==============================] - 0s 2ms/step - loss: 14.3908\n",
            "Epoch 41/100\n",
            "234/234 [==============================] - 1s 2ms/step - loss: 13.9860\n",
            "Epoch 42/100\n",
            "234/234 [==============================] - 1s 2ms/step - loss: 13.7748\n",
            "Epoch 43/100\n",
            "234/234 [==============================] - 1s 2ms/step - loss: 13.7872\n",
            "Epoch 44/100\n",
            "234/234 [==============================] - 0s 2ms/step - loss: 13.5435\n",
            "Epoch 45/100\n",
            "234/234 [==============================] - 1s 2ms/step - loss: 13.5542\n",
            "Epoch 46/100\n",
            "234/234 [==============================] - 0s 2ms/step - loss: 13.1106\n",
            "Epoch 47/100\n",
            "234/234 [==============================] - 1s 2ms/step - loss: 13.2140\n",
            "Epoch 48/100\n",
            "234/234 [==============================] - 0s 2ms/step - loss: 13.0396\n",
            "Epoch 49/100\n",
            "234/234 [==============================] - 1s 2ms/step - loss: 12.9339\n",
            "Epoch 50/100\n",
            "234/234 [==============================] - 1s 2ms/step - loss: 12.6807\n",
            "Epoch 51/100\n",
            "234/234 [==============================] - 1s 2ms/step - loss: 13.0580\n",
            "Epoch 52/100\n",
            "234/234 [==============================] - 0s 2ms/step - loss: 12.6767\n",
            "Epoch 53/100\n",
            "234/234 [==============================] - 1s 2ms/step - loss: 12.2910\n",
            "Epoch 54/100\n",
            "234/234 [==============================] - 1s 2ms/step - loss: 12.7208\n",
            "Epoch 55/100\n",
            "234/234 [==============================] - 1s 2ms/step - loss: 12.2042\n",
            "Epoch 56/100\n",
            "234/234 [==============================] - 0s 2ms/step - loss: 12.1308\n",
            "Epoch 57/100\n",
            "234/234 [==============================] - 1s 2ms/step - loss: 11.9985\n",
            "Epoch 58/100\n",
            "234/234 [==============================] - 0s 2ms/step - loss: 11.9184\n",
            "Epoch 59/100\n",
            "234/234 [==============================] - 1s 2ms/step - loss: 11.4848\n",
            "Epoch 60/100\n",
            "234/234 [==============================] - 1s 2ms/step - loss: 11.4096\n",
            "Epoch 61/100\n",
            "234/234 [==============================] - 1s 2ms/step - loss: 11.4347\n",
            "Epoch 62/100\n",
            "234/234 [==============================] - 1s 2ms/step - loss: 11.9511\n",
            "Epoch 63/100\n",
            "234/234 [==============================] - 1s 2ms/step - loss: 11.3211\n",
            "Epoch 64/100\n",
            "234/234 [==============================] - 1s 2ms/step - loss: 11.1067\n",
            "Epoch 65/100\n",
            "234/234 [==============================] - 1s 2ms/step - loss: 10.7046\n",
            "Epoch 66/100\n",
            "234/234 [==============================] - 0s 2ms/step - loss: 11.0474\n",
            "Epoch 67/100\n",
            "234/234 [==============================] - 1s 2ms/step - loss: 10.7462\n",
            "Epoch 68/100\n",
            "234/234 [==============================] - 1s 2ms/step - loss: 10.9270\n",
            "Epoch 69/100\n",
            "234/234 [==============================] - 1s 2ms/step - loss: 11.0018\n",
            "Epoch 70/100\n",
            "234/234 [==============================] - 1s 2ms/step - loss: 10.2745\n",
            "Epoch 71/100\n",
            "234/234 [==============================] - 1s 2ms/step - loss: 10.3132\n",
            "Epoch 72/100\n",
            "234/234 [==============================] - 1s 2ms/step - loss: 10.3794\n",
            "Epoch 73/100\n",
            "234/234 [==============================] - 0s 2ms/step - loss: 10.1268\n",
            "Epoch 74/100\n",
            "234/234 [==============================] - 1s 2ms/step - loss: 9.9444\n",
            "Epoch 75/100\n",
            "234/234 [==============================] - 1s 2ms/step - loss: 9.9687\n",
            "Epoch 76/100\n",
            "234/234 [==============================] - 1s 2ms/step - loss: 9.8181\n",
            "Epoch 77/100\n",
            "234/234 [==============================] - 1s 2ms/step - loss: 9.9237\n",
            "Epoch 78/100\n",
            "234/234 [==============================] - 1s 2ms/step - loss: 9.7515\n",
            "Epoch 79/100\n",
            "234/234 [==============================] - 1s 2ms/step - loss: 9.5519\n",
            "Epoch 80/100\n",
            "234/234 [==============================] - 1s 2ms/step - loss: 9.8158\n",
            "Epoch 81/100\n",
            "234/234 [==============================] - 0s 2ms/step - loss: 9.7808\n",
            "Epoch 82/100\n",
            "234/234 [==============================] - 1s 2ms/step - loss: 9.8779\n",
            "Epoch 83/100\n",
            "234/234 [==============================] - 1s 2ms/step - loss: 9.6774\n",
            "Epoch 84/100\n",
            "234/234 [==============================] - 1s 2ms/step - loss: 9.4931\n",
            "Epoch 85/100\n",
            "234/234 [==============================] - 1s 2ms/step - loss: 9.0883\n",
            "Epoch 86/100\n",
            "234/234 [==============================] - 1s 2ms/step - loss: 9.2034\n",
            "Epoch 87/100\n",
            "234/234 [==============================] - 1s 2ms/step - loss: 9.0200\n",
            "Epoch 88/100\n",
            "234/234 [==============================] - 1s 2ms/step - loss: 9.2617\n",
            "Epoch 89/100\n",
            "234/234 [==============================] - 1s 2ms/step - loss: 8.9759\n",
            "Epoch 90/100\n",
            "234/234 [==============================] - 1s 2ms/step - loss: 8.6786\n",
            "Epoch 91/100\n",
            "234/234 [==============================] - 1s 2ms/step - loss: 8.8204\n",
            "Epoch 92/100\n",
            "234/234 [==============================] - 1s 2ms/step - loss: 8.9613\n",
            "Epoch 93/100\n",
            "234/234 [==============================] - 1s 2ms/step - loss: 8.4829\n",
            "Epoch 94/100\n",
            "234/234 [==============================] - 1s 2ms/step - loss: 8.5342\n",
            "Epoch 95/100\n",
            "234/234 [==============================] - 1s 2ms/step - loss: 8.2502\n",
            "Epoch 96/100\n",
            "234/234 [==============================] - 1s 2ms/step - loss: 8.3920\n",
            "Epoch 97/100\n",
            "234/234 [==============================] - 1s 2ms/step - loss: 8.4885\n",
            "Epoch 98/100\n",
            "234/234 [==============================] - 1s 2ms/step - loss: 8.3868\n",
            "Epoch 99/100\n",
            "234/234 [==============================] - 0s 2ms/step - loss: 8.0198\n",
            "Epoch 100/100\n",
            "234/234 [==============================] - 1s 2ms/step - loss: 8.5376\n"
          ]
        },
        {
          "output_type": "execute_result",
          "data": {
            "text/plain": [
              "<keras.callbacks.History at 0x7f957fa18be0>"
            ]
          },
          "metadata": {},
          "execution_count": 126
        }
      ]
    },
    {
      "cell_type": "code",
      "source": [
        "y_predicted = model3.predict(X_test)"
      ],
      "metadata": {
        "colab": {
          "base_uri": "https://localhost:8080/"
        },
        "id": "xEKt0GKTBzqg",
        "outputId": "d6de3c20-8813-4673-d53f-3d4ed5ebcf22"
      },
      "execution_count": 127,
      "outputs": [
        {
          "output_type": "stream",
          "name": "stdout",
          "text": [
            "59/59 [==============================] - 0s 1ms/step\n"
          ]
        }
      ]
    },
    {
      "cell_type": "code",
      "source": [
        "model3.evaluate(X_test,y_test)"
      ],
      "metadata": {
        "colab": {
          "base_uri": "https://localhost:8080/"
        },
        "id": "5BFh74L-B06A",
        "outputId": "4b38064d-bbe3-4b32-be21-1f3610fc0183"
      },
      "execution_count": 128,
      "outputs": [
        {
          "output_type": "stream",
          "name": "stdout",
          "text": [
            "59/59 [==============================] - 0s 1ms/step - loss: 21.9494\n"
          ]
        },
        {
          "output_type": "execute_result",
          "data": {
            "text/plain": [
              "21.949445724487305"
            ]
          },
          "metadata": {},
          "execution_count": 128
        }
      ]
    },
    {
      "cell_type": "markdown",
      "source": [
        "# Neural Network 4\n",
        "Layers=3\n",
        "\n",
        "---\n",
        "\n",
        "\n",
        "Nodes=15->5->1"
      ],
      "metadata": {
        "id": "nz_w1vKUCyaW"
      }
    },
    {
      "cell_type": "code",
      "source": [
        "model4 = tf.keras.Sequential([\n",
        "    tf.keras.Input(shape=(11,)),\n",
        "    keras.layers.Dense(units=15, activation='relu'),\n",
        "    keras.layers.Dense(units=5, activation='relu'),\n",
        "    keras.layers.Dense(units=1, activation='linear')\n",
        "     ])"
      ],
      "metadata": {
        "id": "SmDHC99_D0EJ"
      },
      "execution_count": 129,
      "outputs": []
    },
    {
      "cell_type": "code",
      "source": [
        "model4.compile(optimizer='adam',\n",
        "              loss='tf.keras.losses.mean_squared_error')\n",
        "model4.summary()\n",
        "model4.compile(optimizer='adam',\n",
        "             loss=tf.keras.losses.mean_squared_error)"
      ],
      "metadata": {
        "colab": {
          "base_uri": "https://localhost:8080/"
        },
        "id": "4Iu57RD3C92H",
        "outputId": "aad08e99-eb24-494b-fe23-a255f18a3774"
      },
      "execution_count": 130,
      "outputs": [
        {
          "output_type": "stream",
          "name": "stdout",
          "text": [
            "Model: \"sequential_13\"\n",
            "_________________________________________________________________\n",
            " Layer (type)                Output Shape              Param #   \n",
            "=================================================================\n",
            " dense_51 (Dense)            (None, 15)                180       \n",
            "                                                                 \n",
            " dense_52 (Dense)            (None, 5)                 80        \n",
            "                                                                 \n",
            " dense_53 (Dense)            (None, 1)                 6         \n",
            "                                                                 \n",
            "=================================================================\n",
            "Total params: 266\n",
            "Trainable params: 266\n",
            "Non-trainable params: 0\n",
            "_________________________________________________________________\n"
          ]
        }
      ]
    },
    {
      "cell_type": "code",
      "source": [
        "model4.fit(X_train,y_train,epochs=100)\n"
      ],
      "metadata": {
        "colab": {
          "base_uri": "https://localhost:8080/"
        },
        "id": "iXO6k3xSD8TW",
        "outputId": "e7591f87-058a-4b95-9439-489a714a5f41"
      },
      "execution_count": 131,
      "outputs": [
        {
          "output_type": "stream",
          "name": "stdout",
          "text": [
            "Epoch 1/100\n",
            "234/234 [==============================] - 1s 2ms/step - loss: 3651.5676\n",
            "Epoch 2/100\n",
            "234/234 [==============================] - 0s 2ms/step - loss: 1898.0907\n",
            "Epoch 3/100\n",
            "234/234 [==============================] - 1s 2ms/step - loss: 600.6112\n",
            "Epoch 4/100\n",
            "234/234 [==============================] - 0s 2ms/step - loss: 364.3359\n",
            "Epoch 5/100\n",
            "234/234 [==============================] - 1s 2ms/step - loss: 304.7233\n",
            "Epoch 6/100\n",
            "234/234 [==============================] - 0s 2ms/step - loss: 256.8252\n",
            "Epoch 7/100\n",
            "234/234 [==============================] - 1s 2ms/step - loss: 214.4117\n",
            "Epoch 8/100\n",
            "234/234 [==============================] - 1s 2ms/step - loss: 176.1851\n",
            "Epoch 9/100\n",
            "234/234 [==============================] - 0s 2ms/step - loss: 143.9874\n",
            "Epoch 10/100\n",
            "234/234 [==============================] - 0s 2ms/step - loss: 118.1002\n",
            "Epoch 11/100\n",
            "234/234 [==============================] - 0s 2ms/step - loss: 97.4756\n",
            "Epoch 12/100\n",
            "234/234 [==============================] - 0s 2ms/step - loss: 81.9364\n",
            "Epoch 13/100\n",
            "234/234 [==============================] - 0s 2ms/step - loss: 70.7686\n",
            "Epoch 14/100\n",
            "234/234 [==============================] - 0s 2ms/step - loss: 62.9456\n",
            "Epoch 15/100\n",
            "234/234 [==============================] - 0s 2ms/step - loss: 56.9538\n",
            "Epoch 16/100\n",
            "234/234 [==============================] - 0s 2ms/step - loss: 52.3791\n",
            "Epoch 17/100\n",
            "234/234 [==============================] - 0s 2ms/step - loss: 48.7683\n",
            "Epoch 18/100\n",
            "234/234 [==============================] - 0s 2ms/step - loss: 45.6935\n",
            "Epoch 19/100\n",
            "234/234 [==============================] - 0s 2ms/step - loss: 43.2949\n",
            "Epoch 20/100\n",
            "234/234 [==============================] - 0s 2ms/step - loss: 41.5257\n",
            "Epoch 21/100\n",
            "234/234 [==============================] - 0s 2ms/step - loss: 39.9000\n",
            "Epoch 22/100\n",
            "234/234 [==============================] - 0s 2ms/step - loss: 38.6138\n",
            "Epoch 23/100\n",
            "234/234 [==============================] - 0s 2ms/step - loss: 37.3636\n",
            "Epoch 24/100\n",
            "234/234 [==============================] - 0s 2ms/step - loss: 36.4340\n",
            "Epoch 25/100\n",
            "234/234 [==============================] - 0s 2ms/step - loss: 35.3850\n",
            "Epoch 26/100\n",
            "234/234 [==============================] - 0s 2ms/step - loss: 34.4996\n",
            "Epoch 27/100\n",
            "234/234 [==============================] - 0s 2ms/step - loss: 33.5530\n",
            "Epoch 28/100\n",
            "234/234 [==============================] - 0s 2ms/step - loss: 32.5455\n",
            "Epoch 29/100\n",
            "234/234 [==============================] - 0s 2ms/step - loss: 31.7396\n",
            "Epoch 30/100\n",
            "234/234 [==============================] - 0s 2ms/step - loss: 30.9345\n",
            "Epoch 31/100\n",
            "234/234 [==============================] - 0s 2ms/step - loss: 30.4113\n",
            "Epoch 32/100\n",
            "234/234 [==============================] - 0s 2ms/step - loss: 29.8118\n",
            "Epoch 33/100\n",
            "234/234 [==============================] - 0s 2ms/step - loss: 29.2669\n",
            "Epoch 34/100\n",
            "234/234 [==============================] - 0s 2ms/step - loss: 28.8044\n",
            "Epoch 35/100\n",
            "234/234 [==============================] - 0s 2ms/step - loss: 28.2824\n",
            "Epoch 36/100\n",
            "234/234 [==============================] - 0s 2ms/step - loss: 27.9135\n",
            "Epoch 37/100\n",
            "234/234 [==============================] - 0s 2ms/step - loss: 27.4859\n",
            "Epoch 38/100\n",
            "234/234 [==============================] - 0s 2ms/step - loss: 26.9864\n",
            "Epoch 39/100\n",
            "234/234 [==============================] - 1s 2ms/step - loss: 26.6446\n",
            "Epoch 40/100\n",
            "234/234 [==============================] - 0s 2ms/step - loss: 26.3778\n",
            "Epoch 41/100\n",
            "234/234 [==============================] - 1s 2ms/step - loss: 26.1363\n",
            "Epoch 42/100\n",
            "234/234 [==============================] - 0s 2ms/step - loss: 25.8494\n",
            "Epoch 43/100\n",
            "234/234 [==============================] - 0s 2ms/step - loss: 25.5897\n",
            "Epoch 44/100\n",
            "234/234 [==============================] - 0s 2ms/step - loss: 25.3513\n",
            "Epoch 45/100\n",
            "234/234 [==============================] - 0s 2ms/step - loss: 25.0975\n",
            "Epoch 46/100\n",
            "234/234 [==============================] - 0s 2ms/step - loss: 24.9515\n",
            "Epoch 47/100\n",
            "234/234 [==============================] - 0s 2ms/step - loss: 24.6285\n",
            "Epoch 48/100\n",
            "234/234 [==============================] - 0s 2ms/step - loss: 24.4335\n",
            "Epoch 49/100\n",
            "234/234 [==============================] - 0s 2ms/step - loss: 24.1755\n",
            "Epoch 50/100\n",
            "234/234 [==============================] - 0s 2ms/step - loss: 23.9369\n",
            "Epoch 51/100\n",
            "234/234 [==============================] - 0s 2ms/step - loss: 23.7151\n",
            "Epoch 52/100\n",
            "234/234 [==============================] - 0s 2ms/step - loss: 23.6896\n",
            "Epoch 53/100\n",
            "234/234 [==============================] - 0s 2ms/step - loss: 23.3637\n",
            "Epoch 54/100\n",
            "234/234 [==============================] - 0s 2ms/step - loss: 23.2628\n",
            "Epoch 55/100\n",
            "234/234 [==============================] - 0s 2ms/step - loss: 23.1110\n",
            "Epoch 56/100\n",
            "234/234 [==============================] - 0s 2ms/step - loss: 22.8975\n",
            "Epoch 57/100\n",
            "234/234 [==============================] - 0s 2ms/step - loss: 22.8853\n",
            "Epoch 58/100\n",
            "234/234 [==============================] - 0s 2ms/step - loss: 22.6883\n",
            "Epoch 59/100\n",
            "234/234 [==============================] - 0s 2ms/step - loss: 22.5742\n",
            "Epoch 60/100\n",
            "234/234 [==============================] - 0s 2ms/step - loss: 22.3598\n",
            "Epoch 61/100\n",
            "234/234 [==============================] - 0s 2ms/step - loss: 22.2595\n",
            "Epoch 62/100\n",
            "234/234 [==============================] - 0s 2ms/step - loss: 22.0003\n",
            "Epoch 63/100\n",
            "234/234 [==============================] - 0s 2ms/step - loss: 22.0591\n",
            "Epoch 64/100\n",
            "234/234 [==============================] - 0s 2ms/step - loss: 21.8879\n",
            "Epoch 65/100\n",
            "234/234 [==============================] - 0s 2ms/step - loss: 21.8218\n",
            "Epoch 66/100\n",
            "234/234 [==============================] - 0s 2ms/step - loss: 21.7061\n",
            "Epoch 67/100\n",
            "234/234 [==============================] - 0s 2ms/step - loss: 21.6453\n",
            "Epoch 68/100\n",
            "234/234 [==============================] - 0s 2ms/step - loss: 21.5696\n",
            "Epoch 69/100\n",
            "234/234 [==============================] - 1s 2ms/step - loss: 21.3711\n",
            "Epoch 70/100\n",
            "234/234 [==============================] - 0s 2ms/step - loss: 21.4190\n",
            "Epoch 71/100\n",
            "234/234 [==============================] - 0s 2ms/step - loss: 21.2423\n",
            "Epoch 72/100\n",
            "234/234 [==============================] - 0s 2ms/step - loss: 21.1681\n",
            "Epoch 73/100\n",
            "234/234 [==============================] - 0s 2ms/step - loss: 21.1151\n",
            "Epoch 74/100\n",
            "234/234 [==============================] - 0s 2ms/step - loss: 20.8673\n",
            "Epoch 75/100\n",
            "234/234 [==============================] - 0s 2ms/step - loss: 20.8755\n",
            "Epoch 76/100\n",
            "234/234 [==============================] - 0s 2ms/step - loss: 20.8247\n",
            "Epoch 77/100\n",
            "234/234 [==============================] - 0s 2ms/step - loss: 20.7480\n",
            "Epoch 78/100\n",
            "234/234 [==============================] - 0s 2ms/step - loss: 20.6825\n",
            "Epoch 79/100\n",
            "234/234 [==============================] - 0s 2ms/step - loss: 20.5474\n",
            "Epoch 80/100\n",
            "234/234 [==============================] - 0s 2ms/step - loss: 20.5292\n",
            "Epoch 81/100\n",
            "234/234 [==============================] - 0s 2ms/step - loss: 20.4891\n",
            "Epoch 82/100\n",
            "234/234 [==============================] - 0s 2ms/step - loss: 20.3533\n",
            "Epoch 83/100\n",
            "234/234 [==============================] - 0s 2ms/step - loss: 20.2555\n",
            "Epoch 84/100\n",
            "234/234 [==============================] - 0s 2ms/step - loss: 20.1505\n",
            "Epoch 85/100\n",
            "234/234 [==============================] - 0s 2ms/step - loss: 20.0708\n",
            "Epoch 86/100\n",
            "234/234 [==============================] - 0s 2ms/step - loss: 20.0318\n",
            "Epoch 87/100\n",
            "234/234 [==============================] - 0s 2ms/step - loss: 19.9491\n",
            "Epoch 88/100\n",
            "234/234 [==============================] - 0s 2ms/step - loss: 19.8630\n",
            "Epoch 89/100\n",
            "234/234 [==============================] - 0s 2ms/step - loss: 19.7578\n",
            "Epoch 90/100\n",
            "234/234 [==============================] - 0s 2ms/step - loss: 19.7059\n",
            "Epoch 91/100\n",
            "234/234 [==============================] - 0s 2ms/step - loss: 19.6653\n",
            "Epoch 92/100\n",
            "234/234 [==============================] - 0s 2ms/step - loss: 19.6621\n",
            "Epoch 93/100\n",
            "234/234 [==============================] - 0s 2ms/step - loss: 19.4615\n",
            "Epoch 94/100\n",
            "234/234 [==============================] - 0s 2ms/step - loss: 19.4835\n",
            "Epoch 95/100\n",
            "234/234 [==============================] - 0s 2ms/step - loss: 19.3967\n",
            "Epoch 96/100\n",
            "234/234 [==============================] - 0s 2ms/step - loss: 19.2788\n",
            "Epoch 97/100\n",
            "234/234 [==============================] - 0s 2ms/step - loss: 19.2755\n",
            "Epoch 98/100\n",
            "234/234 [==============================] - 0s 2ms/step - loss: 19.1969\n",
            "Epoch 99/100\n",
            "234/234 [==============================] - 0s 2ms/step - loss: 19.1623\n",
            "Epoch 100/100\n",
            "234/234 [==============================] - 0s 2ms/step - loss: 19.0402\n"
          ]
        },
        {
          "output_type": "execute_result",
          "data": {
            "text/plain": [
              "<keras.callbacks.History at 0x7f957a5ffeb0>"
            ]
          },
          "metadata": {},
          "execution_count": 131
        }
      ]
    },
    {
      "cell_type": "code",
      "source": [
        "model4.evaluate(X_test,y_test)"
      ],
      "metadata": {
        "colab": {
          "base_uri": "https://localhost:8080/"
        },
        "id": "Z8k-dJKZEPL_",
        "outputId": "e00095a6-882a-4824-821a-bf82883b7369"
      },
      "execution_count": 132,
      "outputs": [
        {
          "output_type": "stream",
          "name": "stdout",
          "text": [
            "59/59 [==============================] - 0s 1ms/step - loss: 42.6829\n"
          ]
        },
        {
          "output_type": "execute_result",
          "data": {
            "text/plain": [
              "42.68290328979492"
            ]
          },
          "metadata": {},
          "execution_count": 132
        }
      ]
    },
    {
      "cell_type": "markdown",
      "source": [
        "# Neural Network 5\n",
        "Layers 6\n",
        "\n",
        "---\n",
        "Nodes 50->30>20->10->1\n"
      ],
      "metadata": {
        "id": "_jhhttSFEYgU"
      }
    },
    {
      "cell_type": "code",
      "source": [
        "model5 = tf.keras.Sequential([\n",
        "    tf.keras.Input(shape=(11,)),\n",
        "    keras.layers.Dense(units=50, activation='relu'),\n",
        "    keras.layers.Dense(units=30, activation='relu'),\n",
        "    keras.layers.Dense(units=20, activation='relu'),\n",
        "    keras.layers.Dense(units=10, activation='relu'),\n",
        "    keras.layers.Dense(units=1, activation='linear')\n",
        "     ])"
      ],
      "metadata": {
        "id": "cXuPggq9EpzA"
      },
      "execution_count": 133,
      "outputs": []
    },
    {
      "cell_type": "code",
      "source": [
        "model5.compile(optimizer='adam',\n",
        "              loss='tf.keras.losses.mean_squared_error')\n",
        "model5.summary()\n",
        "model5.compile(optimizer='adam',\n",
        "             loss=tf.keras.losses.mean_squared_error)"
      ],
      "metadata": {
        "colab": {
          "base_uri": "https://localhost:8080/"
        },
        "id": "NiWOA7GlEzJ4",
        "outputId": "a4ab0e5a-3ff5-4689-99d0-5402ef22cb13"
      },
      "execution_count": 134,
      "outputs": [
        {
          "output_type": "stream",
          "name": "stdout",
          "text": [
            "Model: \"sequential_14\"\n",
            "_________________________________________________________________\n",
            " Layer (type)                Output Shape              Param #   \n",
            "=================================================================\n",
            " dense_54 (Dense)            (None, 50)                600       \n",
            "                                                                 \n",
            " dense_55 (Dense)            (None, 30)                1530      \n",
            "                                                                 \n",
            " dense_56 (Dense)            (None, 20)                620       \n",
            "                                                                 \n",
            " dense_57 (Dense)            (None, 10)                210       \n",
            "                                                                 \n",
            " dense_58 (Dense)            (None, 1)                 11        \n",
            "                                                                 \n",
            "=================================================================\n",
            "Total params: 2,971\n",
            "Trainable params: 2,971\n",
            "Non-trainable params: 0\n",
            "_________________________________________________________________\n"
          ]
        }
      ]
    },
    {
      "cell_type": "code",
      "source": [
        "model5.fit(X_train,y_train,epochs=100)"
      ],
      "metadata": {
        "colab": {
          "base_uri": "https://localhost:8080/"
        },
        "id": "2rhOxQvsE1nU",
        "outputId": "d5f487e7-75bc-4ccf-fb44-d3c35cb90647"
      },
      "execution_count": 135,
      "outputs": [
        {
          "output_type": "stream",
          "name": "stdout",
          "text": [
            "Epoch 1/100\n",
            "234/234 [==============================] - 1s 2ms/step - loss: 1812.2557\n",
            "Epoch 2/100\n",
            "234/234 [==============================] - 1s 2ms/step - loss: 282.0703\n",
            "Epoch 3/100\n",
            "234/234 [==============================] - 1s 2ms/step - loss: 138.0929\n",
            "Epoch 4/100\n",
            "234/234 [==============================] - 1s 2ms/step - loss: 59.2969\n",
            "Epoch 5/100\n",
            "234/234 [==============================] - 0s 2ms/step - loss: 39.7899\n",
            "Epoch 6/100\n",
            "234/234 [==============================] - 1s 2ms/step - loss: 34.0724\n",
            "Epoch 7/100\n",
            "234/234 [==============================] - 0s 2ms/step - loss: 29.2927\n",
            "Epoch 8/100\n",
            "234/234 [==============================] - 1s 2ms/step - loss: 27.1904\n",
            "Epoch 9/100\n",
            "234/234 [==============================] - 1s 2ms/step - loss: 26.1756\n",
            "Epoch 10/100\n",
            "234/234 [==============================] - 1s 2ms/step - loss: 24.8395\n",
            "Epoch 11/100\n",
            "234/234 [==============================] - 1s 2ms/step - loss: 25.2878\n",
            "Epoch 12/100\n",
            "234/234 [==============================] - 1s 2ms/step - loss: 23.9421\n",
            "Epoch 13/100\n",
            "234/234 [==============================] - 0s 2ms/step - loss: 21.8194\n",
            "Epoch 14/100\n",
            "234/234 [==============================] - 1s 2ms/step - loss: 21.6419\n",
            "Epoch 15/100\n",
            "234/234 [==============================] - 1s 2ms/step - loss: 20.7392\n",
            "Epoch 16/100\n",
            "234/234 [==============================] - 1s 2ms/step - loss: 20.1029\n",
            "Epoch 17/100\n",
            "234/234 [==============================] - 1s 2ms/step - loss: 22.0057\n",
            "Epoch 18/100\n",
            "234/234 [==============================] - 0s 2ms/step - loss: 20.1026\n",
            "Epoch 19/100\n",
            "234/234 [==============================] - 1s 2ms/step - loss: 19.0713\n",
            "Epoch 20/100\n",
            "234/234 [==============================] - 0s 2ms/step - loss: 19.3156\n",
            "Epoch 21/100\n",
            "234/234 [==============================] - 1s 2ms/step - loss: 18.9197\n",
            "Epoch 22/100\n",
            "234/234 [==============================] - 1s 2ms/step - loss: 18.6186\n",
            "Epoch 23/100\n",
            "234/234 [==============================] - 1s 2ms/step - loss: 18.3613\n",
            "Epoch 24/100\n",
            "234/234 [==============================] - 0s 2ms/step - loss: 18.2104\n",
            "Epoch 25/100\n",
            "234/234 [==============================] - 1s 2ms/step - loss: 20.7981\n",
            "Epoch 26/100\n",
            "234/234 [==============================] - 0s 2ms/step - loss: 17.0986\n",
            "Epoch 27/100\n",
            "234/234 [==============================] - 1s 2ms/step - loss: 17.5946\n",
            "Epoch 28/100\n",
            "234/234 [==============================] - 1s 2ms/step - loss: 16.7962\n",
            "Epoch 29/100\n",
            "234/234 [==============================] - 1s 2ms/step - loss: 16.9568\n",
            "Epoch 30/100\n",
            "234/234 [==============================] - 1s 2ms/step - loss: 16.6967\n",
            "Epoch 31/100\n",
            "234/234 [==============================] - 1s 2ms/step - loss: 16.2942\n",
            "Epoch 32/100\n",
            "234/234 [==============================] - 0s 2ms/step - loss: 15.7384\n",
            "Epoch 33/100\n",
            "234/234 [==============================] - 1s 2ms/step - loss: 15.7599\n",
            "Epoch 34/100\n",
            "234/234 [==============================] - 1s 2ms/step - loss: 15.5160\n",
            "Epoch 35/100\n",
            "234/234 [==============================] - 1s 2ms/step - loss: 15.6707\n",
            "Epoch 36/100\n",
            "234/234 [==============================] - 0s 2ms/step - loss: 14.7986\n",
            "Epoch 37/100\n",
            "234/234 [==============================] - 1s 2ms/step - loss: 14.9877\n",
            "Epoch 38/100\n",
            "234/234 [==============================] - 1s 2ms/step - loss: 15.0583\n",
            "Epoch 39/100\n",
            "234/234 [==============================] - 1s 2ms/step - loss: 14.4106\n",
            "Epoch 40/100\n",
            "234/234 [==============================] - 1s 2ms/step - loss: 14.8794\n",
            "Epoch 41/100\n",
            "234/234 [==============================] - 1s 2ms/step - loss: 14.2205\n",
            "Epoch 42/100\n",
            "234/234 [==============================] - 0s 2ms/step - loss: 14.0270\n",
            "Epoch 43/100\n",
            "234/234 [==============================] - 1s 2ms/step - loss: 13.8033\n",
            "Epoch 44/100\n",
            "234/234 [==============================] - 0s 2ms/step - loss: 13.9007\n",
            "Epoch 45/100\n",
            "234/234 [==============================] - 1s 2ms/step - loss: 13.6642\n",
            "Epoch 46/100\n",
            "234/234 [==============================] - 1s 2ms/step - loss: 13.1419\n",
            "Epoch 47/100\n",
            "234/234 [==============================] - 1s 2ms/step - loss: 13.9202\n",
            "Epoch 48/100\n",
            "234/234 [==============================] - 1s 2ms/step - loss: 13.5580\n",
            "Epoch 49/100\n",
            "234/234 [==============================] - 0s 2ms/step - loss: 12.8014\n",
            "Epoch 50/100\n",
            "234/234 [==============================] - 1s 2ms/step - loss: 13.1599\n",
            "Epoch 51/100\n",
            "234/234 [==============================] - 1s 2ms/step - loss: 12.8115\n",
            "Epoch 52/100\n",
            "234/234 [==============================] - 1s 2ms/step - loss: 12.7960\n",
            "Epoch 53/100\n",
            "234/234 [==============================] - 1s 2ms/step - loss: 12.7478\n",
            "Epoch 54/100\n",
            "234/234 [==============================] - 1s 2ms/step - loss: 12.5668\n",
            "Epoch 55/100\n",
            "234/234 [==============================] - 0s 2ms/step - loss: 12.8799\n",
            "Epoch 56/100\n",
            "234/234 [==============================] - 1s 2ms/step - loss: 12.1808\n",
            "Epoch 57/100\n",
            "234/234 [==============================] - 1s 2ms/step - loss: 12.1268\n",
            "Epoch 58/100\n",
            "234/234 [==============================] - 1s 2ms/step - loss: 12.3777\n",
            "Epoch 59/100\n",
            "234/234 [==============================] - 1s 2ms/step - loss: 12.0549\n",
            "Epoch 60/100\n",
            "234/234 [==============================] - 1s 2ms/step - loss: 11.7626\n",
            "Epoch 61/100\n",
            "234/234 [==============================] - 1s 2ms/step - loss: 11.6381\n",
            "Epoch 62/100\n",
            "234/234 [==============================] - 1s 2ms/step - loss: 11.8858\n",
            "Epoch 63/100\n",
            "234/234 [==============================] - 1s 2ms/step - loss: 11.5639\n",
            "Epoch 64/100\n",
            "234/234 [==============================] - 0s 2ms/step - loss: 11.5442\n",
            "Epoch 65/100\n",
            "234/234 [==============================] - 1s 2ms/step - loss: 11.6139\n",
            "Epoch 66/100\n",
            "234/234 [==============================] - 1s 2ms/step - loss: 11.1650\n",
            "Epoch 67/100\n",
            "234/234 [==============================] - 1s 2ms/step - loss: 11.2083\n",
            "Epoch 68/100\n",
            "234/234 [==============================] - 1s 2ms/step - loss: 11.2950\n",
            "Epoch 69/100\n",
            "234/234 [==============================] - 1s 2ms/step - loss: 11.1625\n",
            "Epoch 70/100\n",
            "234/234 [==============================] - 1s 2ms/step - loss: 10.8133\n",
            "Epoch 71/100\n",
            "234/234 [==============================] - 1s 2ms/step - loss: 10.6219\n",
            "Epoch 72/100\n",
            "234/234 [==============================] - 1s 2ms/step - loss: 10.9088\n",
            "Epoch 73/100\n",
            "234/234 [==============================] - 1s 2ms/step - loss: 10.7718\n",
            "Epoch 74/100\n",
            "234/234 [==============================] - 1s 2ms/step - loss: 10.5379\n",
            "Epoch 75/100\n",
            "234/234 [==============================] - 0s 2ms/step - loss: 10.7471\n",
            "Epoch 76/100\n",
            "234/234 [==============================] - 1s 2ms/step - loss: 10.4490\n",
            "Epoch 77/100\n",
            "234/234 [==============================] - 1s 2ms/step - loss: 10.5750\n",
            "Epoch 78/100\n",
            "234/234 [==============================] - 1s 2ms/step - loss: 10.0569\n",
            "Epoch 79/100\n",
            "234/234 [==============================] - 1s 2ms/step - loss: 9.9159\n",
            "Epoch 80/100\n",
            "234/234 [==============================] - 1s 2ms/step - loss: 10.1058\n",
            "Epoch 81/100\n",
            "234/234 [==============================] - 1s 2ms/step - loss: 9.9031\n",
            "Epoch 82/100\n",
            "234/234 [==============================] - 1s 2ms/step - loss: 9.7333\n",
            "Epoch 83/100\n",
            "234/234 [==============================] - 1s 2ms/step - loss: 9.6285\n",
            "Epoch 84/100\n",
            "234/234 [==============================] - 1s 3ms/step - loss: 10.3500\n",
            "Epoch 85/100\n",
            "234/234 [==============================] - 1s 2ms/step - loss: 9.6879\n",
            "Epoch 86/100\n",
            "234/234 [==============================] - 1s 2ms/step - loss: 9.8558\n",
            "Epoch 87/100\n",
            "234/234 [==============================] - 1s 3ms/step - loss: 9.4770\n",
            "Epoch 88/100\n",
            "234/234 [==============================] - 1s 2ms/step - loss: 9.5251\n",
            "Epoch 89/100\n",
            "234/234 [==============================] - 1s 2ms/step - loss: 9.2623\n",
            "Epoch 90/100\n",
            "234/234 [==============================] - 1s 2ms/step - loss: 9.7150\n",
            "Epoch 91/100\n",
            "234/234 [==============================] - 1s 2ms/step - loss: 9.2555\n",
            "Epoch 92/100\n",
            "234/234 [==============================] - 1s 2ms/step - loss: 9.8461\n",
            "Epoch 93/100\n",
            "234/234 [==============================] - 1s 2ms/step - loss: 9.0324\n",
            "Epoch 94/100\n",
            "234/234 [==============================] - 1s 2ms/step - loss: 9.2430\n",
            "Epoch 95/100\n",
            "234/234 [==============================] - 1s 2ms/step - loss: 9.0245\n",
            "Epoch 96/100\n",
            "234/234 [==============================] - 1s 2ms/step - loss: 9.4947\n",
            "Epoch 97/100\n",
            "234/234 [==============================] - 1s 3ms/step - loss: 9.1687\n",
            "Epoch 98/100\n",
            "234/234 [==============================] - 1s 4ms/step - loss: 9.1142\n",
            "Epoch 99/100\n",
            "234/234 [==============================] - 1s 4ms/step - loss: 8.9752\n",
            "Epoch 100/100\n",
            "234/234 [==============================] - 1s 3ms/step - loss: 8.6963\n"
          ]
        },
        {
          "output_type": "execute_result",
          "data": {
            "text/plain": [
              "<keras.callbacks.History at 0x7f956c3f8310>"
            ]
          },
          "metadata": {},
          "execution_count": 135
        }
      ]
    },
    {
      "cell_type": "code",
      "source": [
        "model5.evaluate(X_test, y_test)"
      ],
      "metadata": {
        "colab": {
          "base_uri": "https://localhost:8080/"
        },
        "id": "poeCUItEFKGk",
        "outputId": "3a4bb85b-3861-4cde-d0da-288f8900236d"
      },
      "execution_count": 136,
      "outputs": [
        {
          "output_type": "stream",
          "name": "stdout",
          "text": [
            "59/59 [==============================] - 0s 1ms/step - loss: 22.0254\n"
          ]
        },
        {
          "output_type": "execute_result",
          "data": {
            "text/plain": [
              "22.02542495727539"
            ]
          },
          "metadata": {},
          "execution_count": 136
        }
      ]
    },
    {
      "cell_type": "markdown",
      "source": [
        "Hence our **Neural Network 3** is the best model "
      ],
      "metadata": {
        "id": "X0zkn1MyFT2L"
      }
    },
    {
      "cell_type": "code",
      "source": [],
      "metadata": {
        "id": "4IlG7zJ6H31A"
      },
      "execution_count": null,
      "outputs": []
    }
  ]
}