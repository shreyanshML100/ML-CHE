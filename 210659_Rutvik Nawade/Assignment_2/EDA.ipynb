{
 "cells": [
  {
   "cell_type": "code",
   "execution_count": 52,
   "id": "18ad486c",
   "metadata": {},
   "outputs": [],
   "source": [
    "import numpy as np \n",
    "import matplotlib.pyplot as plt\n",
    "import pandas as pd\n",
    "import linearRegression as lr\n",
    "import seaborn as sns\n",
    "import sklearn \n",
    "from sklearn.model_selection import train_test_split\n",
    "from sklearn.preprocessing import StandardScaler"
   ]
  },
  {
   "cell_type": "code",
   "execution_count": 53,
   "id": "ffed7f5c",
   "metadata": {},
   "outputs": [],
   "source": [
    "pd.set_option(\"display.precision\", 2)"
   ]
  },
  {
   "cell_type": "code",
   "execution_count": 54,
   "id": "8fd5476f",
   "metadata": {},
   "outputs": [],
   "source": [
    "missing=[pd.NA,(float)(-200),(int)(-200),-200]\n",
    "df= pd.read_excel(\"AirQualityUCI.xlsx\",na_values=missing)"
   ]
  },
  {
   "cell_type": "code",
   "execution_count": 55,
   "id": "9257b082",
   "metadata": {},
   "outputs": [
    {
     "data": {
      "text/html": [
       "<div>\n",
       "<style scoped>\n",
       "    .dataframe tbody tr th:only-of-type {\n",
       "        vertical-align: middle;\n",
       "    }\n",
       "\n",
       "    .dataframe tbody tr th {\n",
       "        vertical-align: top;\n",
       "    }\n",
       "\n",
       "    .dataframe thead th {\n",
       "        text-align: right;\n",
       "    }\n",
       "</style>\n",
       "<table border=\"1\" class=\"dataframe\">\n",
       "  <thead>\n",
       "    <tr style=\"text-align: right;\">\n",
       "      <th></th>\n",
       "      <th>Date</th>\n",
       "      <th>Time</th>\n",
       "      <th>CO(GT)</th>\n",
       "      <th>PT08.S1(CO)</th>\n",
       "      <th>NMHC(GT)</th>\n",
       "      <th>C6H6(GT)</th>\n",
       "      <th>PT08.S2(NMHC)</th>\n",
       "      <th>NOx(GT)</th>\n",
       "      <th>PT08.S3(NOx)</th>\n",
       "      <th>NO2(GT)</th>\n",
       "      <th>PT08.S4(NO2)</th>\n",
       "      <th>PT08.S5(O3)</th>\n",
       "      <th>T</th>\n",
       "      <th>RH</th>\n",
       "      <th>AH</th>\n",
       "    </tr>\n",
       "  </thead>\n",
       "  <tbody>\n",
       "    <tr>\n",
       "      <th>0</th>\n",
       "      <td>2004-03-10</td>\n",
       "      <td>18:00:00</td>\n",
       "      <td>2.6</td>\n",
       "      <td>1360.00</td>\n",
       "      <td>150</td>\n",
       "      <td>11.88</td>\n",
       "      <td>1045.50</td>\n",
       "      <td>166.0</td>\n",
       "      <td>1056.25</td>\n",
       "      <td>113.0</td>\n",
       "      <td>1692.00</td>\n",
       "      <td>1267.50</td>\n",
       "      <td>13.60</td>\n",
       "      <td>48.88</td>\n",
       "      <td>0.76</td>\n",
       "    </tr>\n",
       "    <tr>\n",
       "      <th>1</th>\n",
       "      <td>2004-03-10</td>\n",
       "      <td>19:00:00</td>\n",
       "      <td>2.0</td>\n",
       "      <td>1292.25</td>\n",
       "      <td>112</td>\n",
       "      <td>9.40</td>\n",
       "      <td>954.75</td>\n",
       "      <td>103.0</td>\n",
       "      <td>1173.75</td>\n",
       "      <td>92.0</td>\n",
       "      <td>1558.75</td>\n",
       "      <td>972.25</td>\n",
       "      <td>13.30</td>\n",
       "      <td>47.70</td>\n",
       "      <td>0.73</td>\n",
       "    </tr>\n",
       "    <tr>\n",
       "      <th>2</th>\n",
       "      <td>2004-03-10</td>\n",
       "      <td>20:00:00</td>\n",
       "      <td>2.2</td>\n",
       "      <td>1402.00</td>\n",
       "      <td>88</td>\n",
       "      <td>9.00</td>\n",
       "      <td>939.25</td>\n",
       "      <td>131.0</td>\n",
       "      <td>1140.00</td>\n",
       "      <td>114.0</td>\n",
       "      <td>1554.50</td>\n",
       "      <td>1074.00</td>\n",
       "      <td>11.90</td>\n",
       "      <td>53.98</td>\n",
       "      <td>0.75</td>\n",
       "    </tr>\n",
       "    <tr>\n",
       "      <th>3</th>\n",
       "      <td>2004-03-10</td>\n",
       "      <td>21:00:00</td>\n",
       "      <td>2.2</td>\n",
       "      <td>1375.50</td>\n",
       "      <td>80</td>\n",
       "      <td>9.23</td>\n",
       "      <td>948.25</td>\n",
       "      <td>172.0</td>\n",
       "      <td>1092.00</td>\n",
       "      <td>122.0</td>\n",
       "      <td>1583.75</td>\n",
       "      <td>1203.25</td>\n",
       "      <td>11.00</td>\n",
       "      <td>60.00</td>\n",
       "      <td>0.79</td>\n",
       "    </tr>\n",
       "    <tr>\n",
       "      <th>4</th>\n",
       "      <td>2004-03-10</td>\n",
       "      <td>22:00:00</td>\n",
       "      <td>1.6</td>\n",
       "      <td>1272.25</td>\n",
       "      <td>51</td>\n",
       "      <td>6.52</td>\n",
       "      <td>835.50</td>\n",
       "      <td>131.0</td>\n",
       "      <td>1205.00</td>\n",
       "      <td>116.0</td>\n",
       "      <td>1490.00</td>\n",
       "      <td>1110.00</td>\n",
       "      <td>11.15</td>\n",
       "      <td>59.58</td>\n",
       "      <td>0.79</td>\n",
       "    </tr>\n",
       "  </tbody>\n",
       "</table>\n",
       "</div>"
      ],
      "text/plain": [
       "        Date      Time  CO(GT)  PT08.S1(CO)  NMHC(GT)  C6H6(GT)  \\\n",
       "0 2004-03-10  18:00:00     2.6      1360.00       150     11.88   \n",
       "1 2004-03-10  19:00:00     2.0      1292.25       112      9.40   \n",
       "2 2004-03-10  20:00:00     2.2      1402.00        88      9.00   \n",
       "3 2004-03-10  21:00:00     2.2      1375.50        80      9.23   \n",
       "4 2004-03-10  22:00:00     1.6      1272.25        51      6.52   \n",
       "\n",
       "   PT08.S2(NMHC)  NOx(GT)  PT08.S3(NOx)  NO2(GT)  PT08.S4(NO2)  PT08.S5(O3)  \\\n",
       "0        1045.50    166.0       1056.25    113.0       1692.00      1267.50   \n",
       "1         954.75    103.0       1173.75     92.0       1558.75       972.25   \n",
       "2         939.25    131.0       1140.00    114.0       1554.50      1074.00   \n",
       "3         948.25    172.0       1092.00    122.0       1583.75      1203.25   \n",
       "4         835.50    131.0       1205.00    116.0       1490.00      1110.00   \n",
       "\n",
       "       T     RH    AH  \n",
       "0  13.60  48.88  0.76  \n",
       "1  13.30  47.70  0.73  \n",
       "2  11.90  53.98  0.75  \n",
       "3  11.00  60.00  0.79  \n",
       "4  11.15  59.58  0.79  "
      ]
     },
     "execution_count": 55,
     "metadata": {},
     "output_type": "execute_result"
    }
   ],
   "source": [
    "df.head()"
   ]
  },
  {
   "cell_type": "code",
   "execution_count": 56,
   "id": "1cd7117d",
   "metadata": {},
   "outputs": [
    {
     "name": "stdout",
     "output_type": "stream",
     "text": [
      "Index(['Date', 'Time', 'CO(GT)', 'PT08.S1(CO)', 'NMHC(GT)', 'C6H6(GT)',\n",
      "       'PT08.S2(NMHC)', 'NOx(GT)', 'PT08.S3(NOx)', 'NO2(GT)', 'PT08.S4(NO2)',\n",
      "       'PT08.S5(O3)', 'T', 'RH', 'AH'],\n",
      "      dtype='object')\n"
     ]
    }
   ],
   "source": [
    "print(df.columns)"
   ]
  },
  {
   "cell_type": "code",
   "execution_count": 57,
   "id": "2de38da8",
   "metadata": {},
   "outputs": [
    {
     "name": "stdout",
     "output_type": "stream",
     "text": [
      "(9357, 15)\n"
     ]
    }
   ],
   "source": [
    "print(df.shape)"
   ]
  },
  {
   "cell_type": "code",
   "execution_count": 58,
   "id": "b1a622b5",
   "metadata": {},
   "outputs": [
    {
     "name": "stdout",
     "output_type": "stream",
     "text": [
      "<class 'pandas.core.frame.DataFrame'>\n",
      "RangeIndex: 9357 entries, 0 to 9356\n",
      "Data columns (total 15 columns):\n",
      " #   Column         Non-Null Count  Dtype         \n",
      "---  ------         --------------  -----         \n",
      " 0   Date           9357 non-null   datetime64[ns]\n",
      " 1   Time           9357 non-null   object        \n",
      " 2   CO(GT)         7674 non-null   float64       \n",
      " 3   PT08.S1(CO)    8991 non-null   float64       \n",
      " 4   NMHC(GT)       9357 non-null   int64         \n",
      " 5   C6H6(GT)       8991 non-null   float64       \n",
      " 6   PT08.S2(NMHC)  8991 non-null   float64       \n",
      " 7   NOx(GT)        7718 non-null   float64       \n",
      " 8   PT08.S3(NOx)   8991 non-null   float64       \n",
      " 9   NO2(GT)        7715 non-null   float64       \n",
      " 10  PT08.S4(NO2)   8991 non-null   float64       \n",
      " 11  PT08.S5(O3)    8991 non-null   float64       \n",
      " 12  T              8991 non-null   float64       \n",
      " 13  RH             8991 non-null   float64       \n",
      " 14  AH             8991 non-null   float64       \n",
      "dtypes: datetime64[ns](1), float64(12), int64(1), object(1)\n",
      "memory usage: 1.1+ MB\n",
      "None\n"
     ]
    }
   ],
   "source": [
    "print(df.info())"
   ]
  },
  {
   "cell_type": "code",
   "execution_count": 59,
   "id": "6568e03a",
   "metadata": {},
   "outputs": [
    {
     "data": {
      "text/html": [
       "<div>\n",
       "<style scoped>\n",
       "    .dataframe tbody tr th:only-of-type {\n",
       "        vertical-align: middle;\n",
       "    }\n",
       "\n",
       "    .dataframe tbody tr th {\n",
       "        vertical-align: top;\n",
       "    }\n",
       "\n",
       "    .dataframe thead th {\n",
       "        text-align: right;\n",
       "    }\n",
       "</style>\n",
       "<table border=\"1\" class=\"dataframe\">\n",
       "  <thead>\n",
       "    <tr style=\"text-align: right;\">\n",
       "      <th></th>\n",
       "      <th>CO(GT)</th>\n",
       "      <th>PT08.S1(CO)</th>\n",
       "      <th>NMHC(GT)</th>\n",
       "      <th>C6H6(GT)</th>\n",
       "      <th>PT08.S2(NMHC)</th>\n",
       "      <th>NOx(GT)</th>\n",
       "      <th>PT08.S3(NOx)</th>\n",
       "      <th>NO2(GT)</th>\n",
       "      <th>PT08.S4(NO2)</th>\n",
       "      <th>PT08.S5(O3)</th>\n",
       "      <th>T</th>\n",
       "      <th>RH</th>\n",
       "      <th>AH</th>\n",
       "    </tr>\n",
       "  </thead>\n",
       "  <tbody>\n",
       "    <tr>\n",
       "      <th>count</th>\n",
       "      <td>7674.00</td>\n",
       "      <td>8991.00</td>\n",
       "      <td>9357.00</td>\n",
       "      <td>8991.00</td>\n",
       "      <td>8991.00</td>\n",
       "      <td>7718.00</td>\n",
       "      <td>8991.00</td>\n",
       "      <td>7715.00</td>\n",
       "      <td>8991.00</td>\n",
       "      <td>8991.00</td>\n",
       "      <td>8991.00</td>\n",
       "      <td>8991.00</td>\n",
       "      <td>8991.00</td>\n",
       "    </tr>\n",
       "    <tr>\n",
       "      <th>mean</th>\n",
       "      <td>2.15</td>\n",
       "      <td>1099.71</td>\n",
       "      <td>-159.09</td>\n",
       "      <td>10.08</td>\n",
       "      <td>939.03</td>\n",
       "      <td>246.88</td>\n",
       "      <td>835.37</td>\n",
       "      <td>113.08</td>\n",
       "      <td>1456.14</td>\n",
       "      <td>1022.78</td>\n",
       "      <td>18.32</td>\n",
       "      <td>49.23</td>\n",
       "      <td>1.03</td>\n",
       "    </tr>\n",
       "    <tr>\n",
       "      <th>std</th>\n",
       "      <td>1.45</td>\n",
       "      <td>217.08</td>\n",
       "      <td>139.79</td>\n",
       "      <td>7.45</td>\n",
       "      <td>266.83</td>\n",
       "      <td>212.97</td>\n",
       "      <td>256.82</td>\n",
       "      <td>48.36</td>\n",
       "      <td>346.20</td>\n",
       "      <td>398.48</td>\n",
       "      <td>8.83</td>\n",
       "      <td>17.32</td>\n",
       "      <td>0.40</td>\n",
       "    </tr>\n",
       "    <tr>\n",
       "      <th>min</th>\n",
       "      <td>0.10</td>\n",
       "      <td>647.25</td>\n",
       "      <td>-200.00</td>\n",
       "      <td>0.15</td>\n",
       "      <td>383.25</td>\n",
       "      <td>2.00</td>\n",
       "      <td>322.00</td>\n",
       "      <td>2.00</td>\n",
       "      <td>551.00</td>\n",
       "      <td>221.00</td>\n",
       "      <td>-1.90</td>\n",
       "      <td>9.18</td>\n",
       "      <td>0.18</td>\n",
       "    </tr>\n",
       "    <tr>\n",
       "      <th>25%</th>\n",
       "      <td>1.10</td>\n",
       "      <td>936.75</td>\n",
       "      <td>-200.00</td>\n",
       "      <td>4.44</td>\n",
       "      <td>734.38</td>\n",
       "      <td>98.00</td>\n",
       "      <td>657.88</td>\n",
       "      <td>78.00</td>\n",
       "      <td>1226.62</td>\n",
       "      <td>731.38</td>\n",
       "      <td>11.79</td>\n",
       "      <td>35.81</td>\n",
       "      <td>0.74</td>\n",
       "    </tr>\n",
       "    <tr>\n",
       "      <th>50%</th>\n",
       "      <td>1.80</td>\n",
       "      <td>1063.00</td>\n",
       "      <td>-200.00</td>\n",
       "      <td>8.24</td>\n",
       "      <td>909.00</td>\n",
       "      <td>179.80</td>\n",
       "      <td>805.50</td>\n",
       "      <td>109.00</td>\n",
       "      <td>1462.75</td>\n",
       "      <td>963.25</td>\n",
       "      <td>17.75</td>\n",
       "      <td>49.55</td>\n",
       "      <td>1.00</td>\n",
       "    </tr>\n",
       "    <tr>\n",
       "      <th>75%</th>\n",
       "      <td>2.90</td>\n",
       "      <td>1231.25</td>\n",
       "      <td>-200.00</td>\n",
       "      <td>13.99</td>\n",
       "      <td>1116.25</td>\n",
       "      <td>326.00</td>\n",
       "      <td>969.25</td>\n",
       "      <td>142.00</td>\n",
       "      <td>1673.50</td>\n",
       "      <td>1273.38</td>\n",
       "      <td>24.40</td>\n",
       "      <td>62.50</td>\n",
       "      <td>1.31</td>\n",
       "    </tr>\n",
       "    <tr>\n",
       "      <th>max</th>\n",
       "      <td>11.90</td>\n",
       "      <td>2039.75</td>\n",
       "      <td>1189.00</td>\n",
       "      <td>63.74</td>\n",
       "      <td>2214.00</td>\n",
       "      <td>1479.00</td>\n",
       "      <td>2682.75</td>\n",
       "      <td>339.70</td>\n",
       "      <td>2775.00</td>\n",
       "      <td>2522.75</td>\n",
       "      <td>44.60</td>\n",
       "      <td>88.73</td>\n",
       "      <td>2.23</td>\n",
       "    </tr>\n",
       "  </tbody>\n",
       "</table>\n",
       "</div>"
      ],
      "text/plain": [
       "        CO(GT)  PT08.S1(CO)  NMHC(GT)  C6H6(GT)  PT08.S2(NMHC)  NOx(GT)  \\\n",
       "count  7674.00      8991.00   9357.00   8991.00        8991.00  7718.00   \n",
       "mean      2.15      1099.71   -159.09     10.08         939.03   246.88   \n",
       "std       1.45       217.08    139.79      7.45         266.83   212.97   \n",
       "min       0.10       647.25   -200.00      0.15         383.25     2.00   \n",
       "25%       1.10       936.75   -200.00      4.44         734.38    98.00   \n",
       "50%       1.80      1063.00   -200.00      8.24         909.00   179.80   \n",
       "75%       2.90      1231.25   -200.00     13.99        1116.25   326.00   \n",
       "max      11.90      2039.75   1189.00     63.74        2214.00  1479.00   \n",
       "\n",
       "       PT08.S3(NOx)  NO2(GT)  PT08.S4(NO2)  PT08.S5(O3)        T       RH  \\\n",
       "count       8991.00  7715.00       8991.00      8991.00  8991.00  8991.00   \n",
       "mean         835.37   113.08       1456.14      1022.78    18.32    49.23   \n",
       "std          256.82    48.36        346.20       398.48     8.83    17.32   \n",
       "min          322.00     2.00        551.00       221.00    -1.90     9.18   \n",
       "25%          657.88    78.00       1226.62       731.38    11.79    35.81   \n",
       "50%          805.50   109.00       1462.75       963.25    17.75    49.55   \n",
       "75%          969.25   142.00       1673.50      1273.38    24.40    62.50   \n",
       "max         2682.75   339.70       2775.00      2522.75    44.60    88.73   \n",
       "\n",
       "            AH  \n",
       "count  8991.00  \n",
       "mean      1.03  \n",
       "std       0.40  \n",
       "min       0.18  \n",
       "25%       0.74  \n",
       "50%       1.00  \n",
       "75%       1.31  \n",
       "max       2.23  "
      ]
     },
     "execution_count": 59,
     "metadata": {},
     "output_type": "execute_result"
    }
   ],
   "source": [
    "df.describe()"
   ]
  },
  {
   "cell_type": "code",
   "execution_count": 60,
   "id": "7a55c671",
   "metadata": {},
   "outputs": [
    {
     "data": {
      "text/plain": [
       "Date                0\n",
       "Time                0\n",
       "CO(GT)           1683\n",
       "PT08.S1(CO)       366\n",
       "NMHC(GT)            0\n",
       "C6H6(GT)          366\n",
       "PT08.S2(NMHC)     366\n",
       "NOx(GT)          1639\n",
       "PT08.S3(NOx)      366\n",
       "NO2(GT)          1642\n",
       "PT08.S4(NO2)      366\n",
       "PT08.S5(O3)       366\n",
       "T                 366\n",
       "RH                366\n",
       "AH                366\n",
       "dtype: int64"
      ]
     },
     "execution_count": 60,
     "metadata": {},
     "output_type": "execute_result"
    }
   ],
   "source": [
    "df.isnull().sum()"
   ]
  },
  {
   "cell_type": "code",
   "execution_count": 61,
   "id": "477225f5",
   "metadata": {},
   "outputs": [
    {
     "data": {
      "text/plain": [
       "Date              391\n",
       "Time               24\n",
       "CO(GT)             96\n",
       "PT08.S1(CO)      3245\n",
       "NMHC(GT)          430\n",
       "C6H6(GT)         3772\n",
       "PT08.S2(NMHC)    3772\n",
       "NOx(GT)          2466\n",
       "PT08.S3(NOx)     3518\n",
       "NO2(GT)          1419\n",
       "PT08.S4(NO2)     4407\n",
       "PT08.S5(O3)      4678\n",
       "T                3367\n",
       "RH               4902\n",
       "AH               8987\n",
       "dtype: int64"
      ]
     },
     "execution_count": 61,
     "metadata": {},
     "output_type": "execute_result"
    }
   ],
   "source": [
    "df.nunique()"
   ]
  },
  {
   "cell_type": "code",
   "execution_count": 62,
   "id": "fd2ae0d0",
   "metadata": {},
   "outputs": [],
   "source": [
    "df1=df.drop(['CO(GT)','NOx(GT)','NO2(GT)','NMHC(GT)'],axis=1)"
   ]
  },
  {
   "cell_type": "code",
   "execution_count": 63,
   "id": "7e0e013d",
   "metadata": {},
   "outputs": [
    {
     "data": {
      "text/plain": [
       "Date               0\n",
       "Time               0\n",
       "PT08.S1(CO)      366\n",
       "C6H6(GT)         366\n",
       "PT08.S2(NMHC)    366\n",
       "PT08.S3(NOx)     366\n",
       "PT08.S4(NO2)     366\n",
       "PT08.S5(O3)      366\n",
       "T                366\n",
       "RH               366\n",
       "AH               366\n",
       "dtype: int64"
      ]
     },
     "execution_count": 63,
     "metadata": {},
     "output_type": "execute_result"
    }
   ],
   "source": [
    "df1.isnull().sum()"
   ]
  },
  {
   "cell_type": "code",
   "execution_count": 64,
   "id": "25ae68c0",
   "metadata": {},
   "outputs": [
    {
     "data": {
      "text/plain": [
       "Date             0\n",
       "Time             0\n",
       "PT08.S1(CO)      0\n",
       "C6H6(GT)         0\n",
       "PT08.S2(NMHC)    0\n",
       "PT08.S3(NOx)     0\n",
       "PT08.S4(NO2)     0\n",
       "PT08.S5(O3)      0\n",
       "T                0\n",
       "RH               0\n",
       "AH               0\n",
       "dtype: int64"
      ]
     },
     "execution_count": 64,
     "metadata": {},
     "output_type": "execute_result"
    }
   ],
   "source": [
    "df1[df1==-200].count()"
   ]
  },
  {
   "cell_type": "code",
   "execution_count": 65,
   "id": "7468efa3",
   "metadata": {},
   "outputs": [],
   "source": [
    "df2=df1.dropna(axis=0)"
   ]
  },
  {
   "cell_type": "code",
   "execution_count": 66,
   "id": "e3ad0d20",
   "metadata": {},
   "outputs": [
    {
     "name": "stdout",
     "output_type": "stream",
     "text": [
      "<class 'pandas.core.frame.DataFrame'>\n",
      "Int64Index: 8991 entries, 0 to 9356\n",
      "Data columns (total 11 columns):\n",
      " #   Column         Non-Null Count  Dtype         \n",
      "---  ------         --------------  -----         \n",
      " 0   Date           8991 non-null   datetime64[ns]\n",
      " 1   Time           8991 non-null   object        \n",
      " 2   PT08.S1(CO)    8991 non-null   float64       \n",
      " 3   C6H6(GT)       8991 non-null   float64       \n",
      " 4   PT08.S2(NMHC)  8991 non-null   float64       \n",
      " 5   PT08.S3(NOx)   8991 non-null   float64       \n",
      " 6   PT08.S4(NO2)   8991 non-null   float64       \n",
      " 7   PT08.S5(O3)    8991 non-null   float64       \n",
      " 8   T              8991 non-null   float64       \n",
      " 9   RH             8991 non-null   float64       \n",
      " 10  AH             8991 non-null   float64       \n",
      "dtypes: datetime64[ns](1), float64(9), object(1)\n",
      "memory usage: 842.9+ KB\n"
     ]
    }
   ],
   "source": [
    "df2.info()\n"
   ]
  },
  {
   "cell_type": "code",
   "execution_count": 67,
   "id": "9b704736",
   "metadata": {},
   "outputs": [
    {
     "data": {
      "text/plain": [
       "Date             0\n",
       "Time             0\n",
       "PT08.S1(CO)      0\n",
       "C6H6(GT)         0\n",
       "PT08.S2(NMHC)    0\n",
       "PT08.S3(NOx)     0\n",
       "PT08.S4(NO2)     0\n",
       "PT08.S5(O3)      0\n",
       "T                0\n",
       "RH               0\n",
       "AH               0\n",
       "dtype: int64"
      ]
     },
     "execution_count": 67,
     "metadata": {},
     "output_type": "execute_result"
    }
   ],
   "source": [
    "df2.isnull().sum()"
   ]
  },
  {
   "cell_type": "code",
   "execution_count": 68,
   "id": "4a7eef01",
   "metadata": {},
   "outputs": [
    {
     "data": {
      "text/plain": [
       "Date              383\n",
       "Time               24\n",
       "PT08.S1(CO)      3245\n",
       "C6H6(GT)         3772\n",
       "PT08.S2(NMHC)    3772\n",
       "PT08.S3(NOx)     3518\n",
       "PT08.S4(NO2)     4407\n",
       "PT08.S5(O3)      4678\n",
       "T                3367\n",
       "RH               4902\n",
       "AH               8987\n",
       "dtype: int64"
      ]
     },
     "execution_count": 68,
     "metadata": {},
     "output_type": "execute_result"
    }
   ],
   "source": [
    "df2.nunique()"
   ]
  },
  {
   "cell_type": "code",
   "execution_count": 69,
   "id": "3915fd76",
   "metadata": {},
   "outputs": [],
   "source": [
    "df2=df2.drop_duplicates()"
   ]
  },
  {
   "cell_type": "code",
   "execution_count": 70,
   "id": "bae5347a",
   "metadata": {},
   "outputs": [],
   "source": [
    "corelation=df2.corr()"
   ]
  },
  {
   "cell_type": "code",
   "execution_count": 71,
   "id": "a4a8b296",
   "metadata": {},
   "outputs": [
    {
     "data": {
      "text/plain": [
       "<AxesSubplot:>"
      ]
     },
     "execution_count": 71,
     "metadata": {},
     "output_type": "execute_result"
    },
    {
     "data": {
      "image/png": "[encoded data removed]",
      "text/plain": [
       "<Figure size 432x288 with 2 Axes>"
      ]
     },
     "metadata": {
      "needs_background": "light"
     },
     "output_type": "display_data"
    }
   ],
   "source": [
    "sns.heatmap(corelation,cmap=\"YlGnBu\",annot=True)"
   ]
  },
  {
   "cell_type": "code",
   "execution_count": 72,
   "id": "44f2e66a",
   "metadata": {
    "scrolled": true
   },
   "outputs": [
    {
     "data": {
      "text/plain": [
       "Date             datetime64[ns]\n",
       "Time                     object\n",
       "PT08.S1(CO)             float64\n",
       "C6H6(GT)                float64\n",
       "PT08.S2(NMHC)           float64\n",
       "PT08.S3(NOx)            float64\n",
       "PT08.S4(NO2)            float64\n",
       "PT08.S5(O3)             float64\n",
       "T                       float64\n",
       "RH                      float64\n",
       "AH                      float64\n",
       "dtype: object"
      ]
     },
     "execution_count": 72,
     "metadata": {},
     "output_type": "execute_result"
    }
   ],
   "source": [
    "df2.dtypes"
   ]
  },
  {
   "cell_type": "code",
   "execution_count": 73,
   "id": "721bd538",
   "metadata": {},
   "outputs": [],
   "source": [
    "df2['Date']=df2.Date.dt.month"
   ]
  },
  {
   "cell_type": "code",
   "execution_count": 74,
   "id": "dfe4bdae",
   "metadata": {},
   "outputs": [
    {
     "data": {
      "text/html": [
       "<div>\n",
       "<style scoped>\n",
       "    .dataframe tbody tr th:only-of-type {\n",
       "        vertical-align: middle;\n",
       "    }\n",
       "\n",
       "    .dataframe tbody tr th {\n",
       "        vertical-align: top;\n",
       "    }\n",
       "\n",
       "    .dataframe thead th {\n",
       "        text-align: right;\n",
       "    }\n",
       "</style>\n",
       "<table border=\"1\" class=\"dataframe\">\n",
       "  <thead>\n",
       "    <tr style=\"text-align: right;\">\n",
       "      <th></th>\n",
       "      <th>Date</th>\n",
       "      <th>Time</th>\n",
       "      <th>PT08.S1(CO)</th>\n",
       "      <th>C6H6(GT)</th>\n",
       "      <th>PT08.S2(NMHC)</th>\n",
       "      <th>PT08.S3(NOx)</th>\n",
       "      <th>PT08.S4(NO2)</th>\n",
       "      <th>PT08.S5(O3)</th>\n",
       "      <th>T</th>\n",
       "      <th>RH</th>\n",
       "      <th>AH</th>\n",
       "    </tr>\n",
       "  </thead>\n",
       "  <tbody>\n",
       "    <tr>\n",
       "      <th>0</th>\n",
       "      <td>3</td>\n",
       "      <td>18:00:00</td>\n",
       "      <td>1360.00</td>\n",
       "      <td>11.88</td>\n",
       "      <td>1045.50</td>\n",
       "      <td>1056.25</td>\n",
       "      <td>1692.00</td>\n",
       "      <td>1267.50</td>\n",
       "      <td>13.60</td>\n",
       "      <td>48.88</td>\n",
       "      <td>0.76</td>\n",
       "    </tr>\n",
       "    <tr>\n",
       "      <th>1</th>\n",
       "      <td>3</td>\n",
       "      <td>19:00:00</td>\n",
       "      <td>1292.25</td>\n",
       "      <td>9.40</td>\n",
       "      <td>954.75</td>\n",
       "      <td>1173.75</td>\n",
       "      <td>1558.75</td>\n",
       "      <td>972.25</td>\n",
       "      <td>13.30</td>\n",
       "      <td>47.70</td>\n",
       "      <td>0.73</td>\n",
       "    </tr>\n",
       "    <tr>\n",
       "      <th>2</th>\n",
       "      <td>3</td>\n",
       "      <td>20:00:00</td>\n",
       "      <td>1402.00</td>\n",
       "      <td>9.00</td>\n",
       "      <td>939.25</td>\n",
       "      <td>1140.00</td>\n",
       "      <td>1554.50</td>\n",
       "      <td>1074.00</td>\n",
       "      <td>11.90</td>\n",
       "      <td>53.98</td>\n",
       "      <td>0.75</td>\n",
       "    </tr>\n",
       "    <tr>\n",
       "      <th>3</th>\n",
       "      <td>3</td>\n",
       "      <td>21:00:00</td>\n",
       "      <td>1375.50</td>\n",
       "      <td>9.23</td>\n",
       "      <td>948.25</td>\n",
       "      <td>1092.00</td>\n",
       "      <td>1583.75</td>\n",
       "      <td>1203.25</td>\n",
       "      <td>11.00</td>\n",
       "      <td>60.00</td>\n",
       "      <td>0.79</td>\n",
       "    </tr>\n",
       "    <tr>\n",
       "      <th>4</th>\n",
       "      <td>3</td>\n",
       "      <td>22:00:00</td>\n",
       "      <td>1272.25</td>\n",
       "      <td>6.52</td>\n",
       "      <td>835.50</td>\n",
       "      <td>1205.00</td>\n",
       "      <td>1490.00</td>\n",
       "      <td>1110.00</td>\n",
       "      <td>11.15</td>\n",
       "      <td>59.58</td>\n",
       "      <td>0.79</td>\n",
       "    </tr>\n",
       "  </tbody>\n",
       "</table>\n",
       "</div>"
      ],
      "text/plain": [
       "   Date      Time  PT08.S1(CO)  C6H6(GT)  PT08.S2(NMHC)  PT08.S3(NOx)  \\\n",
       "0     3  18:00:00      1360.00     11.88        1045.50       1056.25   \n",
       "1     3  19:00:00      1292.25      9.40         954.75       1173.75   \n",
       "2     3  20:00:00      1402.00      9.00         939.25       1140.00   \n",
       "3     3  21:00:00      1375.50      9.23         948.25       1092.00   \n",
       "4     3  22:00:00      1272.25      6.52         835.50       1205.00   \n",
       "\n",
       "   PT08.S4(NO2)  PT08.S5(O3)      T     RH    AH  \n",
       "0       1692.00      1267.50  13.60  48.88  0.76  \n",
       "1       1558.75       972.25  13.30  47.70  0.73  \n",
       "2       1554.50      1074.00  11.90  53.98  0.75  \n",
       "3       1583.75      1203.25  11.00  60.00  0.79  \n",
       "4       1490.00      1110.00  11.15  59.58  0.79  "
      ]
     },
     "execution_count": 74,
     "metadata": {},
     "output_type": "execute_result"
    }
   ],
   "source": [
    "df2.head()"
   ]
  },
  {
   "cell_type": "code",
   "execution_count": 75,
   "id": "f62d5838",
   "metadata": {},
   "outputs": [
    {
     "data": {
      "text/plain": [
       "Date               int64\n",
       "Time              object\n",
       "PT08.S1(CO)      float64\n",
       "C6H6(GT)         float64\n",
       "PT08.S2(NMHC)    float64\n",
       "PT08.S3(NOx)     float64\n",
       "PT08.S4(NO2)     float64\n",
       "PT08.S5(O3)      float64\n",
       "T                float64\n",
       "RH               float64\n",
       "AH               float64\n",
       "dtype: object"
      ]
     },
     "execution_count": 75,
     "metadata": {},
     "output_type": "execute_result"
    }
   ],
   "source": [
    "df2.dtypes"
   ]
  },
  {
   "cell_type": "code",
   "execution_count": 76,
   "id": "6d0c9d9a",
   "metadata": {},
   "outputs": [],
   "source": [
    "df2['Time']=pd.to_datetime(df['Time'],format='%H:%M:%S')"
   ]
  },
  {
   "cell_type": "code",
   "execution_count": 77,
   "id": "e798b6f9",
   "metadata": {},
   "outputs": [
    {
     "data": {
      "text/plain": [
       "Date                      int64\n",
       "Time             datetime64[ns]\n",
       "PT08.S1(CO)             float64\n",
       "C6H6(GT)                float64\n",
       "PT08.S2(NMHC)           float64\n",
       "PT08.S3(NOx)            float64\n",
       "PT08.S4(NO2)            float64\n",
       "PT08.S5(O3)             float64\n",
       "T                       float64\n",
       "RH                      float64\n",
       "AH                      float64\n",
       "dtype: object"
      ]
     },
     "execution_count": 77,
     "metadata": {},
     "output_type": "execute_result"
    }
   ],
   "source": [
    "df2.dtypes"
   ]
  },
  {
   "cell_type": "code",
   "execution_count": 78,
   "id": "40c76dfd",
   "metadata": {},
   "outputs": [],
   "source": [
    "df2['Time']=df2.Time.dt.hour.astype(int)"
   ]
  },
  {
   "cell_type": "code",
   "execution_count": 79,
   "id": "84a9562b",
   "metadata": {},
   "outputs": [
    {
     "data": {
      "text/plain": [
       "Date               int64\n",
       "Time               int32\n",
       "PT08.S1(CO)      float64\n",
       "C6H6(GT)         float64\n",
       "PT08.S2(NMHC)    float64\n",
       "PT08.S3(NOx)     float64\n",
       "PT08.S4(NO2)     float64\n",
       "PT08.S5(O3)      float64\n",
       "T                float64\n",
       "RH               float64\n",
       "AH               float64\n",
       "dtype: object"
      ]
     },
     "execution_count": 79,
     "metadata": {},
     "output_type": "execute_result"
    }
   ],
   "source": [
    "df2.dtypes"
   ]
  },
  {
   "cell_type": "code",
   "execution_count": 80,
   "id": "453270e5",
   "metadata": {},
   "outputs": [
    {
     "data": {
      "text/html": [
       "<div>\n",
       "<style scoped>\n",
       "    .dataframe tbody tr th:only-of-type {\n",
       "        vertical-align: middle;\n",
       "    }\n",
       "\n",
       "    .dataframe tbody tr th {\n",
       "        vertical-align: top;\n",
       "    }\n",
       "\n",
       "    .dataframe thead th {\n",
       "        text-align: right;\n",
       "    }\n",
       "</style>\n",
       "<table border=\"1\" class=\"dataframe\">\n",
       "  <thead>\n",
       "    <tr style=\"text-align: right;\">\n",
       "      <th></th>\n",
       "      <th>Date</th>\n",
       "      <th>Time</th>\n",
       "      <th>PT08.S1(CO)</th>\n",
       "      <th>C6H6(GT)</th>\n",
       "      <th>PT08.S2(NMHC)</th>\n",
       "      <th>PT08.S3(NOx)</th>\n",
       "      <th>PT08.S4(NO2)</th>\n",
       "      <th>PT08.S5(O3)</th>\n",
       "      <th>T</th>\n",
       "      <th>RH</th>\n",
       "      <th>AH</th>\n",
       "    </tr>\n",
       "  </thead>\n",
       "  <tbody>\n",
       "    <tr>\n",
       "      <th>0</th>\n",
       "      <td>3</td>\n",
       "      <td>18</td>\n",
       "      <td>1360.00</td>\n",
       "      <td>11.88</td>\n",
       "      <td>1045.50</td>\n",
       "      <td>1056.25</td>\n",
       "      <td>1692.00</td>\n",
       "      <td>1267.50</td>\n",
       "      <td>13.60</td>\n",
       "      <td>48.88</td>\n",
       "      <td>0.76</td>\n",
       "    </tr>\n",
       "    <tr>\n",
       "      <th>1</th>\n",
       "      <td>3</td>\n",
       "      <td>19</td>\n",
       "      <td>1292.25</td>\n",
       "      <td>9.40</td>\n",
       "      <td>954.75</td>\n",
       "      <td>1173.75</td>\n",
       "      <td>1558.75</td>\n",
       "      <td>972.25</td>\n",
       "      <td>13.30</td>\n",
       "      <td>47.70</td>\n",
       "      <td>0.73</td>\n",
       "    </tr>\n",
       "    <tr>\n",
       "      <th>2</th>\n",
       "      <td>3</td>\n",
       "      <td>20</td>\n",
       "      <td>1402.00</td>\n",
       "      <td>9.00</td>\n",
       "      <td>939.25</td>\n",
       "      <td>1140.00</td>\n",
       "      <td>1554.50</td>\n",
       "      <td>1074.00</td>\n",
       "      <td>11.90</td>\n",
       "      <td>53.98</td>\n",
       "      <td>0.75</td>\n",
       "    </tr>\n",
       "    <tr>\n",
       "      <th>3</th>\n",
       "      <td>3</td>\n",
       "      <td>21</td>\n",
       "      <td>1375.50</td>\n",
       "      <td>9.23</td>\n",
       "      <td>948.25</td>\n",
       "      <td>1092.00</td>\n",
       "      <td>1583.75</td>\n",
       "      <td>1203.25</td>\n",
       "      <td>11.00</td>\n",
       "      <td>60.00</td>\n",
       "      <td>0.79</td>\n",
       "    </tr>\n",
       "    <tr>\n",
       "      <th>4</th>\n",
       "      <td>3</td>\n",
       "      <td>22</td>\n",
       "      <td>1272.25</td>\n",
       "      <td>6.52</td>\n",
       "      <td>835.50</td>\n",
       "      <td>1205.00</td>\n",
       "      <td>1490.00</td>\n",
       "      <td>1110.00</td>\n",
       "      <td>11.15</td>\n",
       "      <td>59.58</td>\n",
       "      <td>0.79</td>\n",
       "    </tr>\n",
       "  </tbody>\n",
       "</table>\n",
       "</div>"
      ],
      "text/plain": [
       "   Date  Time  PT08.S1(CO)  C6H6(GT)  PT08.S2(NMHC)  PT08.S3(NOx)  \\\n",
       "0     3    18      1360.00     11.88        1045.50       1056.25   \n",
       "1     3    19      1292.25      9.40         954.75       1173.75   \n",
       "2     3    20      1402.00      9.00         939.25       1140.00   \n",
       "3     3    21      1375.50      9.23         948.25       1092.00   \n",
       "4     3    22      1272.25      6.52         835.50       1205.00   \n",
       "\n",
       "   PT08.S4(NO2)  PT08.S5(O3)      T     RH    AH  \n",
       "0       1692.00      1267.50  13.60  48.88  0.76  \n",
       "1       1558.75       972.25  13.30  47.70  0.73  \n",
       "2       1554.50      1074.00  11.90  53.98  0.75  \n",
       "3       1583.75      1203.25  11.00  60.00  0.79  \n",
       "4       1490.00      1110.00  11.15  59.58  0.79  "
      ]
     },
     "execution_count": 80,
     "metadata": {},
     "output_type": "execute_result"
    }
   ],
   "source": [
    "df2.head()"
   ]
  },
  {
   "cell_type": "code",
   "execution_count": 81,
   "id": "8daf56f5",
   "metadata": {},
   "outputs": [
    {
     "data": {
      "text/plain": [
       "Date             0\n",
       "Time             0\n",
       "PT08.S1(CO)      0\n",
       "C6H6(GT)         0\n",
       "PT08.S2(NMHC)    0\n",
       "PT08.S3(NOx)     0\n",
       "PT08.S4(NO2)     0\n",
       "PT08.S5(O3)      0\n",
       "T                0\n",
       "RH               0\n",
       "AH               0\n",
       "dtype: int64"
      ]
     },
     "execution_count": 81,
     "metadata": {},
     "output_type": "execute_result"
    }
   ],
   "source": [
    "df2.isnull().sum()"
   ]
  },
  {
   "cell_type": "code",
   "execution_count": 82,
   "id": "fec6d312",
   "metadata": {},
   "outputs": [
    {
     "data": {
      "text/html": [
       "<div>\n",
       "<style scoped>\n",
       "    .dataframe tbody tr th:only-of-type {\n",
       "        vertical-align: middle;\n",
       "    }\n",
       "\n",
       "    .dataframe tbody tr th {\n",
       "        vertical-align: top;\n",
       "    }\n",
       "\n",
       "    .dataframe thead th {\n",
       "        text-align: right;\n",
       "    }\n",
       "</style>\n",
       "<table border=\"1\" class=\"dataframe\">\n",
       "  <thead>\n",
       "    <tr style=\"text-align: right;\">\n",
       "      <th></th>\n",
       "      <th>Date</th>\n",
       "      <th>Time</th>\n",
       "      <th>PT08.S1(CO)</th>\n",
       "      <th>C6H6(GT)</th>\n",
       "      <th>PT08.S2(NMHC)</th>\n",
       "      <th>PT08.S3(NOx)</th>\n",
       "      <th>PT08.S4(NO2)</th>\n",
       "      <th>PT08.S5(O3)</th>\n",
       "      <th>T</th>\n",
       "      <th>RH</th>\n",
       "      <th>AH</th>\n",
       "    </tr>\n",
       "  </thead>\n",
       "  <tbody>\n",
       "    <tr>\n",
       "      <th>0</th>\n",
       "      <td>3</td>\n",
       "      <td>18</td>\n",
       "      <td>1360.00</td>\n",
       "      <td>11.88</td>\n",
       "      <td>1045.50</td>\n",
       "      <td>1056.25</td>\n",
       "      <td>1692.00</td>\n",
       "      <td>1267.50</td>\n",
       "      <td>13.60</td>\n",
       "      <td>48.88</td>\n",
       "      <td>0.76</td>\n",
       "    </tr>\n",
       "    <tr>\n",
       "      <th>1</th>\n",
       "      <td>3</td>\n",
       "      <td>19</td>\n",
       "      <td>1292.25</td>\n",
       "      <td>9.40</td>\n",
       "      <td>954.75</td>\n",
       "      <td>1173.75</td>\n",
       "      <td>1558.75</td>\n",
       "      <td>972.25</td>\n",
       "      <td>13.30</td>\n",
       "      <td>47.70</td>\n",
       "      <td>0.73</td>\n",
       "    </tr>\n",
       "    <tr>\n",
       "      <th>2</th>\n",
       "      <td>3</td>\n",
       "      <td>20</td>\n",
       "      <td>1402.00</td>\n",
       "      <td>9.00</td>\n",
       "      <td>939.25</td>\n",
       "      <td>1140.00</td>\n",
       "      <td>1554.50</td>\n",
       "      <td>1074.00</td>\n",
       "      <td>11.90</td>\n",
       "      <td>53.98</td>\n",
       "      <td>0.75</td>\n",
       "    </tr>\n",
       "    <tr>\n",
       "      <th>3</th>\n",
       "      <td>3</td>\n",
       "      <td>21</td>\n",
       "      <td>1375.50</td>\n",
       "      <td>9.23</td>\n",
       "      <td>948.25</td>\n",
       "      <td>1092.00</td>\n",
       "      <td>1583.75</td>\n",
       "      <td>1203.25</td>\n",
       "      <td>11.00</td>\n",
       "      <td>60.00</td>\n",
       "      <td>0.79</td>\n",
       "    </tr>\n",
       "    <tr>\n",
       "      <th>4</th>\n",
       "      <td>3</td>\n",
       "      <td>22</td>\n",
       "      <td>1272.25</td>\n",
       "      <td>6.52</td>\n",
       "      <td>835.50</td>\n",
       "      <td>1205.00</td>\n",
       "      <td>1490.00</td>\n",
       "      <td>1110.00</td>\n",
       "      <td>11.15</td>\n",
       "      <td>59.58</td>\n",
       "      <td>0.79</td>\n",
       "    </tr>\n",
       "  </tbody>\n",
       "</table>\n",
       "</div>"
      ],
      "text/plain": [
       "   Date  Time  PT08.S1(CO)  C6H6(GT)  PT08.S2(NMHC)  PT08.S3(NOx)  \\\n",
       "0     3    18      1360.00     11.88        1045.50       1056.25   \n",
       "1     3    19      1292.25      9.40         954.75       1173.75   \n",
       "2     3    20      1402.00      9.00         939.25       1140.00   \n",
       "3     3    21      1375.50      9.23         948.25       1092.00   \n",
       "4     3    22      1272.25      6.52         835.50       1205.00   \n",
       "\n",
       "   PT08.S4(NO2)  PT08.S5(O3)      T     RH    AH  \n",
       "0       1692.00      1267.50  13.60  48.88  0.76  \n",
       "1       1558.75       972.25  13.30  47.70  0.73  \n",
       "2       1554.50      1074.00  11.90  53.98  0.75  \n",
       "3       1583.75      1203.25  11.00  60.00  0.79  \n",
       "4       1490.00      1110.00  11.15  59.58  0.79  "
      ]
     },
     "execution_count": 82,
     "metadata": {},
     "output_type": "execute_result"
    }
   ],
   "source": [
    "df2.head()"
   ]
  },
  {
   "cell_type": "code",
   "execution_count": 83,
   "id": "002b4310",
   "metadata": {},
   "outputs": [
    {
     "name": "stderr",
     "output_type": "stream",
     "text": [
      "C:\\Users\\Rutvik\\AppData\\Local\\Temp\\ipykernel_4132\\3183830610.py:2: FutureWarning: In a future version of pandas all arguments of DataFrame.drop except for the argument 'labels' will be keyword-only.\n",
      "  X=df2.drop('RH',1)\n"
     ]
    }
   ],
   "source": [
    "y=df2['RH'].to_numpy()\n",
    "X=df2.drop('RH',1)\n",
    "x=X.to_numpy()"
   ]
  },
  {
   "cell_type": "code",
   "execution_count": 84,
   "id": "c338c798",
   "metadata": {},
   "outputs": [],
   "source": [
    "x_train,x_test,y_train,y_test=train_test_split(x,y,test_size=0.10,random_state=42)"
   ]
  },
  {
   "cell_type": "code",
   "execution_count": 85,
   "id": "f43f3aba",
   "metadata": {},
   "outputs": [
    {
     "name": "stdout",
     "output_type": "stream",
     "text": [
      "[[ 3.40595799e+01]\n",
      " [ 5.10293144e-01]\n",
      " [-1.16943183e-01]\n",
      " [ 1.63165450e-02]\n",
      " [-5.98617701e-01]\n",
      " [-4.05226766e-03]\n",
      " [-2.89113368e-03]\n",
      " [ 1.31886886e-02]\n",
      " [-2.19115931e-03]\n",
      " [-2.35308779e+00]\n",
      " [ 3.28970063e+01]]\n"
     ]
    }
   ],
   "source": [
    "x1=x_train\n",
    "y1=y_train\n",
    "x1=np.append(np.ones((x1.shape[0],1)),x1,axis=1)\n",
    "y1=y1.reshape((-1,1))\n",
    "thet=lr.fitNormal(x1,y1)\n",
    "print(thet)"
   ]
  },
  {
   "cell_type": "code",
   "execution_count": 86,
   "id": "e4a45141",
   "metadata": {},
   "outputs": [],
   "source": [
    "scaler = StandardScaler()\n",
    "scaler.fit(x_train)\n",
    "x_train=scaler.transform(x_train)\n",
    "x_test=scaler.transform(x_test)"
   ]
  },
  {
   "cell_type": "code",
   "execution_count": 87,
   "id": "325cb5ba",
   "metadata": {},
   "outputs": [
    {
     "data": {
      "text/plain": [
       "array([[ 1.        , -0.09700333,  0.22454289, ...,  0.25340256,\n",
       "         1.48365579,  0.29096169],\n",
       "       [ 1.        , -0.68490888, -1.36607649, ..., -0.53546074,\n",
       "        -0.58326465, -0.23390407],\n",
       "       [ 1.        ,  1.37276055,  1.52595875, ...,  0.97227078,\n",
       "        -0.27421894,  0.07904503],\n",
       "       ...,\n",
       "       [ 1.        ,  1.07880777,  0.07994113, ...,  0.72697277,\n",
       "         0.26731992,  0.95994826],\n",
       "       [ 1.        , -0.68490888,  0.80294994, ...,  1.08136219,\n",
       "        -0.42165359,  0.57085054],\n",
       "       [ 1.        , -1.5667672 , -0.49846592, ..., -0.11612094,\n",
       "        -1.29208512, -0.93239482]])"
      ]
     },
     "execution_count": 87,
     "metadata": {},
     "output_type": "execute_result"
    }
   ],
   "source": [
    "m = x_train.shape[0]\n",
    "x_train = np.concatenate([np.ones(m).reshape(m, 1),x_train],axis=1)\n",
    "x_train"
   ]
  },
  {
   "cell_type": "code",
   "execution_count": 88,
   "id": "b7fdb362",
   "metadata": {},
   "outputs": [
    {
     "name": "stdout",
     "output_type": "stream",
     "text": [
      "[ 49.22899003   1.73596981  -0.80872585   3.53220683  -4.43451286\n",
      "  -1.07817173  -0.74454498   4.55742766  -0.86869941 -20.74827038\n",
      "  13.26496841]\n"
     ]
    }
   ],
   "source": [
    "print(lr.fitNormal(x_train,y_train))"
   ]
  },
  {
   "cell_type": "code",
   "execution_count": 89,
   "id": "e38f6940",
   "metadata": {
    "scrolled": true
   },
   "outputs": [
    {
     "name": "stdout",
     "output_type": "stream",
     "text": [
      "(     iteration     cost\n",
      "0          0.0  2565.65\n",
      "10        10.0  1250.30\n",
      "20        20.0   654.61\n",
      "30        30.0   378.59\n",
      "40        40.0   246.26\n",
      "..         ...      ...\n",
      "950      950.0    36.18\n",
      "960      960.0    36.18\n",
      "970      970.0    36.17\n",
      "980      980.0    36.17\n",
      "990      990.0    36.17\n",
      "\n",
      "[100 rows x 2 columns], array([ 24.60379684,  24.6251932 ,   1.74399694,  -0.73181326,\n",
      "         3.59873943,  -3.10371914,  -3.06963491,  -0.78341403,\n",
      "         4.45011748,  -0.24634327, -20.39445684,  13.18514274]))\n"
     ]
    }
   ],
   "source": [
    "print(lr.gradient_descent(x_train,y_train,0.01,1000))"
   ]
  },
  {
   "cell_type": "code",
   "execution_count": 90,
   "id": "c03690ae",
   "metadata": {},
   "outputs": [
    {
     "data": {
      "text/plain": [
       "[<matplotlib.lines.Line2D at 0x1a547c4bb50>]"
      ]
     },
     "execution_count": 90,
     "metadata": {},
     "output_type": "execute_result"
    },
    {
     "data": {
      "image/png": "[encoded data removed]",
      "text/plain": [
       "<Figure size 432x288 with 1 Axes>"
      ]
     },
     "metadata": {
      "needs_background": "light"
     },
     "output_type": "display_data"
    }
   ],
   "source": [
    "cost,theta = lr.gradient_descent(x_train,y_train,0.01,10000)\n",
    "plt.plot(cost['iteration'],cost['cost'])\n"
   ]
  },
  {
   "cell_type": "code",
   "execution_count": 91,
   "id": "2793157f",
   "metadata": {},
   "outputs": [
    {
     "data": {
      "text/plain": [
       "array([ 24.49595558,  24.73303445,   1.75542692,  -0.7918995 ,\n",
       "         3.53009286,  -4.1354978 ,  -1.53579793,  -0.82291731,\n",
       "         4.64327702,  -0.83520374, -20.72218487,  13.20017262])"
      ]
     },
     "execution_count": 91,
     "metadata": {},
     "output_type": "execute_result"
    }
   ],
   "source": [
    "\n",
    "theta"
   ]
  },
  {
   "cell_type": "code",
   "execution_count": 92,
   "id": "35194781",
   "metadata": {
    "scrolled": true
   },
   "outputs": [
    {
     "data": {
      "text/html": [
       "<div>\n",
       "<style scoped>\n",
       "    .dataframe tbody tr th:only-of-type {\n",
       "        vertical-align: middle;\n",
       "    }\n",
       "\n",
       "    .dataframe tbody tr th {\n",
       "        vertical-align: top;\n",
       "    }\n",
       "\n",
       "    .dataframe thead th {\n",
       "        text-align: right;\n",
       "    }\n",
       "</style>\n",
       "<table border=\"1\" class=\"dataframe\">\n",
       "  <thead>\n",
       "    <tr style=\"text-align: right;\">\n",
       "      <th></th>\n",
       "      <th>iteration</th>\n",
       "      <th>cost</th>\n",
       "    </tr>\n",
       "  </thead>\n",
       "  <tbody>\n",
       "    <tr>\n",
       "      <th>0</th>\n",
       "      <td>0.0</td>\n",
       "      <td>2692.99</td>\n",
       "    </tr>\n",
       "    <tr>\n",
       "      <th>10</th>\n",
       "      <td>10.0</td>\n",
       "      <td>1302.19</td>\n",
       "    </tr>\n",
       "    <tr>\n",
       "      <th>20</th>\n",
       "      <td>20.0</td>\n",
       "      <td>674.31</td>\n",
       "    </tr>\n",
       "    <tr>\n",
       "      <th>30</th>\n",
       "      <td>30.0</td>\n",
       "      <td>384.73</td>\n",
       "    </tr>\n",
       "    <tr>\n",
       "      <th>40</th>\n",
       "      <td>40.0</td>\n",
       "      <td>246.89</td>\n",
       "    </tr>\n",
       "    <tr>\n",
       "      <th>...</th>\n",
       "      <td>...</td>\n",
       "      <td>...</td>\n",
       "    </tr>\n",
       "    <tr>\n",
       "      <th>9950</th>\n",
       "      <td>9950.0</td>\n",
       "      <td>36.06</td>\n",
       "    </tr>\n",
       "    <tr>\n",
       "      <th>9960</th>\n",
       "      <td>9960.0</td>\n",
       "      <td>36.06</td>\n",
       "    </tr>\n",
       "    <tr>\n",
       "      <th>9970</th>\n",
       "      <td>9970.0</td>\n",
       "      <td>36.06</td>\n",
       "    </tr>\n",
       "    <tr>\n",
       "      <th>9980</th>\n",
       "      <td>9980.0</td>\n",
       "      <td>36.06</td>\n",
       "    </tr>\n",
       "    <tr>\n",
       "      <th>9990</th>\n",
       "      <td>9990.0</td>\n",
       "      <td>36.06</td>\n",
       "    </tr>\n",
       "  </tbody>\n",
       "</table>\n",
       "<p>1000 rows × 2 columns</p>\n",
       "</div>"
      ],
      "text/plain": [
       "      iteration     cost\n",
       "0           0.0  2692.99\n",
       "10         10.0  1302.19\n",
       "20         20.0   674.31\n",
       "30         30.0   384.73\n",
       "40         40.0   246.89\n",
       "...         ...      ...\n",
       "9950     9950.0    36.06\n",
       "9960     9960.0    36.06\n",
       "9970     9970.0    36.06\n",
       "9980     9980.0    36.06\n",
       "9990     9990.0    36.06\n",
       "\n",
       "[1000 rows x 2 columns]"
      ]
     },
     "execution_count": 92,
     "metadata": {},
     "output_type": "execute_result"
    }
   ],
   "source": [
    "cost"
   ]
  },
  {
   "cell_type": "code",
   "execution_count": null,
   "id": "8e6d2aac",
   "metadata": {},
   "outputs": [],
   "source": []
  },
  {
   "cell_type": "code",
   "execution_count": null,
   "id": "6cfb2360",
   "metadata": {},
   "outputs": [],
   "source": []
  }
 ],
 "metadata": {
  "kernelspec": {
   "display_name": "Python 3 (ipykernel)",
   "language": "python",
   "name": "python3"
  },
  "language_info": {
   "codemirror_mode": {
    "name": "ipython",
    "version": 3
   },
   "file_extension": ".py",
   "mimetype": "text/x-python",
   "name": "python",
   "nbconvert_exporter": "python",
   "pygments_lexer": "ipython3",
   "version": "3.9.12"
  }
 },
 "nbformat": 4,
 "nbformat_minor": 5
}
